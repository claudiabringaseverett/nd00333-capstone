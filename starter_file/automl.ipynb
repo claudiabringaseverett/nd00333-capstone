{
 "cells": [
  {
   "cell_type": "markdown",
   "metadata": {},
   "source": [
    "# Automated ML\n",
    "\n",
    "TODO: Import Dependencies. In the cell below, import all the dependencies that you will need to complete the project."
   ]
  },
  {
   "cell_type": "code",
   "execution_count": 1,
   "metadata": {
    "collapsed": false,
    "gather": {
     "logged": 1598423888013
    },
    "jupyter": {
     "outputs_hidden": false,
     "source_hidden": false
    },
    "nteract": {
     "transient": {
      "deleting": false
     }
    }
   },
   "outputs": [
    {
     "name": "stdout",
     "output_type": "stream",
     "text": [
      "SDK version: 1.26.0\n"
     ]
    }
   ],
   "source": [
    "import azureml.core\n",
    "import json\n",
    "from azureml.core import Workspace, Experiment, Model\n",
    "from azureml.core.compute import ComputeTarget, AmlCompute\n",
    "from azureml.core.compute_target import ComputeTargetException\n",
    "from azureml.widgets import RunDetails\n",
    "import joblib \n",
    "from azureml.train.automl import AutoMLConfig\n",
    "from azureml.core.environment import Environment\n",
    "from azureml.core.model import InferenceConfig\n",
    "from azureml.core.webservice import AciWebservice, Webservice\n",
    "\n",
    "print(\"SDK version:\", azureml.core.VERSION)"
   ]
  },
  {
   "cell_type": "markdown",
   "metadata": {},
   "source": [
    "### Initialize workspace"
   ]
  },
  {
   "cell_type": "code",
   "execution_count": 2,
   "metadata": {
    "collapsed": false,
    "gather": {
     "logged": 1598423890461
    },
    "jupyter": {
     "outputs_hidden": false,
     "source_hidden": false
    },
    "nteract": {
     "transient": {
      "deleting": false
     }
    }
   },
   "outputs": [
    {
     "name": "stdout",
     "output_type": "stream",
     "text": [
      "quick-starts-ws-143247\n",
      "aml-quickstarts-143247\n",
      "southcentralus\n",
      "f5091c60-1c3c-430f-8d81-d802f6bf2414\n"
     ]
    }
   ],
   "source": [
    "ws = Workspace.from_config()\n",
    "\n",
    "print(ws.name, ws.resource_group, ws.location, ws.subscription_id, sep = '\\n')"
   ]
  },
  {
   "cell_type": "markdown",
   "metadata": {},
   "source": [
    "### Create an Azure ML experiment"
   ]
  },
  {
   "cell_type": "code",
   "execution_count": 3,
   "metadata": {},
   "outputs": [],
   "source": [
    "# choose a name for experiment\n",
    "experiment_name = 'heart-failure-experiment'\n",
    "\n",
    "experiment = Experiment(ws, experiment_name)\n",
    "\n",
    "run = experiment.start_logging()"
   ]
  },
  {
   "cell_type": "markdown",
   "metadata": {},
   "source": [
    "## Dataset\n",
    "\n",
    "### Overview\n",
    "This task is to predict mortality caused by heart disease. \n",
    "\n",
    "Attribute information:\n",
    "\n",
    "age - Age of the patient<br />\n",
    "anemia - Decrease of red blood cells or hemoglobin (boolean)<br />\n",
    "creatinine_phosphokinase - Level of the CPK enzyme in the blood (mcg/L)<br />\n",
    "diabetes - If the patient has diabetes (boolean)<br />\n",
    "ejection_fraction - Percentage of blood leaving the heart at each contraction (percentage)<br />\n",
    "high_blood_pressure - If the patient has hypertension (boolean)<br />\n",
    "platelets - Platelets in the blood (kiloplatelets/mL)<br />\n",
    "serum_creatinine - Level of serum creatinine in the blood (mg/dL)<br />\n",
    "serum_sodium - Level of serum sodium in the blood (mEq/L)<br />\n",
    "sex - Woman or man (binary)<br />\n",
    "smoking - If the patient smokes or not (boolean)<br />\n",
    "time - Follow-up period (days)<br />\n",
    "DEATH_EVENT - If the patient deceased during the follow-up period (boolean)<br />"
   ]
  },
  {
   "cell_type": "code",
   "execution_count": 4,
   "metadata": {},
   "outputs": [
    {
     "name": "stdout",
     "output_type": "stream",
     "text": [
      "Creating....\n",
      "SucceededProvisioning operation finished, operation \"Succeeded\"\n",
      "Succeeded..............................................\n",
      "AmlCompute wait for completion finished\n",
      "\n",
      "Minimum number of nodes requested have been provisioned\n"
     ]
    }
   ],
   "source": [
    "amlcompute_cluster_name = \"project-compute\"\n",
    "\n",
    "# Verify that cluster does not exist already\n",
    "try:\n",
    "    compute_target = ComputeTarget(workspace=ws, name=amlcompute_cluster_name)\n",
    "    print('Cluster exists.')\n",
    "except ComputeTargetException:\n",
    "    compute_config = AmlCompute.provisioning_configuration(vm_size='STANDARD_D2_V2', max_nodes=4)\n",
    "    compute_target = ComputeTarget.create(ws, amlcompute_cluster_name, compute_config)\n",
    "\n",
    "compute_target.wait_for_completion(show_output=True, min_node_count = 1, timeout_in_minutes = 10)"
   ]
  },
  {
   "cell_type": "code",
   "execution_count": 6,
   "metadata": {},
   "outputs": [
    {
     "data": {
      "text/html": [
       "<div>\n",
       "<style scoped>\n",
       "    .dataframe tbody tr th:only-of-type {\n",
       "        vertical-align: middle;\n",
       "    }\n",
       "\n",
       "    .dataframe tbody tr th {\n",
       "        vertical-align: top;\n",
       "    }\n",
       "\n",
       "    .dataframe thead th {\n",
       "        text-align: right;\n",
       "    }\n",
       "</style>\n",
       "<table border=\"1\" class=\"dataframe\">\n",
       "  <thead>\n",
       "    <tr style=\"text-align: right;\">\n",
       "      <th></th>\n",
       "      <th>age</th>\n",
       "      <th>anaemia</th>\n",
       "      <th>creatinine_phosphokinase</th>\n",
       "      <th>diabetes</th>\n",
       "      <th>ejection_fraction</th>\n",
       "      <th>high_blood_pressure</th>\n",
       "      <th>platelets</th>\n",
       "      <th>serum_creatinine</th>\n",
       "      <th>serum_sodium</th>\n",
       "      <th>sex</th>\n",
       "      <th>smoking</th>\n",
       "      <th>time</th>\n",
       "      <th>DEATH_EVENT</th>\n",
       "    </tr>\n",
       "  </thead>\n",
       "  <tbody>\n",
       "    <tr>\n",
       "      <th>count</th>\n",
       "      <td>299.000000</td>\n",
       "      <td>299.000000</td>\n",
       "      <td>299.000000</td>\n",
       "      <td>299.000000</td>\n",
       "      <td>299.000000</td>\n",
       "      <td>299.000000</td>\n",
       "      <td>299.000000</td>\n",
       "      <td>299.00000</td>\n",
       "      <td>299.000000</td>\n",
       "      <td>299.000000</td>\n",
       "      <td>299.00000</td>\n",
       "      <td>299.000000</td>\n",
       "      <td>299.00000</td>\n",
       "    </tr>\n",
       "    <tr>\n",
       "      <th>mean</th>\n",
       "      <td>60.833893</td>\n",
       "      <td>0.431438</td>\n",
       "      <td>581.839465</td>\n",
       "      <td>0.418060</td>\n",
       "      <td>38.083612</td>\n",
       "      <td>0.351171</td>\n",
       "      <td>263358.029264</td>\n",
       "      <td>1.39388</td>\n",
       "      <td>136.625418</td>\n",
       "      <td>0.648829</td>\n",
       "      <td>0.32107</td>\n",
       "      <td>130.260870</td>\n",
       "      <td>0.32107</td>\n",
       "    </tr>\n",
       "    <tr>\n",
       "      <th>std</th>\n",
       "      <td>11.894809</td>\n",
       "      <td>0.496107</td>\n",
       "      <td>970.287881</td>\n",
       "      <td>0.494067</td>\n",
       "      <td>11.834841</td>\n",
       "      <td>0.478136</td>\n",
       "      <td>97804.236869</td>\n",
       "      <td>1.03451</td>\n",
       "      <td>4.412477</td>\n",
       "      <td>0.478136</td>\n",
       "      <td>0.46767</td>\n",
       "      <td>77.614208</td>\n",
       "      <td>0.46767</td>\n",
       "    </tr>\n",
       "    <tr>\n",
       "      <th>min</th>\n",
       "      <td>40.000000</td>\n",
       "      <td>0.000000</td>\n",
       "      <td>23.000000</td>\n",
       "      <td>0.000000</td>\n",
       "      <td>14.000000</td>\n",
       "      <td>0.000000</td>\n",
       "      <td>25100.000000</td>\n",
       "      <td>0.50000</td>\n",
       "      <td>113.000000</td>\n",
       "      <td>0.000000</td>\n",
       "      <td>0.00000</td>\n",
       "      <td>4.000000</td>\n",
       "      <td>0.00000</td>\n",
       "    </tr>\n",
       "    <tr>\n",
       "      <th>25%</th>\n",
       "      <td>51.000000</td>\n",
       "      <td>0.000000</td>\n",
       "      <td>116.500000</td>\n",
       "      <td>0.000000</td>\n",
       "      <td>30.000000</td>\n",
       "      <td>0.000000</td>\n",
       "      <td>212500.000000</td>\n",
       "      <td>0.90000</td>\n",
       "      <td>134.000000</td>\n",
       "      <td>0.000000</td>\n",
       "      <td>0.00000</td>\n",
       "      <td>73.000000</td>\n",
       "      <td>0.00000</td>\n",
       "    </tr>\n",
       "    <tr>\n",
       "      <th>50%</th>\n",
       "      <td>60.000000</td>\n",
       "      <td>0.000000</td>\n",
       "      <td>250.000000</td>\n",
       "      <td>0.000000</td>\n",
       "      <td>38.000000</td>\n",
       "      <td>0.000000</td>\n",
       "      <td>262000.000000</td>\n",
       "      <td>1.10000</td>\n",
       "      <td>137.000000</td>\n",
       "      <td>1.000000</td>\n",
       "      <td>0.00000</td>\n",
       "      <td>115.000000</td>\n",
       "      <td>0.00000</td>\n",
       "    </tr>\n",
       "    <tr>\n",
       "      <th>75%</th>\n",
       "      <td>70.000000</td>\n",
       "      <td>1.000000</td>\n",
       "      <td>582.000000</td>\n",
       "      <td>1.000000</td>\n",
       "      <td>45.000000</td>\n",
       "      <td>1.000000</td>\n",
       "      <td>303500.000000</td>\n",
       "      <td>1.40000</td>\n",
       "      <td>140.000000</td>\n",
       "      <td>1.000000</td>\n",
       "      <td>1.00000</td>\n",
       "      <td>203.000000</td>\n",
       "      <td>1.00000</td>\n",
       "    </tr>\n",
       "    <tr>\n",
       "      <th>max</th>\n",
       "      <td>95.000000</td>\n",
       "      <td>1.000000</td>\n",
       "      <td>7861.000000</td>\n",
       "      <td>1.000000</td>\n",
       "      <td>80.000000</td>\n",
       "      <td>1.000000</td>\n",
       "      <td>850000.000000</td>\n",
       "      <td>9.40000</td>\n",
       "      <td>148.000000</td>\n",
       "      <td>1.000000</td>\n",
       "      <td>1.00000</td>\n",
       "      <td>285.000000</td>\n",
       "      <td>1.00000</td>\n",
       "    </tr>\n",
       "  </tbody>\n",
       "</table>\n",
       "</div>"
      ],
      "text/plain": [
       "              age     anaemia  creatinine_phosphokinase    diabetes  \\\n",
       "count  299.000000  299.000000                299.000000  299.000000   \n",
       "mean    60.833893    0.431438                581.839465    0.418060   \n",
       "std     11.894809    0.496107                970.287881    0.494067   \n",
       "min     40.000000    0.000000                 23.000000    0.000000   \n",
       "25%     51.000000    0.000000                116.500000    0.000000   \n",
       "50%     60.000000    0.000000                250.000000    0.000000   \n",
       "75%     70.000000    1.000000                582.000000    1.000000   \n",
       "max     95.000000    1.000000               7861.000000    1.000000   \n",
       "\n",
       "       ejection_fraction  high_blood_pressure      platelets  \\\n",
       "count         299.000000           299.000000     299.000000   \n",
       "mean           38.083612             0.351171  263358.029264   \n",
       "std            11.834841             0.478136   97804.236869   \n",
       "min            14.000000             0.000000   25100.000000   \n",
       "25%            30.000000             0.000000  212500.000000   \n",
       "50%            38.000000             0.000000  262000.000000   \n",
       "75%            45.000000             1.000000  303500.000000   \n",
       "max            80.000000             1.000000  850000.000000   \n",
       "\n",
       "       serum_creatinine  serum_sodium         sex    smoking        time  \\\n",
       "count         299.00000    299.000000  299.000000  299.00000  299.000000   \n",
       "mean            1.39388    136.625418    0.648829    0.32107  130.260870   \n",
       "std             1.03451      4.412477    0.478136    0.46767   77.614208   \n",
       "min             0.50000    113.000000    0.000000    0.00000    4.000000   \n",
       "25%             0.90000    134.000000    0.000000    0.00000   73.000000   \n",
       "50%             1.10000    137.000000    1.000000    0.00000  115.000000   \n",
       "75%             1.40000    140.000000    1.000000    1.00000  203.000000   \n",
       "max             9.40000    148.000000    1.000000    1.00000  285.000000   \n",
       "\n",
       "       DEATH_EVENT  \n",
       "count    299.00000  \n",
       "mean       0.32107  \n",
       "std        0.46767  \n",
       "min        0.00000  \n",
       "25%        0.00000  \n",
       "50%        0.00000  \n",
       "75%        1.00000  \n",
       "max        1.00000  "
      ]
     },
     "execution_count": 6,
     "metadata": {},
     "output_type": "execute_result"
    }
   ],
   "source": [
    "key = \"heart-disease-dataset\"\n",
    "\n",
    "dataset = ws.datasets[key]\n",
    "\n",
    "df = dataset.to_pandas_dataframe()\n",
    "df.describe()"
   ]
  },
  {
   "cell_type": "code",
   "execution_count": 7,
   "metadata": {},
   "outputs": [
    {
     "data": {
      "text/html": [
       "<div>\n",
       "<style scoped>\n",
       "    .dataframe tbody tr th:only-of-type {\n",
       "        vertical-align: middle;\n",
       "    }\n",
       "\n",
       "    .dataframe tbody tr th {\n",
       "        vertical-align: top;\n",
       "    }\n",
       "\n",
       "    .dataframe thead th {\n",
       "        text-align: right;\n",
       "    }\n",
       "</style>\n",
       "<table border=\"1\" class=\"dataframe\">\n",
       "  <thead>\n",
       "    <tr style=\"text-align: right;\">\n",
       "      <th></th>\n",
       "      <th>age</th>\n",
       "      <th>anaemia</th>\n",
       "      <th>creatinine_phosphokinase</th>\n",
       "      <th>diabetes</th>\n",
       "      <th>ejection_fraction</th>\n",
       "      <th>high_blood_pressure</th>\n",
       "      <th>platelets</th>\n",
       "      <th>serum_creatinine</th>\n",
       "      <th>serum_sodium</th>\n",
       "      <th>sex</th>\n",
       "      <th>smoking</th>\n",
       "      <th>time</th>\n",
       "      <th>DEATH_EVENT</th>\n",
       "    </tr>\n",
       "  </thead>\n",
       "  <tbody>\n",
       "    <tr>\n",
       "      <th>0</th>\n",
       "      <td>75.0</td>\n",
       "      <td>0</td>\n",
       "      <td>582</td>\n",
       "      <td>0</td>\n",
       "      <td>20</td>\n",
       "      <td>1</td>\n",
       "      <td>265000.00</td>\n",
       "      <td>1.9</td>\n",
       "      <td>130</td>\n",
       "      <td>1</td>\n",
       "      <td>0</td>\n",
       "      <td>4</td>\n",
       "      <td>1</td>\n",
       "    </tr>\n",
       "    <tr>\n",
       "      <th>1</th>\n",
       "      <td>55.0</td>\n",
       "      <td>0</td>\n",
       "      <td>7861</td>\n",
       "      <td>0</td>\n",
       "      <td>38</td>\n",
       "      <td>0</td>\n",
       "      <td>263358.03</td>\n",
       "      <td>1.1</td>\n",
       "      <td>136</td>\n",
       "      <td>1</td>\n",
       "      <td>0</td>\n",
       "      <td>6</td>\n",
       "      <td>1</td>\n",
       "    </tr>\n",
       "    <tr>\n",
       "      <th>2</th>\n",
       "      <td>65.0</td>\n",
       "      <td>0</td>\n",
       "      <td>146</td>\n",
       "      <td>0</td>\n",
       "      <td>20</td>\n",
       "      <td>0</td>\n",
       "      <td>162000.00</td>\n",
       "      <td>1.3</td>\n",
       "      <td>129</td>\n",
       "      <td>1</td>\n",
       "      <td>1</td>\n",
       "      <td>7</td>\n",
       "      <td>1</td>\n",
       "    </tr>\n",
       "    <tr>\n",
       "      <th>3</th>\n",
       "      <td>50.0</td>\n",
       "      <td>1</td>\n",
       "      <td>111</td>\n",
       "      <td>0</td>\n",
       "      <td>20</td>\n",
       "      <td>0</td>\n",
       "      <td>210000.00</td>\n",
       "      <td>1.9</td>\n",
       "      <td>137</td>\n",
       "      <td>1</td>\n",
       "      <td>0</td>\n",
       "      <td>7</td>\n",
       "      <td>1</td>\n",
       "    </tr>\n",
       "    <tr>\n",
       "      <th>4</th>\n",
       "      <td>65.0</td>\n",
       "      <td>1</td>\n",
       "      <td>160</td>\n",
       "      <td>1</td>\n",
       "      <td>20</td>\n",
       "      <td>0</td>\n",
       "      <td>327000.00</td>\n",
       "      <td>2.7</td>\n",
       "      <td>116</td>\n",
       "      <td>0</td>\n",
       "      <td>0</td>\n",
       "      <td>8</td>\n",
       "      <td>1</td>\n",
       "    </tr>\n",
       "  </tbody>\n",
       "</table>\n",
       "</div>"
      ],
      "text/plain": [
       "    age  anaemia  creatinine_phosphokinase  diabetes  ejection_fraction  \\\n",
       "0  75.0        0                       582         0                 20   \n",
       "1  55.0        0                      7861         0                 38   \n",
       "2  65.0        0                       146         0                 20   \n",
       "3  50.0        1                       111         0                 20   \n",
       "4  65.0        1                       160         1                 20   \n",
       "\n",
       "   high_blood_pressure  platelets  serum_creatinine  serum_sodium  sex  \\\n",
       "0                    1  265000.00               1.9           130    1   \n",
       "1                    0  263358.03               1.1           136    1   \n",
       "2                    0  162000.00               1.3           129    1   \n",
       "3                    0  210000.00               1.9           137    1   \n",
       "4                    0  327000.00               2.7           116    0   \n",
       "\n",
       "   smoking  time  DEATH_EVENT  \n",
       "0        0     4            1  \n",
       "1        0     6            1  \n",
       "2        1     7            1  \n",
       "3        0     7            1  \n",
       "4        0     8            1  "
      ]
     },
     "execution_count": 7,
     "metadata": {},
     "output_type": "execute_result"
    }
   ],
   "source": [
    "dataset.take(5).to_pandas_dataframe()"
   ]
  },
  {
   "cell_type": "markdown",
   "metadata": {},
   "source": [
    "## AutoML Configuration\n",
    "\n",
    "TODO: Explain why you chose the automl settings and cofiguration you used below."
   ]
  },
  {
   "cell_type": "code",
   "execution_count": 8,
   "metadata": {
    "collapsed": false,
    "gather": {
     "logged": 1598429217746
    },
    "jupyter": {
     "outputs_hidden": false,
     "source_hidden": false
    },
    "nteract": {
     "transient": {
      "deleting": false
     }
    }
   },
   "outputs": [],
   "source": [
    "# TODO: Put your automl settings here\n",
    "automl_settings = {\n",
    "    \"experiment_timeout_minutes\": 30,\n",
    "    \"iterations\": 40,\n",
    "    \"max_concurrent_iterations\": 4,\n",
    "    \"n_cross_validations\": 3,\n",
    "    \"primary_metric\" : 'accuracy'\n",
    "}\n",
    "automl_config = AutoMLConfig(compute_target = 'project-compute',\n",
    "                            task = \"classification\",\n",
    "                            training_data=dataset,\n",
    "                            label_column_name=\"DEATH_EVENT\",\n",
    "                            enable_early_stopping= True,\n",
    "                            debug_log = \"automl_errors.log\",\n",
    "                            **automl_settings\n",
    "                            )"
   ]
  },
  {
   "cell_type": "code",
   "execution_count": 9,
   "metadata": {
    "collapsed": false,
    "gather": {
     "logged": 1598431107951
    },
    "jupyter": {
     "outputs_hidden": false,
     "source_hidden": false
    },
    "nteract": {
     "transient": {
      "deleting": false
     }
    }
   },
   "outputs": [
    {
     "name": "stdout",
     "output_type": "stream",
     "text": [
      "Submitting remote run.\n",
      "No run_configuration provided, running on project-compute with default configuration\n",
      "Running on remote compute: project-compute\n"
     ]
    },
    {
     "data": {
      "text/html": [
       "<table style=\"width:100%\"><tr><th>Experiment</th><th>Id</th><th>Type</th><th>Status</th><th>Details Page</th><th>Docs Page</th></tr><tr><td>heart-failure-experiment</td><td>AutoML_4590a270-2e2d-42e3-a085-9dda2e98641e</td><td>automl</td><td>NotStarted</td><td><a href=\"https://ml.azure.com/runs/AutoML_4590a270-2e2d-42e3-a085-9dda2e98641e?wsid=/subscriptions/f5091c60-1c3c-430f-8d81-d802f6bf2414/resourcegroups/aml-quickstarts-143247/workspaces/quick-starts-ws-143247&amp;tid=660b3398-b80e-49d2-bc5b-ac1dc93b5254\" target=\"_blank\" rel=\"noopener\">Link to Azure Machine Learning studio</a></td><td><a href=\"https://docs.microsoft.com/en-us/python/api/overview/azure/ml/intro?view=azure-ml-py\" target=\"_blank\" rel=\"noopener\">Link to Documentation</a></td></tr></table>"
      ],
      "text/plain": [
       "<IPython.core.display.HTML object>"
      ]
     },
     "metadata": {},
     "output_type": "display_data"
    },
    {
     "name": "stdout",
     "output_type": "stream",
     "text": [
      "\n",
      "Current status: FeaturesGeneration. Generating features for the dataset.\n",
      "Current status: ModelSelection. Beginning model selection.\n",
      "\n",
      "****************************************************************************************************\n",
      "DATA GUARDRAILS: \n",
      "\n",
      "TYPE:         Class balancing detection\n",
      "STATUS:       PASSED\n",
      "DESCRIPTION:  Your inputs were analyzed, and all classes are balanced in your training data.\n",
      "              Learn more about imbalanced data: https://aka.ms/AutomatedMLImbalancedData\n",
      "\n",
      "****************************************************************************************************\n",
      "\n",
      "TYPE:         Missing feature values imputation\n",
      "STATUS:       PASSED\n",
      "DESCRIPTION:  No feature missing values were detected in the training data.\n",
      "              Learn more about missing value imputation: https://aka.ms/AutomatedMLFeaturization\n",
      "\n",
      "****************************************************************************************************\n",
      "\n",
      "TYPE:         High cardinality feature detection\n",
      "STATUS:       PASSED\n",
      "DESCRIPTION:  Your inputs were analyzed, and no high cardinality features were detected.\n",
      "              Learn more about high cardinality feature handling: https://aka.ms/AutomatedMLFeaturization\n",
      "\n",
      "****************************************************************************************************\n",
      "\n",
      "****************************************************************************************************\n",
      "ITERATION: The iteration being evaluated.\n",
      "PIPELINE: A summary description of the pipeline being evaluated.\n",
      "DURATION: Time taken for the current iteration.\n",
      "METRIC: The result of computing score on the fitted pipeline.\n",
      "BEST: The best observed score thus far.\n",
      "****************************************************************************************************\n",
      "\n",
      " ITERATION   PIPELINE                                       DURATION      METRIC      BEST\n",
      "         2   MinMaxScaler RandomForest                      0:01:04       0.8461    0.8461\n",
      "         3   MinMaxScaler RandomForest                      0:00:45       0.8293    0.8461\n",
      "         0   MaxAbsScaler LightGBM                          0:00:53       0.8025    0.8461\n",
      "         6   MinMaxScaler SVM                               0:00:44       0.7124    0.8461\n",
      "         7   MaxAbsScaler GradientBoosting                  0:00:48       0.8261    0.8461\n",
      "         8   SparseNormalizer XGBoostClassifier             0:00:49       0.8294    0.8461\n",
      "         9   RobustScaler RandomForest                      0:01:00       0.8327    0.8461\n",
      "        10   SparseNormalizer LightGBM                      0:00:43       0.7392    0.8461\n",
      "         4   MinMaxScaler RandomForest                      0:05:25       0.8293    0.8461\n",
      "         5   MinMaxScaler SVM                               0:05:28       0.7157    0.8461\n",
      "         1   MaxAbsScaler XGBoostClassifier                 0:05:56       0.8193    0.8461\n",
      "        11   StandardScalerWrapper RandomForest             0:00:40       0.8427    0.8461\n",
      "        12   RobustScaler ExtremeRandomTrees                0:00:54       0.8562    0.8562\n",
      "        13   MaxAbsScaler LightGBM                          0:00:47       0.8193    0.8562\n",
      "        14   StandardScalerWrapper RandomForest             0:00:44       0.8158    0.8562\n",
      "        15   StandardScalerWrapper LightGBM                 0:00:45       0.8160    0.8562\n",
      "        16   SparseNormalizer XGBoostClassifier             0:00:43       0.8295    0.8562\n",
      "        17   SparseNormalizer LightGBM                      0:00:53       0.8029    0.8562\n",
      "        18   StandardScalerWrapper ExtremeRandomTrees       0:00:51       0.8495    0.8562\n",
      "        19   StandardScalerWrapper LightGBM                 0:00:40       0.8127    0.8562\n",
      "        20   StandardScalerWrapper RandomForest             0:00:51       0.8460    0.8562\n",
      "        21   StandardScalerWrapper LightGBM                 0:00:44       0.8327    0.8562\n",
      "        22   StandardScalerWrapper LightGBM                 0:00:48       0.8327    0.8562\n",
      "        23   MaxAbsScaler LightGBM                          0:00:41       0.8361    0.8562\n",
      "        24   SparseNormalizer XGBoostClassifier             0:00:51       0.8061    0.8562\n",
      "        26   SparseNormalizer XGBoostClassifier             0:00:44       0.7860    0.8562\n",
      "        27   SparseNormalizer RandomForest                  0:00:48       0.7859    0.8562\n",
      "        25   TruncatedSVDWrapper ExtremeRandomTrees         0:01:15       0.6657    0.8562\n",
      "        28   StandardScalerWrapper LightGBM                 0:00:43       0.8294    0.8562\n",
      "        29   MinMaxScaler RandomForest                      0:00:43       0.8093    0.8562\n",
      "        30   SparseNormalizer ExtremeRandomTrees            0:00:44       0.6824    0.8562\n",
      "        31   MaxAbsScaler LightGBM                          0:00:43       0.8294    0.8562\n",
      "        32   StandardScalerWrapper XGBoostClassifier        0:00:51       0.8293    0.8562\n",
      "        33   MinMaxScaler LightGBM                          0:00:40       0.8361    0.8562\n",
      "        34                                                  0:00:09          nan    0.8562\n",
      "        35                                                  0:00:07          nan    0.8562\n",
      "        36    VotingEnsemble                                0:00:59       0.8629    0.8629\n",
      "        37    StackEnsemble                                 0:01:21       0.8494    0.8629\n"
     ]
    }
   ],
   "source": [
    "# TODO: Submit your experiment\n",
    "remote_run = experiment.submit(automl_config, show_output=True)"
   ]
  },
  {
   "cell_type": "markdown",
   "metadata": {},
   "source": [
    "## Run Details\n",
    "\n",
    "OPTIONAL: Write about the different models trained and their performance. Why do you think some models did better than others?\n",
    "\n",
    "TODO: In the cell below, use the `RunDetails` widget to show the different experiments."
   ]
  },
  {
   "cell_type": "code",
   "execution_count": 10,
   "metadata": {
    "collapsed": false,
    "gather": {
     "logged": 1598431121770
    },
    "jupyter": {
     "outputs_hidden": false,
     "source_hidden": false
    },
    "nteract": {
     "transient": {
      "deleting": false
     }
    }
   },
   "outputs": [
    {
     "data": {
      "application/vnd.jupyter.widget-view+json": {
       "model_id": "d6793a1fd23b4d7894017170a0ddaeaf",
       "version_major": 2,
       "version_minor": 0
      },
      "text/plain": [
       "_AutoMLWidget(widget_settings={'childWidgetDisplay': 'popup', 'send_telemetry': False, 'log_level': 'INFO', 's…"
      ]
     },
     "metadata": {},
     "output_type": "display_data"
    },
    {
     "data": {
      "application/aml.mini.widget.v1": "{\"status\": \"Completed\", \"workbench_run_details_uri\": \"https://ml.azure.com/runs/AutoML_4590a270-2e2d-42e3-a085-9dda2e98641e?wsid=/subscriptions/f5091c60-1c3c-430f-8d81-d802f6bf2414/resourcegroups/aml-quickstarts-143247/workspaces/quick-starts-ws-143247&tid=660b3398-b80e-49d2-bc5b-ac1dc93b5254\", \"run_id\": \"AutoML_4590a270-2e2d-42e3-a085-9dda2e98641e\", \"run_properties\": {\"run_id\": \"AutoML_4590a270-2e2d-42e3-a085-9dda2e98641e\", \"created_utc\": \"2021-04-20T18:11:37.10913Z\", \"properties\": {\"num_iterations\": \"40\", \"training_type\": \"TrainFull\", \"acquisition_function\": \"EI\", \"primary_metric\": \"accuracy\", \"train_split\": \"0\", \"acquisition_parameter\": \"0\", \"num_cross_validation\": \"3\", \"target\": \"project-compute\", \"AMLSettingsJsonString\": \"{\\\"path\\\":null,\\\"name\\\":\\\"heart-failure-experiment\\\",\\\"subscription_id\\\":\\\"f5091c60-1c3c-430f-8d81-d802f6bf2414\\\",\\\"resource_group\\\":\\\"aml-quickstarts-143247\\\",\\\"workspace_name\\\":\\\"quick-starts-ws-143247\\\",\\\"region\\\":\\\"southcentralus\\\",\\\"compute_target\\\":\\\"project-compute\\\",\\\"spark_service\\\":null,\\\"azure_service\\\":\\\"remote\\\",\\\"many_models\\\":false,\\\"pipeline_fetch_max_batch_size\\\":1,\\\"enable_batch_run\\\":false,\\\"enable_run_restructure\\\":false,\\\"iterations\\\":40,\\\"primary_metric\\\":\\\"accuracy\\\",\\\"task_type\\\":\\\"classification\\\",\\\"data_script\\\":null,\\\"test_size\\\":0.0,\\\"validation_size\\\":0.0,\\\"n_cross_validations\\\":3,\\\"y_min\\\":null,\\\"y_max\\\":null,\\\"num_classes\\\":null,\\\"featurization\\\":\\\"auto\\\",\\\"_ignore_package_version_incompatibilities\\\":false,\\\"is_timeseries\\\":false,\\\"max_cores_per_iteration\\\":1,\\\"max_concurrent_iterations\\\":4,\\\"iteration_timeout_minutes\\\":null,\\\"mem_in_mb\\\":null,\\\"enforce_time_on_windows\\\":false,\\\"experiment_timeout_minutes\\\":30,\\\"experiment_exit_score\\\":null,\\\"whitelist_models\\\":null,\\\"blacklist_algos\\\":[\\\"TensorFlowLinearClassifier\\\",\\\"TensorFlowDNN\\\"],\\\"supported_models\\\":[\\\"TensorFlowDNN\\\",\\\"BernoulliNaiveBayes\\\",\\\"KNN\\\",\\\"XGBoostClassifier\\\",\\\"LogisticRegression\\\",\\\"GradientBoosting\\\",\\\"MultinomialNaiveBayes\\\",\\\"AveragedPerceptronClassifier\\\",\\\"ExtremeRandomTrees\\\",\\\"DecisionTree\\\",\\\"RandomForest\\\",\\\"LightGBM\\\",\\\"SVM\\\",\\\"TensorFlowLinearClassifier\\\",\\\"LinearSVM\\\",\\\"SGD\\\"],\\\"private_models\\\":[],\\\"auto_blacklist\\\":true,\\\"blacklist_samples_reached\\\":false,\\\"exclude_nan_labels\\\":true,\\\"verbosity\\\":20,\\\"_debug_log\\\":\\\"azureml_automl.log\\\",\\\"show_warnings\\\":false,\\\"model_explainability\\\":true,\\\"service_url\\\":null,\\\"sdk_url\\\":null,\\\"sdk_packages\\\":null,\\\"enable_onnx_compatible_models\\\":false,\\\"enable_split_onnx_featurizer_estimator_models\\\":false,\\\"vm_type\\\":\\\"STANDARD_D2_V2\\\",\\\"telemetry_verbosity\\\":20,\\\"send_telemetry\\\":true,\\\"enable_dnn\\\":false,\\\"scenario\\\":\\\"SDK-1.13.0\\\",\\\"environment_label\\\":null,\\\"save_mlflow\\\":false,\\\"force_text_dnn\\\":false,\\\"enable_feature_sweeping\\\":true,\\\"enable_early_stopping\\\":true,\\\"early_stopping_n_iters\\\":10,\\\"metrics\\\":null,\\\"enable_metric_confidence\\\":false,\\\"enable_ensembling\\\":true,\\\"enable_stack_ensembling\\\":true,\\\"ensemble_iterations\\\":15,\\\"enable_tf\\\":false,\\\"enable_subsampling\\\":false,\\\"subsample_seed\\\":null,\\\"enable_nimbusml\\\":false,\\\"enable_streaming\\\":false,\\\"force_streaming\\\":false,\\\"track_child_runs\\\":true,\\\"allowed_private_models\\\":[],\\\"label_column_name\\\":\\\"DEATH_EVENT\\\",\\\"weight_column_name\\\":null,\\\"cv_split_column_names\\\":null,\\\"enable_local_managed\\\":false,\\\"_local_managed_run_id\\\":null,\\\"cost_mode\\\":1,\\\"lag_length\\\":0,\\\"metric_operation\\\":\\\"maximize\\\",\\\"preprocess\\\":true}\", \"DataPrepJsonString\": \"{\\\\\\\"training_data\\\\\\\": {\\\\\\\"datasetId\\\\\\\": \\\\\\\"6d055db2-675c-4066-9e37-1a8bba3b99d5\\\\\\\"}, \\\\\\\"datasets\\\\\\\": 0}\", \"EnableSubsampling\": \"False\", \"runTemplate\": \"AutoML\", \"azureml.runsource\": \"automl\", \"display_task_type\": \"classification\", \"dependencies_versions\": \"{\\\"azureml-widgets\\\": \\\"1.26.0\\\", \\\"azureml-train\\\": \\\"1.26.0\\\", \\\"azureml-train-restclients-hyperdrive\\\": \\\"1.26.0\\\", \\\"azureml-train-core\\\": \\\"1.26.0\\\", \\\"azureml-train-automl\\\": \\\"1.26.0\\\", \\\"azureml-train-automl-runtime\\\": \\\"1.26.0\\\", \\\"azureml-train-automl-client\\\": \\\"1.26.0\\\", \\\"azureml-tensorboard\\\": \\\"1.26.0\\\", \\\"azureml-telemetry\\\": \\\"1.26.0\\\", \\\"azureml-sdk\\\": \\\"1.26.0\\\", \\\"azureml-samples\\\": \\\"0+unknown\\\", \\\"azureml-pipeline\\\": \\\"1.26.0\\\", \\\"azureml-pipeline-steps\\\": \\\"1.26.0\\\", \\\"azureml-pipeline-core\\\": \\\"1.26.0\\\", \\\"azureml-opendatasets\\\": \\\"1.26.0\\\", \\\"azureml-model-management-sdk\\\": \\\"1.0.1b6.post1\\\", \\\"azureml-mlflow\\\": \\\"1.26.0\\\", \\\"azureml-interpret\\\": \\\"1.26.0\\\", \\\"azureml-explain-model\\\": \\\"1.26.0\\\", \\\"azureml-defaults\\\": \\\"1.26.0\\\", \\\"azureml-dataset-runtime\\\": \\\"1.26.0\\\", \\\"azureml-dataprep\\\": \\\"2.13.2\\\", \\\"azureml-dataprep-rslex\\\": \\\"1.11.2\\\", \\\"azureml-dataprep-native\\\": \\\"32.0.0\\\", \\\"azureml-datadrift\\\": \\\"1.26.0\\\", \\\"azureml-core\\\": \\\"1.26.0\\\", \\\"azureml-contrib-services\\\": \\\"1.26.0\\\", \\\"azureml-contrib-server\\\": \\\"1.26.0\\\", \\\"azureml-contrib-reinforcementlearning\\\": \\\"1.26.0\\\", \\\"azureml-contrib-pipeline-steps\\\": \\\"1.26.0\\\", \\\"azureml-contrib-notebook\\\": \\\"1.26.0\\\", \\\"azureml-contrib-gbdt\\\": \\\"1.26.0\\\", \\\"azureml-contrib-fairness\\\": \\\"1.26.0\\\", \\\"azureml-contrib-dataset\\\": \\\"1.26.0\\\", \\\"azureml-cli-common\\\": \\\"1.26.0\\\", \\\"azureml-automl-runtime\\\": \\\"1.26.0\\\", \\\"azureml-automl-dnn-nlp\\\": \\\"1.26.0\\\", \\\"azureml-automl-core\\\": \\\"1.26.0\\\", \\\"azureml-accel-models\\\": \\\"1.26.0\\\"}\", \"_aml_system_scenario_identification\": \"Remote.Parent\", \"ClientType\": \"SDK\", \"environment_cpu_name\": \"AzureML-AutoML\", \"environment_cpu_label\": \"prod\", \"environment_gpu_name\": \"AzureML-AutoML-GPU\", \"environment_gpu_label\": \"prod\", \"root_attribution\": \"automl\", \"attribution\": \"AutoML\", \"Orchestrator\": \"AutoML\", \"CancelUri\": \"https://southcentralus.api.azureml.ms/jasmine/v1.0/subscriptions/f5091c60-1c3c-430f-8d81-d802f6bf2414/resourceGroups/aml-quickstarts-143247/providers/Microsoft.MachineLearningServices/workspaces/quick-starts-ws-143247/experimentids/455f9a81-bce9-48cd-964b-46e0d4c088a6/cancel/AutoML_4590a270-2e2d-42e3-a085-9dda2e98641e\", \"ClientSdkVersion\": \"1.26.0\", \"snapshotId\": \"00000000-0000-0000-0000-000000000000\", \"SetupRunId\": \"AutoML_4590a270-2e2d-42e3-a085-9dda2e98641e_setup\", \"SetupRunContainerId\": \"dcid.AutoML_4590a270-2e2d-42e3-a085-9dda2e98641e_setup\", \"FeaturizationRunJsonPath\": \"featurizer_container.json\", \"FeaturizationRunId\": \"AutoML_4590a270-2e2d-42e3-a085-9dda2e98641e_featurize\", \"ProblemInfoJsonString\": \"{\\\"dataset_num_categorical\\\": 0, \\\"is_sparse\\\": false, \\\"subsampling\\\": false, \\\"dataset_classes\\\": 2, \\\"dataset_features\\\": 12, \\\"dataset_samples\\\": 299, \\\"single_frequency_class_detected\\\": false}\", \"ModelExplainRunId\": \"AutoML_4590a270-2e2d-42e3-a085-9dda2e98641e_ModelExplain\"}, \"tags\": {\"model_explain_run\": \"best_run\", \"_aml_system_azureml.automlComponent\": \"AutoML\", \"pipeline_id\": \"\", \"score\": \"\", \"predicted_cost\": \"\", \"fit_time\": \"\", \"training_percent\": \"\", \"iteration\": \"\", \"run_preprocessor\": \"\", \"run_algorithm\": \"\", \"dynamic_whitelisting_iterations\": \"<25>;<30>;<35>;\", \"automl_best_child_run_id\": \"AutoML_4590a270-2e2d-42e3-a085-9dda2e98641e_36\", \"model_explain_best_run_child_id\": \"AutoML_4590a270-2e2d-42e3-a085-9dda2e98641e_36\"}, \"end_time_utc\": \"2021-04-20T18:41:47.262001Z\", \"status\": \"Completed\", \"log_files\": {}, \"log_groups\": [], \"run_duration\": \"0:30:10\", \"run_number\": \"2\", \"run_queued_details\": {\"status\": \"Completed\", \"details\": null}}, \"child_runs\": [{\"run_id\": \"AutoML_4590a270-2e2d-42e3-a085-9dda2e98641e_0\", \"run_number\": 6, \"metric\": null, \"status\": \"Completed\", \"run_type\": \"azureml.scriptrun\", \"training_percent\": \"100\", \"start_time\": \"2021-04-20T18:27:33.98807Z\", \"end_time\": \"2021-04-20T18:28:26.913228Z\", \"created_time\": \"2021-04-20T18:24:57.257731Z\", \"created_time_dt\": \"2021-04-20T18:24:57.257731Z\", \"duration\": \"0:03:29\", \"iteration\": \"0\", \"goal\": \"accuracy_max\", \"run_name\": \"MaxAbsScaler, LightGBM\", \"run_properties\": \"copy=True\", \"primary_metric\": 0.80252525, \"best_metric\": 0.80252525}, {\"run_id\": \"AutoML_4590a270-2e2d-42e3-a085-9dda2e98641e_2\", \"run_number\": 7, \"metric\": null, \"status\": \"Completed\", \"run_type\": \"azureml.scriptrun\", \"training_percent\": \"100\", \"start_time\": \"2021-04-20T18:25:08.60994Z\", \"end_time\": \"2021-04-20T18:26:12.564656Z\", \"created_time\": \"2021-04-20T18:24:57.492357Z\", \"created_time_dt\": \"2021-04-20T18:24:57.492357Z\", \"duration\": \"0:01:15\", \"iteration\": \"2\", \"goal\": \"accuracy_max\", \"run_name\": \"MinMaxScaler, RandomForest\", \"run_properties\": \"copy=True, feature_range=(0, 1\", \"primary_metric\": 0.84609428, \"best_metric\": 0.84609428}, {\"run_id\": \"AutoML_4590a270-2e2d-42e3-a085-9dda2e98641e_3\", \"run_number\": 8, \"metric\": null, \"status\": \"Completed\", \"run_type\": \"azureml.scriptrun\", \"training_percent\": \"100\", \"start_time\": \"2021-04-20T18:26:30.290295Z\", \"end_time\": \"2021-04-20T18:27:15.752231Z\", \"created_time\": \"2021-04-20T18:24:57.544576Z\", \"created_time_dt\": \"2021-04-20T18:24:57.544576Z\", \"duration\": \"0:02:18\", \"iteration\": \"3\", \"goal\": \"accuracy_max\", \"run_name\": \"MinMaxScaler, RandomForest\", \"run_properties\": \"copy=True, feature_range=(0, 1\", \"primary_metric\": 0.82929293, \"best_metric\": 0.84609428}, {\"run_id\": \"AutoML_4590a270-2e2d-42e3-a085-9dda2e98641e_1\", \"run_number\": 9, \"metric\": null, \"status\": \"Completed\", \"run_type\": \"azureml.scriptrun\", \"training_percent\": \"100\", \"start_time\": \"2021-04-20T18:28:20.893468Z\", \"end_time\": \"2021-04-20T18:34:16.416923Z\", \"created_time\": \"2021-04-20T18:24:57.256978Z\", \"created_time_dt\": \"2021-04-20T18:24:57.256978Z\", \"duration\": \"0:09:19\", \"iteration\": \"1\", \"goal\": \"accuracy_max\", \"run_name\": \"MaxAbsScaler, XGBoostClassifier\", \"run_properties\": \"copy=True\", \"primary_metric\": 0.81929293, \"best_metric\": 0.81929293}, {\"run_id\": \"AutoML_4590a270-2e2d-42e3-a085-9dda2e98641e_4\", \"run_number\": 10, \"metric\": null, \"status\": \"Completed\", \"run_type\": \"azureml.scriptrun\", \"training_percent\": \"100\", \"start_time\": \"2021-04-20T18:28:16.946143Z\", \"end_time\": \"2021-04-20T18:33:41.909644Z\", \"created_time\": \"2021-04-20T18:26:17.62487Z\", \"created_time_dt\": \"2021-04-20T18:26:17.62487Z\", \"duration\": \"0:07:24\", \"iteration\": \"4\", \"goal\": \"accuracy_max\", \"run_name\": \"MinMaxScaler, RandomForest\", \"run_properties\": \"copy=True, feature_range=(0, 1\", \"primary_metric\": 0.8293266, \"best_metric\": 0.84609428}, {\"run_id\": \"AutoML_4590a270-2e2d-42e3-a085-9dda2e98641e_5\", \"run_number\": 11, \"metric\": null, \"status\": \"Completed\", \"run_type\": \"azureml.scriptrun\", \"training_percent\": \"100\", \"start_time\": \"2021-04-20T18:28:23.531649Z\", \"end_time\": \"2021-04-20T18:33:51.925082Z\", \"created_time\": \"2021-04-20T18:27:19.076236Z\", \"created_time_dt\": \"2021-04-20T18:27:19.076236Z\", \"duration\": \"0:06:32\", \"iteration\": \"5\", \"goal\": \"accuracy_max\", \"run_name\": \"MinMaxScaler, SVM\", \"run_properties\": \"copy=True, feature_range=(0, 1\", \"primary_metric\": 0.71565657, \"best_metric\": 0.84609428}, {\"run_id\": \"AutoML_4590a270-2e2d-42e3-a085-9dda2e98641e_6\", \"run_number\": 12, \"metric\": null, \"status\": \"Completed\", \"run_type\": \"azureml.scriptrun\", \"training_percent\": \"100\", \"start_time\": \"2021-04-20T18:28:38.846304Z\", \"end_time\": \"2021-04-20T18:29:23.131848Z\", \"created_time\": \"2021-04-20T18:28:29.665538Z\", \"created_time_dt\": \"2021-04-20T18:28:29.665538Z\", \"duration\": \"0:00:53\", \"iteration\": \"6\", \"goal\": \"accuracy_max\", \"run_name\": \"MinMaxScaler, SVM\", \"run_properties\": \"copy=True, feature_range=(0, 1\", \"primary_metric\": 0.7123569, \"best_metric\": 0.84609428}, {\"run_id\": \"AutoML_4590a270-2e2d-42e3-a085-9dda2e98641e_7\", \"run_number\": 13, \"metric\": null, \"status\": \"Completed\", \"run_type\": \"azureml.scriptrun\", \"training_percent\": \"100\", \"start_time\": \"2021-04-20T18:29:37.598152Z\", \"end_time\": \"2021-04-20T18:30:25.725149Z\", \"created_time\": \"2021-04-20T18:29:25.846004Z\", \"created_time_dt\": \"2021-04-20T18:29:25.846004Z\", \"duration\": \"0:00:59\", \"iteration\": \"7\", \"goal\": \"accuracy_max\", \"run_name\": \"MaxAbsScaler, GradientBoosting\", \"run_properties\": \"copy=True\", \"primary_metric\": 0.82606061, \"best_metric\": 0.84609428}, {\"run_id\": \"AutoML_4590a270-2e2d-42e3-a085-9dda2e98641e_8\", \"run_number\": 14, \"metric\": null, \"status\": \"Completed\", \"run_type\": \"azureml.scriptrun\", \"training_percent\": \"100\", \"start_time\": \"2021-04-20T18:30:43.224622Z\", \"end_time\": \"2021-04-20T18:31:32.31707Z\", \"created_time\": \"2021-04-20T18:30:29.554326Z\", \"created_time_dt\": \"2021-04-20T18:30:29.554326Z\", \"duration\": \"0:01:02\", \"iteration\": \"8\", \"goal\": \"accuracy_max\", \"run_name\": \"SparseNormalizer, XGBoostClassifier\", \"run_properties\": \"<azureml.automl.runtime.shared.model_wrappers.SparseNormalizer object at 0x7feda60f97f0\", \"primary_metric\": 0.82939394, \"best_metric\": 0.84609428}, {\"run_id\": \"AutoML_4590a270-2e2d-42e3-a085-9dda2e98641e_9\", \"run_number\": 15, \"metric\": null, \"status\": \"Completed\", \"run_type\": \"azureml.scriptrun\", \"training_percent\": \"100\", \"start_time\": \"2021-04-20T18:31:45.444238Z\", \"end_time\": \"2021-04-20T18:32:45.62183Z\", \"created_time\": \"2021-04-20T18:31:35.472591Z\", \"created_time_dt\": \"2021-04-20T18:31:35.472591Z\", \"duration\": \"0:01:10\", \"iteration\": \"9\", \"goal\": \"accuracy_max\", \"run_name\": \"RobustScaler, RandomForest\", \"run_properties\": \"copy=True, quantile_range=[10, 90], with_centering=True,\\n             with_scaling=True\", \"primary_metric\": 0.83272727, \"best_metric\": 0.84609428}, {\"run_id\": \"AutoML_4590a270-2e2d-42e3-a085-9dda2e98641e_10\", \"run_number\": 16, \"metric\": null, \"status\": \"Completed\", \"run_type\": \"azureml.scriptrun\", \"training_percent\": \"100\", \"start_time\": \"2021-04-20T18:33:01.129446Z\", \"end_time\": \"2021-04-20T18:33:43.862804Z\", \"created_time\": \"2021-04-20T18:32:50.26806Z\", \"created_time_dt\": \"2021-04-20T18:32:50.26806Z\", \"duration\": \"0:00:53\", \"iteration\": \"10\", \"goal\": \"accuracy_max\", \"run_name\": \"SparseNormalizer, LightGBM\", \"run_properties\": \"<azureml.automl.runtime.shared.model_wrappers.SparseNormalizer object at 0x7fa8bfab5e10\", \"primary_metric\": 0.73922559, \"best_metric\": 0.84609428}, {\"run_id\": \"AutoML_4590a270-2e2d-42e3-a085-9dda2e98641e_11\", \"run_number\": 17, \"metric\": null, \"status\": \"Completed\", \"run_type\": \"azureml.scriptrun\", \"training_percent\": \"100\", \"start_time\": \"2021-04-20T18:33:56.011884Z\", \"end_time\": \"2021-04-20T18:34:36.015795Z\", \"created_time\": \"2021-04-20T18:33:45.041386Z\", \"created_time_dt\": \"2021-04-20T18:33:45.041386Z\", \"duration\": \"0:00:50\", \"iteration\": \"11\", \"goal\": \"accuracy_max\", \"run_name\": \"StandardScalerWrapper, RandomForest\", \"run_properties\": \"<azureml.automl.runtime.shared.model_wrappers.StandardScalerWrapper object at 0x7f5f29295668\", \"primary_metric\": 0.84272727, \"best_metric\": 0.84609428}, {\"run_id\": \"AutoML_4590a270-2e2d-42e3-a085-9dda2e98641e_12\", \"run_number\": 18, \"metric\": null, \"status\": \"Completed\", \"run_type\": \"azureml.scriptrun\", \"training_percent\": \"100\", \"start_time\": \"2021-04-20T18:33:59.630402Z\", \"end_time\": \"2021-04-20T18:34:53.336612Z\", \"created_time\": \"2021-04-20T18:33:51.479121Z\", \"created_time_dt\": \"2021-04-20T18:33:51.479121Z\", \"duration\": \"0:01:01\", \"iteration\": \"12\", \"goal\": \"accuracy_max\", \"run_name\": \"RobustScaler, ExtremeRandomTrees\", \"run_properties\": \"copy=True, quantile_range=[25, 75], with_centering=True,\\n             with_scaling=False\", \"primary_metric\": 0.85616162, \"best_metric\": 0.85616162}, {\"run_id\": \"AutoML_4590a270-2e2d-42e3-a085-9dda2e98641e_13\", \"run_number\": 19, \"metric\": null, \"status\": \"Completed\", \"run_type\": \"azureml.scriptrun\", \"training_percent\": \"100\", \"start_time\": \"2021-04-20T18:34:06.761311Z\", \"end_time\": \"2021-04-20T18:34:53.422011Z\", \"created_time\": \"2021-04-20T18:33:55.786981Z\", \"created_time_dt\": \"2021-04-20T18:33:55.786981Z\", \"duration\": \"0:00:57\", \"iteration\": \"13\", \"goal\": \"accuracy_max\", \"run_name\": \"MaxAbsScaler, LightGBM\", \"run_properties\": \"copy=True\", \"primary_metric\": 0.8193266, \"best_metric\": 0.85616162}, {\"run_id\": \"AutoML_4590a270-2e2d-42e3-a085-9dda2e98641e_14\", \"run_number\": 20, \"metric\": null, \"status\": \"Completed\", \"run_type\": \"azureml.scriptrun\", \"training_percent\": \"100\", \"start_time\": \"2021-04-20T18:34:29.768548Z\", \"end_time\": \"2021-04-20T18:35:13.293093Z\", \"created_time\": \"2021-04-20T18:34:18.9067Z\", \"created_time_dt\": \"2021-04-20T18:34:18.9067Z\", \"duration\": \"0:00:54\", \"iteration\": \"14\", \"goal\": \"accuracy_max\", \"run_name\": \"StandardScalerWrapper, RandomForest\", \"run_properties\": \"<azureml.automl.runtime.shared.model_wrappers.StandardScalerWrapper object at 0x7f4675f8f588\", \"primary_metric\": 0.81582492, \"best_metric\": 0.85616162}, {\"run_id\": \"AutoML_4590a270-2e2d-42e3-a085-9dda2e98641e_15\", \"run_number\": 21, \"metric\": null, \"status\": \"Completed\", \"run_type\": \"azureml.scriptrun\", \"training_percent\": \"100\", \"start_time\": \"2021-04-20T18:34:49.387688Z\", \"end_time\": \"2021-04-20T18:35:34.548867Z\", \"created_time\": \"2021-04-20T18:34:38.415923Z\", \"created_time_dt\": \"2021-04-20T18:34:38.415923Z\", \"duration\": \"0:00:56\", \"iteration\": \"15\", \"goal\": \"accuracy_max\", \"run_name\": \"StandardScalerWrapper, LightGBM\", \"run_properties\": \"<azureml.automl.runtime.shared.model_wrappers.StandardScalerWrapper object at 0x7f6bb27de3c8\", \"primary_metric\": 0.81602694, \"best_metric\": 0.85616162}, {\"run_id\": \"AutoML_4590a270-2e2d-42e3-a085-9dda2e98641e_17\", \"run_number\": 22, \"metric\": null, \"status\": \"Completed\", \"run_type\": \"azureml.scriptrun\", \"training_percent\": \"100\", \"start_time\": \"2021-04-20T18:35:08.397207Z\", \"end_time\": \"2021-04-20T18:36:01.25428Z\", \"created_time\": \"2021-04-20T18:34:55.642808Z\", \"created_time_dt\": \"2021-04-20T18:34:55.642808Z\", \"duration\": \"0:01:05\", \"iteration\": \"17\", \"goal\": \"accuracy_max\", \"run_name\": \"SparseNormalizer, LightGBM\", \"run_properties\": \"<azureml.automl.runtime.shared.model_wrappers.SparseNormalizer object at 0x7f066f6975c0\", \"primary_metric\": 0.80286195, \"best_metric\": 0.85616162}, {\"run_id\": \"AutoML_4590a270-2e2d-42e3-a085-9dda2e98641e_16\", \"run_number\": 23, \"metric\": null, \"status\": \"Completed\", \"run_type\": \"azureml.scriptrun\", \"training_percent\": \"100\", \"start_time\": \"2021-04-20T18:35:09.499112Z\", \"end_time\": \"2021-04-20T18:35:52.798537Z\", \"created_time\": \"2021-04-20T18:34:55.652531Z\", \"created_time_dt\": \"2021-04-20T18:34:55.652531Z\", \"duration\": \"0:00:57\", \"iteration\": \"16\", \"goal\": \"accuracy_max\", \"run_name\": \"SparseNormalizer, XGBoostClassifier\", \"run_properties\": \"<azureml.automl.runtime.shared.model_wrappers.SparseNormalizer object at 0x7f0aa237c6a0\", \"primary_metric\": 0.82949495, \"best_metric\": 0.85616162}, {\"run_id\": \"AutoML_4590a270-2e2d-42e3-a085-9dda2e98641e_18\", \"run_number\": 24, \"metric\": null, \"status\": \"Completed\", \"run_type\": \"azureml.scriptrun\", \"training_percent\": \"100\", \"start_time\": \"2021-04-20T18:35:26.345272Z\", \"end_time\": \"2021-04-20T18:36:16.959531Z\", \"created_time\": \"2021-04-20T18:35:16.282663Z\", \"created_time_dt\": \"2021-04-20T18:35:16.282663Z\", \"duration\": \"0:01:00\", \"iteration\": \"18\", \"goal\": \"accuracy_max\", \"run_name\": \"StandardScalerWrapper, ExtremeRandomTrees\", \"run_properties\": \"<azureml.automl.runtime.shared.model_wrappers.StandardScalerWrapper object at 0x7fb1bb95dda0\", \"primary_metric\": 0.84946128, \"best_metric\": 0.85616162}, {\"run_id\": \"AutoML_4590a270-2e2d-42e3-a085-9dda2e98641e_19\", \"run_number\": 25, \"metric\": null, \"status\": \"Completed\", \"run_type\": \"azureml.scriptrun\", \"training_percent\": \"100\", \"start_time\": \"2021-04-20T18:35:46.984207Z\", \"end_time\": \"2021-04-20T18:36:27.150246Z\", \"created_time\": \"2021-04-20T18:35:36.916485Z\", \"created_time_dt\": \"2021-04-20T18:35:36.916485Z\", \"duration\": \"0:00:50\", \"iteration\": \"19\", \"goal\": \"accuracy_max\", \"run_name\": \"StandardScalerWrapper, LightGBM\", \"run_properties\": \"<azureml.automl.runtime.shared.model_wrappers.StandardScalerWrapper object at 0x7f8696ee8128\", \"primary_metric\": 0.81265993, \"best_metric\": 0.85616162}, {\"run_id\": \"AutoML_4590a270-2e2d-42e3-a085-9dda2e98641e_20\", \"run_number\": 26, \"metric\": null, \"status\": \"Completed\", \"run_type\": \"azureml.scriptrun\", \"training_percent\": \"100\", \"start_time\": \"2021-04-20T18:36:06.270541Z\", \"end_time\": \"2021-04-20T18:36:56.84671Z\", \"created_time\": \"2021-04-20T18:35:55.110669Z\", \"created_time_dt\": \"2021-04-20T18:35:55.110669Z\", \"duration\": \"0:01:01\", \"iteration\": \"20\", \"goal\": \"accuracy_max\", \"run_name\": \"StandardScalerWrapper, RandomForest\", \"run_properties\": \"<azureml.automl.runtime.shared.model_wrappers.StandardScalerWrapper object at 0x7fcf6144b9e8\", \"primary_metric\": 0.84602694, \"best_metric\": 0.85616162}, {\"run_id\": \"AutoML_4590a270-2e2d-42e3-a085-9dda2e98641e_21\", \"run_number\": 27, \"metric\": null, \"status\": \"Completed\", \"run_type\": \"azureml.scriptrun\", \"training_percent\": \"100\", \"start_time\": \"2021-04-20T18:36:19.144372Z\", \"end_time\": \"2021-04-20T18:37:03.286984Z\", \"created_time\": \"2021-04-20T18:36:03.536419Z\", \"created_time_dt\": \"2021-04-20T18:36:03.536419Z\", \"duration\": \"0:00:59\", \"iteration\": \"21\", \"goal\": \"accuracy_max\", \"run_name\": \"StandardScalerWrapper, LightGBM\", \"run_properties\": \"<azureml.automl.runtime.shared.model_wrappers.StandardScalerWrapper object at 0x7f117892da20\", \"primary_metric\": 0.8326936, \"best_metric\": 0.85616162}, {\"run_id\": \"AutoML_4590a270-2e2d-42e3-a085-9dda2e98641e_22\", \"run_number\": 28, \"metric\": null, \"status\": \"Completed\", \"run_type\": \"azureml.scriptrun\", \"training_percent\": \"100\", \"start_time\": \"2021-04-20T18:36:30.679134Z\", \"end_time\": \"2021-04-20T18:37:18.873338Z\", \"created_time\": \"2021-04-20T18:36:19.4112Z\", \"created_time_dt\": \"2021-04-20T18:36:19.4112Z\", \"duration\": \"0:00:59\", \"iteration\": \"22\", \"goal\": \"accuracy_max\", \"run_name\": \"StandardScalerWrapper, LightGBM\", \"run_properties\": \"<azureml.automl.runtime.shared.model_wrappers.StandardScalerWrapper object at 0x7f7e8c1953c8\", \"primary_metric\": 0.8326936, \"best_metric\": 0.85616162}, {\"run_id\": \"AutoML_4590a270-2e2d-42e3-a085-9dda2e98641e_23\", \"run_number\": 29, \"metric\": null, \"status\": \"Completed\", \"run_type\": \"azureml.scriptrun\", \"training_percent\": \"100\", \"start_time\": \"2021-04-20T18:36:44.690744Z\", \"end_time\": \"2021-04-20T18:37:25.528214Z\", \"created_time\": \"2021-04-20T18:36:29.619201Z\", \"created_time_dt\": \"2021-04-20T18:36:29.619201Z\", \"duration\": \"0:00:55\", \"iteration\": \"23\", \"goal\": \"accuracy_max\", \"run_name\": \"MaxAbsScaler, LightGBM\", \"run_properties\": \"copy=True\", \"primary_metric\": 0.83606061, \"best_metric\": 0.85616162}, {\"run_id\": \"AutoML_4590a270-2e2d-42e3-a085-9dda2e98641e_24\", \"run_number\": 30, \"metric\": null, \"status\": \"Completed\", \"run_type\": \"azureml.scriptrun\", \"training_percent\": \"100\", \"start_time\": \"2021-04-20T18:37:10.827661Z\", \"end_time\": \"2021-04-20T18:38:01.747013Z\", \"created_time\": \"2021-04-20T18:36:59.323193Z\", \"created_time_dt\": \"2021-04-20T18:36:59.323193Z\", \"duration\": \"0:01:02\", \"iteration\": \"24\", \"goal\": \"accuracy_max\", \"run_name\": \"SparseNormalizer, XGBoostClassifier\", \"run_properties\": \"<azureml.automl.runtime.shared.model_wrappers.SparseNormalizer object at 0x7fc9ccede588\", \"primary_metric\": 0.80612795, \"best_metric\": 0.85616162}, {\"run_id\": \"AutoML_4590a270-2e2d-42e3-a085-9dda2e98641e_25\", \"run_number\": 31, \"metric\": null, \"status\": \"Completed\", \"run_type\": \"azureml.scriptrun\", \"training_percent\": \"100\", \"start_time\": \"2021-04-20T18:37:16.263748Z\", \"end_time\": \"2021-04-20T18:38:31.723926Z\", \"created_time\": \"2021-04-20T18:37:06.654784Z\", \"created_time_dt\": \"2021-04-20T18:37:06.654784Z\", \"duration\": \"0:01:25\", \"iteration\": \"25\", \"goal\": \"accuracy_max\", \"run_name\": \"TruncatedSVDWrapper, ExtremeRandomTrees\", \"run_properties\": \"n_components=0.01, random_state=None\", \"primary_metric\": 0.66569024, \"best_metric\": 0.85616162}, {\"run_id\": \"AutoML_4590a270-2e2d-42e3-a085-9dda2e98641e_26\", \"run_number\": 32, \"metric\": null, \"status\": \"Completed\", \"run_type\": \"azureml.scriptrun\", \"training_percent\": \"100\", \"start_time\": \"2021-04-20T18:37:34.23385Z\", \"end_time\": \"2021-04-20T18:38:18.394721Z\", \"created_time\": \"2021-04-20T18:37:21.316071Z\", \"created_time_dt\": \"2021-04-20T18:37:21.316071Z\", \"duration\": \"0:00:57\", \"iteration\": \"26\", \"goal\": \"accuracy_max\", \"run_name\": \"SparseNormalizer, XGBoostClassifier\", \"run_properties\": \"<azureml.automl.runtime.shared.model_wrappers.SparseNormalizer object at 0x7ff198e12e48\", \"primary_metric\": 0.78602694, \"best_metric\": 0.85616162}, {\"run_id\": \"AutoML_4590a270-2e2d-42e3-a085-9dda2e98641e_27\", \"run_number\": 33, \"metric\": null, \"status\": \"Completed\", \"run_type\": \"azureml.scriptrun\", \"training_percent\": \"100\", \"start_time\": \"2021-04-20T18:37:38.905998Z\", \"end_time\": \"2021-04-20T18:38:26.704436Z\", \"created_time\": \"2021-04-20T18:37:28.113486Z\", \"created_time_dt\": \"2021-04-20T18:37:28.113486Z\", \"duration\": \"0:00:58\", \"iteration\": \"27\", \"goal\": \"accuracy_max\", \"run_name\": \"SparseNormalizer, RandomForest\", \"run_properties\": \"<azureml.automl.runtime.shared.model_wrappers.SparseNormalizer object at 0x7ff9fe8eee80\", \"primary_metric\": 0.78589226, \"best_metric\": 0.85616162}, {\"run_id\": \"AutoML_4590a270-2e2d-42e3-a085-9dda2e98641e_28\", \"run_number\": 34, \"metric\": null, \"status\": \"Completed\", \"run_type\": \"azureml.scriptrun\", \"training_percent\": \"100\", \"start_time\": \"2021-04-20T18:38:16.541824Z\", \"end_time\": \"2021-04-20T18:38:59.876143Z\", \"created_time\": \"2021-04-20T18:38:04.001807Z\", \"created_time_dt\": \"2021-04-20T18:38:04.001807Z\", \"duration\": \"0:00:55\", \"iteration\": \"28\", \"goal\": \"accuracy_max\", \"run_name\": \"StandardScalerWrapper, LightGBM\", \"run_properties\": \"<azureml.automl.runtime.shared.model_wrappers.StandardScalerWrapper object at 0x7fd2c667c748\", \"primary_metric\": 0.82939394, \"best_metric\": 0.85616162}, {\"run_id\": \"AutoML_4590a270-2e2d-42e3-a085-9dda2e98641e_29\", \"run_number\": 35, \"metric\": null, \"status\": \"Completed\", \"run_type\": \"azureml.scriptrun\", \"training_percent\": \"100\", \"start_time\": \"2021-04-20T18:38:33.400096Z\", \"end_time\": \"2021-04-20T18:39:15.984824Z\", \"created_time\": \"2021-04-20T18:38:21.037543Z\", \"created_time_dt\": \"2021-04-20T18:38:21.037543Z\", \"duration\": \"0:00:54\", \"iteration\": \"29\", \"goal\": \"accuracy_max\", \"run_name\": \"MinMaxScaler, RandomForest\", \"run_properties\": \"copy=True, feature_range=(0, 1\", \"primary_metric\": 0.80925926, \"best_metric\": 0.85616162}, {\"run_id\": \"AutoML_4590a270-2e2d-42e3-a085-9dda2e98641e_30\", \"run_number\": 36, \"metric\": null, \"status\": \"Completed\", \"run_type\": \"azureml.scriptrun\", \"training_percent\": \"100\", \"start_time\": \"2021-04-20T18:39:01.468395Z\", \"end_time\": \"2021-04-20T18:39:45.232698Z\", \"created_time\": \"2021-04-20T18:38:29.951583Z\", \"created_time_dt\": \"2021-04-20T18:38:29.951583Z\", \"duration\": \"0:01:15\", \"iteration\": \"30\", \"goal\": \"accuracy_max\", \"run_name\": \"SparseNormalizer, ExtremeRandomTrees\", \"run_properties\": \"<azureml.automl.runtime.shared.model_wrappers.SparseNormalizer object at 0x7fa65c324dd8\", \"primary_metric\": 0.6823569, \"best_metric\": 0.85616162}, {\"run_id\": \"AutoML_4590a270-2e2d-42e3-a085-9dda2e98641e_31\", \"run_number\": 37, \"metric\": null, \"status\": \"Completed\", \"run_type\": \"azureml.scriptrun\", \"training_percent\": \"100\", \"start_time\": \"2021-04-20T18:39:07.848215Z\", \"end_time\": \"2021-04-20T18:39:50.421864Z\", \"created_time\": \"2021-04-20T18:38:56.01265Z\", \"created_time_dt\": \"2021-04-20T18:38:56.01265Z\", \"duration\": \"0:00:54\", \"iteration\": \"31\", \"goal\": \"accuracy_max\", \"run_name\": \"MaxAbsScaler, LightGBM\", \"run_properties\": \"copy=True\", \"primary_metric\": 0.82939394, \"best_metric\": 0.85616162}, {\"run_id\": \"AutoML_4590a270-2e2d-42e3-a085-9dda2e98641e_32\", \"run_number\": 38, \"metric\": null, \"status\": \"Completed\", \"run_type\": \"azureml.scriptrun\", \"training_percent\": \"100\", \"start_time\": \"2021-04-20T18:39:14.310974Z\", \"end_time\": \"2021-04-20T18:40:04.870082Z\", \"created_time\": \"2021-04-20T18:39:02.895361Z\", \"created_time_dt\": \"2021-04-20T18:39:02.895361Z\", \"duration\": \"0:01:01\", \"iteration\": \"32\", \"goal\": \"accuracy_max\", \"run_name\": \"StandardScalerWrapper, XGBoostClassifier\", \"run_properties\": \"<azureml.automl.runtime.shared.model_wrappers.StandardScalerWrapper object at 0x7fb6c0822198\", \"primary_metric\": 0.8293266, \"best_metric\": 0.85616162}, {\"run_id\": \"AutoML_4590a270-2e2d-42e3-a085-9dda2e98641e_33\", \"run_number\": 39, \"metric\": null, \"status\": \"Canceled\", \"run_type\": \"azureml.scriptrun\", \"training_percent\": \"100\", \"start_time\": \"2021-04-20T18:39:32.986227Z\", \"end_time\": \"2021-04-20T18:40:12.650668Z\", \"created_time\": \"2021-04-20T18:39:19.011086Z\", \"created_time_dt\": \"2021-04-20T18:39:19.011086Z\", \"duration\": \"0:00:53\", \"iteration\": \"33\", \"goal\": \"accuracy_max\", \"run_name\": \"MinMaxScaler, LightGBM\", \"run_properties\": \"copy=True, feature_range=(0, 1\", \"primary_metric\": 0.83606061, \"best_metric\": 0.85616162}, {\"run_id\": \"AutoML_4590a270-2e2d-42e3-a085-9dda2e98641e_34\", \"run_number\": 40, \"metric\": null, \"status\": \"Canceled\", \"run_type\": \"azureml.scriptrun\", \"training_percent\": \"100\", \"start_time\": \"2021-04-20T18:40:02.629813Z\", \"end_time\": \"2021-04-20T18:40:11.516393Z\", \"created_time\": \"2021-04-20T18:39:48.027827Z\", \"created_time_dt\": \"2021-04-20T18:39:48.027827Z\", \"duration\": \"0:00:23\", \"iteration\": \"34\", \"goal\": null, \"run_name\": \"Canceled\", \"run_properties\": null}, {\"run_id\": \"AutoML_4590a270-2e2d-42e3-a085-9dda2e98641e_35\", \"run_number\": 41, \"metric\": null, \"status\": \"Canceled\", \"run_type\": \"azureml.scriptrun\", \"training_percent\": \"100\", \"start_time\": \"2021-04-20T18:40:05.297162Z\", \"end_time\": \"2021-04-20T18:40:11.877786Z\", \"created_time\": \"2021-04-20T18:39:53.438414Z\", \"created_time_dt\": \"2021-04-20T18:39:53.438414Z\", \"duration\": \"0:00:18\", \"iteration\": \"35\", \"goal\": null, \"run_name\": \"Canceled\", \"run_properties\": null}, {\"run_id\": \"AutoML_4590a270-2e2d-42e3-a085-9dda2e98641e_36\", \"run_number\": 42, \"metric\": null, \"status\": \"Completed\", \"run_type\": \"azureml.scriptrun\", \"training_percent\": \"100\", \"start_time\": \"2021-04-20T18:40:21.708721Z\", \"end_time\": \"2021-04-20T18:41:20.297206Z\", \"created_time\": \"2021-04-20T18:40:14.243402Z\", \"created_time_dt\": \"2021-04-20T18:40:14.243402Z\", \"duration\": \"0:01:06\", \"iteration\": \"36\", \"goal\": \"accuracy_max\", \"run_name\": \"VotingEnsemble\", \"run_properties\": \"classification_labels=None,\\n                              estimators=[('12',\\n                                           Pipeline(memory=None,\\n                                                    steps=[('robustscaler',\\n                                                            RobustScaler(copy=True,\\n                                                                         quantile_range=[25,\\n                                                                                         75],\\n                                                                         with_centering=True,\\n                                                                         with_scaling=False\", \"primary_metric\": 0.86286195, \"best_metric\": 0.86286195}, {\"run_id\": \"AutoML_4590a270-2e2d-42e3-a085-9dda2e98641e_37\", \"run_number\": 43, \"metric\": null, \"status\": \"Completed\", \"run_type\": \"azureml.scriptrun\", \"training_percent\": \"100\", \"start_time\": \"2021-04-20T18:40:21.863373Z\", \"end_time\": \"2021-04-20T18:41:42.91713Z\", \"created_time\": \"2021-04-20T18:40:14.350693Z\", \"created_time_dt\": \"2021-04-20T18:40:14.350693Z\", \"duration\": \"0:01:28\", \"iteration\": \"37\", \"goal\": \"accuracy_max\", \"run_name\": \"StackEnsemble\", \"run_properties\": \"base_learners=[('12',\\n                                        Pipeline(memory=None,\\n                                                 steps=[('robustscaler',\\n                                                         RobustScaler(copy=True,\\n                                                                      quantile_range=[25,\\n                                                                                      75],\\n                                                                      with_centering=True,\\n                                                                      with_scaling=False\", \"primary_metric\": 0.84939394, \"best_metric\": 0.86286195}], \"children_metrics\": {\"categories\": [0], \"series\": {\"matthews_correlation\": [{\"categories\": [\"0\", \"1\", \"2\", \"3\", \"4\", \"5\", \"6\", \"7\", \"8\", \"9\", \"10\", \"11\", \"12\", \"13\", \"14\", \"15\", \"16\", \"17\", \"18\", \"19\", \"20\", \"21\", \"22\", \"23\", \"24\", \"25\", \"26\", \"27\", \"28\", \"29\", \"30\", \"31\", \"32\", \"33\", \"36\", \"37\"], \"mode\": \"markers\", \"name\": \"matthews_correlation\", \"stepped\": false, \"type\": \"scatter\", \"data\": [0.5489062305154261, 0.5873460381369527, 0.6489684476657837, 0.6115083179439724, 0.6104946247376133, 0.27236163612296654, 0.2575549726510259, 0.6034932055919783, 0.6005280962129412, 0.6187223159768825, 0.339821370596721, 0.646958657936913, 0.664296371082046, 0.5715189733205759, 0.6025860252222613, 0.5576041304353357, 0.6029922179163316, 0.5298190155903484, 0.6470565833869589, 0.5622362658858628, 0.6487591022545383, 0.6199713557406045, 0.6213216196963133, 0.6232054259360209, 0.5474949617922821, 0.028625399871900766, 0.4925668738146059, 0.5211696933294155, 0.5965685709206162, 0.569675810762706, 0.05117402071909314, 0.5981073471489134, 0.6033125947544113, 0.6251407955365437, 0.682500647439988, 0.6547257131440541]}, {\"categories\": [\"0\", \"1\", \"2\", \"3\", \"4\", \"5\", \"6\", \"7\", \"8\", \"9\", \"10\", \"11\", \"12\", \"13\", \"14\", \"15\", \"16\", \"17\", \"18\", \"19\", \"20\", \"21\", \"22\", \"23\", \"24\", \"25\", \"26\", \"27\", \"28\", \"29\", \"30\", \"31\", \"32\", \"33\", \"36\", \"37\"], \"mode\": \"lines\", \"name\": \"matthews_correlation_max\", \"stepped\": true, \"type\": \"scatter\", \"data\": [0.5489062305154261, 0.5873460381369527, 0.6489684476657837, 0.6489684476657837, 0.6489684476657837, 0.6489684476657837, 0.6489684476657837, 0.6489684476657837, 0.6489684476657837, 0.6489684476657837, 0.6489684476657837, 0.6489684476657837, 0.664296371082046, 0.664296371082046, 0.664296371082046, 0.664296371082046, 0.664296371082046, 0.664296371082046, 0.664296371082046, 0.664296371082046, 0.664296371082046, 0.664296371082046, 0.664296371082046, 0.664296371082046, 0.664296371082046, 0.664296371082046, 0.664296371082046, 0.664296371082046, 0.664296371082046, 0.664296371082046, 0.664296371082046, 0.664296371082046, 0.664296371082046, 0.664296371082046, 0.682500647439988, 0.682500647439988]}], \"AUC_macro\": [{\"categories\": [\"0\", \"1\", \"2\", \"3\", \"4\", \"5\", \"6\", \"7\", \"8\", \"9\", \"10\", \"11\", \"12\", \"13\", \"14\", \"15\", \"16\", \"17\", \"18\", \"19\", \"20\", \"21\", \"22\", \"23\", \"24\", \"25\", \"26\", \"27\", \"28\", \"29\", \"30\", \"31\", \"32\", \"33\", \"36\", \"37\"], \"mode\": \"markers\", \"name\": \"AUC_macro\", \"stepped\": false, \"type\": \"scatter\", \"data\": [0.8550287233045853, 0.875938401455643, 0.9027204051341983, 0.8797639018328675, 0.8854308002583865, 0.7414457314457316, 0.7208138680552474, 0.8958757772550876, 0.8723482595896389, 0.9042804873839355, 0.8143166565580359, 0.8921405642095297, 0.8760876147083043, 0.8835903884179747, 0.9028012741805845, 0.8722483074207211, 0.8634117861704068, 0.8495134543410406, 0.8655428827842622, 0.8713923282888801, 0.9066824459927908, 0.8861242523311489, 0.887719246339936, 0.875604274224964, 0.8530814065296825, 0.5201630201630202, 0.85309412861137, 0.8595541354162043, 0.8810950852330164, 0.891080292114775, 0.8303814158986573, 0.8794781480988378, 0.8970120859776033, 0.884242690966829, 0.8950673333431954, 0.9131747511057856]}, {\"categories\": [\"0\", \"1\", \"2\", \"3\", \"4\", \"5\", \"6\", \"7\", \"8\", \"9\", \"10\", \"11\", \"12\", \"13\", \"14\", \"15\", \"16\", \"17\", \"18\", \"19\", \"20\", \"21\", \"22\", \"23\", \"24\", \"25\", \"26\", \"27\", \"28\", \"29\", \"30\", \"31\", \"32\", \"33\", \"36\", \"37\"], \"mode\": \"lines\", \"name\": \"AUC_macro_max\", \"stepped\": true, \"type\": \"scatter\", \"data\": [0.8550287233045853, 0.875938401455643, 0.9027204051341983, 0.9027204051341983, 0.9027204051341983, 0.9027204051341983, 0.9027204051341983, 0.9027204051341983, 0.9027204051341983, 0.9042804873839355, 0.9042804873839355, 0.9042804873839355, 0.9042804873839355, 0.9042804873839355, 0.9042804873839355, 0.9042804873839355, 0.9042804873839355, 0.9042804873839355, 0.9042804873839355, 0.9042804873839355, 0.9066824459927908, 0.9066824459927908, 0.9066824459927908, 0.9066824459927908, 0.9066824459927908, 0.9066824459927908, 0.9066824459927908, 0.9066824459927908, 0.9066824459927908, 0.9066824459927908, 0.9066824459927908, 0.9066824459927908, 0.9066824459927908, 0.9066824459927908, 0.9066824459927908, 0.9131747511057856]}], \"average_precision_score_micro\": [{\"categories\": [\"0\", \"1\", \"2\", \"3\", \"4\", \"5\", \"6\", \"7\", \"8\", \"9\", \"10\", \"11\", \"12\", \"13\", \"14\", \"15\", \"16\", \"17\", \"18\", \"19\", \"20\", \"21\", \"22\", \"23\", \"24\", \"25\", \"26\", \"27\", \"28\", \"29\", \"30\", \"31\", \"32\", \"33\", \"36\", \"37\"], \"mode\": \"markers\", \"name\": \"average_precision_score_micro\", \"stepped\": false, \"type\": \"scatter\", \"data\": [0.8707751210307144, 0.8886385174313017, 0.9119400117946839, 0.8834287578651979, 0.893826293917693, 0.7880133038203171, 0.7781002241910486, 0.9054996495647966, 0.8840700802473521, 0.9134719800519738, 0.8387446664108748, 0.9006309653984763, 0.8925875712508448, 0.8922175201764779, 0.9072742066754004, 0.871788983229679, 0.8818570168445495, 0.8679039262869126, 0.8838772147448174, 0.8879340003064913, 0.91341189225411, 0.8947315750308323, 0.9021377303820733, 0.8842391364743446, 0.8684840768643952, 0.6064917404234865, 0.8682069487420879, 0.8734157274367144, 0.8929478929150475, 0.9000580550151049, 0.8222519163374096, 0.8817233853054406, 0.9036266699548534, 0.8917163750706504, 0.9055620787068549, 0.9169650408285235]}, {\"categories\": [\"0\", \"1\", \"2\", \"3\", \"4\", \"5\", \"6\", \"7\", \"8\", \"9\", \"10\", \"11\", \"12\", \"13\", \"14\", \"15\", \"16\", \"17\", \"18\", \"19\", \"20\", \"21\", \"22\", \"23\", \"24\", \"25\", \"26\", \"27\", \"28\", \"29\", \"30\", \"31\", \"32\", \"33\", \"36\", \"37\"], \"mode\": \"lines\", \"name\": \"average_precision_score_micro_max\", \"stepped\": true, \"type\": \"scatter\", \"data\": [0.8707751210307144, 0.8886385174313017, 0.9119400117946839, 0.9119400117946839, 0.9119400117946839, 0.9119400117946839, 0.9119400117946839, 0.9119400117946839, 0.9119400117946839, 0.9134719800519738, 0.9134719800519738, 0.9134719800519738, 0.9134719800519738, 0.9134719800519738, 0.9134719800519738, 0.9134719800519738, 0.9134719800519738, 0.9134719800519738, 0.9134719800519738, 0.9134719800519738, 0.9134719800519738, 0.9134719800519738, 0.9134719800519738, 0.9134719800519738, 0.9134719800519738, 0.9134719800519738, 0.9134719800519738, 0.9134719800519738, 0.9134719800519738, 0.9134719800519738, 0.9134719800519738, 0.9134719800519738, 0.9134719800519738, 0.9134719800519738, 0.9134719800519738, 0.9169650408285235]}], \"weighted_accuracy\": [{\"categories\": [\"0\", \"1\", \"2\", \"3\", \"4\", \"5\", \"6\", \"7\", \"8\", \"9\", \"10\", \"11\", \"12\", \"13\", \"14\", \"15\", \"16\", \"17\", \"18\", \"19\", \"20\", \"21\", \"22\", \"23\", \"24\", \"25\", \"26\", \"27\", \"28\", \"29\", \"30\", \"31\", \"32\", \"33\", \"36\", \"37\"], \"mode\": \"markers\", \"name\": \"weighted_accuracy\", \"stepped\": false, \"type\": \"scatter\", \"data\": [0.8310099034285422, 0.8426543037328149, 0.8667285616088333, 0.8635981243754062, 0.8585164253809436, 0.8016590618157968, 0.7989462727177251, 0.8500673546775687, 0.8634491196390175, 0.8585290542048285, 0.8239585048467212, 0.8653250473659849, 0.8997539331967217, 0.8645714286468716, 0.827810374821718, 0.8770157302784055, 0.861118170853607, 0.8532960763374957, 0.8939654626871586, 0.847923633464761, 0.8723625006587484, 0.8562705466357597, 0.855691449963143, 0.8683576007122881, 0.8373646782929577, 0.777115348385883, 0.8345907490850966, 0.8027046974825258, 0.8766413952312506, 0.8377135828216634, 0.8156822488996575, 0.8743497883843466, 0.8666952773079858, 0.8587112998462357, 0.8984824778252959, 0.87471432306299]}, {\"categories\": [\"0\", \"1\", \"2\", \"3\", \"4\", \"5\", \"6\", \"7\", \"8\", \"9\", \"10\", \"11\", \"12\", \"13\", \"14\", \"15\", \"16\", \"17\", \"18\", \"19\", \"20\", \"21\", \"22\", \"23\", \"24\", \"25\", \"26\", \"27\", \"28\", \"29\", \"30\", \"31\", \"32\", \"33\", \"36\", \"37\"], \"mode\": \"lines\", \"name\": \"weighted_accuracy_max\", \"stepped\": true, \"type\": \"scatter\", \"data\": [0.8310099034285422, 0.8426543037328149, 0.8667285616088333, 0.8667285616088333, 0.8667285616088333, 0.8667285616088333, 0.8667285616088333, 0.8667285616088333, 0.8667285616088333, 0.8667285616088333, 0.8667285616088333, 0.8667285616088333, 0.8997539331967217, 0.8997539331967217, 0.8997539331967217, 0.8997539331967217, 0.8997539331967217, 0.8997539331967217, 0.8997539331967217, 0.8997539331967217, 0.8997539331967217, 0.8997539331967217, 0.8997539331967217, 0.8997539331967217, 0.8997539331967217, 0.8997539331967217, 0.8997539331967217, 0.8997539331967217, 0.8997539331967217, 0.8997539331967217, 0.8997539331967217, 0.8997539331967217, 0.8997539331967217, 0.8997539331967217, 0.8997539331967217, 0.8997539331967217]}], \"average_precision_score_macro\": [{\"categories\": [\"0\", \"1\", \"2\", \"3\", \"4\", \"5\", \"6\", \"7\", \"8\", \"9\", \"10\", \"11\", \"12\", \"13\", \"14\", \"15\", \"16\", \"17\", \"18\", \"19\", \"20\", \"21\", \"22\", \"23\", \"24\", \"25\", \"26\", \"27\", \"28\", \"29\", \"30\", \"31\", \"32\", \"33\", \"36\", \"37\"], \"mode\": \"markers\", \"name\": \"average_precision_score_macro\", \"stepped\": false, \"type\": \"scatter\", \"data\": [0.8323265818260129, 0.8521645844042397, 0.8821807245851249, 0.8597329534120434, 0.8650870718985099, 0.7218146228165979, 0.7052509732205595, 0.875784709274733, 0.8505468707843259, 0.8871764196957767, 0.7808935598052263, 0.8752041687781883, 0.8641665840340934, 0.8606902364696672, 0.8734491259560061, 0.8552399103427493, 0.8523550551489879, 0.8373129414941466, 0.8564752052872148, 0.8530323848709465, 0.8896545109580015, 0.8672108682908432, 0.8690723841264617, 0.8545383419369658, 0.827967765057072, 0.511532030292293, 0.8255708758665872, 0.8466245840326155, 0.8693243978081123, 0.8730391883322989, 0.8093590752377313, 0.860932639864746, 0.8791048968676937, 0.8595189639986277, 0.8804461225205501, 0.8980452678341212]}, {\"categories\": [\"0\", \"1\", \"2\", \"3\", \"4\", \"5\", \"6\", \"7\", \"8\", \"9\", \"10\", \"11\", \"12\", \"13\", \"14\", \"15\", \"16\", \"17\", \"18\", \"19\", \"20\", \"21\", \"22\", \"23\", \"24\", \"25\", \"26\", \"27\", \"28\", \"29\", \"30\", \"31\", \"32\", \"33\", \"36\", \"37\"], \"mode\": \"lines\", \"name\": \"average_precision_score_macro_max\", \"stepped\": true, \"type\": \"scatter\", \"data\": [0.8323265818260129, 0.8521645844042397, 0.8821807245851249, 0.8821807245851249, 0.8821807245851249, 0.8821807245851249, 0.8821807245851249, 0.8821807245851249, 0.8821807245851249, 0.8871764196957767, 0.8871764196957767, 0.8871764196957767, 0.8871764196957767, 0.8871764196957767, 0.8871764196957767, 0.8871764196957767, 0.8871764196957767, 0.8871764196957767, 0.8871764196957767, 0.8871764196957767, 0.8896545109580015, 0.8896545109580015, 0.8896545109580015, 0.8896545109580015, 0.8896545109580015, 0.8896545109580015, 0.8896545109580015, 0.8896545109580015, 0.8896545109580015, 0.8896545109580015, 0.8896545109580015, 0.8896545109580015, 0.8896545109580015, 0.8896545109580015, 0.8896545109580015, 0.8980452678341212]}], \"balanced_accuracy\": [{\"categories\": [\"0\", \"1\", \"2\", \"3\", \"4\", \"5\", \"6\", \"7\", \"8\", \"9\", \"10\", \"11\", \"12\", \"13\", \"14\", \"15\", \"16\", \"17\", \"18\", \"19\", \"20\", \"21\", \"22\", \"23\", \"24\", \"25\", \"26\", \"27\", \"28\", \"29\", \"30\", \"31\", \"32\", \"33\", \"36\", \"37\"], \"mode\": \"markers\", \"name\": \"balanced_accuracy\", \"stepped\": false, \"type\": \"scatter\", \"data\": [0.7665542389680322, 0.7899604037535072, 0.8202520254244391, 0.7863010794045276, 0.7925257770085357, 0.601941596769183, 0.597121012638254, 0.7962294807122393, 0.785528878632327, 0.8003964555688693, 0.6289284358249875, 0.8152041203765341, 0.7994243011484391, 0.7603438413783241, 0.8021896280516971, 0.734901403866921, 0.789013644186058, 0.7375294013225048, 0.7914877932119312, 0.7671563188804568, 0.812903297386056, 0.8033794878622466, 0.8043575595299733, 0.7951641296468882, 0.7657990502818088, 0.5135850135850136, 0.7238386169420652, 0.7650196995024582, 0.7676782694024075, 0.7740659378590413, 0.5055555555555555, 0.7707798931936862, 0.7816193040330971, 0.8076194421022006, 0.8172677603712087, 0.8174078018905604]}, {\"categories\": [\"0\", \"1\", \"2\", \"3\", \"4\", \"5\", \"6\", \"7\", \"8\", \"9\", \"10\", \"11\", \"12\", \"13\", \"14\", \"15\", \"16\", \"17\", \"18\", \"19\", \"20\", \"21\", \"22\", \"23\", \"24\", \"25\", \"26\", \"27\", \"28\", \"29\", \"30\", \"31\", \"32\", \"33\", \"36\", \"37\"], \"mode\": \"lines\", \"name\": \"balanced_accuracy_max\", \"stepped\": true, \"type\": \"scatter\", \"data\": [0.7665542389680322, 0.7899604037535072, 0.8202520254244391, 0.8202520254244391, 0.8202520254244391, 0.8202520254244391, 0.8202520254244391, 0.8202520254244391, 0.8202520254244391, 0.8202520254244391, 0.8202520254244391, 0.8202520254244391, 0.8202520254244391, 0.8202520254244391, 0.8202520254244391, 0.8202520254244391, 0.8202520254244391, 0.8202520254244391, 0.8202520254244391, 0.8202520254244391, 0.8202520254244391, 0.8202520254244391, 0.8202520254244391, 0.8202520254244391, 0.8202520254244391, 0.8202520254244391, 0.8202520254244391, 0.8202520254244391, 0.8202520254244391, 0.8202520254244391, 0.8202520254244391, 0.8202520254244391, 0.8202520254244391, 0.8202520254244391, 0.8202520254244391, 0.8202520254244391]}], \"recall_score_weighted\": [{\"categories\": [\"0\", \"1\", \"2\", \"3\", \"4\", \"5\", \"6\", \"7\", \"8\", \"9\", \"10\", \"11\", \"12\", \"13\", \"14\", \"15\", \"16\", \"17\", \"18\", \"19\", \"20\", \"21\", \"22\", \"23\", \"24\", \"25\", \"26\", \"27\", \"28\", \"29\", \"30\", \"31\", \"32\", \"33\", \"36\", \"37\"], \"mode\": \"markers\", \"name\": \"recall_score_weighted\", \"stepped\": false, \"type\": \"scatter\", \"data\": [0.8025252525252524, 0.8192929292929293, 0.8460942760942761, 0.8292929292929294, 0.8293265993265994, 0.7156565656565657, 0.7123569023569023, 0.8260606060606062, 0.8293939393939395, 0.8327272727272729, 0.7392255892255893, 0.8427272727272728, 0.8561616161616162, 0.8193265993265993, 0.8158249158249159, 0.816026936026936, 0.8294949494949496, 0.8028619528619528, 0.8494612794612794, 0.8126599326599327, 0.846026936026936, 0.8326936026936026, 0.8326936026936026, 0.8360606060606061, 0.8061279461279461, 0.6656902356902358, 0.786026936026936, 0.7858922558922559, 0.8293939393939395, 0.8092592592592592, 0.6823569023569024, 0.8293939393939395, 0.8293265993265994, 0.8360606060606061, 0.8628619528619529, 0.8493939393939395]}, {\"categories\": [\"0\", \"1\", \"2\", \"3\", \"4\", \"5\", \"6\", \"7\", \"8\", \"9\", \"10\", \"11\", \"12\", \"13\", \"14\", \"15\", \"16\", \"17\", \"18\", \"19\", \"20\", \"21\", \"22\", \"23\", \"24\", \"25\", \"26\", \"27\", \"28\", \"29\", \"30\", \"31\", \"32\", \"33\", \"36\", \"37\"], \"mode\": \"lines\", \"name\": \"recall_score_weighted_max\", \"stepped\": true, \"type\": \"scatter\", \"data\": [0.8025252525252524, 0.8192929292929293, 0.8460942760942761, 0.8460942760942761, 0.8460942760942761, 0.8460942760942761, 0.8460942760942761, 0.8460942760942761, 0.8460942760942761, 0.8460942760942761, 0.8460942760942761, 0.8460942760942761, 0.8561616161616162, 0.8561616161616162, 0.8561616161616162, 0.8561616161616162, 0.8561616161616162, 0.8561616161616162, 0.8561616161616162, 0.8561616161616162, 0.8561616161616162, 0.8561616161616162, 0.8561616161616162, 0.8561616161616162, 0.8561616161616162, 0.8561616161616162, 0.8561616161616162, 0.8561616161616162, 0.8561616161616162, 0.8561616161616162, 0.8561616161616162, 0.8561616161616162, 0.8561616161616162, 0.8561616161616162, 0.8628619528619529, 0.8628619528619529]}], \"recall_score_micro\": [{\"categories\": [\"0\", \"1\", \"2\", \"3\", \"4\", \"5\", \"6\", \"7\", \"8\", \"9\", \"10\", \"11\", \"12\", \"13\", \"14\", \"15\", \"16\", \"17\", \"18\", \"19\", \"20\", \"21\", \"22\", \"23\", \"24\", \"25\", \"26\", \"27\", \"28\", \"29\", \"30\", \"31\", \"32\", \"33\", \"36\", \"37\"], \"mode\": \"markers\", \"name\": \"recall_score_micro\", \"stepped\": false, \"type\": \"scatter\", \"data\": [0.8025252525252524, 0.8192929292929293, 0.8460942760942761, 0.8292929292929294, 0.8293265993265994, 0.7156565656565657, 0.7123569023569023, 0.8260606060606062, 0.8293939393939395, 0.8327272727272729, 0.7392255892255893, 0.8427272727272728, 0.8561616161616162, 0.8193265993265993, 0.8158249158249159, 0.816026936026936, 0.8294949494949496, 0.8028619528619528, 0.8494612794612794, 0.8126599326599327, 0.846026936026936, 0.8326936026936026, 0.8326936026936026, 0.8360606060606061, 0.8061279461279461, 0.6656902356902358, 0.786026936026936, 0.7858922558922559, 0.8293939393939395, 0.8092592592592592, 0.6823569023569024, 0.8293939393939395, 0.8293265993265994, 0.8360606060606061, 0.8628619528619529, 0.8493939393939395]}, {\"categories\": [\"0\", \"1\", \"2\", \"3\", \"4\", \"5\", \"6\", \"7\", \"8\", \"9\", \"10\", \"11\", \"12\", \"13\", \"14\", \"15\", \"16\", \"17\", \"18\", \"19\", \"20\", \"21\", \"22\", \"23\", \"24\", \"25\", \"26\", \"27\", \"28\", \"29\", \"30\", \"31\", \"32\", \"33\", \"36\", \"37\"], \"mode\": \"lines\", \"name\": \"recall_score_micro_max\", \"stepped\": true, \"type\": \"scatter\", \"data\": [0.8025252525252524, 0.8192929292929293, 0.8460942760942761, 0.8460942760942761, 0.8460942760942761, 0.8460942760942761, 0.8460942760942761, 0.8460942760942761, 0.8460942760942761, 0.8460942760942761, 0.8460942760942761, 0.8460942760942761, 0.8561616161616162, 0.8561616161616162, 0.8561616161616162, 0.8561616161616162, 0.8561616161616162, 0.8561616161616162, 0.8561616161616162, 0.8561616161616162, 0.8561616161616162, 0.8561616161616162, 0.8561616161616162, 0.8561616161616162, 0.8561616161616162, 0.8561616161616162, 0.8561616161616162, 0.8561616161616162, 0.8561616161616162, 0.8561616161616162, 0.8561616161616162, 0.8561616161616162, 0.8561616161616162, 0.8561616161616162, 0.8628619528619529, 0.8628619528619529]}], \"f1_score_micro\": [{\"categories\": [\"0\", \"1\", \"2\", \"3\", \"4\", \"5\", \"6\", \"7\", \"8\", \"9\", \"10\", \"11\", \"12\", \"13\", \"14\", \"15\", \"16\", \"17\", \"18\", \"19\", \"20\", \"21\", \"22\", \"23\", \"24\", \"25\", \"26\", \"27\", \"28\", \"29\", \"30\", \"31\", \"32\", \"33\", \"36\", \"37\"], \"mode\": \"markers\", \"name\": \"f1_score_micro\", \"stepped\": false, \"type\": \"scatter\", \"data\": [0.8025252525252525, 0.8192929292929293, 0.8460942760942761, 0.8292929292929294, 0.8293265993265994, 0.7156565656565657, 0.7123569023569023, 0.8260606060606062, 0.8293939393939395, 0.8327272727272729, 0.7392255892255893, 0.8427272727272728, 0.8561616161616162, 0.8193265993265993, 0.8158249158249159, 0.816026936026936, 0.8294949494949494, 0.8028619528619528, 0.8494612794612796, 0.8126599326599327, 0.846026936026936, 0.8326936026936026, 0.8326936026936026, 0.8360606060606061, 0.8061279461279461, 0.6656902356902358, 0.786026936026936, 0.7858922558922559, 0.8293939393939395, 0.8092592592592592, 0.6823569023569024, 0.8293939393939395, 0.8293265993265994, 0.8360606060606061, 0.8628619528619529, 0.8493939393939395]}, {\"categories\": [\"0\", \"1\", \"2\", \"3\", \"4\", \"5\", \"6\", \"7\", \"8\", \"9\", \"10\", \"11\", \"12\", \"13\", \"14\", \"15\", \"16\", \"17\", \"18\", \"19\", \"20\", \"21\", \"22\", \"23\", \"24\", \"25\", \"26\", \"27\", \"28\", \"29\", \"30\", \"31\", \"32\", \"33\", \"36\", \"37\"], \"mode\": \"lines\", \"name\": \"f1_score_micro_max\", \"stepped\": true, \"type\": \"scatter\", \"data\": [0.8025252525252525, 0.8192929292929293, 0.8460942760942761, 0.8460942760942761, 0.8460942760942761, 0.8460942760942761, 0.8460942760942761, 0.8460942760942761, 0.8460942760942761, 0.8460942760942761, 0.8460942760942761, 0.8460942760942761, 0.8561616161616162, 0.8561616161616162, 0.8561616161616162, 0.8561616161616162, 0.8561616161616162, 0.8561616161616162, 0.8561616161616162, 0.8561616161616162, 0.8561616161616162, 0.8561616161616162, 0.8561616161616162, 0.8561616161616162, 0.8561616161616162, 0.8561616161616162, 0.8561616161616162, 0.8561616161616162, 0.8561616161616162, 0.8561616161616162, 0.8561616161616162, 0.8561616161616162, 0.8561616161616162, 0.8561616161616162, 0.8628619528619529, 0.8628619528619529]}], \"precision_score_micro\": [{\"categories\": [\"0\", \"1\", \"2\", \"3\", \"4\", \"5\", \"6\", \"7\", \"8\", \"9\", \"10\", \"11\", \"12\", \"13\", \"14\", \"15\", \"16\", \"17\", \"18\", \"19\", \"20\", \"21\", \"22\", \"23\", \"24\", \"25\", \"26\", \"27\", \"28\", \"29\", \"30\", \"31\", \"32\", \"33\", \"36\", \"37\"], \"mode\": \"markers\", \"name\": \"precision_score_micro\", \"stepped\": false, \"type\": \"scatter\", \"data\": [0.8025252525252524, 0.8192929292929293, 0.8460942760942761, 0.8292929292929294, 0.8293265993265994, 0.7156565656565657, 0.7123569023569023, 0.8260606060606062, 0.8293939393939395, 0.8327272727272729, 0.7392255892255893, 0.8427272727272728, 0.8561616161616162, 0.8193265993265993, 0.8158249158249159, 0.816026936026936, 0.8294949494949496, 0.8028619528619528, 0.8494612794612794, 0.8126599326599327, 0.846026936026936, 0.8326936026936026, 0.8326936026936026, 0.8360606060606061, 0.8061279461279461, 0.6656902356902358, 0.786026936026936, 0.7858922558922559, 0.8293939393939395, 0.8092592592592592, 0.6823569023569024, 0.8293939393939395, 0.8293265993265994, 0.8360606060606061, 0.8628619528619529, 0.8493939393939395]}, {\"categories\": [\"0\", \"1\", \"2\", \"3\", \"4\", \"5\", \"6\", \"7\", \"8\", \"9\", \"10\", \"11\", \"12\", \"13\", \"14\", \"15\", \"16\", \"17\", \"18\", \"19\", \"20\", \"21\", \"22\", \"23\", \"24\", \"25\", \"26\", \"27\", \"28\", \"29\", \"30\", \"31\", \"32\", \"33\", \"36\", \"37\"], \"mode\": \"lines\", \"name\": \"precision_score_micro_max\", \"stepped\": true, \"type\": \"scatter\", \"data\": [0.8025252525252524, 0.8192929292929293, 0.8460942760942761, 0.8460942760942761, 0.8460942760942761, 0.8460942760942761, 0.8460942760942761, 0.8460942760942761, 0.8460942760942761, 0.8460942760942761, 0.8460942760942761, 0.8460942760942761, 0.8561616161616162, 0.8561616161616162, 0.8561616161616162, 0.8561616161616162, 0.8561616161616162, 0.8561616161616162, 0.8561616161616162, 0.8561616161616162, 0.8561616161616162, 0.8561616161616162, 0.8561616161616162, 0.8561616161616162, 0.8561616161616162, 0.8561616161616162, 0.8561616161616162, 0.8561616161616162, 0.8561616161616162, 0.8561616161616162, 0.8561616161616162, 0.8561616161616162, 0.8561616161616162, 0.8561616161616162, 0.8628619528619529, 0.8628619528619529]}], \"norm_macro_recall\": [{\"categories\": [\"0\", \"1\", \"2\", \"3\", \"4\", \"5\", \"6\", \"7\", \"8\", \"9\", \"10\", \"11\", \"12\", \"13\", \"14\", \"15\", \"16\", \"17\", \"18\", \"19\", \"20\", \"21\", \"22\", \"23\", \"24\", \"25\", \"26\", \"27\", \"28\", \"29\", \"30\", \"31\", \"32\", \"33\", \"36\", \"37\"], \"mode\": \"markers\", \"name\": \"norm_macro_recall\", \"stepped\": false, \"type\": \"scatter\", \"data\": [0.5331084779360642, 0.5799208075070145, 0.6405040508488784, 0.5726021588090553, 0.5850515540170713, 0.20388319353836595, 0.1942420252765081, 0.5924589614244787, 0.5710577572646539, 0.6007929111377387, 0.257856871649975, 0.6304082407530682, 0.5988486022968781, 0.5206876827566483, 0.6043792561033942, 0.4698028077338421, 0.5780272883721159, 0.47505880264500955, 0.5829755864238623, 0.5343126377609136, 0.625806594772112, 0.606758975724493, 0.6087151190599466, 0.5903282592937765, 0.5315981005636178, 0.027170027170027183, 0.4476772338841304, 0.5300393990049163, 0.5353565388048146, 0.5481318757180826, 0.011111111111111146, 0.5415597863873726, 0.5632386080661943, 0.6152388842044014, 0.6345355207424174, 0.6348156037811209]}, {\"categories\": [\"0\", \"1\", \"2\", \"3\", \"4\", \"5\", \"6\", \"7\", \"8\", \"9\", \"10\", \"11\", \"12\", \"13\", \"14\", \"15\", \"16\", \"17\", \"18\", \"19\", \"20\", \"21\", \"22\", \"23\", \"24\", \"25\", \"26\", \"27\", \"28\", \"29\", \"30\", \"31\", \"32\", \"33\", \"36\", \"37\"], \"mode\": \"lines\", \"name\": \"norm_macro_recall_max\", \"stepped\": true, \"type\": \"scatter\", \"data\": [0.5331084779360642, 0.5799208075070145, 0.6405040508488784, 0.6405040508488784, 0.6405040508488784, 0.6405040508488784, 0.6405040508488784, 0.6405040508488784, 0.6405040508488784, 0.6405040508488784, 0.6405040508488784, 0.6405040508488784, 0.6405040508488784, 0.6405040508488784, 0.6405040508488784, 0.6405040508488784, 0.6405040508488784, 0.6405040508488784, 0.6405040508488784, 0.6405040508488784, 0.6405040508488784, 0.6405040508488784, 0.6405040508488784, 0.6405040508488784, 0.6405040508488784, 0.6405040508488784, 0.6405040508488784, 0.6405040508488784, 0.6405040508488784, 0.6405040508488784, 0.6405040508488784, 0.6405040508488784, 0.6405040508488784, 0.6405040508488784, 0.6405040508488784, 0.6405040508488784]}], \"AUC_micro\": [{\"categories\": [\"0\", \"1\", \"2\", \"3\", \"4\", \"5\", \"6\", \"7\", \"8\", \"9\", \"10\", \"11\", \"12\", \"13\", \"14\", \"15\", \"16\", \"17\", \"18\", \"19\", \"20\", \"21\", \"22\", \"23\", \"24\", \"25\", \"26\", \"27\", \"28\", \"29\", \"30\", \"31\", \"32\", \"33\", \"36\", \"37\"], \"mode\": \"markers\", \"name\": \"AUC_micro\", \"stepped\": false, \"type\": \"scatter\", \"data\": [0.8769284528789579, 0.8907238819168114, 0.9117968064483216, 0.8921267557732205, 0.8949849641193074, 0.7950916624153997, 0.7852283797571676, 0.9068122028364453, 0.8865985001530455, 0.9114707478828691, 0.8295118729381356, 0.9009670271740978, 0.8920458728701153, 0.894507635275312, 0.9047013774104683, 0.877566180321736, 0.8832096656803726, 0.8690370744481856, 0.8869176172499404, 0.8906490902288882, 0.9122890215284155, 0.9010949426929225, 0.9007599190558787, 0.8900182940516274, 0.8763817467605346, 0.6530902356902356, 0.8704284494779445, 0.873504931469578, 0.8946528109376594, 0.9000932523892119, 0.821606965275652, 0.8903150800938681, 0.9045744685916404, 0.8975763323470395, 0.90408851137639, 0.9146140631908309]}, {\"categories\": [\"0\", \"1\", \"2\", \"3\", \"4\", \"5\", \"6\", \"7\", \"8\", \"9\", \"10\", \"11\", \"12\", \"13\", \"14\", \"15\", \"16\", \"17\", \"18\", \"19\", \"20\", \"21\", \"22\", \"23\", \"24\", \"25\", \"26\", \"27\", \"28\", \"29\", \"30\", \"31\", \"32\", \"33\", \"36\", \"37\"], \"mode\": \"lines\", \"name\": \"AUC_micro_max\", \"stepped\": true, \"type\": \"scatter\", \"data\": [0.8769284528789579, 0.8907238819168114, 0.9117968064483216, 0.9117968064483216, 0.9117968064483216, 0.9117968064483216, 0.9117968064483216, 0.9117968064483216, 0.9117968064483216, 0.9117968064483216, 0.9117968064483216, 0.9117968064483216, 0.9117968064483216, 0.9117968064483216, 0.9117968064483216, 0.9117968064483216, 0.9117968064483216, 0.9117968064483216, 0.9117968064483216, 0.9117968064483216, 0.9122890215284155, 0.9122890215284155, 0.9122890215284155, 0.9122890215284155, 0.9122890215284155, 0.9122890215284155, 0.9122890215284155, 0.9122890215284155, 0.9122890215284155, 0.9122890215284155, 0.9122890215284155, 0.9122890215284155, 0.9122890215284155, 0.9122890215284155, 0.9122890215284155, 0.9146140631908309]}], \"accuracy\": [{\"categories\": [\"0\", \"1\", \"2\", \"3\", \"4\", \"5\", \"6\", \"7\", \"8\", \"9\", \"10\", \"11\", \"12\", \"13\", \"14\", \"15\", \"16\", \"17\", \"18\", \"19\", \"20\", \"21\", \"22\", \"23\", \"24\", \"25\", \"26\", \"27\", \"28\", \"29\", \"30\", \"31\", \"32\", \"33\", \"36\", \"37\"], \"mode\": \"markers\", \"name\": \"accuracy\", \"stepped\": false, \"type\": \"scatter\", \"data\": [0.8025252525252524, 0.8192929292929293, 0.8460942760942761, 0.8292929292929294, 0.8293265993265994, 0.7156565656565657, 0.7123569023569023, 0.8260606060606062, 0.8293939393939395, 0.8327272727272729, 0.7392255892255893, 0.8427272727272728, 0.8561616161616162, 0.8193265993265993, 0.8158249158249159, 0.816026936026936, 0.8294949494949496, 0.8028619528619528, 0.8494612794612794, 0.8126599326599327, 0.846026936026936, 0.8326936026936026, 0.8326936026936026, 0.8360606060606061, 0.8061279461279461, 0.6656902356902358, 0.786026936026936, 0.7858922558922559, 0.8293939393939395, 0.8092592592592592, 0.6823569023569024, 0.8293939393939395, 0.8293265993265994, 0.8360606060606061, 0.8628619528619529, 0.8493939393939395]}, {\"categories\": [\"0\", \"1\", \"2\", \"3\", \"4\", \"5\", \"6\", \"7\", \"8\", \"9\", \"10\", \"11\", \"12\", \"13\", \"14\", \"15\", \"16\", \"17\", \"18\", \"19\", \"20\", \"21\", \"22\", \"23\", \"24\", \"25\", \"26\", \"27\", \"28\", \"29\", \"30\", \"31\", \"32\", \"33\", \"36\", \"37\"], \"mode\": \"lines\", \"name\": \"accuracy_max\", \"stepped\": true, \"type\": \"scatter\", \"data\": [0.8025252525252524, 0.8192929292929293, 0.8460942760942761, 0.8460942760942761, 0.8460942760942761, 0.8460942760942761, 0.8460942760942761, 0.8460942760942761, 0.8460942760942761, 0.8460942760942761, 0.8460942760942761, 0.8460942760942761, 0.8561616161616162, 0.8561616161616162, 0.8561616161616162, 0.8561616161616162, 0.8561616161616162, 0.8561616161616162, 0.8561616161616162, 0.8561616161616162, 0.8561616161616162, 0.8561616161616162, 0.8561616161616162, 0.8561616161616162, 0.8561616161616162, 0.8561616161616162, 0.8561616161616162, 0.8561616161616162, 0.8561616161616162, 0.8561616161616162, 0.8561616161616162, 0.8561616161616162, 0.8561616161616162, 0.8561616161616162, 0.8628619528619529, 0.8628619528619529]}], \"precision_score_macro\": [{\"categories\": [\"0\", \"1\", \"2\", \"3\", \"4\", \"5\", \"6\", \"7\", \"8\", \"9\", \"10\", \"11\", \"12\", \"13\", \"14\", \"15\", \"16\", \"17\", \"18\", \"19\", \"20\", \"21\", \"22\", \"23\", \"24\", \"25\", \"26\", \"27\", \"28\", \"29\", \"30\", \"31\", \"32\", \"33\", \"36\", \"37\"], \"mode\": \"markers\", \"name\": \"precision_score_macro\", \"stepped\": false, \"type\": \"scatter\", \"data\": [0.7842311567478019, 0.7983113869170717, 0.8295135437968382, 0.8300990388045796, 0.8199831587760911, 0.6825033992376791, 0.6716003592571331, 0.8087283851210523, 0.816445047804697, 0.8199319406327791, 0.7315024943264511, 0.8342374537227478, 0.8695018185524516, 0.814597338650144, 0.8016912513156079, 0.8311398439124255, 0.8152146795625056, 0.7963963963963964, 0.859876354306734, 0.7970721096632222, 0.8374555662580997, 0.8181735478951989, 0.8184867334248139, 0.8304433698171838, 0.7821522919775163, 0.41625781625781627, 0.7733400256339714, 0.7566008319472765, 0.8329740981596266, 0.7989936125965538, 0.5073569023569023, 0.8308507108507109, 0.8250330687830688, 0.818490671283603, 0.8686059181030528, 0.8385697877201923]}, {\"categories\": [\"0\", \"1\", \"2\", \"3\", \"4\", \"5\", \"6\", \"7\", \"8\", \"9\", \"10\", \"11\", \"12\", \"13\", \"14\", \"15\", \"16\", \"17\", \"18\", \"19\", \"20\", \"21\", \"22\", \"23\", \"24\", \"25\", \"26\", \"27\", \"28\", \"29\", \"30\", \"31\", \"32\", \"33\", \"36\", \"37\"], \"mode\": \"lines\", \"name\": \"precision_score_macro_max\", \"stepped\": true, \"type\": \"scatter\", \"data\": [0.7842311567478019, 0.7983113869170717, 0.8295135437968382, 0.8300990388045796, 0.8300990388045796, 0.8300990388045796, 0.8300990388045796, 0.8300990388045796, 0.8300990388045796, 0.8300990388045796, 0.8300990388045796, 0.8342374537227478, 0.8695018185524516, 0.8695018185524516, 0.8695018185524516, 0.8695018185524516, 0.8695018185524516, 0.8695018185524516, 0.8695018185524516, 0.8695018185524516, 0.8695018185524516, 0.8695018185524516, 0.8695018185524516, 0.8695018185524516, 0.8695018185524516, 0.8695018185524516, 0.8695018185524516, 0.8695018185524516, 0.8695018185524516, 0.8695018185524516, 0.8695018185524516, 0.8695018185524516, 0.8695018185524516, 0.8695018185524516, 0.8695018185524516, 0.8695018185524516]}], \"log_loss\": [{\"categories\": [\"0\", \"1\", \"2\", \"3\", \"4\", \"5\", \"6\", \"7\", \"8\", \"9\", \"10\", \"11\", \"12\", \"13\", \"14\", \"15\", \"16\", \"17\", \"18\", \"19\", \"20\", \"21\", \"22\", \"23\", \"24\", \"25\", \"26\", \"27\", \"28\", \"29\", \"30\", \"31\", \"32\", \"33\", \"36\", \"37\"], \"mode\": \"markers\", \"name\": \"log_loss\", \"stepped\": false, \"type\": \"scatter\", \"data\": [0.5791360620615199, 0.4649911805096085, 0.38780943080349445, 0.4301059877836268, 0.4121985837709768, 0.5637645388298663, 0.5726763387372701, 0.38840221892441473, 0.4296126864633482, 0.37971412522936543, 0.5193478625089396, 0.4115243328364548, 0.4276082038596247, 0.44189747723224265, 0.38681556624722396, 0.4837681890675325, 0.43561950973713665, 0.47393622008171565, 0.44990218666669507, 0.4151421767875691, 0.40221352016847484, 0.4000640503505078, 0.40300686640355204, 0.4225620065578417, 0.4874365649178419, 0.692819114208049, 0.45638348656212385, 0.4445887206408916, 0.4435998204177965, 0.4097091377533995, 0.5569339416061535, 0.4568314421338542, 0.43100240873301954, 0.4066395703666003, 0.4251968139476295, 0.39052783617039893]}, {\"categories\": [\"0\", \"1\", \"2\", \"3\", \"4\", \"5\", \"6\", \"7\", \"8\", \"9\", \"10\", \"11\", \"12\", \"13\", \"14\", \"15\", \"16\", \"17\", \"18\", \"19\", \"20\", \"21\", \"22\", \"23\", \"24\", \"25\", \"26\", \"27\", \"28\", \"29\", \"30\", \"31\", \"32\", \"33\", \"36\", \"37\"], \"mode\": \"lines\", \"name\": \"log_loss_min\", \"stepped\": true, \"type\": \"scatter\", \"data\": [0.5791360620615199, 0.4649911805096085, 0.38780943080349445, 0.38780943080349445, 0.38780943080349445, 0.38780943080349445, 0.38780943080349445, 0.38780943080349445, 0.38780943080349445, 0.37971412522936543, 0.37971412522936543, 0.37971412522936543, 0.37971412522936543, 0.37971412522936543, 0.37971412522936543, 0.37971412522936543, 0.37971412522936543, 0.37971412522936543, 0.37971412522936543, 0.37971412522936543, 0.37971412522936543, 0.37971412522936543, 0.37971412522936543, 0.37971412522936543, 0.37971412522936543, 0.37971412522936543, 0.37971412522936543, 0.37971412522936543, 0.37971412522936543, 0.37971412522936543, 0.37971412522936543, 0.37971412522936543, 0.37971412522936543, 0.37971412522936543, 0.37971412522936543, 0.37971412522936543]}], \"average_precision_score_weighted\": [{\"categories\": [\"0\", \"1\", \"2\", \"3\", \"4\", \"5\", \"6\", \"7\", \"8\", \"9\", \"10\", \"11\", \"12\", \"13\", \"14\", \"15\", \"16\", \"17\", \"18\", \"19\", \"20\", \"21\", \"22\", \"23\", \"24\", \"25\", \"26\", \"27\", \"28\", \"29\", \"30\", \"31\", \"32\", \"33\", \"36\", \"37\"], \"mode\": \"markers\", \"name\": \"average_precision_score_weighted\", \"stepped\": false, \"type\": \"scatter\", \"data\": [0.8648843990393956, 0.8836277505100775, 0.908118377786932, 0.8830847193950128, 0.8926614795076114, 0.7694793249884139, 0.7539155540585298, 0.9013380471233011, 0.8814167072739009, 0.9123399905658748, 0.8274367819265359, 0.899788442132975, 0.889294657194052, 0.8891830710189256, 0.9018166738761929, 0.8799745702179605, 0.8782835773445861, 0.8654601088188715, 0.8813544120358648, 0.8818451432865957, 0.9131705863438463, 0.8915432404770519, 0.8966335345223074, 0.8810686046608992, 0.8573967474034698, 0.5781875138071934, 0.8586019351230716, 0.8725575037814547, 0.8934687593119897, 0.8990830634847987, 0.8420569460316321, 0.8843661564218164, 0.9034601053828305, 0.8867019979340919, 0.9043526233213651, 0.9195030378634733]}, {\"categories\": [\"0\", \"1\", \"2\", \"3\", \"4\", \"5\", \"6\", \"7\", \"8\", \"9\", \"10\", \"11\", \"12\", \"13\", \"14\", \"15\", \"16\", \"17\", \"18\", \"19\", \"20\", \"21\", \"22\", \"23\", \"24\", \"25\", \"26\", \"27\", \"28\", \"29\", \"30\", \"31\", \"32\", \"33\", \"36\", \"37\"], \"mode\": \"lines\", \"name\": \"average_precision_score_weighted_max\", \"stepped\": true, \"type\": \"scatter\", \"data\": [0.8648843990393956, 0.8836277505100775, 0.908118377786932, 0.908118377786932, 0.908118377786932, 0.908118377786932, 0.908118377786932, 0.908118377786932, 0.908118377786932, 0.9123399905658748, 0.9123399905658748, 0.9123399905658748, 0.9123399905658748, 0.9123399905658748, 0.9123399905658748, 0.9123399905658748, 0.9123399905658748, 0.9123399905658748, 0.9123399905658748, 0.9123399905658748, 0.9131705863438463, 0.9131705863438463, 0.9131705863438463, 0.9131705863438463, 0.9131705863438463, 0.9131705863438463, 0.9131705863438463, 0.9131705863438463, 0.9131705863438463, 0.9131705863438463, 0.9131705863438463, 0.9131705863438463, 0.9131705863438463, 0.9131705863438463, 0.9131705863438463, 0.9195030378634733]}], \"f1_score_macro\": [{\"categories\": [\"0\", \"1\", \"2\", \"3\", \"4\", \"5\", \"6\", \"7\", \"8\", \"9\", \"10\", \"11\", \"12\", \"13\", \"14\", \"15\", \"16\", \"17\", \"18\", \"19\", \"20\", \"21\", \"22\", \"23\", \"24\", \"25\", \"26\", \"27\", \"28\", \"29\", \"30\", \"31\", \"32\", \"33\", \"36\", \"37\"], \"mode\": \"markers\", \"name\": \"f1_score_macro\", \"stepped\": false, \"type\": \"scatter\", \"data\": [0.7670520318568558, 0.7892216866138503, 0.8206927305820915, 0.7916617886298409, 0.7973774203425656, 0.6010884575400705, 0.5961050263607507, 0.7954973447200965, 0.794177639906812, 0.8027701427081929, 0.6219333572637767, 0.8144641193545085, 0.8181868425064467, 0.774250572527183, 0.7928215133717499, 0.7572110333858785, 0.7960613035074907, 0.7508804532050147, 0.8100856510181424, 0.7734239532392876, 0.8179005564678702, 0.8035279154371815, 0.8040392146340175, 0.8027801617954724, 0.771069100288701, 0.45528680057156984, 0.7308690962826935, 0.7577190979984137, 0.7851945721610435, 0.7734777763300467, 0.4157211662882323, 0.7874913302022929, 0.7906502574391944, 0.8081311459302061, 0.8301527842188938, 0.8220726156703414]}, {\"categories\": [\"0\", \"1\", \"2\", \"3\", \"4\", \"5\", \"6\", \"7\", \"8\", \"9\", \"10\", \"11\", \"12\", \"13\", \"14\", \"15\", \"16\", \"17\", \"18\", \"19\", \"20\", \"21\", \"22\", \"23\", \"24\", \"25\", \"26\", \"27\", \"28\", \"29\", \"30\", \"31\", \"32\", \"33\", \"36\", \"37\"], \"mode\": \"lines\", \"name\": \"f1_score_macro_max\", \"stepped\": true, \"type\": \"scatter\", \"data\": [0.7670520318568558, 0.7892216866138503, 0.8206927305820915, 0.8206927305820915, 0.8206927305820915, 0.8206927305820915, 0.8206927305820915, 0.8206927305820915, 0.8206927305820915, 0.8206927305820915, 0.8206927305820915, 0.8206927305820915, 0.8206927305820915, 0.8206927305820915, 0.8206927305820915, 0.8206927305820915, 0.8206927305820915, 0.8206927305820915, 0.8206927305820915, 0.8206927305820915, 0.8206927305820915, 0.8206927305820915, 0.8206927305820915, 0.8206927305820915, 0.8206927305820915, 0.8206927305820915, 0.8206927305820915, 0.8206927305820915, 0.8206927305820915, 0.8206927305820915, 0.8206927305820915, 0.8206927305820915, 0.8206927305820915, 0.8206927305820915, 0.8301527842188938, 0.8301527842188938]}], \"f1_score_weighted\": [{\"categories\": [\"0\", \"1\", \"2\", \"3\", \"4\", \"5\", \"6\", \"7\", \"8\", \"9\", \"10\", \"11\", \"12\", \"13\", \"14\", \"15\", \"16\", \"17\", \"18\", \"19\", \"20\", \"21\", \"22\", \"23\", \"24\", \"25\", \"26\", \"27\", \"28\", \"29\", \"30\", \"31\", \"32\", \"33\", \"36\", \"37\"], \"mode\": \"markers\", \"name\": \"f1_score_weighted\", \"stepped\": false, \"type\": \"scatter\", \"data\": [0.7994850745596541, 0.8173118768300475, 0.8445621232055855, 0.8219852432718183, 0.8254838231149026, 0.6783215142628632, 0.6752556320423456, 0.823003191097012, 0.8241448914253456, 0.8297904708230681, 0.6932276022213463, 0.8394050767267198, 0.8470271732186894, 0.8103672431826644, 0.8170966004742043, 0.8005382385748847, 0.8248143986390258, 0.7895459548753897, 0.840321587868941, 0.8071304319842058, 0.8428406292783667, 0.8301345788506046, 0.8298618948749773, 0.8307291186615493, 0.8021058629479683, 0.5805270662497507, 0.7724084350669554, 0.7868134354645395, 0.8198733429672599, 0.8046961874914232, 0.5573231359408649, 0.8208202784990859, 0.8219805957604072, 0.8340003174826732, 0.8555565086016769, 0.8466192557816811]}, {\"categories\": [\"0\", \"1\", \"2\", \"3\", \"4\", \"5\", \"6\", \"7\", \"8\", \"9\", \"10\", \"11\", \"12\", \"13\", \"14\", \"15\", \"16\", \"17\", \"18\", \"19\", \"20\", \"21\", \"22\", \"23\", \"24\", \"25\", \"26\", \"27\", \"28\", \"29\", \"30\", \"31\", \"32\", \"33\", \"36\", \"37\"], \"mode\": \"lines\", \"name\": \"f1_score_weighted_max\", \"stepped\": true, \"type\": \"scatter\", \"data\": [0.7994850745596541, 0.8173118768300475, 0.8445621232055855, 0.8445621232055855, 0.8445621232055855, 0.8445621232055855, 0.8445621232055855, 0.8445621232055855, 0.8445621232055855, 0.8445621232055855, 0.8445621232055855, 0.8445621232055855, 0.8470271732186894, 0.8470271732186894, 0.8470271732186894, 0.8470271732186894, 0.8470271732186894, 0.8470271732186894, 0.8470271732186894, 0.8470271732186894, 0.8470271732186894, 0.8470271732186894, 0.8470271732186894, 0.8470271732186894, 0.8470271732186894, 0.8470271732186894, 0.8470271732186894, 0.8470271732186894, 0.8470271732186894, 0.8470271732186894, 0.8470271732186894, 0.8470271732186894, 0.8470271732186894, 0.8470271732186894, 0.8555565086016769, 0.8555565086016769]}], \"precision_score_weighted\": [{\"categories\": [\"0\", \"1\", \"2\", \"3\", \"4\", \"5\", \"6\", \"7\", \"8\", \"9\", \"10\", \"11\", \"12\", \"13\", \"14\", \"15\", \"16\", \"17\", \"18\", \"19\", \"20\", \"21\", \"22\", \"23\", \"24\", \"25\", \"26\", \"27\", \"28\", \"29\", \"30\", \"31\", \"32\", \"33\", \"36\", \"37\"], \"mode\": \"markers\", \"name\": \"precision_score_weighted\", \"stepped\": false, \"type\": \"scatter\", \"data\": [0.8103076903348296, 0.8235687391092353, 0.8500535501928949, 0.8417431333138209, 0.8362850686979408, 0.7043260398229974, 0.6953551982235121, 0.8315893642124728, 0.8302623890440656, 0.8391333085552098, 0.7368330794862435, 0.8529980093683301, 0.8633471272711778, 0.8227638198266476, 0.8334411837149709, 0.8230030611502112, 0.8301754227319446, 0.8015146851396852, 0.8557693676849795, 0.8159389698056577, 0.8517478850903831, 0.8396340117632745, 0.839293131762172, 0.8418837096541081, 0.8029957434751954, 0.5214274393769344, 0.7875736445632023, 0.7927376090929759, 0.834372998255048, 0.821598391070539, 0.5639328265823215, 0.8333397383397383, 0.835505578269467, 0.8402001742573374, 0.8689222180929429, 0.853748935213457]}, {\"categories\": [\"0\", \"1\", \"2\", \"3\", \"4\", \"5\", \"6\", \"7\", \"8\", \"9\", \"10\", \"11\", \"12\", \"13\", \"14\", \"15\", \"16\", \"17\", \"18\", \"19\", \"20\", \"21\", \"22\", \"23\", \"24\", \"25\", \"26\", \"27\", \"28\", \"29\", \"30\", \"31\", \"32\", \"33\", \"36\", \"37\"], \"mode\": \"lines\", \"name\": \"precision_score_weighted_max\", \"stepped\": true, \"type\": \"scatter\", \"data\": [0.8103076903348296, 0.8235687391092353, 0.8500535501928949, 0.8500535501928949, 0.8500535501928949, 0.8500535501928949, 0.8500535501928949, 0.8500535501928949, 0.8500535501928949, 0.8500535501928949, 0.8500535501928949, 0.8529980093683301, 0.8633471272711778, 0.8633471272711778, 0.8633471272711778, 0.8633471272711778, 0.8633471272711778, 0.8633471272711778, 0.8633471272711778, 0.8633471272711778, 0.8633471272711778, 0.8633471272711778, 0.8633471272711778, 0.8633471272711778, 0.8633471272711778, 0.8633471272711778, 0.8633471272711778, 0.8633471272711778, 0.8633471272711778, 0.8633471272711778, 0.8633471272711778, 0.8633471272711778, 0.8633471272711778, 0.8633471272711778, 0.8689222180929429, 0.8689222180929429]}], \"AUC_weighted\": [{\"categories\": [\"0\", \"1\", \"2\", \"3\", \"4\", \"5\", \"6\", \"7\", \"8\", \"9\", \"10\", \"11\", \"12\", \"13\", \"14\", \"15\", \"16\", \"17\", \"18\", \"19\", \"20\", \"21\", \"22\", \"23\", \"24\", \"25\", \"26\", \"27\", \"28\", \"29\", \"30\", \"31\", \"32\", \"33\", \"36\", \"37\"], \"mode\": \"markers\", \"name\": \"AUC_weighted\", \"stepped\": false, \"type\": \"scatter\", \"data\": [0.8550287233045855, 0.875938401455643, 0.9027204051341983, 0.8797639018328672, 0.8854308002583865, 0.7414457314457316, 0.7208138680552474, 0.8958757772550876, 0.8723482595896389, 0.9042804873839357, 0.8143166565580359, 0.8921405642095296, 0.8760876147083044, 0.8835903884179745, 0.9028012741805846, 0.8722483074207211, 0.8634117861704068, 0.8495134543410406, 0.8655428827842622, 0.8713923282888801, 0.9066824459927908, 0.8861242523311489, 0.887719246339936, 0.875604274224964, 0.8530814065296825, 0.5201630201630202, 0.8530941286113699, 0.8595541354162045, 0.8810950852330164, 0.8910802921147748, 0.8303814158986573, 0.8794781480988378, 0.8970120859776033, 0.884242690966829, 0.8950673333431954, 0.9131747511057856]}, {\"categories\": [\"0\", \"1\", \"2\", \"3\", \"4\", \"5\", \"6\", \"7\", \"8\", \"9\", \"10\", \"11\", \"12\", \"13\", \"14\", \"15\", \"16\", \"17\", \"18\", \"19\", \"20\", \"21\", \"22\", \"23\", \"24\", \"25\", \"26\", \"27\", \"28\", \"29\", \"30\", \"31\", \"32\", \"33\", \"36\", \"37\"], \"mode\": \"lines\", \"name\": \"AUC_weighted_max\", \"stepped\": true, \"type\": \"scatter\", \"data\": [0.8550287233045855, 0.875938401455643, 0.9027204051341983, 0.9027204051341983, 0.9027204051341983, 0.9027204051341983, 0.9027204051341983, 0.9027204051341983, 0.9027204051341983, 0.9042804873839357, 0.9042804873839357, 0.9042804873839357, 0.9042804873839357, 0.9042804873839357, 0.9042804873839357, 0.9042804873839357, 0.9042804873839357, 0.9042804873839357, 0.9042804873839357, 0.9042804873839357, 0.9066824459927908, 0.9066824459927908, 0.9066824459927908, 0.9066824459927908, 0.9066824459927908, 0.9066824459927908, 0.9066824459927908, 0.9066824459927908, 0.9066824459927908, 0.9066824459927908, 0.9066824459927908, 0.9066824459927908, 0.9066824459927908, 0.9066824459927908, 0.9066824459927908, 0.9131747511057856]}], \"recall_score_macro\": [{\"categories\": [\"0\", \"1\", \"2\", \"3\", \"4\", \"5\", \"6\", \"7\", \"8\", \"9\", \"10\", \"11\", \"12\", \"13\", \"14\", \"15\", \"16\", \"17\", \"18\", \"19\", \"20\", \"21\", \"22\", \"23\", \"24\", \"25\", \"26\", \"27\", \"28\", \"29\", \"30\", \"31\", \"32\", \"33\", \"36\", \"37\"], \"mode\": \"markers\", \"name\": \"recall_score_macro\", \"stepped\": false, \"type\": \"scatter\", \"data\": [0.7665542389680322, 0.7899604037535072, 0.8202520254244391, 0.7863010794045276, 0.7925257770085357, 0.601941596769183, 0.597121012638254, 0.7962294807122393, 0.785528878632327, 0.8003964555688693, 0.6289284358249875, 0.8152041203765341, 0.7994243011484391, 0.7603438413783241, 0.8021896280516971, 0.734901403866921, 0.789013644186058, 0.7375294013225048, 0.7914877932119312, 0.7671563188804568, 0.812903297386056, 0.8033794878622466, 0.8043575595299733, 0.7951641296468882, 0.7657990502818088, 0.5135850135850136, 0.7238386169420652, 0.7650196995024582, 0.7676782694024075, 0.7740659378590413, 0.5055555555555555, 0.7707798931936862, 0.7816193040330971, 0.8076194421022006, 0.8172677603712087, 0.8174078018905604]}, {\"categories\": [\"0\", \"1\", \"2\", \"3\", \"4\", \"5\", \"6\", \"7\", \"8\", \"9\", \"10\", \"11\", \"12\", \"13\", \"14\", \"15\", \"16\", \"17\", \"18\", \"19\", \"20\", \"21\", \"22\", \"23\", \"24\", \"25\", \"26\", \"27\", \"28\", \"29\", \"30\", \"31\", \"32\", \"33\", \"36\", \"37\"], \"mode\": \"lines\", \"name\": \"recall_score_macro_max\", \"stepped\": true, \"type\": \"scatter\", \"data\": [0.7665542389680322, 0.7899604037535072, 0.8202520254244391, 0.8202520254244391, 0.8202520254244391, 0.8202520254244391, 0.8202520254244391, 0.8202520254244391, 0.8202520254244391, 0.8202520254244391, 0.8202520254244391, 0.8202520254244391, 0.8202520254244391, 0.8202520254244391, 0.8202520254244391, 0.8202520254244391, 0.8202520254244391, 0.8202520254244391, 0.8202520254244391, 0.8202520254244391, 0.8202520254244391, 0.8202520254244391, 0.8202520254244391, 0.8202520254244391, 0.8202520254244391, 0.8202520254244391, 0.8202520254244391, 0.8202520254244391, 0.8202520254244391, 0.8202520254244391, 0.8202520254244391, 0.8202520254244391, 0.8202520254244391, 0.8202520254244391, 0.8202520254244391, 0.8202520254244391]}]}, \"metricName\": null, \"primaryMetricName\": \"accuracy\", \"showLegend\": false}, \"run_metrics\": [{\"name\": \"experiment_status\", \"run_id\": \"AutoML_4590a270-2e2d-42e3-a085-9dda2e98641e\", \"categories\": [0, 1, 2, 3, 4, 5, 6, 7, 8, 9, 10, 11, 12, 13], \"series\": [{\"data\": [\"DatasetEvaluation\", \"FeaturesGeneration\", \"DatasetFeaturization\", \"DatasetFeaturizationCompleted\", \"DatasetCrossValidationSplit\", \"ModelSelection\", \"BestRunExplainModel\", \"ModelExplanationDataSetSetup\", \"PickSurrogateModel\", \"EngineeredFeatureExplanations\", \"EngineeredFeatureExplanations\", \"RawFeaturesExplanations\", \"RawFeaturesExplanations\", \"BestRunExplainModel\"]}]}, {\"name\": \"experiment_status_description\", \"run_id\": \"AutoML_4590a270-2e2d-42e3-a085-9dda2e98641e\", \"categories\": [0, 1, 2, 3, 4, 5, 6, 7, 8, 9, 10, 11, 12, 13], \"series\": [{\"data\": [\"Gathering dataset statistics.\", \"Generating features for the dataset.\", \"Beginning to fit featurizers and featurize the dataset.\", \"Completed fit featurizers and featurizing the dataset.\", \"Generating individually featurized CV splits.\", \"Beginning model selection.\", \"Best run model explanations started\", \"Model explanations data setup completed\", \"Choosing LightGBM as the surrogate model for explanations\", \"Computation of engineered features started\", \"Computation of engineered features completed\", \"Computation of raw features started\", \"Computation of raw features completed\", \"Best run model explanations completed\"]}]}, {\"name\": \"recall_score_macro\", \"run_id\": \"AutoML_4590a270-2e2d-42e3-a085-9dda2e98641e\", \"categories\": [0], \"series\": [{\"data\": [0.8172677603712087]}]}, {\"name\": \"f1_score_weighted\", \"run_id\": \"AutoML_4590a270-2e2d-42e3-a085-9dda2e98641e\", \"categories\": [0], \"series\": [{\"data\": [0.8555565086016769]}]}, {\"name\": \"matthews_correlation\", \"run_id\": \"AutoML_4590a270-2e2d-42e3-a085-9dda2e98641e\", \"categories\": [0], \"series\": [{\"data\": [0.682500647439988]}]}, {\"name\": \"log_loss\", \"run_id\": \"AutoML_4590a270-2e2d-42e3-a085-9dda2e98641e\", \"categories\": [0], \"series\": [{\"data\": [0.4251968139476295]}]}, {\"name\": \"average_precision_score_macro\", \"run_id\": \"AutoML_4590a270-2e2d-42e3-a085-9dda2e98641e\", \"categories\": [0], \"series\": [{\"data\": [0.8804461225205501]}]}, {\"name\": \"f1_score_micro\", \"run_id\": \"AutoML_4590a270-2e2d-42e3-a085-9dda2e98641e\", \"categories\": [0], \"series\": [{\"data\": [0.8628619528619529]}]}, {\"name\": \"AUC_micro\", \"run_id\": \"AutoML_4590a270-2e2d-42e3-a085-9dda2e98641e\", \"categories\": [0], \"series\": [{\"data\": [0.90408851137639]}]}, {\"name\": \"norm_macro_recall\", \"run_id\": \"AutoML_4590a270-2e2d-42e3-a085-9dda2e98641e\", \"categories\": [0], \"series\": [{\"data\": [0.6345355207424174]}]}, {\"name\": \"AUC_weighted\", \"run_id\": \"AutoML_4590a270-2e2d-42e3-a085-9dda2e98641e\", \"categories\": [0], \"series\": [{\"data\": [0.8950673333431954]}]}, {\"name\": \"f1_score_macro\", \"run_id\": \"AutoML_4590a270-2e2d-42e3-a085-9dda2e98641e\", \"categories\": [0], \"series\": [{\"data\": [0.8301527842188938]}]}, {\"name\": \"average_precision_score_micro\", \"run_id\": \"AutoML_4590a270-2e2d-42e3-a085-9dda2e98641e\", \"categories\": [0], \"series\": [{\"data\": [0.9055620787068549]}]}, {\"name\": \"weighted_accuracy\", \"run_id\": \"AutoML_4590a270-2e2d-42e3-a085-9dda2e98641e\", \"categories\": [0], \"series\": [{\"data\": [0.8984824778252959]}]}, {\"name\": \"AUC_macro\", \"run_id\": \"AutoML_4590a270-2e2d-42e3-a085-9dda2e98641e\", \"categories\": [0], \"series\": [{\"data\": [0.8950673333431954]}]}, {\"name\": \"average_precision_score_weighted\", \"run_id\": \"AutoML_4590a270-2e2d-42e3-a085-9dda2e98641e\", \"categories\": [0], \"series\": [{\"data\": [0.9043526233213651]}]}, {\"name\": \"precision_score_micro\", \"run_id\": \"AutoML_4590a270-2e2d-42e3-a085-9dda2e98641e\", \"categories\": [0], \"series\": [{\"data\": [0.8628619528619529]}]}, {\"name\": \"accuracy\", \"run_id\": \"AutoML_4590a270-2e2d-42e3-a085-9dda2e98641e\", \"categories\": [0], \"series\": [{\"data\": [0.8628619528619529]}]}, {\"name\": \"balanced_accuracy\", \"run_id\": \"AutoML_4590a270-2e2d-42e3-a085-9dda2e98641e\", \"categories\": [0], \"series\": [{\"data\": [0.8172677603712087]}]}, {\"name\": \"precision_score_weighted\", \"run_id\": \"AutoML_4590a270-2e2d-42e3-a085-9dda2e98641e\", \"categories\": [0], \"series\": [{\"data\": [0.8689222180929429]}]}, {\"name\": \"precision_score_macro\", \"run_id\": \"AutoML_4590a270-2e2d-42e3-a085-9dda2e98641e\", \"categories\": [0], \"series\": [{\"data\": [0.8686059181030528]}]}, {\"name\": \"recall_score_weighted\", \"run_id\": \"AutoML_4590a270-2e2d-42e3-a085-9dda2e98641e\", \"categories\": [0], \"series\": [{\"data\": [0.8628619528619529]}]}, {\"name\": \"recall_score_micro\", \"run_id\": \"AutoML_4590a270-2e2d-42e3-a085-9dda2e98641e\", \"categories\": [0], \"series\": [{\"data\": [0.8628619528619529]}]}], \"run_logs\": \"\\nRun is completed.\", \"graph\": {}, \"widget_settings\": {\"childWidgetDisplay\": \"popup\", \"send_telemetry\": false, \"log_level\": \"INFO\", \"sdk_version\": \"1.26.0\"}, \"loading\": false}"
     },
     "metadata": {},
     "output_type": "display_data"
    },
    {
     "data": {
      "text/html": [
       "<table style=\"width:100%\"><tr><th>Experiment</th><th>Id</th><th>Type</th><th>Status</th><th>Details Page</th><th>Docs Page</th></tr><tr><td>heart-failure-experiment</td><td>AutoML_4590a270-2e2d-42e3-a085-9dda2e98641e</td><td>automl</td><td>Completed</td><td><a href=\"https://ml.azure.com/runs/AutoML_4590a270-2e2d-42e3-a085-9dda2e98641e?wsid=/subscriptions/f5091c60-1c3c-430f-8d81-d802f6bf2414/resourcegroups/aml-quickstarts-143247/workspaces/quick-starts-ws-143247&amp;tid=660b3398-b80e-49d2-bc5b-ac1dc93b5254\" target=\"_blank\" rel=\"noopener\">Link to Azure Machine Learning studio</a></td><td><a href=\"https://docs.microsoft.com/en-us/python/api/overview/azure/ml/intro?view=azure-ml-py\" target=\"_blank\" rel=\"noopener\">Link to Documentation</a></td></tr></table>"
      ],
      "text/plain": [
       "<IPython.core.display.HTML object>"
      ]
     },
     "metadata": {},
     "output_type": "display_data"
    },
    {
     "name": "stdout",
     "output_type": "stream",
     "text": [
      "\n",
      "\n",
      "****************************************************************************************************\n",
      "DATA GUARDRAILS: \n",
      "\n",
      "TYPE:         Class balancing detection\n",
      "STATUS:       PASSED\n",
      "DESCRIPTION:  Your inputs were analyzed, and all classes are balanced in your training data.\n",
      "              Learn more about imbalanced data: https://aka.ms/AutomatedMLImbalancedData\n",
      "\n",
      "****************************************************************************************************\n",
      "\n",
      "TYPE:         Missing feature values imputation\n",
      "STATUS:       PASSED\n",
      "DESCRIPTION:  No feature missing values were detected in the training data.\n",
      "              Learn more about missing value imputation: https://aka.ms/AutomatedMLFeaturization\n",
      "\n",
      "****************************************************************************************************\n",
      "\n",
      "TYPE:         High cardinality feature detection\n",
      "STATUS:       PASSED\n",
      "DESCRIPTION:  Your inputs were analyzed, and no high cardinality features were detected.\n",
      "              Learn more about high cardinality feature handling: https://aka.ms/AutomatedMLFeaturization\n",
      "\n",
      "****************************************************************************************************\n",
      "\n",
      "****************************************************************************************************\n",
      "ITERATION: The iteration being evaluated.\n",
      "PIPELINE: A summary description of the pipeline being evaluated.\n",
      "DURATION: Time taken for the current iteration.\n",
      "METRIC: The result of computing score on the fitted pipeline.\n",
      "BEST: The best observed score thus far.\n",
      "****************************************************************************************************\n",
      "\n",
      " ITERATION   PIPELINE                                       DURATION      METRIC      BEST\n",
      "         0   MaxAbsScaler LightGBM                          0:00:53       0.8025    0.8025\n",
      "         1   MaxAbsScaler XGBoostClassifier                 0:05:56       0.8193    0.8193\n",
      "         2   MinMaxScaler RandomForest                      0:01:04       0.8461    0.8461\n",
      "         3   MinMaxScaler RandomForest                      0:00:45       0.8293    0.8461\n",
      "         4   MinMaxScaler RandomForest                      0:05:25       0.8293    0.8461\n",
      "         5   MinMaxScaler SVM                               0:05:28       0.7157    0.8461\n",
      "         6   MinMaxScaler SVM                               0:00:44       0.7124    0.8461\n",
      "         7   MaxAbsScaler GradientBoosting                  0:00:48       0.8261    0.8461\n",
      "        10   SparseNormalizer LightGBM                      0:00:43       0.7392    0.8461\n",
      "        11   StandardScalerWrapper RandomForest             0:00:40       0.8427    0.8461\n",
      "         8   SparseNormalizer XGBoostClassifier             0:00:49       0.8294    0.8461\n",
      "         9   RobustScaler RandomForest                      0:01:00       0.8327    0.8461\n",
      "        12   RobustScaler ExtremeRandomTrees                0:00:54       0.8562    0.8562\n",
      "        13   MaxAbsScaler LightGBM                          0:00:47       0.8193    0.8562\n",
      "        14   StandardScalerWrapper RandomForest             0:00:44       0.8158    0.8562\n",
      "        15   StandardScalerWrapper LightGBM                 0:00:45       0.8160    0.8562\n",
      "        16   SparseNormalizer XGBoostClassifier             0:00:43       0.8295    0.8562\n",
      "        17   SparseNormalizer LightGBM                      0:00:53       0.8029    0.8562\n",
      "        18   StandardScalerWrapper ExtremeRandomTrees       0:00:51       0.8495    0.8562\n",
      "        19   StandardScalerWrapper LightGBM                 0:00:40       0.8127    0.8562\n",
      "        20   StandardScalerWrapper RandomForest             0:00:51       0.8460    0.8562\n",
      "        21   StandardScalerWrapper LightGBM                 0:00:44       0.8327    0.8562\n",
      "        22   StandardScalerWrapper LightGBM                 0:00:48       0.8327    0.8562\n",
      "        23   MaxAbsScaler LightGBM                          0:00:41       0.8361    0.8562\n",
      "        24   SparseNormalizer XGBoostClassifier             0:00:51       0.8061    0.8562\n",
      "        25   TruncatedSVDWrapper ExtremeRandomTrees         0:01:15       0.6657    0.8562\n",
      "        26   SparseNormalizer XGBoostClassifier             0:00:44       0.7860    0.8562\n",
      "        27   SparseNormalizer RandomForest                  0:00:48       0.7859    0.8562\n",
      "        28   StandardScalerWrapper LightGBM                 0:00:43       0.8294    0.8562\n",
      "        29   MinMaxScaler RandomForest                      0:00:43       0.8093    0.8562\n",
      "        30   SparseNormalizer ExtremeRandomTrees            0:00:44       0.6824    0.8562\n",
      "        31   MaxAbsScaler LightGBM                          0:00:43       0.8294    0.8562\n",
      "        32   StandardScalerWrapper XGBoostClassifier        0:00:51       0.8293    0.8562\n",
      "        33   MinMaxScaler LightGBM                          0:00:40       0.8361    0.8562\n",
      "        34                                                  0:00:09          nan    0.8562\n",
      "        35                                                  0:00:07          nan    0.8562\n",
      "        36    VotingEnsemble                                0:00:59       0.8629    0.8629\n",
      "        37    StackEnsemble                                 0:01:21       0.8494    0.8629\n"
     ]
    },
    {
     "data": {
      "text/plain": [
       "{'runId': 'AutoML_4590a270-2e2d-42e3-a085-9dda2e98641e',\n",
       " 'target': 'project-compute',\n",
       " 'status': 'Completed',\n",
       " 'startTimeUtc': '2021-04-20T18:11:54.034096Z',\n",
       " 'endTimeUtc': '2021-04-20T18:41:47.262001Z',\n",
       " 'properties': {'num_iterations': '40',\n",
       "  'training_type': 'TrainFull',\n",
       "  'acquisition_function': 'EI',\n",
       "  'primary_metric': 'accuracy',\n",
       "  'train_split': '0',\n",
       "  'acquisition_parameter': '0',\n",
       "  'num_cross_validation': '3',\n",
       "  'target': 'project-compute',\n",
       "  'AMLSettingsJsonString': '{\"path\":null,\"name\":\"heart-failure-experiment\",\"subscription_id\":\"f5091c60-1c3c-430f-8d81-d802f6bf2414\",\"resource_group\":\"aml-quickstarts-143247\",\"workspace_name\":\"quick-starts-ws-143247\",\"region\":\"southcentralus\",\"compute_target\":\"project-compute\",\"spark_service\":null,\"azure_service\":\"remote\",\"many_models\":false,\"pipeline_fetch_max_batch_size\":1,\"enable_batch_run\":false,\"enable_run_restructure\":false,\"iterations\":40,\"primary_metric\":\"accuracy\",\"task_type\":\"classification\",\"data_script\":null,\"test_size\":0.0,\"validation_size\":0.0,\"n_cross_validations\":3,\"y_min\":null,\"y_max\":null,\"num_classes\":null,\"featurization\":\"auto\",\"_ignore_package_version_incompatibilities\":false,\"is_timeseries\":false,\"max_cores_per_iteration\":1,\"max_concurrent_iterations\":4,\"iteration_timeout_minutes\":null,\"mem_in_mb\":null,\"enforce_time_on_windows\":false,\"experiment_timeout_minutes\":30,\"experiment_exit_score\":null,\"whitelist_models\":null,\"blacklist_algos\":[\"TensorFlowLinearClassifier\",\"TensorFlowDNN\"],\"supported_models\":[\"TensorFlowDNN\",\"BernoulliNaiveBayes\",\"KNN\",\"XGBoostClassifier\",\"LogisticRegression\",\"GradientBoosting\",\"MultinomialNaiveBayes\",\"AveragedPerceptronClassifier\",\"ExtremeRandomTrees\",\"DecisionTree\",\"RandomForest\",\"LightGBM\",\"SVM\",\"TensorFlowLinearClassifier\",\"LinearSVM\",\"SGD\"],\"private_models\":[],\"auto_blacklist\":true,\"blacklist_samples_reached\":false,\"exclude_nan_labels\":true,\"verbosity\":20,\"_debug_log\":\"azureml_automl.log\",\"show_warnings\":false,\"model_explainability\":true,\"service_url\":null,\"sdk_url\":null,\"sdk_packages\":null,\"enable_onnx_compatible_models\":false,\"enable_split_onnx_featurizer_estimator_models\":false,\"vm_type\":\"STANDARD_D2_V2\",\"telemetry_verbosity\":20,\"send_telemetry\":true,\"enable_dnn\":false,\"scenario\":\"SDK-1.13.0\",\"environment_label\":null,\"save_mlflow\":false,\"force_text_dnn\":false,\"enable_feature_sweeping\":true,\"enable_early_stopping\":true,\"early_stopping_n_iters\":10,\"metrics\":null,\"enable_metric_confidence\":false,\"enable_ensembling\":true,\"enable_stack_ensembling\":true,\"ensemble_iterations\":15,\"enable_tf\":false,\"enable_subsampling\":false,\"subsample_seed\":null,\"enable_nimbusml\":false,\"enable_streaming\":false,\"force_streaming\":false,\"track_child_runs\":true,\"allowed_private_models\":[],\"label_column_name\":\"DEATH_EVENT\",\"weight_column_name\":null,\"cv_split_column_names\":null,\"enable_local_managed\":false,\"_local_managed_run_id\":null,\"cost_mode\":1,\"lag_length\":0,\"metric_operation\":\"maximize\",\"preprocess\":true}',\n",
       "  'DataPrepJsonString': '{\\\\\"training_data\\\\\": {\\\\\"datasetId\\\\\": \\\\\"6d055db2-675c-4066-9e37-1a8bba3b99d5\\\\\"}, \\\\\"datasets\\\\\": 0}',\n",
       "  'EnableSubsampling': 'False',\n",
       "  'runTemplate': 'AutoML',\n",
       "  'azureml.runsource': 'automl',\n",
       "  'display_task_type': 'classification',\n",
       "  'dependencies_versions': '{\"azureml-widgets\": \"1.26.0\", \"azureml-train\": \"1.26.0\", \"azureml-train-restclients-hyperdrive\": \"1.26.0\", \"azureml-train-core\": \"1.26.0\", \"azureml-train-automl\": \"1.26.0\", \"azureml-train-automl-runtime\": \"1.26.0\", \"azureml-train-automl-client\": \"1.26.0\", \"azureml-tensorboard\": \"1.26.0\", \"azureml-telemetry\": \"1.26.0\", \"azureml-sdk\": \"1.26.0\", \"azureml-samples\": \"0+unknown\", \"azureml-pipeline\": \"1.26.0\", \"azureml-pipeline-steps\": \"1.26.0\", \"azureml-pipeline-core\": \"1.26.0\", \"azureml-opendatasets\": \"1.26.0\", \"azureml-model-management-sdk\": \"1.0.1b6.post1\", \"azureml-mlflow\": \"1.26.0\", \"azureml-interpret\": \"1.26.0\", \"azureml-explain-model\": \"1.26.0\", \"azureml-defaults\": \"1.26.0\", \"azureml-dataset-runtime\": \"1.26.0\", \"azureml-dataprep\": \"2.13.2\", \"azureml-dataprep-rslex\": \"1.11.2\", \"azureml-dataprep-native\": \"32.0.0\", \"azureml-datadrift\": \"1.26.0\", \"azureml-core\": \"1.26.0\", \"azureml-contrib-services\": \"1.26.0\", \"azureml-contrib-server\": \"1.26.0\", \"azureml-contrib-reinforcementlearning\": \"1.26.0\", \"azureml-contrib-pipeline-steps\": \"1.26.0\", \"azureml-contrib-notebook\": \"1.26.0\", \"azureml-contrib-gbdt\": \"1.26.0\", \"azureml-contrib-fairness\": \"1.26.0\", \"azureml-contrib-dataset\": \"1.26.0\", \"azureml-cli-common\": \"1.26.0\", \"azureml-automl-runtime\": \"1.26.0\", \"azureml-automl-dnn-nlp\": \"1.26.0\", \"azureml-automl-core\": \"1.26.0\", \"azureml-accel-models\": \"1.26.0\"}',\n",
       "  '_aml_system_scenario_identification': 'Remote.Parent',\n",
       "  'ClientType': 'SDK',\n",
       "  'environment_cpu_name': 'AzureML-AutoML',\n",
       "  'environment_cpu_label': 'prod',\n",
       "  'environment_gpu_name': 'AzureML-AutoML-GPU',\n",
       "  'environment_gpu_label': 'prod',\n",
       "  'root_attribution': 'automl',\n",
       "  'attribution': 'AutoML',\n",
       "  'Orchestrator': 'AutoML',\n",
       "  'CancelUri': 'https://southcentralus.api.azureml.ms/jasmine/v1.0/subscriptions/f5091c60-1c3c-430f-8d81-d802f6bf2414/resourceGroups/aml-quickstarts-143247/providers/Microsoft.MachineLearningServices/workspaces/quick-starts-ws-143247/experimentids/455f9a81-bce9-48cd-964b-46e0d4c088a6/cancel/AutoML_4590a270-2e2d-42e3-a085-9dda2e98641e',\n",
       "  'ClientSdkVersion': '1.26.0',\n",
       "  'snapshotId': '00000000-0000-0000-0000-000000000000',\n",
       "  'SetupRunId': 'AutoML_4590a270-2e2d-42e3-a085-9dda2e98641e_setup',\n",
       "  'SetupRunContainerId': 'dcid.AutoML_4590a270-2e2d-42e3-a085-9dda2e98641e_setup',\n",
       "  'FeaturizationRunJsonPath': 'featurizer_container.json',\n",
       "  'FeaturizationRunId': 'AutoML_4590a270-2e2d-42e3-a085-9dda2e98641e_featurize',\n",
       "  'ProblemInfoJsonString': '{\"dataset_num_categorical\": 0, \"is_sparse\": false, \"subsampling\": false, \"dataset_classes\": 2, \"dataset_features\": 12, \"dataset_samples\": 299, \"single_frequency_class_detected\": false}',\n",
       "  'ModelExplainRunId': 'AutoML_4590a270-2e2d-42e3-a085-9dda2e98641e_ModelExplain'},\n",
       " 'inputDatasets': [{'dataset': {'id': '6d055db2-675c-4066-9e37-1a8bba3b99d5'}, 'consumptionDetails': {'type': 'RunInput', 'inputName': 'training_data', 'mechanism': 'Direct'}}],\n",
       " 'outputDatasets': [],\n",
       " 'logFiles': {},\n",
       " 'submittedBy': 'ODL_User 143247'}"
      ]
     },
     "execution_count": 10,
     "metadata": {},
     "output_type": "execute_result"
    }
   ],
   "source": [
    "RunDetails(remote_run).show()\n",
    "remote_run.wait_for_completion(show_output=True)"
   ]
  },
  {
   "cell_type": "markdown",
   "metadata": {},
   "source": [
    "## Best Model\n",
    "\n",
    "TODO: In the cell below, get the best model from the automl experiments and display all the properties of the model.\n",
    "\n"
   ]
  },
  {
   "cell_type": "code",
   "execution_count": 11,
   "metadata": {
    "collapsed": false,
    "gather": {
     "logged": 1598431425670
    },
    "jupyter": {
     "outputs_hidden": false,
     "source_hidden": false
    },
    "nteract": {
     "transient": {
      "deleting": false
     }
    }
   },
   "outputs": [],
   "source": [
    "best_auto_run, fitted_model = remote_run.get_output()"
   ]
  },
  {
   "cell_type": "code",
   "execution_count": 12,
   "metadata": {},
   "outputs": [
    {
     "name": "stdout",
     "output_type": "stream",
     "text": [
      "Best Run Id : AutoML_4590a270-2e2d-42e3-a085-9dda2e98641e_36\n",
      "Accuracy : 0.8628619528619529\n",
      "Best metrics : {'recall_score_weighted': 0.8628619528619529, 'recall_score_micro': 0.8628619528619529, 'log_loss': 0.4251968139476295, 'average_precision_score_macro': 0.8804461225205501, 'matthews_correlation': 0.682500647439988, 'accuracy': 0.8628619528619529, 'AUC_weighted': 0.8950673333431954, 'average_precision_score_weighted': 0.9043526233213651, 'f1_score_micro': 0.8628619528619529, 'norm_macro_recall': 0.6345355207424174, 'precision_score_micro': 0.8628619528619529, 'weighted_accuracy': 0.8984824778252959, 'f1_score_weighted': 0.8555565086016769, 'AUC_micro': 0.90408851137639, 'precision_score_macro': 0.8686059181030528, 'balanced_accuracy': 0.8172677603712087, 'f1_score_macro': 0.8301527842188938, 'average_precision_score_micro': 0.9055620787068549, 'AUC_macro': 0.8950673333431954, 'precision_score_weighted': 0.8689222180929429, 'recall_score_macro': 0.8172677603712087, 'accuracy_table': 'aml://artifactId/ExperimentRun/dcid.AutoML_4590a270-2e2d-42e3-a085-9dda2e98641e_36/accuracy_table', 'confusion_matrix': 'aml://artifactId/ExperimentRun/dcid.AutoML_4590a270-2e2d-42e3-a085-9dda2e98641e_36/confusion_matrix'}\n",
      "Best model : Pipeline(memory=None,\n",
      "         steps=[('datatransformer',\n",
      "                 DataTransformer(enable_dnn=None, enable_feature_sweeping=None,\n",
      "                                 feature_sweeping_config=None,\n",
      "                                 feature_sweeping_timeout=None,\n",
      "                                 featurization_config=None, force_text_dnn=None,\n",
      "                                 is_cross_validation=None,\n",
      "                                 is_onnx_compatible=None, logger=None,\n",
      "                                 observer=None, task=None, working_dir=None)),\n",
      "                ('prefittedsoftvotingclassifier',...\n",
      "                                                                                        gamma='scale',\n",
      "                                                                                        kernel='rbf',\n",
      "                                                                                        max_iter=-1,\n",
      "                                                                                        probability=True,\n",
      "                                                                                        random_state=None,\n",
      "                                                                                        shrinking=True,\n",
      "                                                                                        tol=0.001,\n",
      "                                                                                        verbose=False))],\n",
      "                                                                     verbose=False))],\n",
      "                                               flatten_transform=None,\n",
      "                                               weights=[0.38461538461538464,\n",
      "                                                        0.07692307692307693,\n",
      "                                                        0.07692307692307693,\n",
      "                                                        0.07692307692307693,\n",
      "                                                        0.07692307692307693,\n",
      "                                                        0.07692307692307693,\n",
      "                                                        0.07692307692307693,\n",
      "                                                        0.07692307692307693,\n",
      "                                                        0.07692307692307693]))],\n",
      "         verbose=False)\n"
     ]
    }
   ],
   "source": [
    "best_metrics = best_auto_run.get_metrics()\n",
    "\n",
    "print(\"Best Run Id : {}\".format(best_auto_run.id), \n",
    "      \"Accuracy : {}\".format(best_metrics['accuracy']), \n",
    "      \"Best metrics : {}\".format(best_metrics), \n",
    "      \"Best model : {}\".format(fitted_model), sep = '\\n')"
   ]
  },
  {
   "cell_type": "code",
   "execution_count": 13,
   "metadata": {},
   "outputs": [
    {
     "name": "stdout",
     "output_type": "stream",
     "text": [
      "PreFittedSoftVotingClassifier(classification_labels=None,\n",
      "                              estimators=[('12',\n",
      "                                           Pipeline(memory=None,\n",
      "                                                    steps=[('robustscaler',\n",
      "                                                            RobustScaler(copy=True,\n",
      "                                                                         quantile_range=[25,\n",
      "                                                                                         75],\n",
      "                                                                         with_centering=True,\n",
      "                                                                         with_scaling=False)),\n",
      "                                                           ('extratreesclassifier',\n",
      "                                                            ExtraTreesClassifier(bootstrap=True,\n",
      "                                                                                 ccp_alpha=0.0,\n",
      "                                                                                 class_weight=None,\n",
      "                                                                                 criterion='gini',\n",
      "                                                                                 max_depth=None,\n",
      "                                                                                 max_features=None,\n",
      "                                                                                 ma...\n",
      "                                                                       degree=3,\n",
      "                                                                       gamma='scale',\n",
      "                                                                       kernel='rbf',\n",
      "                                                                       max_iter=-1,\n",
      "                                                                       probability=True,\n",
      "                                                                       random_state=None,\n",
      "                                                                       shrinking=True,\n",
      "                                                                       tol=0.001,\n",
      "                                                                       verbose=False))],\n",
      "                                                    verbose=False))],\n",
      "                              flatten_transform=None,\n",
      "                              weights=[0.38461538461538464, 0.07692307692307693,\n",
      "                                       0.07692307692307693, 0.07692307692307693,\n",
      "                                       0.07692307692307693, 0.07692307692307693,\n",
      "                                       0.07692307692307693, 0.07692307692307693,\n",
      "                                       0.07692307692307693])\n"
     ]
    }
   ],
   "source": [
    "print(fitted_model._final_estimator)"
   ]
  },
  {
   "cell_type": "code",
   "execution_count": 14,
   "metadata": {},
   "outputs": [
    {
     "name": "stdout",
     "output_type": "stream",
     "text": [
      "Model(workspace=Workspace.create(name='quick-starts-ws-143247', subscription_id='f5091c60-1c3c-430f-8d81-d802f6bf2414', resource_group='aml-quickstarts-143247'), name=heart-failure-best-model-automl, id=heart-failure-best-model-automl:1, version=1, tags={}, properties={})\n"
     ]
    }
   ],
   "source": [
    "model = best_auto_run.register_model(model_name = \"heart-failure-best-model-automl\", model_path = './outputs/model.pkl')\n",
    "print(model)"
   ]
  },
  {
   "cell_type": "code",
   "execution_count": 15,
   "metadata": {},
   "outputs": [
    {
     "name": "stdout",
     "output_type": "stream",
     "text": [
      "heart-failure-best-model-automl version: 1\n"
     ]
    }
   ],
   "source": [
    "for model in Model.list(ws):\n",
    "    print(model.name, 'version:', model.version)"
   ]
  },
  {
   "cell_type": "markdown",
   "metadata": {},
   "source": [
    "## Model Deployment\n",
    "\n",
    "Remember you have to deploy only one of the two models you trained.. Perform the steps in the rest of this notebook only if you wish to deploy this model.\n",
    "\n",
    "TODO: In the cell below, register the model, create an inference config and deploy the model as a web service."
   ]
  },
  {
   "cell_type": "code",
   "execution_count": 16,
   "metadata": {
    "collapsed": false,
    "gather": {
     "logged": 1598431435189
    },
    "jupyter": {
     "outputs_hidden": false,
     "source_hidden": false
    },
    "nteract": {
     "transient": {
      "deleting": false
     }
    }
   },
   "outputs": [
    {
     "name": "stdout",
     "output_type": "stream",
     "text": [
      "Downloading from outputs/conda_env_v_1_0_0.yml to ./aml-model/conda_env_v_1_0_0.yml ...\n",
      "Downloading from outputs/env_dependencies.json to ./aml-model/env_dependencies.json ...\n",
      "Downloading from outputs/internal_cross_validated_models.pkl to ./aml-model/internal_cross_validated_models.pkl ...\n",
      "Downloading from outputs/model.pkl to ./aml-model/model.pkl ...\n",
      "Downloading from outputs/pipeline_graph.json to ./aml-model/pipeline_graph.json ...\n",
      "Downloading from outputs/scoring_file_v_1_0_0.py to ./aml-model/scoring_file_v_1_0_0.py ...\n"
     ]
    }
   ],
   "source": [
    "import os\n",
    "os.makedirs('./automl-model', exist_ok=True)\n",
    "\n",
    "best_auto_run.download_file('/outputs/model.pkl',os.path.join('./automl-model','heart-failure-best-model-automl.pkl'))\n",
    "\n",
    "for f in best_auto_run.get_file_names():\n",
    "    if f.startswith('outputs'):\n",
    "        output_file_path = os.path.join('./aml-model', f.split('/')[-1])\n",
    "        print(f'Downloading from {f} to {output_file_path} ...')\n",
    "        best_auto_run.download_file(name=f, output_file_path=output_file_path)"
   ]
  },
  {
   "cell_type": "markdown",
   "metadata": {
    "gather": {
     "logged": 1598431657736
    },
    "jupyter": {
     "outputs_hidden": false,
     "source_hidden": false
    },
    "nteract": {
     "transient": {
      "deleting": false
     }
    }
   },
   "source": [
    "TODO: In the cell below, send a request to the web service you deployed to test it."
   ]
  },
  {
   "cell_type": "code",
   "execution_count": 17,
   "metadata": {
    "collapsed": false,
    "gather": {
     "logged": 1598432707604
    },
    "jupyter": {
     "outputs_hidden": false,
     "source_hidden": false
    },
    "nteract": {
     "transient": {
      "deleting": false
     }
    }
   },
   "outputs": [],
   "source": [
    "model=best_auto_run.register_model(\n",
    "            model_name = 'heart-failure-best-model-automl', \n",
    "            model_path = './outputs/model.pkl'\n",
    ")"
   ]
  },
  {
   "cell_type": "code",
   "execution_count": 18,
   "metadata": {},
   "outputs": [],
   "source": [
    "best_auto_run.download_file('outputs/conda_env_v_1_0_0.yml', 'conda_env.yml')\n",
    "environment = Environment.from_conda_specification(name = 'heart-failure-env', file_path = 'conda_env.yml')"
   ]
  },
  {
   "cell_type": "code",
   "execution_count": 19,
   "metadata": {},
   "outputs": [],
   "source": [
    "best_auto_run.download_file('outputs/scoring_file_v_1_0_0.py', 'score.py')"
   ]
  },
  {
   "cell_type": "code",
   "execution_count": 20,
   "metadata": {
    "collapsed": false,
    "jupyter": {
     "outputs_hidden": false,
     "source_hidden": false
    },
    "nteract": {
     "transient": {
      "deleting": false
     }
    }
   },
   "outputs": [],
   "source": [
    "inference_config = InferenceConfig(entry_script= 'score.py', environment=environment)"
   ]
  },
  {
   "cell_type": "code",
   "execution_count": 21,
   "metadata": {},
   "outputs": [],
   "source": [
    "aci_config = AciWebservice.deploy_configuration(cpu_cores=1, memory_gb=1, auth_enabled=True, enable_app_insights=True)"
   ]
  },
  {
   "cell_type": "code",
   "execution_count": 22,
   "metadata": {},
   "outputs": [],
   "source": [
    "webservice = Model.deploy(workspace=ws, \n",
    "                        name='heart-failure-ws', \n",
    "                        models=[model], \n",
    "                        inference_config=inference_config,\n",
    "                        deployment_config=aci_config,\n",
    "                        overwrite=True)"
   ]
  },
  {
   "cell_type": "code",
   "execution_count": 23,
   "metadata": {},
   "outputs": [
    {
     "data": {
      "text/plain": [
       "AciWebservice(workspace=Workspace.create(name='quick-starts-ws-143247', subscription_id='f5091c60-1c3c-430f-8d81-d802f6bf2414', resource_group='aml-quickstarts-143247'), name=heart-failure-ws, image_id=None, compute_type=None, state=ACI, scoring_uri=Transitioning, tags=None, properties={}, created_by={})"
      ]
     },
     "execution_count": 23,
     "metadata": {},
     "output_type": "execute_result"
    }
   ],
   "source": [
    "webservice"
   ]
  },
  {
   "cell_type": "code",
   "execution_count": 24,
   "metadata": {},
   "outputs": [
    {
     "name": "stdout",
     "output_type": "stream",
     "text": [
      "Tips: You can try get_logs(): https://aka.ms/debugimage#dockerlog or local deployment: https://aka.ms/debugimage#debug-locally to debug if deployment takes longer than 10 minutes.\n",
      "Running\n",
      "2021-04-20 18:48:32+00:00 Creating Container Registry if not exists.\n",
      "2021-04-20 18:48:42+00:00 Registering the environment..\n",
      "2021-04-20 18:48:45+00:00 Building image..\n",
      "2021-04-20 18:58:17+00:00 Generating deployment configuration..\n",
      "2021-04-20 18:58:18+00:00 Submitting deployment to compute.\n",
      "2021-04-20 18:58:21+00:00 Checking the status of deployment heart-failure-ws..\n",
      "2021-04-20 19:02:33+00:00 Checking the status of inference endpoint heart-failure-ws.\n",
      "Succeeded\n",
      "ACI service creation operation finished, operation \"Succeeded\"\n",
      "Status : Healthy\n",
      "scoring_uri : http://d4425d94-d1f2-460a-b443-914a600f3436.southcentralus.azurecontainer.io/score\n",
      "swagger_uri : http://d4425d94-d1f2-460a-b443-914a600f3436.southcentralus.azurecontainer.io/swagger.json\n"
     ]
    }
   ],
   "source": [
    "# wait for deployment to finish and display the scoring uri and swagger uri\n",
    "webservice.wait_for_deployment(show_output=True)\n",
    "\n",
    "print(\"Status : {}\".format(webservice.state), \n",
    "      \"scoring_uri : {}\".format(webservice.scoring_uri), \n",
    "      \"swagger_uri : {}\".format(webservice.swagger_uri), sep = '\\n')"
   ]
  },
  {
   "cell_type": "code",
   "execution_count": 25,
   "metadata": {},
   "outputs": [
    {
     "name": "stdout",
     "output_type": "stream",
     "text": [
      "http://d4425d94-d1f2-460a-b443-914a600f3436.southcentralus.azurecontainer.io/score\n",
      "http://d4425d94-d1f2-460a-b443-914a600f3436.southcentralus.azurecontainer.io/swagger.json\n"
     ]
    }
   ],
   "source": [
    "print(webservice.scoring_uri)\n",
    "print(webservice.swagger_uri)"
   ]
  },
  {
   "cell_type": "code",
   "execution_count": 26,
   "metadata": {},
   "outputs": [
    {
     "name": "stdout",
     "output_type": "stream",
     "text": [
      "LXRlfqVhzjWH8s3fKUQ7C2e62MLBAj0K\n"
     ]
    }
   ],
   "source": [
    "primary, secondary= webservice.get_keys()\n",
    "print(primary)"
   ]
  },
  {
   "cell_type": "code",
   "execution_count": 28,
   "metadata": {},
   "outputs": [
    {
     "name": "stdout",
     "output_type": "stream",
     "text": [
      "\"{\\\"result\\\": [1, 1]}\"\n"
     ]
    }
   ],
   "source": [
    "import requests\n",
    "import json\n",
    "import pandas as pd\n",
    "import numpy as np\n",
    "\n",
    "# URL for the web service\n",
    "scoring_uri = webservice.scoring_uri\n",
    "# If the service is authenticated, set the key or token\n",
    "key = primary\n",
    "\n",
    "# Two sets of data to score, so we get two results back\n",
    "data = {\"data\":\n",
    "        [\n",
    "            {\n",
    "               \"age\":50,\n",
    "               \"anaemia\":0,\n",
    "               \"creatinine_phosphokinase\":7861,\n",
    "               \"diabetes\":0,\n",
    "               \"ejection_fraction\":38,\n",
    "               \"high_blood_pressure\":0,\n",
    "               \"platelets\":263358.03,\n",
    "               \"serum_creatinine\":1.1,\n",
    "               \"serum_sodium\":136,\n",
    "               \"sex\":1,\n",
    "               \"smoking\":0,\n",
    "               \"time\":6\n",
    "               },\n",
    "            {\n",
    "               \"age\":60,\n",
    "               \"anaemia\":0,\n",
    "               \"creatinine_phosphokinase\":68,\n",
    "               \"diabetes\":0,\n",
    "               \"ejection_fraction\":20,\n",
    "               \"high_blood_pressure\":0,\n",
    "               \"platelets\":119000,\n",
    "               \"serum_creatinine\":2.9,\n",
    "               \"serum_sodium\":127,\n",
    "               \"sex\":1,\n",
    "               \"smoking\":1,\n",
    "               \"time\":64\n",
    "                }\n",
    "        ]\n",
    "        }\n",
    "# Convert to JSON string\n",
    "input_data = json.dumps(data)\n",
    "\n",
    "# Set the content type\n",
    "headers = {'Content-Type': 'application/json'}\n",
    "# If authentication is enabled, set the authorization header\n",
    "headers['Authorization'] = f'Bearer {primary}'\n",
    "\n",
    "# Make the request and display the response\n",
    "resp = requests.post(scoring_uri, input_data, headers=headers)\n",
    "print(resp.text)"
   ]
  },
  {
   "cell_type": "code",
   "execution_count": 30,
   "metadata": {},
   "outputs": [
    {
     "name": "stdout",
     "output_type": "stream",
     "text": [
      "2021-04-20T19:02:28,326716500+00:00 - iot-server/run \n",
      "2021-04-20T19:02:28,333067700+00:00 - gunicorn/run \n",
      "2021-04-20T19:02:28,332255600+00:00 - rsyslog/run \n",
      "2021-04-20T19:02:28,401791700+00:00 - nginx/run \n",
      "/usr/sbin/nginx: /azureml-envs/azureml_730341d347b7d9e2f1baba033329cdff/lib/libcrypto.so.1.0.0: no version information available (required by /usr/sbin/nginx)\n",
      "/usr/sbin/nginx: /azureml-envs/azureml_730341d347b7d9e2f1baba033329cdff/lib/libcrypto.so.1.0.0: no version information available (required by /usr/sbin/nginx)\n",
      "/usr/sbin/nginx: /azureml-envs/azureml_730341d347b7d9e2f1baba033329cdff/lib/libssl.so.1.0.0: no version information available (required by /usr/sbin/nginx)\n",
      "/usr/sbin/nginx: /azureml-envs/azureml_730341d347b7d9e2f1baba033329cdff/lib/libssl.so.1.0.0: no version information available (required by /usr/sbin/nginx)\n",
      "/usr/sbin/nginx: /azureml-envs/azureml_730341d347b7d9e2f1baba033329cdff/lib/libssl.so.1.0.0: no version information available (required by /usr/sbin/nginx)\n",
      "rsyslogd: /azureml-envs/azureml_730341d347b7d9e2f1baba033329cdff/lib/libuuid.so.1: no version information available (required by rsyslogd)\n",
      "EdgeHubConnectionString and IOTEDGE_IOTHUBHOSTNAME are not set. Exiting...\n",
      "2021-04-20T19:02:28,722752500+00:00 - iot-server/finish 1 0\n",
      "2021-04-20T19:02:28,724786900+00:00 - Exit code 1 is normal. Not restarting iot-server.\n",
      "Starting gunicorn 19.9.0\n",
      "Listening at: http://127.0.0.1:31311 (69)\n",
      "Using worker: sync\n",
      "worker timeout is set to 300\n",
      "Booting worker with pid: 98\n",
      "SPARK_HOME not set. Skipping PySpark Initialization.\n",
      "Generating new fontManager, this may take some time...\n",
      "Initializing logger\n",
      "2021-04-20 19:02:31,269 | root | INFO | Starting up app insights client\n",
      "2021-04-20 19:02:31,270 | root | INFO | Starting up request id generator\n",
      "2021-04-20 19:02:31,270 | root | INFO | Starting up app insight hooks\n",
      "2021-04-20 19:02:31,270 | root | INFO | Invoking user's init function\n",
      "2021-04-20 19:02:35,969 | azureml.core | WARNING | Failure while loading azureml_run_type_providers. Failed to load entrypoint automl = azureml.train.automl.run:AutoMLRun._from_run_dto with exception cannot import name 'RunType'.\n",
      "Failure while loading azureml_run_type_providers. Failed to load entrypoint automl = azureml.train.automl.run:AutoMLRun._from_run_dto with exception cannot import name 'RunType'.\n",
      "2021-04-20 19:02:36,193 | root | INFO | Users's init has completed successfully\n",
      "2021-04-20 19:02:36,218 | root | INFO | Skipping middleware: dbg_model_info as it's not enabled.\n",
      "2021-04-20 19:02:36,218 | root | INFO | Skipping middleware: dbg_resource_usage as it's not enabled.\n",
      "2021-04-20 19:02:36,227 | root | INFO | Scoring timeout is found from os.environ: 60000 ms\n",
      "2021-04-20 19:02:40,850 | root | INFO | 200\n",
      "127.0.0.1 - - [20/Apr/2021:19:02:40 +0000] \"GET /swagger.json HTTP/1.0\" 200 3035 \"-\" \"Go-http-client/1.1\"\n",
      "2021-04-20 19:02:44,422 | root | INFO | 200\n",
      "127.0.0.1 - - [20/Apr/2021:19:02:44 +0000] \"GET /swagger.json HTTP/1.0\" 200 3035 \"-\" \"Go-http-client/1.1\"\n",
      "2021-04-20 19:06:37,513 | root | INFO | Validation Request Content-Type\n",
      "2021-04-20 19:06:37,534 | root | INFO | Scoring Timer is set to 60.0 seconds\n",
      "2021-04-20 19:06:37,807 | root | INFO | 200\n",
      "127.0.0.1 - - [20/Apr/2021:19:06:37 +0000] \"POST /score HTTP/1.0\" 200 22 \"-\" \"python-requests/2.25.1\"\n",
      "\n"
     ]
    }
   ],
   "source": [
    "logs=webservice.get_logs()\n",
    "print(logs)"
   ]
  },
  {
   "cell_type": "code",
   "execution_count": 48,
   "metadata": {},
   "outputs": [],
   "source": [
    "webservice.delete()\n",
    "compute_target.delete()"
   ]
  },
  {
   "cell_type": "code",
   "execution_count": null,
   "metadata": {},
   "outputs": [],
   "source": []
  }
 ],
 "metadata": {
  "kernel_info": {
   "name": "python3"
  },
  "kernelspec": {
   "display_name": "Python 3",
   "language": "python",
   "name": "python3"
  },
  "language_info": {
   "codemirror_mode": {
    "name": "ipython",
    "version": 3
   },
   "file_extension": ".py",
   "mimetype": "text/x-python",
   "name": "python",
   "nbconvert_exporter": "python",
   "pygments_lexer": "ipython3",
   "version": "3.6.9"
  },
  "microsoft": {
   "host": {
    "AzureML": {
     "notebookHasBeenCompleted": true
    }
   }
  },
  "nteract": {
   "version": "nteract-front-end@1.0.0"
  }
 },
 "nbformat": 4,
 "nbformat_minor": 4
}
