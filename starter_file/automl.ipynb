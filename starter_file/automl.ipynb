{
 "cells": [
  {
   "cell_type": "markdown",
   "metadata": {},
   "source": [
    "# Automated ML\n",
    "\n",
    "TODO: Import Dependencies. In the cell below, import all the dependencies that you will need to complete the project."
   ]
  },
  {
   "cell_type": "code",
   "execution_count": 1,
   "metadata": {
    "collapsed": false,
    "gather": {
     "logged": 1598423888013
    },
    "jupyter": {
     "outputs_hidden": false,
     "source_hidden": false
    },
    "nteract": {
     "transient": {
      "deleting": false
     }
    }
   },
   "outputs": [
    {
     "name": "stdout",
     "output_type": "stream",
     "text": [
      "SDK version: 1.26.0\n"
     ]
    }
   ],
   "source": [
    "import azureml.core\n",
    "import json\n",
    "from azureml.core import Workspace, Experiment, Model\n",
    "from azureml.core.compute import ComputeTarget, AmlCompute\n",
    "from azureml.core.compute_target import ComputeTargetException\n",
    "from azureml.widgets import RunDetails\n",
    "import joblib \n",
    "from azureml.train.automl import AutoMLConfig\n",
    "from azureml.core.environment import Environment\n",
    "from azureml.core.model import InferenceConfig\n",
    "from azureml.core.webservice import AciWebservice, Webservice\n",
    "\n",
    "print(\"SDK version:\", azureml.core.VERSION)"
   ]
  },
  {
   "cell_type": "markdown",
   "metadata": {},
   "source": [
    "### Initialize workspace"
   ]
  },
  {
   "cell_type": "code",
   "execution_count": 2,
   "metadata": {
    "collapsed": false,
    "gather": {
     "logged": 1598423890461
    },
    "jupyter": {
     "outputs_hidden": false,
     "source_hidden": false
    },
    "nteract": {
     "transient": {
      "deleting": false
     }
    }
   },
   "outputs": [
    {
     "name": "stdout",
     "output_type": "stream",
     "text": [
      "quick-starts-ws-143097\n",
      "aml-quickstarts-143097\n",
      "southcentralus\n",
      "9b72f9e6-56c5-4c16-991b-19c652994860\n"
     ]
    }
   ],
   "source": [
    "ws = Workspace.from_config()\n",
    "\n",
    "print(ws.name, ws.resource_group, ws.location, ws.subscription_id, sep = '\\n')"
   ]
  },
  {
   "cell_type": "markdown",
   "metadata": {},
   "source": [
    "### Create an Azure ML experiment"
   ]
  },
  {
   "cell_type": "code",
   "execution_count": 3,
   "metadata": {},
   "outputs": [],
   "source": [
    "# choose a name for experiment\n",
    "experiment_name = 'heart-failure-experiment'\n",
    "\n",
    "experiment = Experiment(ws, experiment_name)\n",
    "\n",
    "run = experiment.start_logging()"
   ]
  },
  {
   "cell_type": "markdown",
   "metadata": {},
   "source": [
    "## Dataset\n",
    "\n",
    "### Overview\n",
    "This task is to predict mortality caused by heart disease. \n",
    "\n",
    "Attribute information:\n",
    "\n",
    "age - Age of the patient<br />\n",
    "anemia - Decrease of red blood cells or hemoglobin (boolean)<br />\n",
    "creatinine_phosphokinase - Level of the CPK enzyme in the blood (mcg/L)<br />\n",
    "diabetes - If the patient has diabetes (boolean)<br />\n",
    "ejection_fraction - Percentage of blood leaving the heart at each contraction (percentage)<br />\n",
    "high_blood_pressure - If the patient has hypertension (boolean)<br />\n",
    "platelets - Platelets in the blood (kiloplatelets/mL)<br />\n",
    "serum_creatinine - Level of serum creatinine in the blood (mg/dL)<br />\n",
    "serum_sodium - Level of serum sodium in the blood (mEq/L)<br />\n",
    "sex - Woman or man (binary)<br />\n",
    "smoking - If the patient smokes or not (boolean)<br />\n",
    "time - Follow-up period (days)<br />\n",
    "DEATH_EVENT - If the patient deceased during the follow-up period (boolean)<br />"
   ]
  },
  {
   "cell_type": "code",
   "execution_count": 4,
   "metadata": {},
   "outputs": [
    {
     "name": "stdout",
     "output_type": "stream",
     "text": [
      "Cluster exists.\n",
      "Succeeded\n",
      "AmlCompute wait for completion finished\n",
      "\n",
      "Minimum number of nodes requested have been provisioned\n"
     ]
    }
   ],
   "source": [
    "amlcompute_cluster_name = \"project-compute\"\n",
    "\n",
    "# Verify that cluster does not exist already\n",
    "try:\n",
    "    compute_target = ComputeTarget(workspace=ws, name=amlcompute_cluster_name)\n",
    "    print('Cluster exists.')\n",
    "except ComputeTargetException:\n",
    "    compute_config = AmlCompute.provisioning_configuration(vm_size='STANDARD_D2_V2', max_nodes=4)\n",
    "    compute_target = ComputeTarget.create(ws, amlcompute_cluster_name, compute_config)\n",
    "\n",
    "compute_target.wait_for_completion(show_output=True, min_node_count = 1, timeout_in_minutes = 10)"
   ]
  },
  {
   "cell_type": "code",
   "execution_count": 5,
   "metadata": {},
   "outputs": [
    {
     "data": {
      "text/html": [
       "<div>\n",
       "<style scoped>\n",
       "    .dataframe tbody tr th:only-of-type {\n",
       "        vertical-align: middle;\n",
       "    }\n",
       "\n",
       "    .dataframe tbody tr th {\n",
       "        vertical-align: top;\n",
       "    }\n",
       "\n",
       "    .dataframe thead th {\n",
       "        text-align: right;\n",
       "    }\n",
       "</style>\n",
       "<table border=\"1\" class=\"dataframe\">\n",
       "  <thead>\n",
       "    <tr style=\"text-align: right;\">\n",
       "      <th></th>\n",
       "      <th>age</th>\n",
       "      <th>anaemia</th>\n",
       "      <th>creatinine_phosphokinase</th>\n",
       "      <th>diabetes</th>\n",
       "      <th>ejection_fraction</th>\n",
       "      <th>high_blood_pressure</th>\n",
       "      <th>platelets</th>\n",
       "      <th>serum_creatinine</th>\n",
       "      <th>serum_sodium</th>\n",
       "      <th>sex</th>\n",
       "      <th>smoking</th>\n",
       "      <th>time</th>\n",
       "      <th>DEATH_EVENT</th>\n",
       "    </tr>\n",
       "  </thead>\n",
       "  <tbody>\n",
       "    <tr>\n",
       "      <th>count</th>\n",
       "      <td>299.000000</td>\n",
       "      <td>299.000000</td>\n",
       "      <td>299.000000</td>\n",
       "      <td>299.000000</td>\n",
       "      <td>299.000000</td>\n",
       "      <td>299.000000</td>\n",
       "      <td>299.000000</td>\n",
       "      <td>299.00000</td>\n",
       "      <td>299.000000</td>\n",
       "      <td>299.000000</td>\n",
       "      <td>299.00000</td>\n",
       "      <td>299.000000</td>\n",
       "      <td>299.00000</td>\n",
       "    </tr>\n",
       "    <tr>\n",
       "      <th>mean</th>\n",
       "      <td>60.833893</td>\n",
       "      <td>0.431438</td>\n",
       "      <td>581.839465</td>\n",
       "      <td>0.418060</td>\n",
       "      <td>38.083612</td>\n",
       "      <td>0.351171</td>\n",
       "      <td>263358.029264</td>\n",
       "      <td>1.39388</td>\n",
       "      <td>136.625418</td>\n",
       "      <td>0.648829</td>\n",
       "      <td>0.32107</td>\n",
       "      <td>130.260870</td>\n",
       "      <td>0.32107</td>\n",
       "    </tr>\n",
       "    <tr>\n",
       "      <th>std</th>\n",
       "      <td>11.894809</td>\n",
       "      <td>0.496107</td>\n",
       "      <td>970.287881</td>\n",
       "      <td>0.494067</td>\n",
       "      <td>11.834841</td>\n",
       "      <td>0.478136</td>\n",
       "      <td>97804.236869</td>\n",
       "      <td>1.03451</td>\n",
       "      <td>4.412477</td>\n",
       "      <td>0.478136</td>\n",
       "      <td>0.46767</td>\n",
       "      <td>77.614208</td>\n",
       "      <td>0.46767</td>\n",
       "    </tr>\n",
       "    <tr>\n",
       "      <th>min</th>\n",
       "      <td>40.000000</td>\n",
       "      <td>0.000000</td>\n",
       "      <td>23.000000</td>\n",
       "      <td>0.000000</td>\n",
       "      <td>14.000000</td>\n",
       "      <td>0.000000</td>\n",
       "      <td>25100.000000</td>\n",
       "      <td>0.50000</td>\n",
       "      <td>113.000000</td>\n",
       "      <td>0.000000</td>\n",
       "      <td>0.00000</td>\n",
       "      <td>4.000000</td>\n",
       "      <td>0.00000</td>\n",
       "    </tr>\n",
       "    <tr>\n",
       "      <th>25%</th>\n",
       "      <td>51.000000</td>\n",
       "      <td>0.000000</td>\n",
       "      <td>116.500000</td>\n",
       "      <td>0.000000</td>\n",
       "      <td>30.000000</td>\n",
       "      <td>0.000000</td>\n",
       "      <td>212500.000000</td>\n",
       "      <td>0.90000</td>\n",
       "      <td>134.000000</td>\n",
       "      <td>0.000000</td>\n",
       "      <td>0.00000</td>\n",
       "      <td>73.000000</td>\n",
       "      <td>0.00000</td>\n",
       "    </tr>\n",
       "    <tr>\n",
       "      <th>50%</th>\n",
       "      <td>60.000000</td>\n",
       "      <td>0.000000</td>\n",
       "      <td>250.000000</td>\n",
       "      <td>0.000000</td>\n",
       "      <td>38.000000</td>\n",
       "      <td>0.000000</td>\n",
       "      <td>262000.000000</td>\n",
       "      <td>1.10000</td>\n",
       "      <td>137.000000</td>\n",
       "      <td>1.000000</td>\n",
       "      <td>0.00000</td>\n",
       "      <td>115.000000</td>\n",
       "      <td>0.00000</td>\n",
       "    </tr>\n",
       "    <tr>\n",
       "      <th>75%</th>\n",
       "      <td>70.000000</td>\n",
       "      <td>1.000000</td>\n",
       "      <td>582.000000</td>\n",
       "      <td>1.000000</td>\n",
       "      <td>45.000000</td>\n",
       "      <td>1.000000</td>\n",
       "      <td>303500.000000</td>\n",
       "      <td>1.40000</td>\n",
       "      <td>140.000000</td>\n",
       "      <td>1.000000</td>\n",
       "      <td>1.00000</td>\n",
       "      <td>203.000000</td>\n",
       "      <td>1.00000</td>\n",
       "    </tr>\n",
       "    <tr>\n",
       "      <th>max</th>\n",
       "      <td>95.000000</td>\n",
       "      <td>1.000000</td>\n",
       "      <td>7861.000000</td>\n",
       "      <td>1.000000</td>\n",
       "      <td>80.000000</td>\n",
       "      <td>1.000000</td>\n",
       "      <td>850000.000000</td>\n",
       "      <td>9.40000</td>\n",
       "      <td>148.000000</td>\n",
       "      <td>1.000000</td>\n",
       "      <td>1.00000</td>\n",
       "      <td>285.000000</td>\n",
       "      <td>1.00000</td>\n",
       "    </tr>\n",
       "  </tbody>\n",
       "</table>\n",
       "</div>"
      ],
      "text/plain": [
       "              age     anaemia  creatinine_phosphokinase    diabetes  \\\n",
       "count  299.000000  299.000000                299.000000  299.000000   \n",
       "mean    60.833893    0.431438                581.839465    0.418060   \n",
       "std     11.894809    0.496107                970.287881    0.494067   \n",
       "min     40.000000    0.000000                 23.000000    0.000000   \n",
       "25%     51.000000    0.000000                116.500000    0.000000   \n",
       "50%     60.000000    0.000000                250.000000    0.000000   \n",
       "75%     70.000000    1.000000                582.000000    1.000000   \n",
       "max     95.000000    1.000000               7861.000000    1.000000   \n",
       "\n",
       "       ejection_fraction  high_blood_pressure      platelets  \\\n",
       "count         299.000000           299.000000     299.000000   \n",
       "mean           38.083612             0.351171  263358.029264   \n",
       "std            11.834841             0.478136   97804.236869   \n",
       "min            14.000000             0.000000   25100.000000   \n",
       "25%            30.000000             0.000000  212500.000000   \n",
       "50%            38.000000             0.000000  262000.000000   \n",
       "75%            45.000000             1.000000  303500.000000   \n",
       "max            80.000000             1.000000  850000.000000   \n",
       "\n",
       "       serum_creatinine  serum_sodium         sex    smoking        time  \\\n",
       "count         299.00000    299.000000  299.000000  299.00000  299.000000   \n",
       "mean            1.39388    136.625418    0.648829    0.32107  130.260870   \n",
       "std             1.03451      4.412477    0.478136    0.46767   77.614208   \n",
       "min             0.50000    113.000000    0.000000    0.00000    4.000000   \n",
       "25%             0.90000    134.000000    0.000000    0.00000   73.000000   \n",
       "50%             1.10000    137.000000    1.000000    0.00000  115.000000   \n",
       "75%             1.40000    140.000000    1.000000    1.00000  203.000000   \n",
       "max             9.40000    148.000000    1.000000    1.00000  285.000000   \n",
       "\n",
       "       DEATH_EVENT  \n",
       "count    299.00000  \n",
       "mean       0.32107  \n",
       "std        0.46767  \n",
       "min        0.00000  \n",
       "25%        0.00000  \n",
       "50%        0.00000  \n",
       "75%        1.00000  \n",
       "max        1.00000  "
      ]
     },
     "execution_count": 5,
     "metadata": {},
     "output_type": "execute_result"
    }
   ],
   "source": [
    "key = \"heart-disease-database\"\n",
    "\n",
    "dataset = ws.datasets[key]\n",
    "\n",
    "df = dataset.to_pandas_dataframe()\n",
    "df.describe()"
   ]
  },
  {
   "cell_type": "code",
   "execution_count": 6,
   "metadata": {},
   "outputs": [
    {
     "data": {
      "text/html": [
       "<div>\n",
       "<style scoped>\n",
       "    .dataframe tbody tr th:only-of-type {\n",
       "        vertical-align: middle;\n",
       "    }\n",
       "\n",
       "    .dataframe tbody tr th {\n",
       "        vertical-align: top;\n",
       "    }\n",
       "\n",
       "    .dataframe thead th {\n",
       "        text-align: right;\n",
       "    }\n",
       "</style>\n",
       "<table border=\"1\" class=\"dataframe\">\n",
       "  <thead>\n",
       "    <tr style=\"text-align: right;\">\n",
       "      <th></th>\n",
       "      <th>age</th>\n",
       "      <th>anaemia</th>\n",
       "      <th>creatinine_phosphokinase</th>\n",
       "      <th>diabetes</th>\n",
       "      <th>ejection_fraction</th>\n",
       "      <th>high_blood_pressure</th>\n",
       "      <th>platelets</th>\n",
       "      <th>serum_creatinine</th>\n",
       "      <th>serum_sodium</th>\n",
       "      <th>sex</th>\n",
       "      <th>smoking</th>\n",
       "      <th>time</th>\n",
       "      <th>DEATH_EVENT</th>\n",
       "    </tr>\n",
       "  </thead>\n",
       "  <tbody>\n",
       "    <tr>\n",
       "      <th>0</th>\n",
       "      <td>75.0</td>\n",
       "      <td>0</td>\n",
       "      <td>582</td>\n",
       "      <td>0</td>\n",
       "      <td>20</td>\n",
       "      <td>1</td>\n",
       "      <td>265000.00</td>\n",
       "      <td>1.9</td>\n",
       "      <td>130</td>\n",
       "      <td>1</td>\n",
       "      <td>0</td>\n",
       "      <td>4</td>\n",
       "      <td>1</td>\n",
       "    </tr>\n",
       "    <tr>\n",
       "      <th>1</th>\n",
       "      <td>55.0</td>\n",
       "      <td>0</td>\n",
       "      <td>7861</td>\n",
       "      <td>0</td>\n",
       "      <td>38</td>\n",
       "      <td>0</td>\n",
       "      <td>263358.03</td>\n",
       "      <td>1.1</td>\n",
       "      <td>136</td>\n",
       "      <td>1</td>\n",
       "      <td>0</td>\n",
       "      <td>6</td>\n",
       "      <td>1</td>\n",
       "    </tr>\n",
       "    <tr>\n",
       "      <th>2</th>\n",
       "      <td>65.0</td>\n",
       "      <td>0</td>\n",
       "      <td>146</td>\n",
       "      <td>0</td>\n",
       "      <td>20</td>\n",
       "      <td>0</td>\n",
       "      <td>162000.00</td>\n",
       "      <td>1.3</td>\n",
       "      <td>129</td>\n",
       "      <td>1</td>\n",
       "      <td>1</td>\n",
       "      <td>7</td>\n",
       "      <td>1</td>\n",
       "    </tr>\n",
       "    <tr>\n",
       "      <th>3</th>\n",
       "      <td>50.0</td>\n",
       "      <td>1</td>\n",
       "      <td>111</td>\n",
       "      <td>0</td>\n",
       "      <td>20</td>\n",
       "      <td>0</td>\n",
       "      <td>210000.00</td>\n",
       "      <td>1.9</td>\n",
       "      <td>137</td>\n",
       "      <td>1</td>\n",
       "      <td>0</td>\n",
       "      <td>7</td>\n",
       "      <td>1</td>\n",
       "    </tr>\n",
       "    <tr>\n",
       "      <th>4</th>\n",
       "      <td>65.0</td>\n",
       "      <td>1</td>\n",
       "      <td>160</td>\n",
       "      <td>1</td>\n",
       "      <td>20</td>\n",
       "      <td>0</td>\n",
       "      <td>327000.00</td>\n",
       "      <td>2.7</td>\n",
       "      <td>116</td>\n",
       "      <td>0</td>\n",
       "      <td>0</td>\n",
       "      <td>8</td>\n",
       "      <td>1</td>\n",
       "    </tr>\n",
       "  </tbody>\n",
       "</table>\n",
       "</div>"
      ],
      "text/plain": [
       "    age  anaemia  creatinine_phosphokinase  diabetes  ejection_fraction  \\\n",
       "0  75.0        0                       582         0                 20   \n",
       "1  55.0        0                      7861         0                 38   \n",
       "2  65.0        0                       146         0                 20   \n",
       "3  50.0        1                       111         0                 20   \n",
       "4  65.0        1                       160         1                 20   \n",
       "\n",
       "   high_blood_pressure  platelets  serum_creatinine  serum_sodium  sex  \\\n",
       "0                    1  265000.00               1.9           130    1   \n",
       "1                    0  263358.03               1.1           136    1   \n",
       "2                    0  162000.00               1.3           129    1   \n",
       "3                    0  210000.00               1.9           137    1   \n",
       "4                    0  327000.00               2.7           116    0   \n",
       "\n",
       "   smoking  time  DEATH_EVENT  \n",
       "0        0     4            1  \n",
       "1        0     6            1  \n",
       "2        1     7            1  \n",
       "3        0     7            1  \n",
       "4        0     8            1  "
      ]
     },
     "execution_count": 6,
     "metadata": {},
     "output_type": "execute_result"
    }
   ],
   "source": [
    "dataset.take(5).to_pandas_dataframe()"
   ]
  },
  {
   "cell_type": "markdown",
   "metadata": {},
   "source": [
    "## AutoML Configuration\n",
    "\n",
    "TODO: Explain why you chose the automl settings and cofiguration you used below."
   ]
  },
  {
   "cell_type": "code",
   "execution_count": 9,
   "metadata": {
    "collapsed": false,
    "gather": {
     "logged": 1598429217746
    },
    "jupyter": {
     "outputs_hidden": false,
     "source_hidden": false
    },
    "nteract": {
     "transient": {
      "deleting": false
     }
    }
   },
   "outputs": [],
   "source": [
    "# TODO: Put your automl settings here\n",
    "automl_settings = {\n",
    "    \"experiment_timeout_minutes\": 30,\n",
    "    \"iterations\": 40,\n",
    "    \"max_concurrent_iterations\": 4,\n",
    "    \"n_cross_validations\": 3,\n",
    "    \"primary_metric\" : 'accuracy'\n",
    "}\n",
    "automl_config = AutoMLConfig(compute_target = 'project-compute',\n",
    "                            task = \"classification\",\n",
    "                            training_data=dataset,\n",
    "                            label_column_name=\"DEATH_EVENT\",\n",
    "                            enable_early_stopping= True,\n",
    "                            debug_log = \"automl_errors.log\",\n",
    "                            **automl_settings\n",
    "                            )"
   ]
  },
  {
   "cell_type": "code",
   "execution_count": 10,
   "metadata": {
    "collapsed": false,
    "gather": {
     "logged": 1598431107951
    },
    "jupyter": {
     "outputs_hidden": false,
     "source_hidden": false
    },
    "nteract": {
     "transient": {
      "deleting": false
     }
    }
   },
   "outputs": [
    {
     "name": "stdout",
     "output_type": "stream",
     "text": [
      "Submitting remote run.\n",
      "No run_configuration provided, running on project-compute with default configuration\n",
      "Running on remote compute: project-compute\n"
     ]
    },
    {
     "data": {
      "text/html": [
       "<table style=\"width:100%\"><tr><th>Experiment</th><th>Id</th><th>Type</th><th>Status</th><th>Details Page</th><th>Docs Page</th></tr><tr><td>heart-failure-experiment</td><td>AutoML_b428813d-4f10-47e5-8828-f7c82f118840</td><td>automl</td><td>NotStarted</td><td><a href=\"https://ml.azure.com/runs/AutoML_b428813d-4f10-47e5-8828-f7c82f118840?wsid=/subscriptions/9b72f9e6-56c5-4c16-991b-19c652994860/resourcegroups/aml-quickstarts-143097/workspaces/quick-starts-ws-143097&amp;tid=660b3398-b80e-49d2-bc5b-ac1dc93b5254\" target=\"_blank\" rel=\"noopener\">Link to Azure Machine Learning studio</a></td><td><a href=\"https://docs.microsoft.com/en-us/python/api/overview/azure/ml/intro?view=azure-ml-py\" target=\"_blank\" rel=\"noopener\">Link to Documentation</a></td></tr></table>"
      ],
      "text/plain": [
       "<IPython.core.display.HTML object>"
      ]
     },
     "metadata": {},
     "output_type": "display_data"
    },
    {
     "name": "stdout",
     "output_type": "stream",
     "text": [
      "\n",
      "Current status: FeaturesGeneration. Generating features for the dataset.\n",
      "Current status: DatasetCrossValidationSplit. Beginning model selection.\n",
      "Current status: ModelSelection. Beginning model selection.\n",
      "\n",
      "****************************************************************************************************\n",
      "DATA GUARDRAILS: \n",
      "\n",
      "TYPE:         Class balancing detection\n",
      "STATUS:       PASSED\n",
      "DESCRIPTION:  Your inputs were analyzed, and all classes are balanced in your training data.\n",
      "              Learn more about imbalanced data: https://aka.ms/AutomatedMLImbalancedData\n",
      "\n",
      "****************************************************************************************************\n",
      "\n",
      "TYPE:         Missing feature values imputation\n",
      "STATUS:       PASSED\n",
      "DESCRIPTION:  No feature missing values were detected in the training data.\n",
      "              Learn more about missing value imputation: https://aka.ms/AutomatedMLFeaturization\n",
      "\n",
      "****************************************************************************************************\n",
      "\n",
      "TYPE:         High cardinality feature detection\n",
      "STATUS:       PASSED\n",
      "DESCRIPTION:  Your inputs were analyzed, and no high cardinality features were detected.\n",
      "              Learn more about high cardinality feature handling: https://aka.ms/AutomatedMLFeaturization\n",
      "\n",
      "****************************************************************************************************\n",
      "\n",
      "****************************************************************************************************\n",
      "ITERATION: The iteration being evaluated.\n",
      "PIPELINE: A summary description of the pipeline being evaluated.\n",
      "DURATION: Time taken for the current iteration.\n",
      "METRIC: The result of computing score on the fitted pipeline.\n",
      "BEST: The best observed score thus far.\n",
      "****************************************************************************************************\n",
      "\n",
      " ITERATION   PIPELINE                                       DURATION      METRIC      BEST\n",
      "         1   MaxAbsScaler XGBoostClassifier                 0:00:44       0.8193    0.8193\n",
      "         3   MinMaxScaler RandomForest                      0:00:50       0.8125    0.8193\n",
      "         0   MaxAbsScaler LightGBM                          0:00:47       0.8025    0.8193\n",
      "         2   MinMaxScaler RandomForest                      0:00:43       0.8160    0.8193\n",
      "         6   MinMaxScaler SVM                               0:00:42       0.7123    0.8193\n",
      "         7   MinMaxScaler SVM                               0:00:44       0.6990    0.8193\n",
      "         8   MaxAbsScaler GradientBoosting                  0:00:39       0.8193    0.8193\n",
      "         4   MinMaxScaler RandomForest                      0:02:15       0.8394    0.8394\n",
      "         9   SparseNormalizer XGBoostClassifier             0:00:46       0.8027    0.8394\n",
      "        10   SparseNormalizer XGBoostClassifier             0:00:44       0.8294    0.8394\n",
      "        11   RobustScaler RandomForest                      0:00:51       0.8226    0.8394\n",
      "        12   MaxAbsScaler LightGBM                          0:00:46       0.8026    0.8394\n",
      "        13   StandardScalerWrapper LightGBM                 0:00:47       0.8160    0.8394\n",
      "        14   MaxAbsScaler LightGBM                          0:00:46       0.8193    0.8394\n",
      "        15   StandardScalerWrapper LightGBM                 0:00:49       0.8160    0.8394\n",
      "        16   StandardScalerWrapper RandomForest             0:00:45       0.8428    0.8428\n",
      "        17   TruncatedSVDWrapper XGBoostClassifier          0:00:46       0.7658    0.8428\n",
      "        18   MaxAbsScaler LightGBM                          0:00:44       0.8227    0.8428\n",
      "         5   StandardScalerWrapper XGBoostClassifier        0:05:22       0.8294    0.8428\n",
      "        19   StandardScalerWrapper XGBoostClassifier        0:00:46       0.8025    0.8428\n",
      "        20   RobustScaler LightGBM                          0:00:47       0.8361    0.8428\n",
      "        22   SparseNormalizer XGBoostClassifier             0:00:41       0.8128    0.8428\n",
      "        21   RobustScaler LightGBM                          0:00:53       0.8259    0.8428\n",
      "        23   StandardScalerWrapper RandomForest             0:00:44       0.8528    0.8528\n",
      "        24   StandardScalerWrapper RandomForest             0:00:49       0.7960    0.8528\n",
      "        25   StandardScalerWrapper XGBoostClassifier        0:00:51       0.8193    0.8528\n",
      "        26   MaxAbsScaler LightGBM                          0:00:50       0.7793    0.8528\n",
      "        27   StandardScalerWrapper RandomForest             0:00:52       0.8427    0.8528\n",
      "        29   StandardScalerWrapper LightGBM                 0:00:49       0.8427    0.8528\n",
      "        28   MinMaxScaler LightGBM                          0:00:54       0.7592    0.8528\n",
      "        30   MaxAbsScaler RandomForest                      0:00:50       0.6790    0.8528\n",
      "        31   MaxAbsScaler LightGBM                          0:00:50       0.7391    0.8528\n",
      "        32   MinMaxScaler LightGBM                          0:00:44       0.8361    0.8528\n",
      "        33   MinMaxScaler LightGBM                          0:00:50       0.8260    0.8528\n",
      "        34   StandardScalerWrapper XGBoostClassifier        0:00:44       0.7960    0.8528\n",
      "        35   SparseNormalizer RandomForest                  0:00:54       0.7022    0.8528\n",
      "        36   StandardScalerWrapper XGBoostClassifier        0:00:47       0.8193    0.8528\n",
      "        37   RobustScaler RandomForest                      0:00:41       0.8259    0.8528\n",
      "        38    VotingEnsemble                                0:01:01       0.8696    0.8696\n",
      "        39    StackEnsemble                                 0:01:07       0.8495    0.8696\n"
     ]
    }
   ],
   "source": [
    "# TODO: Submit your experiment\n",
    "remote_run = experiment.submit(automl_config, show_output=True)"
   ]
  },
  {
   "cell_type": "markdown",
   "metadata": {},
   "source": [
    "## Run Details\n",
    "\n",
    "OPTIONAL: Write about the different models trained and their performance. Why do you think some models did better than others?\n",
    "\n",
    "TODO: In the cell below, use the `RunDetails` widget to show the different experiments."
   ]
  },
  {
   "cell_type": "code",
   "execution_count": 11,
   "metadata": {
    "collapsed": false,
    "gather": {
     "logged": 1598431121770
    },
    "jupyter": {
     "outputs_hidden": false,
     "source_hidden": false
    },
    "nteract": {
     "transient": {
      "deleting": false
     }
    }
   },
   "outputs": [
    {
     "data": {
      "application/vnd.jupyter.widget-view+json": {
       "model_id": "5c1098abd78840c998e45c6b8b5cf44b",
       "version_major": 2,
       "version_minor": 0
      },
      "text/plain": [
       "_AutoMLWidget(widget_settings={'childWidgetDisplay': 'popup', 'send_telemetry': False, 'log_level': 'INFO', 's…"
      ]
     },
     "metadata": {},
     "output_type": "display_data"
    },
    {
     "data": {
      "application/aml.mini.widget.v1": "{\"status\": \"Completed\", \"workbench_run_details_uri\": \"https://ml.azure.com/runs/AutoML_b428813d-4f10-47e5-8828-f7c82f118840?wsid=/subscriptions/9b72f9e6-56c5-4c16-991b-19c652994860/resourcegroups/aml-quickstarts-143097/workspaces/quick-starts-ws-143097&tid=660b3398-b80e-49d2-bc5b-ac1dc93b5254\", \"run_id\": \"AutoML_b428813d-4f10-47e5-8828-f7c82f118840\", \"run_properties\": {\"run_id\": \"AutoML_b428813d-4f10-47e5-8828-f7c82f118840\", \"created_utc\": \"2021-04-19T02:06:24.818109Z\", \"properties\": {\"num_iterations\": \"40\", \"training_type\": \"TrainFull\", \"acquisition_function\": \"EI\", \"primary_metric\": \"accuracy\", \"train_split\": \"0\", \"acquisition_parameter\": \"0\", \"num_cross_validation\": \"3\", \"target\": \"project-compute\", \"AMLSettingsJsonString\": \"{\\\"path\\\":null,\\\"name\\\":\\\"heart-failure-experiment\\\",\\\"subscription_id\\\":\\\"9b72f9e6-56c5-4c16-991b-19c652994860\\\",\\\"resource_group\\\":\\\"aml-quickstarts-143097\\\",\\\"workspace_name\\\":\\\"quick-starts-ws-143097\\\",\\\"region\\\":\\\"southcentralus\\\",\\\"compute_target\\\":\\\"project-compute\\\",\\\"spark_service\\\":null,\\\"azure_service\\\":\\\"remote\\\",\\\"many_models\\\":false,\\\"pipeline_fetch_max_batch_size\\\":1,\\\"enable_batch_run\\\":false,\\\"enable_run_restructure\\\":false,\\\"iterations\\\":40,\\\"primary_metric\\\":\\\"accuracy\\\",\\\"task_type\\\":\\\"classification\\\",\\\"data_script\\\":null,\\\"test_size\\\":0.0,\\\"validation_size\\\":0.0,\\\"n_cross_validations\\\":3,\\\"y_min\\\":null,\\\"y_max\\\":null,\\\"num_classes\\\":null,\\\"featurization\\\":\\\"auto\\\",\\\"_ignore_package_version_incompatibilities\\\":false,\\\"is_timeseries\\\":false,\\\"max_cores_per_iteration\\\":1,\\\"max_concurrent_iterations\\\":4,\\\"iteration_timeout_minutes\\\":null,\\\"mem_in_mb\\\":null,\\\"enforce_time_on_windows\\\":false,\\\"experiment_timeout_minutes\\\":30,\\\"experiment_exit_score\\\":null,\\\"whitelist_models\\\":null,\\\"blacklist_algos\\\":[\\\"TensorFlowLinearClassifier\\\",\\\"TensorFlowDNN\\\"],\\\"supported_models\\\":[\\\"BernoulliNaiveBayes\\\",\\\"SVM\\\",\\\"LinearSVM\\\",\\\"LightGBM\\\",\\\"TensorFlowDNN\\\",\\\"MultinomialNaiveBayes\\\",\\\"RandomForest\\\",\\\"LogisticRegression\\\",\\\"SGD\\\",\\\"KNN\\\",\\\"AveragedPerceptronClassifier\\\",\\\"ExtremeRandomTrees\\\",\\\"GradientBoosting\\\",\\\"TensorFlowLinearClassifier\\\",\\\"DecisionTree\\\",\\\"XGBoostClassifier\\\"],\\\"private_models\\\":[],\\\"auto_blacklist\\\":true,\\\"blacklist_samples_reached\\\":false,\\\"exclude_nan_labels\\\":true,\\\"verbosity\\\":20,\\\"_debug_log\\\":\\\"azureml_automl.log\\\",\\\"show_warnings\\\":false,\\\"model_explainability\\\":true,\\\"service_url\\\":null,\\\"sdk_url\\\":null,\\\"sdk_packages\\\":null,\\\"enable_onnx_compatible_models\\\":false,\\\"enable_split_onnx_featurizer_estimator_models\\\":false,\\\"vm_type\\\":\\\"STANDARD_D2_V2\\\",\\\"telemetry_verbosity\\\":20,\\\"send_telemetry\\\":true,\\\"enable_dnn\\\":false,\\\"scenario\\\":\\\"SDK-1.13.0\\\",\\\"environment_label\\\":null,\\\"save_mlflow\\\":false,\\\"force_text_dnn\\\":false,\\\"enable_feature_sweeping\\\":true,\\\"enable_early_stopping\\\":true,\\\"early_stopping_n_iters\\\":10,\\\"metrics\\\":null,\\\"enable_metric_confidence\\\":false,\\\"enable_ensembling\\\":true,\\\"enable_stack_ensembling\\\":true,\\\"ensemble_iterations\\\":15,\\\"enable_tf\\\":false,\\\"enable_subsampling\\\":false,\\\"subsample_seed\\\":null,\\\"enable_nimbusml\\\":false,\\\"enable_streaming\\\":false,\\\"force_streaming\\\":false,\\\"track_child_runs\\\":true,\\\"allowed_private_models\\\":[],\\\"label_column_name\\\":\\\"DEATH_EVENT\\\",\\\"weight_column_name\\\":null,\\\"cv_split_column_names\\\":null,\\\"enable_local_managed\\\":false,\\\"_local_managed_run_id\\\":null,\\\"cost_mode\\\":1,\\\"lag_length\\\":0,\\\"metric_operation\\\":\\\"maximize\\\",\\\"preprocess\\\":true}\", \"DataPrepJsonString\": \"{\\\\\\\"training_data\\\\\\\": {\\\\\\\"datasetId\\\\\\\": \\\\\\\"05d3e010-e974-4ea7-ad24-6e58608622e8\\\\\\\"}, \\\\\\\"datasets\\\\\\\": 0}\", \"EnableSubsampling\": \"False\", \"runTemplate\": \"AutoML\", \"azureml.runsource\": \"automl\", \"display_task_type\": \"classification\", \"dependencies_versions\": \"{\\\"azureml-widgets\\\": \\\"1.26.0\\\", \\\"azureml-train\\\": \\\"1.26.0\\\", \\\"azureml-train-restclients-hyperdrive\\\": \\\"1.26.0\\\", \\\"azureml-train-core\\\": \\\"1.26.0\\\", \\\"azureml-train-automl\\\": \\\"1.26.0\\\", \\\"azureml-train-automl-runtime\\\": \\\"1.26.0\\\", \\\"azureml-train-automl-client\\\": \\\"1.26.0\\\", \\\"azureml-tensorboard\\\": \\\"1.26.0\\\", \\\"azureml-telemetry\\\": \\\"1.26.0\\\", \\\"azureml-sdk\\\": \\\"1.26.0\\\", \\\"azureml-samples\\\": \\\"0+unknown\\\", \\\"azureml-pipeline\\\": \\\"1.26.0\\\", \\\"azureml-pipeline-steps\\\": \\\"1.26.0\\\", \\\"azureml-pipeline-core\\\": \\\"1.26.0\\\", \\\"azureml-opendatasets\\\": \\\"1.26.0\\\", \\\"azureml-model-management-sdk\\\": \\\"1.0.1b6.post1\\\", \\\"azureml-mlflow\\\": \\\"1.26.0\\\", \\\"azureml-interpret\\\": \\\"1.26.0\\\", \\\"azureml-explain-model\\\": \\\"1.26.0\\\", \\\"azureml-defaults\\\": \\\"1.26.0\\\", \\\"azureml-dataset-runtime\\\": \\\"1.26.0\\\", \\\"azureml-dataprep\\\": \\\"2.13.2\\\", \\\"azureml-dataprep-rslex\\\": \\\"1.11.2\\\", \\\"azureml-dataprep-native\\\": \\\"32.0.0\\\", \\\"azureml-datadrift\\\": \\\"1.26.0\\\", \\\"azureml-core\\\": \\\"1.26.0\\\", \\\"azureml-contrib-services\\\": \\\"1.26.0\\\", \\\"azureml-contrib-server\\\": \\\"1.26.0\\\", \\\"azureml-contrib-reinforcementlearning\\\": \\\"1.26.0\\\", \\\"azureml-contrib-pipeline-steps\\\": \\\"1.26.0\\\", \\\"azureml-contrib-notebook\\\": \\\"1.26.0\\\", \\\"azureml-contrib-gbdt\\\": \\\"1.26.0\\\", \\\"azureml-contrib-fairness\\\": \\\"1.26.0\\\", \\\"azureml-contrib-dataset\\\": \\\"1.26.0\\\", \\\"azureml-cli-common\\\": \\\"1.26.0\\\", \\\"azureml-automl-runtime\\\": \\\"1.26.0\\\", \\\"azureml-automl-dnn-nlp\\\": \\\"1.26.0\\\", \\\"azureml-automl-core\\\": \\\"1.26.0\\\", \\\"azureml-accel-models\\\": \\\"1.26.0\\\"}\", \"_aml_system_scenario_identification\": \"Remote.Parent\", \"ClientType\": \"SDK\", \"environment_cpu_name\": \"AzureML-AutoML\", \"environment_cpu_label\": \"prod\", \"environment_gpu_name\": \"AzureML-AutoML-GPU\", \"environment_gpu_label\": \"prod\", \"root_attribution\": \"automl\", \"attribution\": \"AutoML\", \"Orchestrator\": \"AutoML\", \"CancelUri\": \"https://southcentralus.experiments.azureml.net/jasmine/v1.0/subscriptions/9b72f9e6-56c5-4c16-991b-19c652994860/resourceGroups/aml-quickstarts-143097/providers/Microsoft.MachineLearningServices/workspaces/quick-starts-ws-143097/experimentids/1bf21f7d-d2d1-4352-a167-f1ab57fd101c/cancel/AutoML_b428813d-4f10-47e5-8828-f7c82f118840\", \"ClientSdkVersion\": \"1.25.0\", \"snapshotId\": \"00000000-0000-0000-0000-000000000000\", \"SetupRunId\": \"AutoML_b428813d-4f10-47e5-8828-f7c82f118840_setup\", \"SetupRunContainerId\": \"dcid.AutoML_b428813d-4f10-47e5-8828-f7c82f118840_setup\", \"FeaturizationRunJsonPath\": \"featurizer_container.json\", \"FeaturizationRunId\": \"AutoML_b428813d-4f10-47e5-8828-f7c82f118840_featurize\", \"ProblemInfoJsonString\": \"{\\\"dataset_num_categorical\\\": 0, \\\"is_sparse\\\": false, \\\"subsampling\\\": false, \\\"dataset_classes\\\": 2, \\\"dataset_features\\\": 12, \\\"dataset_samples\\\": 299, \\\"single_frequency_class_detected\\\": false}\", \"ModelExplainRunId\": \"AutoML_b428813d-4f10-47e5-8828-f7c82f118840_ModelExplain\"}, \"tags\": {\"model_explain_run\": \"best_run\", \"_aml_system_azureml.automlComponent\": \"AutoML\", \"pipeline_id\": \"\", \"score\": \"\", \"predicted_cost\": \"\", \"fit_time\": \"\", \"training_percent\": \"\", \"iteration\": \"\", \"run_preprocessor\": \"\", \"run_algorithm\": \"\", \"dynamic_whitelisting_iterations\": \"<24>;<30>;<35>;\", \"automl_best_child_run_id\": \"AutoML_b428813d-4f10-47e5-8828-f7c82f118840_38\", \"model_explain_best_run_child_id\": \"AutoML_b428813d-4f10-47e5-8828-f7c82f118840_38\"}, \"end_time_utc\": \"2021-04-19T02:23:16.539768Z\", \"status\": \"Completed\", \"log_files\": {}, \"log_groups\": [], \"run_duration\": \"0:16:51\", \"run_number\": \"82\", \"run_queued_details\": {\"status\": \"Completed\", \"details\": null}}, \"child_runs\": [{\"run_id\": \"AutoML_b428813d-4f10-47e5-8828-f7c82f118840_2\", \"run_number\": 86, \"metric\": null, \"status\": \"Completed\", \"run_type\": \"azureml.scriptrun\", \"training_percent\": \"100\", \"start_time\": \"2021-04-19T02:10:25.076314Z\", \"end_time\": \"2021-04-19T02:11:08.181153Z\", \"created_time\": \"2021-04-19T02:09:06.727606Z\", \"created_time_dt\": \"2021-04-19T02:09:06.727606Z\", \"duration\": \"0:02:01\", \"iteration\": \"2\", \"goal\": \"accuracy_max\", \"run_name\": \"MinMaxScaler, RandomForest\", \"run_properties\": \"copy=True, feature_range=(0, 1\", \"primary_metric\": 0.8159596, \"best_metric\": 0.81929293}, {\"run_id\": \"AutoML_b428813d-4f10-47e5-8828-f7c82f118840_3\", \"run_number\": 87, \"metric\": null, \"status\": \"Completed\", \"run_type\": \"azureml.scriptrun\", \"training_percent\": \"100\", \"start_time\": \"2021-04-19T02:09:21.455335Z\", \"end_time\": \"2021-04-19T02:10:11.09223Z\", \"created_time\": \"2021-04-19T02:09:06.737956Z\", \"created_time_dt\": \"2021-04-19T02:09:06.737956Z\", \"duration\": \"0:01:04\", \"iteration\": \"3\", \"goal\": \"accuracy_max\", \"run_name\": \"MinMaxScaler, RandomForest\", \"run_properties\": \"copy=True, feature_range=(0, 1\", \"primary_metric\": 0.81245791, \"best_metric\": 0.81929293}, {\"run_id\": \"AutoML_b428813d-4f10-47e5-8828-f7c82f118840_0\", \"run_number\": 88, \"metric\": null, \"status\": \"Completed\", \"run_type\": \"azureml.scriptrun\", \"training_percent\": \"100\", \"start_time\": \"2021-04-19T02:10:24.52473Z\", \"end_time\": \"2021-04-19T02:11:11.473499Z\", \"created_time\": \"2021-04-19T02:09:06.767114Z\", \"created_time_dt\": \"2021-04-19T02:09:06.767114Z\", \"duration\": \"0:02:04\", \"iteration\": \"0\", \"goal\": \"accuracy_max\", \"run_name\": \"MaxAbsScaler, LightGBM\", \"run_properties\": \"copy=True\", \"primary_metric\": 0.80252525, \"best_metric\": 0.80252525}, {\"run_id\": \"AutoML_b428813d-4f10-47e5-8828-f7c82f118840_1\", \"run_number\": 89, \"metric\": null, \"status\": \"Completed\", \"run_type\": \"azureml.scriptrun\", \"training_percent\": \"100\", \"start_time\": \"2021-04-19T02:09:24.575392Z\", \"end_time\": \"2021-04-19T02:10:08.60578Z\", \"created_time\": \"2021-04-19T02:09:06.761578Z\", \"created_time_dt\": \"2021-04-19T02:09:06.761578Z\", \"duration\": \"0:01:01\", \"iteration\": \"1\", \"goal\": \"accuracy_max\", \"run_name\": \"MaxAbsScaler, XGBoostClassifier\", \"run_properties\": \"copy=True\", \"primary_metric\": 0.81929293, \"best_metric\": 0.81929293}, {\"run_id\": \"AutoML_b428813d-4f10-47e5-8828-f7c82f118840_4\", \"run_number\": 90, \"metric\": null, \"status\": \"Completed\", \"run_type\": \"azureml.scriptrun\", \"training_percent\": \"100\", \"start_time\": \"2021-04-19T02:11:05.975276Z\", \"end_time\": \"2021-04-19T02:13:20.872865Z\", \"created_time\": \"2021-04-19T02:10:11.004021Z\", \"created_time_dt\": \"2021-04-19T02:10:11.004021Z\", \"duration\": \"0:03:09\", \"iteration\": \"4\", \"goal\": \"accuracy_max\", \"run_name\": \"MinMaxScaler, RandomForest\", \"run_properties\": \"copy=True, feature_range=(0, 1\", \"primary_metric\": 0.83939394, \"best_metric\": 0.83939394}, {\"run_id\": \"AutoML_b428813d-4f10-47e5-8828-f7c82f118840_5\", \"run_number\": 91, \"metric\": null, \"status\": \"Completed\", \"run_type\": \"azureml.scriptrun\", \"training_percent\": \"100\", \"start_time\": \"2021-04-19T02:11:10.048501Z\", \"end_time\": \"2021-04-19T02:16:32.129525Z\", \"created_time\": \"2021-04-19T02:10:16.759581Z\", \"created_time_dt\": \"2021-04-19T02:10:16.759581Z\", \"duration\": \"0:06:15\", \"iteration\": \"5\", \"goal\": \"accuracy_max\", \"run_name\": \"StandardScalerWrapper, XGBoostClassifier\", \"run_properties\": \"<azureml.automl.runtime.shared.model_wrappers.StandardScalerWrapper object at 0x7f6708c0db00\", \"primary_metric\": 0.82936027, \"best_metric\": 0.83939394}, {\"run_id\": \"AutoML_b428813d-4f10-47e5-8828-f7c82f118840_6\", \"run_number\": 92, \"metric\": null, \"status\": \"Completed\", \"run_type\": \"azureml.scriptrun\", \"training_percent\": \"100\", \"start_time\": \"2021-04-19T02:11:24.570946Z\", \"end_time\": \"2021-04-19T02:12:06.40597Z\", \"created_time\": \"2021-04-19T02:11:10.50928Z\", \"created_time_dt\": \"2021-04-19T02:11:10.50928Z\", \"duration\": \"0:00:55\", \"iteration\": \"6\", \"goal\": \"accuracy_max\", \"run_name\": \"MinMaxScaler, SVM\", \"run_properties\": \"copy=True, feature_range=(0, 1\", \"primary_metric\": 0.71232323, \"best_metric\": 0.83939394}, {\"run_id\": \"AutoML_b428813d-4f10-47e5-8828-f7c82f118840_7\", \"run_number\": 93, \"metric\": null, \"status\": \"Completed\", \"run_type\": \"azureml.scriptrun\", \"training_percent\": \"100\", \"start_time\": \"2021-04-19T02:11:27.646389Z\", \"end_time\": \"2021-04-19T02:12:12.108966Z\", \"created_time\": \"2021-04-19T02:11:16.874997Z\", \"created_time_dt\": \"2021-04-19T02:11:16.874997Z\", \"duration\": \"0:00:55\", \"iteration\": \"7\", \"goal\": \"accuracy_max\", \"run_name\": \"MinMaxScaler, SVM\", \"run_properties\": \"copy=True, feature_range=(0, 1\", \"primary_metric\": 0.69902357, \"best_metric\": 0.83939394}, {\"run_id\": \"AutoML_b428813d-4f10-47e5-8828-f7c82f118840_8\", \"run_number\": 94, \"metric\": null, \"status\": \"Completed\", \"run_type\": \"azureml.scriptrun\", \"training_percent\": \"100\", \"start_time\": \"2021-04-19T02:12:20.978666Z\", \"end_time\": \"2021-04-19T02:13:00.348333Z\", \"created_time\": \"2021-04-19T02:12:11.144062Z\", \"created_time_dt\": \"2021-04-19T02:12:11.144062Z\", \"duration\": \"0:00:49\", \"iteration\": \"8\", \"goal\": \"accuracy_max\", \"run_name\": \"MaxAbsScaler, GradientBoosting\", \"run_properties\": \"copy=True\", \"primary_metric\": 0.8193266, \"best_metric\": 0.83939394}, {\"run_id\": \"AutoML_b428813d-4f10-47e5-8828-f7c82f118840_9\", \"run_number\": 95, \"metric\": null, \"status\": \"Completed\", \"run_type\": \"azureml.scriptrun\", \"training_percent\": \"100\", \"start_time\": \"2021-04-19T02:12:27.020804Z\", \"end_time\": \"2021-04-19T02:13:12.766935Z\", \"created_time\": \"2021-04-19T02:12:17.431905Z\", \"created_time_dt\": \"2021-04-19T02:12:17.431905Z\", \"duration\": \"0:00:55\", \"iteration\": \"9\", \"goal\": \"accuracy_max\", \"run_name\": \"SparseNormalizer, XGBoostClassifier\", \"run_properties\": \"<azureml.automl.runtime.shared.model_wrappers.SparseNormalizer object at 0x7f6d7fac77b8\", \"primary_metric\": 0.80265993, \"best_metric\": 0.83939394}, {\"run_id\": \"AutoML_b428813d-4f10-47e5-8828-f7c82f118840_10\", \"run_number\": 96, \"metric\": null, \"status\": \"Completed\", \"run_type\": \"azureml.scriptrun\", \"training_percent\": \"100\", \"start_time\": \"2021-04-19T02:13:15.234245Z\", \"end_time\": \"2021-04-19T02:13:58.846683Z\", \"created_time\": \"2021-04-19T02:13:03.494807Z\", \"created_time_dt\": \"2021-04-19T02:13:03.494807Z\", \"duration\": \"0:00:55\", \"iteration\": \"10\", \"goal\": \"accuracy_max\", \"run_name\": \"SparseNormalizer, XGBoostClassifier\", \"run_properties\": \"<azureml.automl.runtime.shared.model_wrappers.SparseNormalizer object at 0x7f3d1b154b38\", \"primary_metric\": 0.82939394, \"best_metric\": 0.83939394}, {\"run_id\": \"AutoML_b428813d-4f10-47e5-8828-f7c82f118840_11\", \"run_number\": 97, \"metric\": null, \"status\": \"Completed\", \"run_type\": \"azureml.scriptrun\", \"training_percent\": \"100\", \"start_time\": \"2021-04-19T02:13:27.9271Z\", \"end_time\": \"2021-04-19T02:14:18.620867Z\", \"created_time\": \"2021-04-19T02:13:16.440682Z\", \"created_time_dt\": \"2021-04-19T02:13:16.440682Z\", \"duration\": \"0:01:02\", \"iteration\": \"11\", \"goal\": \"accuracy_max\", \"run_name\": \"RobustScaler, RandomForest\", \"run_properties\": \"copy=True, quantile_range=[10, 90], with_centering=True,\\n             with_scaling=True\", \"primary_metric\": 0.82262626, \"best_metric\": 0.83939394}, {\"run_id\": \"AutoML_b428813d-4f10-47e5-8828-f7c82f118840_12\", \"run_number\": 98, \"metric\": null, \"status\": \"Completed\", \"run_type\": \"azureml.scriptrun\", \"training_percent\": \"100\", \"start_time\": \"2021-04-19T02:13:36.401193Z\", \"end_time\": \"2021-04-19T02:14:22.243724Z\", \"created_time\": \"2021-04-19T02:13:23.773264Z\", \"created_time_dt\": \"2021-04-19T02:13:23.773264Z\", \"duration\": \"0:00:58\", \"iteration\": \"12\", \"goal\": \"accuracy_max\", \"run_name\": \"MaxAbsScaler, LightGBM\", \"run_properties\": \"copy=True\", \"primary_metric\": 0.80259259, \"best_metric\": 0.83939394}, {\"run_id\": \"AutoML_b428813d-4f10-47e5-8828-f7c82f118840_13\", \"run_number\": 99, \"metric\": null, \"status\": \"Completed\", \"run_type\": \"azureml.scriptrun\", \"training_percent\": \"100\", \"start_time\": \"2021-04-19T02:14:15.164309Z\", \"end_time\": \"2021-04-19T02:15:01.668643Z\", \"created_time\": \"2021-04-19T02:14:01.417712Z\", \"created_time_dt\": \"2021-04-19T02:14:01.417712Z\", \"duration\": \"0:01:00\", \"iteration\": \"13\", \"goal\": \"accuracy_max\", \"run_name\": \"StandardScalerWrapper, LightGBM\", \"run_properties\": \"<azureml.automl.runtime.shared.model_wrappers.StandardScalerWrapper object at 0x7f13cc577be0\", \"primary_metric\": 0.81602694, \"best_metric\": 0.83939394}, {\"run_id\": \"AutoML_b428813d-4f10-47e5-8828-f7c82f118840_14\", \"run_number\": 100, \"metric\": null, \"status\": \"Completed\", \"run_type\": \"azureml.scriptrun\", \"training_percent\": \"100\", \"start_time\": \"2021-04-19T02:14:32.52494Z\", \"end_time\": \"2021-04-19T02:15:18.201195Z\", \"created_time\": \"2021-04-19T02:14:20.75806Z\", \"created_time_dt\": \"2021-04-19T02:14:20.75806Z\", \"duration\": \"0:00:57\", \"iteration\": \"14\", \"goal\": \"accuracy_max\", \"run_name\": \"MaxAbsScaler, LightGBM\", \"run_properties\": \"copy=True\", \"primary_metric\": 0.8193266, \"best_metric\": 0.83939394}, {\"run_id\": \"AutoML_b428813d-4f10-47e5-8828-f7c82f118840_15\", \"run_number\": 101, \"metric\": null, \"status\": \"Completed\", \"run_type\": \"azureml.scriptrun\", \"training_percent\": \"100\", \"start_time\": \"2021-04-19T02:14:37.619556Z\", \"end_time\": \"2021-04-19T02:15:26.864261Z\", \"created_time\": \"2021-04-19T02:14:26.696858Z\", \"created_time_dt\": \"2021-04-19T02:14:26.696858Z\", \"duration\": \"0:01:00\", \"iteration\": \"15\", \"goal\": \"accuracy_max\", \"run_name\": \"StandardScalerWrapper, LightGBM\", \"run_properties\": \"<azureml.automl.runtime.shared.model_wrappers.StandardScalerWrapper object at 0x7f5a2b9a7f98\", \"primary_metric\": 0.8159596, \"best_metric\": 0.83939394}, {\"run_id\": \"AutoML_b428813d-4f10-47e5-8828-f7c82f118840_16\", \"run_number\": 102, \"metric\": null, \"status\": \"Completed\", \"run_type\": \"azureml.scriptrun\", \"training_percent\": \"100\", \"start_time\": \"2021-04-19T02:15:15.038585Z\", \"end_time\": \"2021-04-19T02:16:00.358288Z\", \"created_time\": \"2021-04-19T02:15:04.303186Z\", \"created_time_dt\": \"2021-04-19T02:15:04.303186Z\", \"duration\": \"0:00:56\", \"iteration\": \"16\", \"goal\": \"accuracy_max\", \"run_name\": \"StandardScalerWrapper, RandomForest\", \"run_properties\": \"<azureml.automl.runtime.shared.model_wrappers.StandardScalerWrapper object at 0x7f9e6d4a3f60\", \"primary_metric\": 0.84279461, \"best_metric\": 0.84279461}, {\"run_id\": \"AutoML_b428813d-4f10-47e5-8828-f7c82f118840_17\", \"run_number\": 103, \"metric\": null, \"status\": \"Completed\", \"run_type\": \"azureml.scriptrun\", \"training_percent\": \"100\", \"start_time\": \"2021-04-19T02:15:34.330344Z\", \"end_time\": \"2021-04-19T02:16:20.542758Z\", \"created_time\": \"2021-04-19T02:15:20.820373Z\", \"created_time_dt\": \"2021-04-19T02:15:20.820373Z\", \"duration\": \"0:00:59\", \"iteration\": \"17\", \"goal\": \"accuracy_max\", \"run_name\": \"TruncatedSVDWrapper, XGBoostClassifier\", \"run_properties\": \"n_components=0.7521052631578947, random_state=None\", \"primary_metric\": 0.76575758, \"best_metric\": 0.84279461}, {\"run_id\": \"AutoML_b428813d-4f10-47e5-8828-f7c82f118840_18\", \"run_number\": 104, \"metric\": null, \"status\": \"Completed\", \"run_type\": \"azureml.scriptrun\", \"training_percent\": \"100\", \"start_time\": \"2021-04-19T02:15:43.974381Z\", \"end_time\": \"2021-04-19T02:16:27.967202Z\", \"created_time\": \"2021-04-19T02:15:29.149379Z\", \"created_time_dt\": \"2021-04-19T02:15:29.149379Z\", \"duration\": \"0:00:58\", \"iteration\": \"18\", \"goal\": \"accuracy_max\", \"run_name\": \"MaxAbsScaler, LightGBM\", \"run_properties\": \"copy=True\", \"primary_metric\": 0.82265993, \"best_metric\": 0.84279461}, {\"run_id\": \"AutoML_b428813d-4f10-47e5-8828-f7c82f118840_19\", \"run_number\": 105, \"metric\": null, \"status\": \"Completed\", \"run_type\": \"azureml.scriptrun\", \"training_percent\": \"100\", \"start_time\": \"2021-04-19T02:16:17.231941Z\", \"end_time\": \"2021-04-19T02:17:03.453165Z\", \"created_time\": \"2021-04-19T02:16:02.627181Z\", \"created_time_dt\": \"2021-04-19T02:16:02.627181Z\", \"duration\": \"0:01:00\", \"iteration\": \"19\", \"goal\": \"accuracy_max\", \"run_name\": \"StandardScalerWrapper, XGBoostClassifier\", \"run_properties\": \"<azureml.automl.runtime.shared.model_wrappers.StandardScalerWrapper object at 0x7fc9d2549828\", \"primary_metric\": 0.80249158, \"best_metric\": 0.84279461}, {\"run_id\": \"AutoML_b428813d-4f10-47e5-8828-f7c82f118840_20\", \"run_number\": 106, \"metric\": null, \"status\": \"Completed\", \"run_type\": \"azureml.scriptrun\", \"training_percent\": \"100\", \"start_time\": \"2021-04-19T02:16:40.36062Z\", \"end_time\": \"2021-04-19T02:17:27.841716Z\", \"created_time\": \"2021-04-19T02:16:22.932634Z\", \"created_time_dt\": \"2021-04-19T02:16:22.932634Z\", \"duration\": \"0:01:04\", \"iteration\": \"20\", \"goal\": \"accuracy_max\", \"run_name\": \"RobustScaler, LightGBM\", \"run_properties\": \"copy=True, quantile_range=[25, 75], with_centering=False,\\n             with_scaling=False\", \"primary_metric\": 0.83606061, \"best_metric\": 0.84279461}, {\"run_id\": \"AutoML_b428813d-4f10-47e5-8828-f7c82f118840_21\", \"run_number\": 107, \"metric\": null, \"status\": \"Completed\", \"run_type\": \"azureml.scriptrun\", \"training_percent\": \"100\", \"start_time\": \"2021-04-19T02:16:46.179142Z\", \"end_time\": \"2021-04-19T02:17:39.190231Z\", \"created_time\": \"2021-04-19T02:16:30.403806Z\", \"created_time_dt\": \"2021-04-19T02:16:30.403806Z\", \"duration\": \"0:01:08\", \"iteration\": \"21\", \"goal\": \"accuracy_max\", \"run_name\": \"RobustScaler, LightGBM\", \"run_properties\": \"copy=True, quantile_range=[10, 90], with_centering=False,\\n             with_scaling=True\", \"primary_metric\": 0.82592593, \"best_metric\": 0.84279461}, {\"run_id\": \"AutoML_b428813d-4f10-47e5-8828-f7c82f118840_22\", \"run_number\": 108, \"metric\": null, \"status\": \"Completed\", \"run_type\": \"azureml.scriptrun\", \"training_percent\": \"100\", \"start_time\": \"2021-04-19T02:16:46.972812Z\", \"end_time\": \"2021-04-19T02:17:27.821597Z\", \"created_time\": \"2021-04-19T02:16:35.454925Z\", \"created_time_dt\": \"2021-04-19T02:16:35.454925Z\", \"duration\": \"0:00:52\", \"iteration\": \"22\", \"goal\": \"accuracy_max\", \"run_name\": \"SparseNormalizer, XGBoostClassifier\", \"run_properties\": \"<azureml.automl.runtime.shared.model_wrappers.SparseNormalizer object at 0x7f463ba19668\", \"primary_metric\": 0.81282828, \"best_metric\": 0.84279461}, {\"run_id\": \"AutoML_b428813d-4f10-47e5-8828-f7c82f118840_23\", \"run_number\": 109, \"metric\": null, \"status\": \"Completed\", \"run_type\": \"azureml.scriptrun\", \"training_percent\": \"100\", \"start_time\": \"2021-04-19T02:17:22.042872Z\", \"end_time\": \"2021-04-19T02:18:06.473783Z\", \"created_time\": \"2021-04-19T02:17:06.087227Z\", \"created_time_dt\": \"2021-04-19T02:17:06.087227Z\", \"duration\": \"0:01:00\", \"iteration\": \"23\", \"goal\": \"accuracy_max\", \"run_name\": \"StandardScalerWrapper, RandomForest\", \"run_properties\": \"<azureml.automl.runtime.shared.model_wrappers.StandardScalerWrapper object at 0x7fd781f07d68\", \"primary_metric\": 0.85279461, \"best_metric\": 0.85279461}, {\"run_id\": \"AutoML_b428813d-4f10-47e5-8828-f7c82f118840_25\", \"run_number\": 110, \"metric\": null, \"status\": \"Completed\", \"run_type\": \"azureml.scriptrun\", \"training_percent\": \"100\", \"start_time\": \"2021-04-19T02:17:42.686092Z\", \"end_time\": \"2021-04-19T02:18:33.433609Z\", \"created_time\": \"2021-04-19T02:17:31.937216Z\", \"created_time_dt\": \"2021-04-19T02:17:31.937216Z\", \"duration\": \"0:01:01\", \"iteration\": \"25\", \"goal\": \"accuracy_max\", \"run_name\": \"StandardScalerWrapper, XGBoostClassifier\", \"run_properties\": \"<azureml.automl.runtime.shared.model_wrappers.StandardScalerWrapper object at 0x7f0cec0072e8\", \"primary_metric\": 0.8193266, \"best_metric\": 0.85279461}, {\"run_id\": \"AutoML_b428813d-4f10-47e5-8828-f7c82f118840_24\", \"run_number\": 111, \"metric\": null, \"status\": \"Completed\", \"run_type\": \"azureml.scriptrun\", \"training_percent\": \"100\", \"start_time\": \"2021-04-19T02:17:43.147189Z\", \"end_time\": \"2021-04-19T02:18:32.530208Z\", \"created_time\": \"2021-04-19T02:17:32.031385Z\", \"created_time_dt\": \"2021-04-19T02:17:32.031385Z\", \"duration\": \"0:01:00\", \"iteration\": \"24\", \"goal\": \"accuracy_max\", \"run_name\": \"StandardScalerWrapper, RandomForest\", \"run_properties\": \"<azureml.automl.runtime.shared.model_wrappers.StandardScalerWrapper object at 0x7fa5ffed8860\", \"primary_metric\": 0.7959596, \"best_metric\": 0.85279461}, {\"run_id\": \"AutoML_b428813d-4f10-47e5-8828-f7c82f118840_26\", \"run_number\": 112, \"metric\": null, \"status\": \"Completed\", \"run_type\": \"azureml.scriptrun\", \"training_percent\": \"100\", \"start_time\": \"2021-04-19T02:17:56.288238Z\", \"end_time\": \"2021-04-19T02:18:46.11535Z\", \"created_time\": \"2021-04-19T02:17:41.359363Z\", \"created_time_dt\": \"2021-04-19T02:17:41.359363Z\", \"duration\": \"0:01:04\", \"iteration\": \"26\", \"goal\": \"accuracy_max\", \"run_name\": \"MaxAbsScaler, LightGBM\", \"run_properties\": \"copy=True\", \"primary_metric\": 0.77925926, \"best_metric\": 0.85279461}, {\"run_id\": \"AutoML_b428813d-4f10-47e5-8828-f7c82f118840_27\", \"run_number\": 113, \"metric\": null, \"status\": \"Completed\", \"run_type\": \"azureml.scriptrun\", \"training_percent\": \"100\", \"start_time\": \"2021-04-19T02:18:21.89368Z\", \"end_time\": \"2021-04-19T02:19:13.530805Z\", \"created_time\": \"2021-04-19T02:18:09.105229Z\", \"created_time_dt\": \"2021-04-19T02:18:09.105229Z\", \"duration\": \"0:01:04\", \"iteration\": \"27\", \"goal\": \"accuracy_max\", \"run_name\": \"StandardScalerWrapper, RandomForest\", \"run_properties\": \"<azureml.automl.runtime.shared.model_wrappers.StandardScalerWrapper object at 0x7f3e52d0b7b8\", \"primary_metric\": 0.84272727, \"best_metric\": 0.85279461}, {\"run_id\": \"AutoML_b428813d-4f10-47e5-8828-f7c82f118840_28\", \"run_number\": 114, \"metric\": null, \"status\": \"Completed\", \"run_type\": \"azureml.scriptrun\", \"training_percent\": \"100\", \"start_time\": \"2021-04-19T02:18:49.87198Z\", \"end_time\": \"2021-04-19T02:19:44.152808Z\", \"created_time\": \"2021-04-19T02:18:34.697757Z\", \"created_time_dt\": \"2021-04-19T02:18:34.697757Z\", \"duration\": \"0:01:09\", \"iteration\": \"28\", \"goal\": \"accuracy_max\", \"run_name\": \"MinMaxScaler, LightGBM\", \"run_properties\": \"copy=True, feature_range=(0, 1\", \"primary_metric\": 0.75919192, \"best_metric\": 0.85279461}, {\"run_id\": \"AutoML_b428813d-4f10-47e5-8828-f7c82f118840_29\", \"run_number\": 115, \"metric\": null, \"status\": \"Completed\", \"run_type\": \"azureml.scriptrun\", \"training_percent\": \"100\", \"start_time\": \"2021-04-19T02:18:49.784374Z\", \"end_time\": \"2021-04-19T02:19:38.594381Z\", \"created_time\": \"2021-04-19T02:18:39.173044Z\", \"created_time_dt\": \"2021-04-19T02:18:39.173044Z\", \"duration\": \"0:00:59\", \"iteration\": \"29\", \"goal\": \"accuracy_max\", \"run_name\": \"StandardScalerWrapper, LightGBM\", \"run_properties\": \"<azureml.automl.runtime.shared.model_wrappers.StandardScalerWrapper object at 0x7f488e12f400\", \"primary_metric\": 0.84272727, \"best_metric\": 0.85279461}, {\"run_id\": \"AutoML_b428813d-4f10-47e5-8828-f7c82f118840_30\", \"run_number\": 116, \"metric\": null, \"status\": \"Completed\", \"run_type\": \"azureml.scriptrun\", \"training_percent\": \"100\", \"start_time\": \"2021-04-19T02:19:03.177436Z\", \"end_time\": \"2021-04-19T02:19:53.408554Z\", \"created_time\": \"2021-04-19T02:18:49.54686Z\", \"created_time_dt\": \"2021-04-19T02:18:49.54686Z\", \"duration\": \"0:01:03\", \"iteration\": \"30\", \"goal\": \"accuracy_max\", \"run_name\": \"MaxAbsScaler, RandomForest\", \"run_properties\": \"copy=True\", \"primary_metric\": 0.67902357, \"best_metric\": 0.85279461}, {\"run_id\": \"AutoML_b428813d-4f10-47e5-8828-f7c82f118840_31\", \"run_number\": 117, \"metric\": null, \"status\": \"Completed\", \"run_type\": \"azureml.scriptrun\", \"training_percent\": \"100\", \"start_time\": \"2021-04-19T02:19:29.053499Z\", \"end_time\": \"2021-04-19T02:20:18.77171Z\", \"created_time\": \"2021-04-19T02:19:15.531173Z\", \"created_time_dt\": \"2021-04-19T02:19:15.531173Z\", \"duration\": \"0:01:03\", \"iteration\": \"31\", \"goal\": \"accuracy_max\", \"run_name\": \"MaxAbsScaler, LightGBM\", \"run_properties\": \"copy=True\", \"primary_metric\": 0.73912458, \"best_metric\": 0.85279461}, {\"run_id\": \"AutoML_b428813d-4f10-47e5-8828-f7c82f118840_32\", \"run_number\": 118, \"metric\": null, \"status\": \"Completed\", \"run_type\": \"azureml.scriptrun\", \"training_percent\": \"100\", \"start_time\": \"2021-04-19T02:19:55.505545Z\", \"end_time\": \"2021-04-19T02:20:39.398577Z\", \"created_time\": \"2021-04-19T02:19:41.159767Z\", \"created_time_dt\": \"2021-04-19T02:19:41.159767Z\", \"duration\": \"0:00:58\", \"iteration\": \"32\", \"goal\": \"accuracy_max\", \"run_name\": \"MinMaxScaler, LightGBM\", \"run_properties\": \"copy=True, feature_range=(0, 1\", \"primary_metric\": 0.83606061, \"best_metric\": 0.85279461}, {\"run_id\": \"AutoML_b428813d-4f10-47e5-8828-f7c82f118840_33\", \"run_number\": 119, \"metric\": null, \"status\": \"Completed\", \"run_type\": \"azureml.scriptrun\", \"training_percent\": \"100\", \"start_time\": \"2021-04-19T02:20:02.07422Z\", \"end_time\": \"2021-04-19T02:20:52.166308Z\", \"created_time\": \"2021-04-19T02:19:46.636147Z\", \"created_time_dt\": \"2021-04-19T02:19:46.636147Z\", \"duration\": \"0:01:05\", \"iteration\": \"33\", \"goal\": \"accuracy_max\", \"run_name\": \"MinMaxScaler, LightGBM\", \"run_properties\": \"copy=True, feature_range=(0, 1\", \"primary_metric\": 0.82599327, \"best_metric\": 0.85279461}, {\"run_id\": \"AutoML_b428813d-4f10-47e5-8828-f7c82f118840_34\", \"run_number\": 120, \"metric\": null, \"status\": \"Completed\", \"run_type\": \"azureml.scriptrun\", \"training_percent\": \"100\", \"start_time\": \"2021-04-19T02:20:09.616676Z\", \"end_time\": \"2021-04-19T02:20:53.766041Z\", \"created_time\": \"2021-04-19T02:19:55.510924Z\", \"created_time_dt\": \"2021-04-19T02:19:55.510924Z\", \"duration\": \"0:00:58\", \"iteration\": \"34\", \"goal\": \"accuracy_max\", \"run_name\": \"StandardScalerWrapper, XGBoostClassifier\", \"run_properties\": \"<azureml.automl.runtime.shared.model_wrappers.StandardScalerWrapper object at 0x7f8bcaff8da0\", \"primary_metric\": 0.7959596, \"best_metric\": 0.85279461}, {\"run_id\": \"AutoML_b428813d-4f10-47e5-8828-f7c82f118840_35\", \"run_number\": 121, \"metric\": null, \"status\": \"Completed\", \"run_type\": \"azureml.scriptrun\", \"training_percent\": \"100\", \"start_time\": \"2021-04-19T02:20:31.536243Z\", \"end_time\": \"2021-04-19T02:21:25.980773Z\", \"created_time\": \"2021-04-19T02:20:22.061251Z\", \"created_time_dt\": \"2021-04-19T02:20:22.061251Z\", \"duration\": \"0:01:03\", \"iteration\": \"35\", \"goal\": \"accuracy_max\", \"run_name\": \"SparseNormalizer, RandomForest\", \"run_properties\": \"<azureml.automl.runtime.shared.model_wrappers.SparseNormalizer object at 0x7f25927b62e8\", \"primary_metric\": 0.70222222, \"best_metric\": 0.85279461}, {\"run_id\": \"AutoML_b428813d-4f10-47e5-8828-f7c82f118840_36\", \"run_number\": 122, \"metric\": null, \"status\": \"Completed\", \"run_type\": \"azureml.scriptrun\", \"training_percent\": \"100\", \"start_time\": \"2021-04-19T02:20:54.523894Z\", \"end_time\": \"2021-04-19T02:21:41.125654Z\", \"created_time\": \"2021-04-19T02:20:41.96338Z\", \"created_time_dt\": \"2021-04-19T02:20:41.96338Z\", \"duration\": \"0:00:59\", \"iteration\": \"36\", \"goal\": \"accuracy_max\", \"run_name\": \"StandardScalerWrapper, XGBoostClassifier\", \"run_properties\": \"<azureml.automl.runtime.shared.model_wrappers.StandardScalerWrapper object at 0x7fba933a0240\", \"primary_metric\": 0.81925926, \"best_metric\": 0.85279461}, {\"run_id\": \"AutoML_b428813d-4f10-47e5-8828-f7c82f118840_37\", \"run_number\": 123, \"metric\": null, \"status\": \"Canceled\", \"run_type\": \"azureml.scriptrun\", \"training_percent\": \"100\", \"start_time\": \"2021-04-19T02:21:07.150313Z\", \"end_time\": \"2021-04-19T02:21:48.358657Z\", \"created_time\": \"2021-04-19T02:20:54.524094Z\", \"created_time_dt\": \"2021-04-19T02:20:54.524094Z\", \"duration\": \"0:00:53\", \"iteration\": \"37\", \"goal\": \"accuracy_max\", \"run_name\": \"RobustScaler, RandomForest\", \"run_properties\": \"copy=True, quantile_range=[10, 90], with_centering=True,\\n             with_scaling=True\", \"primary_metric\": 0.82589226, \"best_metric\": 0.85279461}, {\"run_id\": \"AutoML_b428813d-4f10-47e5-8828-f7c82f118840_38\", \"run_number\": 124, \"metric\": null, \"status\": \"Completed\", \"run_type\": \"azureml.scriptrun\", \"training_percent\": \"100\", \"start_time\": \"2021-04-19T02:22:00.836733Z\", \"end_time\": \"2021-04-19T02:23:01.969072Z\", \"created_time\": \"2021-04-19T02:21:50.268812Z\", \"created_time_dt\": \"2021-04-19T02:21:50.268812Z\", \"duration\": \"0:01:11\", \"iteration\": \"38\", \"goal\": \"accuracy_max\", \"run_name\": \"VotingEnsemble\", \"run_properties\": \"classification_labels=None,\\n                              estimators=[('23',\\n                                           Pipeline(memory=None,\\n                                                    steps=[('standardscalerwrapper',\\n                                                            <azureml.automl.runtime.shared.model_wrappers.StandardScalerWrapper object at 0x7f047849c4e0>\", \"primary_metric\": 0.86956229, \"best_metric\": 0.86956229}, {\"run_id\": \"AutoML_b428813d-4f10-47e5-8828-f7c82f118840_39\", \"run_number\": 125, \"metric\": null, \"status\": \"Completed\", \"run_type\": \"azureml.scriptrun\", \"training_percent\": \"100\", \"start_time\": \"2021-04-19T02:22:02.142504Z\", \"end_time\": \"2021-04-19T02:23:09.382175Z\", \"created_time\": \"2021-04-19T02:21:50.402207Z\", \"created_time_dt\": \"2021-04-19T02:21:50.402207Z\", \"duration\": \"0:01:18\", \"iteration\": \"39\", \"goal\": \"accuracy_max\", \"run_name\": \"StackEnsemble\", \"run_properties\": \"base_learners=[('23',\\n                                        Pipeline(memory=None,\\n                                                 steps=[('standardscalerwrapper',\\n                                                         <azureml.automl.runtime.shared.model_wrappers.StandardScalerWrapper object at 0x7f71d02fd320>\", \"primary_metric\": 0.84949495, \"best_metric\": 0.86956229}], \"children_metrics\": {\"categories\": [0], \"series\": {\"norm_macro_recall\": [{\"categories\": [\"0\", \"1\", \"2\", \"3\", \"4\", \"5\", \"6\", \"7\", \"8\", \"9\", \"10\", \"11\", \"12\", \"13\", \"14\", \"15\", \"16\", \"17\", \"18\", \"19\", \"20\", \"21\", \"22\", \"23\", \"24\", \"25\", \"26\", \"27\", \"28\", \"29\", \"30\", \"31\", \"32\", \"33\", \"34\", \"35\", \"36\", \"37\", \"38\", \"39\"], \"mode\": \"markers\", \"name\": \"norm_macro_recall\", \"stepped\": false, \"type\": \"scatter\", \"data\": [0.5331084779360642, 0.5799208075070145, 0.5783192059054129, 0.54066184411012, 0.634140544485372, 0.582183168390065, 0.19740232843681124, 0.14494987598435874, 0.5850372540027712, 0.5075227937296902, 0.5710577572646539, 0.5903282592937765, 0.4507551886862231, 0.4698028077338421, 0.5206876827566483, 0.5550244826106895, 0.6063472339334408, 0.4327800707111052, 0.5784794646863612, 0.5083438117920877, 0.602303288510185, 0.5697766732249491, 0.5497818015059394, 0.6416796106451278, 0.4257015636325982, 0.5123823330719882, 0.4230245023348471, 0.6206615482477551, 0.3428502394019635, 0.6231467921123094, 0.0, 0.255414527828321, 0.6152388842044014, 0.5774212636281602, 0.46363358432323953, 0.31936123315433657, 0.5632672080947944, 0.6040104143552419, 0.6664013767462044, 0.6284234973890146]}, {\"categories\": [\"0\", \"1\", \"2\", \"3\", \"4\", \"5\", \"6\", \"7\", \"8\", \"9\", \"10\", \"11\", \"12\", \"13\", \"14\", \"15\", \"16\", \"17\", \"18\", \"19\", \"20\", \"21\", \"22\", \"23\", \"24\", \"25\", \"26\", \"27\", \"28\", \"29\", \"30\", \"31\", \"32\", \"33\", \"34\", \"35\", \"36\", \"37\", \"38\", \"39\"], \"mode\": \"lines\", \"name\": \"norm_macro_recall_max\", \"stepped\": true, \"type\": \"scatter\", \"data\": [0.5331084779360642, 0.5799208075070145, 0.5799208075070145, 0.5799208075070145, 0.634140544485372, 0.634140544485372, 0.634140544485372, 0.634140544485372, 0.634140544485372, 0.634140544485372, 0.634140544485372, 0.634140544485372, 0.634140544485372, 0.634140544485372, 0.634140544485372, 0.634140544485372, 0.634140544485372, 0.634140544485372, 0.634140544485372, 0.634140544485372, 0.634140544485372, 0.634140544485372, 0.634140544485372, 0.6416796106451278, 0.6416796106451278, 0.6416796106451278, 0.6416796106451278, 0.6416796106451278, 0.6416796106451278, 0.6416796106451278, 0.6416796106451278, 0.6416796106451278, 0.6416796106451278, 0.6416796106451278, 0.6416796106451278, 0.6416796106451278, 0.6416796106451278, 0.6416796106451278, 0.6664013767462044, 0.6664013767462044]}], \"AUC_macro\": [{\"categories\": [\"0\", \"1\", \"2\", \"3\", \"4\", \"5\", \"6\", \"7\", \"8\", \"9\", \"10\", \"11\", \"12\", \"13\", \"14\", \"15\", \"16\", \"17\", \"18\", \"19\", \"20\", \"21\", \"22\", \"23\", \"24\", \"25\", \"26\", \"27\", \"28\", \"29\", \"30\", \"31\", \"32\", \"33\", \"34\", \"35\", \"36\", \"37\", \"38\", \"39\"], \"mode\": \"markers\", \"name\": \"AUC_macro\", \"stepped\": false, \"type\": \"scatter\", \"data\": [0.8550287233045853, 0.875938401455643, 0.9002115415908519, 0.8707789562961977, 0.8993028496476771, 0.8939539539539539, 0.7414457314457316, 0.7208138680552474, 0.895015015015015, 0.8347640744192469, 0.8723482595896389, 0.896335498059636, 0.8713443739305808, 0.8722483074207211, 0.8835903884179747, 0.8759334211058348, 0.8952146728008796, 0.8379635546876926, 0.8894087683742856, 0.8895252395252395, 0.8787673387673388, 0.8798115849839988, 0.8708056825298205, 0.9061392426909668, 0.8935643525298698, 0.8663449410001135, 0.8744849282780317, 0.9062822428339671, 0.8559773566670118, 0.8849198952647228, 0.8899340473478404, 0.8110429148360184, 0.884242690966829, 0.8817169879238845, 0.8508496920565887, 0.7285117136841275, 0.890116471150954, 0.8820511644649575, 0.8996966917656573, 0.9022384946522877]}, {\"categories\": [\"0\", \"1\", \"2\", \"3\", \"4\", \"5\", \"6\", \"7\", \"8\", \"9\", \"10\", \"11\", \"12\", \"13\", \"14\", \"15\", \"16\", \"17\", \"18\", \"19\", \"20\", \"21\", \"22\", \"23\", \"24\", \"25\", \"26\", \"27\", \"28\", \"29\", \"30\", \"31\", \"32\", \"33\", \"34\", \"35\", \"36\", \"37\", \"38\", \"39\"], \"mode\": \"lines\", \"name\": \"AUC_macro_max\", \"stepped\": true, \"type\": \"scatter\", \"data\": [0.8550287233045853, 0.875938401455643, 0.9002115415908519, 0.9002115415908519, 0.9002115415908519, 0.9002115415908519, 0.9002115415908519, 0.9002115415908519, 0.9002115415908519, 0.9002115415908519, 0.9002115415908519, 0.9002115415908519, 0.9002115415908519, 0.9002115415908519, 0.9002115415908519, 0.9002115415908519, 0.9002115415908519, 0.9002115415908519, 0.9002115415908519, 0.9002115415908519, 0.9002115415908519, 0.9002115415908519, 0.9002115415908519, 0.9061392426909668, 0.9061392426909668, 0.9061392426909668, 0.9061392426909668, 0.9062822428339671, 0.9062822428339671, 0.9062822428339671, 0.9062822428339671, 0.9062822428339671, 0.9062822428339671, 0.9062822428339671, 0.9062822428339671, 0.9062822428339671, 0.9062822428339671, 0.9062822428339671, 0.9062822428339671, 0.9062822428339671]}], \"log_loss\": [{\"categories\": [\"0\", \"1\", \"2\", \"3\", \"4\", \"5\", \"6\", \"7\", \"8\", \"9\", \"10\", \"11\", \"12\", \"13\", \"14\", \"15\", \"16\", \"17\", \"18\", \"19\", \"20\", \"21\", \"22\", \"23\", \"24\", \"25\", \"26\", \"27\", \"28\", \"29\", \"30\", \"31\", \"32\", \"33\", \"34\", \"35\", \"36\", \"37\", \"38\", \"39\"], \"mode\": \"markers\", \"name\": \"log_loss\", \"stepped\": false, \"type\": \"scatter\", \"data\": [0.5791360620615199, 0.4649911805096085, 0.397398166086847, 0.43069014687086155, 0.4034995290049788, 0.3968326406474156, 0.5785601858739192, 0.5736506391233133, 0.3956401960315851, 0.5035212911897063, 0.4296126864633482, 0.39938697122266836, 0.4750010668021987, 0.4837681890675325, 0.44189747723224265, 0.421431223184565, 0.42165991874394254, 0.5092101378901223, 0.4010657608743164, 0.4936201399323051, 0.4070519544352935, 0.41839522262543416, 0.48443723147700263, 0.4034374810903327, 0.47999019370509205, 0.5105662523762184, 0.45282749120311916, 0.3908301861689983, 0.47766629470616584, 0.39965148795746214, 0.6106563181954213, 0.5254598460561787, 0.4066395703666003, 0.40962889410484576, 0.5238235401905692, 0.6575356612377865, 0.40399908341117413, 0.6224815165333365, 0.4108024938438826, 0.42421141020656594]}, {\"categories\": [\"0\", \"1\", \"2\", \"3\", \"4\", \"5\", \"6\", \"7\", \"8\", \"9\", \"10\", \"11\", \"12\", \"13\", \"14\", \"15\", \"16\", \"17\", \"18\", \"19\", \"20\", \"21\", \"22\", \"23\", \"24\", \"25\", \"26\", \"27\", \"28\", \"29\", \"30\", \"31\", \"32\", \"33\", \"34\", \"35\", \"36\", \"37\", \"38\", \"39\"], \"mode\": \"lines\", \"name\": \"log_loss_min\", \"stepped\": true, \"type\": \"scatter\", \"data\": [0.5791360620615199, 0.4649911805096085, 0.397398166086847, 0.397398166086847, 0.397398166086847, 0.3968326406474156, 0.3968326406474156, 0.3968326406474156, 0.3956401960315851, 0.3956401960315851, 0.3956401960315851, 0.3956401960315851, 0.3956401960315851, 0.3956401960315851, 0.3956401960315851, 0.3956401960315851, 0.3956401960315851, 0.3956401960315851, 0.3956401960315851, 0.3956401960315851, 0.3956401960315851, 0.3956401960315851, 0.3956401960315851, 0.3956401960315851, 0.3956401960315851, 0.3956401960315851, 0.3956401960315851, 0.3908301861689983, 0.3908301861689983, 0.3908301861689983, 0.3908301861689983, 0.3908301861689983, 0.3908301861689983, 0.3908301861689983, 0.3908301861689983, 0.3908301861689983, 0.3908301861689983, 0.3908301861689983, 0.3908301861689983, 0.3908301861689983]}], \"average_precision_score_macro\": [{\"categories\": [\"0\", \"1\", \"2\", \"3\", \"4\", \"5\", \"6\", \"7\", \"8\", \"9\", \"10\", \"11\", \"12\", \"13\", \"14\", \"15\", \"16\", \"17\", \"18\", \"19\", \"20\", \"21\", \"22\", \"23\", \"24\", \"25\", \"26\", \"27\", \"28\", \"29\", \"30\", \"31\", \"32\", \"33\", \"34\", \"35\", \"36\", \"37\", \"38\", \"39\"], \"mode\": \"markers\", \"name\": \"average_precision_score_macro\", \"stepped\": false, \"type\": \"scatter\", \"data\": [0.8323265818260129, 0.8521645844042397, 0.8733699454916186, 0.8538004045901505, 0.8728669493951123, 0.8696604258284012, 0.7217124986335913, 0.7054033125582921, 0.8746556148910436, 0.812148279236013, 0.8505468707843259, 0.8786607222032353, 0.8382720336141182, 0.8552399103427493, 0.8606902364696672, 0.8592073464960079, 0.8676856042970139, 0.7993405303700875, 0.8668025732949718, 0.870399579079106, 0.8638632050038638, 0.858972030458598, 0.8566123304645975, 0.8902538784559025, 0.8761400675153097, 0.8470775368824565, 0.848694916753132, 0.8856034277163708, 0.8363755452045919, 0.8636208696930425, 0.8662614158296954, 0.7875552365799418, 0.8595189639986277, 0.8629548258497151, 0.823174021343316, 0.7094990293591371, 0.86341216468749, 0.8637246745175724, 0.8807063760708056, 0.8797239114798575]}, {\"categories\": [\"0\", \"1\", \"2\", \"3\", \"4\", \"5\", \"6\", \"7\", \"8\", \"9\", \"10\", \"11\", \"12\", \"13\", \"14\", \"15\", \"16\", \"17\", \"18\", \"19\", \"20\", \"21\", \"22\", \"23\", \"24\", \"25\", \"26\", \"27\", \"28\", \"29\", \"30\", \"31\", \"32\", \"33\", \"34\", \"35\", \"36\", \"37\", \"38\", \"39\"], \"mode\": \"lines\", \"name\": \"average_precision_score_macro_max\", \"stepped\": true, \"type\": \"scatter\", \"data\": [0.8323265818260129, 0.8521645844042397, 0.8733699454916186, 0.8733699454916186, 0.8733699454916186, 0.8733699454916186, 0.8733699454916186, 0.8733699454916186, 0.8746556148910436, 0.8746556148910436, 0.8746556148910436, 0.8786607222032353, 0.8786607222032353, 0.8786607222032353, 0.8786607222032353, 0.8786607222032353, 0.8786607222032353, 0.8786607222032353, 0.8786607222032353, 0.8786607222032353, 0.8786607222032353, 0.8786607222032353, 0.8786607222032353, 0.8902538784559025, 0.8902538784559025, 0.8902538784559025, 0.8902538784559025, 0.8902538784559025, 0.8902538784559025, 0.8902538784559025, 0.8902538784559025, 0.8902538784559025, 0.8902538784559025, 0.8902538784559025, 0.8902538784559025, 0.8902538784559025, 0.8902538784559025, 0.8902538784559025, 0.8902538784559025, 0.8902538784559025]}], \"f1_score_micro\": [{\"categories\": [\"0\", \"1\", \"2\", \"3\", \"4\", \"5\", \"6\", \"7\", \"8\", \"9\", \"10\", \"11\", \"12\", \"13\", \"14\", \"15\", \"16\", \"17\", \"18\", \"19\", \"20\", \"21\", \"22\", \"23\", \"24\", \"25\", \"26\", \"27\", \"28\", \"29\", \"30\", \"31\", \"32\", \"33\", \"34\", \"35\", \"36\", \"37\", \"38\", \"39\"], \"mode\": \"markers\", \"name\": \"f1_score_micro\", \"stepped\": false, \"type\": \"scatter\", \"data\": [0.8025252525252525, 0.8192929292929293, 0.8159595959595961, 0.8124579124579125, 0.8393939393939394, 0.8293602693602694, 0.7123232323232322, 0.6990235690235691, 0.8193265993265993, 0.8026599326599326, 0.8293939393939395, 0.8226262626262626, 0.8025925925925925, 0.816026936026936, 0.8193265993265993, 0.8159595959595961, 0.8427946127946129, 0.7657575757575757, 0.8226599326599326, 0.8024915824915825, 0.8360606060606061, 0.825925925925926, 0.8128282828282828, 0.8527946127946128, 0.7959595959595959, 0.8193265993265992, 0.7792592592592592, 0.8427272727272728, 0.7591919191919191, 0.8427272727272728, 0.6790235690235691, 0.7391245791245792, 0.8360606060606061, 0.8259932659932661, 0.7959595959595959, 0.7022222222222222, 0.8192592592592592, 0.8258922558922559, 0.8695622895622895, 0.8494949494949496]}, {\"categories\": [\"0\", \"1\", \"2\", \"3\", \"4\", \"5\", \"6\", \"7\", \"8\", \"9\", \"10\", \"11\", \"12\", \"13\", \"14\", \"15\", \"16\", \"17\", \"18\", \"19\", \"20\", \"21\", \"22\", \"23\", \"24\", \"25\", \"26\", \"27\", \"28\", \"29\", \"30\", \"31\", \"32\", \"33\", \"34\", \"35\", \"36\", \"37\", \"38\", \"39\"], \"mode\": \"lines\", \"name\": \"f1_score_micro_max\", \"stepped\": true, \"type\": \"scatter\", \"data\": [0.8025252525252525, 0.8192929292929293, 0.8192929292929293, 0.8192929292929293, 0.8393939393939394, 0.8393939393939394, 0.8393939393939394, 0.8393939393939394, 0.8393939393939394, 0.8393939393939394, 0.8393939393939394, 0.8393939393939394, 0.8393939393939394, 0.8393939393939394, 0.8393939393939394, 0.8393939393939394, 0.8427946127946129, 0.8427946127946129, 0.8427946127946129, 0.8427946127946129, 0.8427946127946129, 0.8427946127946129, 0.8427946127946129, 0.8527946127946128, 0.8527946127946128, 0.8527946127946128, 0.8527946127946128, 0.8527946127946128, 0.8527946127946128, 0.8527946127946128, 0.8527946127946128, 0.8527946127946128, 0.8527946127946128, 0.8527946127946128, 0.8527946127946128, 0.8527946127946128, 0.8527946127946128, 0.8527946127946128, 0.8695622895622895, 0.8695622895622895]}], \"precision_score_macro\": [{\"categories\": [\"0\", \"1\", \"2\", \"3\", \"4\", \"5\", \"6\", \"7\", \"8\", \"9\", \"10\", \"11\", \"12\", \"13\", \"14\", \"15\", \"16\", \"17\", \"18\", \"19\", \"20\", \"21\", \"22\", \"23\", \"24\", \"25\", \"26\", \"27\", \"28\", \"29\", \"30\", \"31\", \"32\", \"33\", \"34\", \"35\", \"36\", \"37\", \"38\", \"39\"], \"mode\": \"markers\", \"name\": \"precision_score_macro\", \"stepped\": false, \"type\": \"scatter\", \"data\": [0.7842311567478019, 0.7983113869170717, 0.7998633101042252, 0.7990853381600845, 0.8268704979231295, 0.8149061781678976, 0.6767317384672783, 0.6655607939002387, 0.8019286766089836, 0.7871941050071077, 0.816445047804697, 0.8092690939925357, 0.8007629431971538, 0.8311398439124255, 0.814597338650144, 0.8030084456063774, 0.8377737315040177, 0.7322801791919439, 0.8036551382511238, 0.797967921264758, 0.8212939511198218, 0.8085890652557319, 0.7936404823065271, 0.8425107606476493, 0.8369284651081341, 0.8176808746429, 0.7768189327012855, 0.8298723164401878, 0.7590208434459006, 0.8315494925923108, 0.33951178451178454, 0.7379863056333645, 0.818490671283603, 0.8106709969657423, 0.7903821167021025, 0.6863817193544084, 0.8033422304794892, 0.8115853110247585, 0.8692977842166453, 0.8418216232426176]}, {\"categories\": [\"0\", \"1\", \"2\", \"3\", \"4\", \"5\", \"6\", \"7\", \"8\", \"9\", \"10\", \"11\", \"12\", \"13\", \"14\", \"15\", \"16\", \"17\", \"18\", \"19\", \"20\", \"21\", \"22\", \"23\", \"24\", \"25\", \"26\", \"27\", \"28\", \"29\", \"30\", \"31\", \"32\", \"33\", \"34\", \"35\", \"36\", \"37\", \"38\", \"39\"], \"mode\": \"lines\", \"name\": \"precision_score_macro_max\", \"stepped\": true, \"type\": \"scatter\", \"data\": [0.7842311567478019, 0.7983113869170717, 0.7998633101042252, 0.7998633101042252, 0.8268704979231295, 0.8268704979231295, 0.8268704979231295, 0.8268704979231295, 0.8268704979231295, 0.8268704979231295, 0.8268704979231295, 0.8268704979231295, 0.8268704979231295, 0.8311398439124255, 0.8311398439124255, 0.8311398439124255, 0.8377737315040177, 0.8377737315040177, 0.8377737315040177, 0.8377737315040177, 0.8377737315040177, 0.8377737315040177, 0.8377737315040177, 0.8425107606476493, 0.8425107606476493, 0.8425107606476493, 0.8425107606476493, 0.8425107606476493, 0.8425107606476493, 0.8425107606476493, 0.8425107606476493, 0.8425107606476493, 0.8425107606476493, 0.8425107606476493, 0.8425107606476493, 0.8425107606476493, 0.8425107606476493, 0.8425107606476493, 0.8692977842166453, 0.8692977842166453]}], \"weighted_accuracy\": [{\"categories\": [\"0\", \"1\", \"2\", \"3\", \"4\", \"5\", \"6\", \"7\", \"8\", \"9\", \"10\", \"11\", \"12\", \"13\", \"14\", \"15\", \"16\", \"17\", \"18\", \"19\", \"20\", \"21\", \"22\", \"23\", \"24\", \"25\", \"26\", \"27\", \"28\", \"29\", \"30\", \"31\", \"32\", \"33\", \"34\", \"35\", \"36\", \"37\", \"38\", \"39\"], \"mode\": \"markers\", \"name\": \"weighted_accuracy\", \"stepped\": false, \"type\": \"scatter\", \"data\": [0.8310099034285422, 0.8426543037328149, 0.8378671132141738, 0.8453767184533588, 0.8578770385116634, 0.8593074840110018, 0.7981407266320496, 0.7951614378964695, 0.8413523491200857, 0.8409177551197641, 0.8634491196390175, 0.8452450627468169, 0.8607997440370725, 0.8770157302784055, 0.8645714286468716, 0.846476175112599, 0.8741801715668243, 0.8034001794807984, 0.8490102431582476, 0.8406076164940046, 0.8633834443462779, 0.857711618824708, 0.8432628116004032, 0.8782336593138748, 0.8609978474971144, 0.8674493758942011, 0.8317464243785336, 0.8684625433042085, 0.8266198133264763, 0.8677945158253574, 0.8139581109686231, 0.8239626707337914, 0.8587112998462357, 0.8552431514324731, 0.8455997433841471, 0.7363823228967851, 0.8489086835281285, 0.8451388263065649, 0.8983020161762952, 0.8776770352294835]}, {\"categories\": [\"0\", \"1\", \"2\", \"3\", \"4\", \"5\", \"6\", \"7\", \"8\", \"9\", \"10\", \"11\", \"12\", \"13\", \"14\", \"15\", \"16\", \"17\", \"18\", \"19\", \"20\", \"21\", \"22\", \"23\", \"24\", \"25\", \"26\", \"27\", \"28\", \"29\", \"30\", \"31\", \"32\", \"33\", \"34\", \"35\", \"36\", \"37\", \"38\", \"39\"], \"mode\": \"lines\", \"name\": \"weighted_accuracy_max\", \"stepped\": true, \"type\": \"scatter\", \"data\": [0.8310099034285422, 0.8426543037328149, 0.8426543037328149, 0.8453767184533588, 0.8578770385116634, 0.8593074840110018, 0.8593074840110018, 0.8593074840110018, 0.8593074840110018, 0.8593074840110018, 0.8634491196390175, 0.8634491196390175, 0.8634491196390175, 0.8770157302784055, 0.8770157302784055, 0.8770157302784055, 0.8770157302784055, 0.8770157302784055, 0.8770157302784055, 0.8770157302784055, 0.8770157302784055, 0.8770157302784055, 0.8770157302784055, 0.8782336593138748, 0.8782336593138748, 0.8782336593138748, 0.8782336593138748, 0.8782336593138748, 0.8782336593138748, 0.8782336593138748, 0.8782336593138748, 0.8782336593138748, 0.8782336593138748, 0.8782336593138748, 0.8782336593138748, 0.8782336593138748, 0.8782336593138748, 0.8782336593138748, 0.8983020161762952, 0.8983020161762952]}], \"recall_score_weighted\": [{\"categories\": [\"0\", \"1\", \"2\", \"3\", \"4\", \"5\", \"6\", \"7\", \"8\", \"9\", \"10\", \"11\", \"12\", \"13\", \"14\", \"15\", \"16\", \"17\", \"18\", \"19\", \"20\", \"21\", \"22\", \"23\", \"24\", \"25\", \"26\", \"27\", \"28\", \"29\", \"30\", \"31\", \"32\", \"33\", \"34\", \"35\", \"36\", \"37\", \"38\", \"39\"], \"mode\": \"markers\", \"name\": \"recall_score_weighted\", \"stepped\": false, \"type\": \"scatter\", \"data\": [0.8025252525252524, 0.8192929292929293, 0.8159595959595961, 0.8124579124579125, 0.8393939393939394, 0.8293602693602694, 0.7123232323232322, 0.6990235690235691, 0.8193265993265993, 0.8026599326599326, 0.8293939393939395, 0.8226262626262626, 0.8025925925925925, 0.816026936026936, 0.8193265993265993, 0.8159595959595961, 0.8427946127946128, 0.7657575757575757, 0.8226599326599326, 0.8024915824915825, 0.8360606060606061, 0.825925925925926, 0.8128282828282828, 0.8527946127946128, 0.7959595959595959, 0.8193265993265992, 0.7792592592592592, 0.8427272727272728, 0.7591919191919191, 0.8427272727272728, 0.6790235690235691, 0.7391245791245792, 0.8360606060606061, 0.8259932659932661, 0.7959595959595959, 0.7022222222222222, 0.8192592592592592, 0.8258922558922559, 0.8695622895622895, 0.8494949494949496]}, {\"categories\": [\"0\", \"1\", \"2\", \"3\", \"4\", \"5\", \"6\", \"7\", \"8\", \"9\", \"10\", \"11\", \"12\", \"13\", \"14\", \"15\", \"16\", \"17\", \"18\", \"19\", \"20\", \"21\", \"22\", \"23\", \"24\", \"25\", \"26\", \"27\", \"28\", \"29\", \"30\", \"31\", \"32\", \"33\", \"34\", \"35\", \"36\", \"37\", \"38\", \"39\"], \"mode\": \"lines\", \"name\": \"recall_score_weighted_max\", \"stepped\": true, \"type\": \"scatter\", \"data\": [0.8025252525252524, 0.8192929292929293, 0.8192929292929293, 0.8192929292929293, 0.8393939393939394, 0.8393939393939394, 0.8393939393939394, 0.8393939393939394, 0.8393939393939394, 0.8393939393939394, 0.8393939393939394, 0.8393939393939394, 0.8393939393939394, 0.8393939393939394, 0.8393939393939394, 0.8393939393939394, 0.8427946127946128, 0.8427946127946128, 0.8427946127946128, 0.8427946127946128, 0.8427946127946128, 0.8427946127946128, 0.8427946127946128, 0.8527946127946128, 0.8527946127946128, 0.8527946127946128, 0.8527946127946128, 0.8527946127946128, 0.8527946127946128, 0.8527946127946128, 0.8527946127946128, 0.8527946127946128, 0.8527946127946128, 0.8527946127946128, 0.8527946127946128, 0.8527946127946128, 0.8527946127946128, 0.8527946127946128, 0.8695622895622895, 0.8695622895622895]}], \"AUC_micro\": [{\"categories\": [\"0\", \"1\", \"2\", \"3\", \"4\", \"5\", \"6\", \"7\", \"8\", \"9\", \"10\", \"11\", \"12\", \"13\", \"14\", \"15\", \"16\", \"17\", \"18\", \"19\", \"20\", \"21\", \"22\", \"23\", \"24\", \"25\", \"26\", \"27\", \"28\", \"29\", \"30\", \"31\", \"32\", \"33\", \"34\", \"35\", \"36\", \"37\", \"38\", \"39\"], \"mode\": \"markers\", \"name\": \"AUC_micro\", \"stepped\": false, \"type\": \"scatter\", \"data\": [0.8769284528789579, 0.8907238819168114, 0.9038641499166752, 0.8881105193347617, 0.9016396150052716, 0.9031771791994014, 0.7921749124239024, 0.7827810869639151, 0.9044409686086454, 0.8621880114274054, 0.8865985001530455, 0.9043064517226133, 0.8758233751657994, 0.877566180321736, 0.894507635275312, 0.8909827636635718, 0.9010986668027071, 0.8649751521953544, 0.9003067884229501, 0.895468044077135, 0.8990384280515594, 0.8916820868618848, 0.8878795463047989, 0.9113072951739619, 0.8801599224568922, 0.8823954528449477, 0.8793242186171479, 0.9124807298574975, 0.8631699078325341, 0.8989248920178211, 0.8480881814780806, 0.834174648845356, 0.8975763323470395, 0.896172948338605, 0.8687389416045983, 0.7637381253613578, 0.8987759956467029, 0.8945162670475802, 0.9057287827772676, 0.9070211679080367]}, {\"categories\": [\"0\", \"1\", \"2\", \"3\", \"4\", \"5\", \"6\", \"7\", \"8\", \"9\", \"10\", \"11\", \"12\", \"13\", \"14\", \"15\", \"16\", \"17\", \"18\", \"19\", \"20\", \"21\", \"22\", \"23\", \"24\", \"25\", \"26\", \"27\", \"28\", \"29\", \"30\", \"31\", \"32\", \"33\", \"34\", \"35\", \"36\", \"37\", \"38\", \"39\"], \"mode\": \"lines\", \"name\": \"AUC_micro_max\", \"stepped\": true, \"type\": \"scatter\", \"data\": [0.8769284528789579, 0.8907238819168114, 0.9038641499166752, 0.9038641499166752, 0.9038641499166752, 0.9038641499166752, 0.9038641499166752, 0.9038641499166752, 0.9044409686086454, 0.9044409686086454, 0.9044409686086454, 0.9044409686086454, 0.9044409686086454, 0.9044409686086454, 0.9044409686086454, 0.9044409686086454, 0.9044409686086454, 0.9044409686086454, 0.9044409686086454, 0.9044409686086454, 0.9044409686086454, 0.9044409686086454, 0.9044409686086454, 0.9113072951739619, 0.9113072951739619, 0.9113072951739619, 0.9113072951739619, 0.9124807298574975, 0.9124807298574975, 0.9124807298574975, 0.9124807298574975, 0.9124807298574975, 0.9124807298574975, 0.9124807298574975, 0.9124807298574975, 0.9124807298574975, 0.9124807298574975, 0.9124807298574975, 0.9124807298574975, 0.9124807298574975]}], \"precision_score_weighted\": [{\"categories\": [\"0\", \"1\", \"2\", \"3\", \"4\", \"5\", \"6\", \"7\", \"8\", \"9\", \"10\", \"11\", \"12\", \"13\", \"14\", \"15\", \"16\", \"17\", \"18\", \"19\", \"20\", \"21\", \"22\", \"23\", \"24\", \"25\", \"26\", \"27\", \"28\", \"29\", \"30\", \"31\", \"32\", \"33\", \"34\", \"35\", \"36\", \"37\", \"38\", \"39\"], \"mode\": \"markers\", \"name\": \"precision_score_weighted\", \"stepped\": false, \"type\": \"scatter\", \"data\": [0.8103076903348296, 0.8235687391092353, 0.8269122519812008, 0.8181299710443345, 0.8506564452736702, 0.8329212175548132, 0.7005645874586253, 0.6877295567866546, 0.8277138952625274, 0.8050139666959505, 0.8302623890440656, 0.8332356556720034, 0.8038309035019561, 0.8230030611502112, 0.8227638198266476, 0.8227498856898725, 0.849366659090073, 0.764684602331661, 0.826471239760792, 0.8149326707592586, 0.8398785972866681, 0.8266875171467764, 0.8139019679877887, 0.8568451508391163, 0.8272877244558359, 0.8241272525660711, 0.7904148371599353, 0.8472912562154048, 0.7687597947437764, 0.8486677683526128, 0.46228299493248987, 0.7430809401201558, 0.8402001742573374, 0.8301622394437224, 0.8017398503428721, 0.732141106442577, 0.8244434702954524, 0.8370453823070393, 0.8745604228503799, 0.8540972567281755]}, {\"categories\": [\"0\", \"1\", \"2\", \"3\", \"4\", \"5\", \"6\", \"7\", \"8\", \"9\", \"10\", \"11\", \"12\", \"13\", \"14\", \"15\", \"16\", \"17\", \"18\", \"19\", \"20\", \"21\", \"22\", \"23\", \"24\", \"25\", \"26\", \"27\", \"28\", \"29\", \"30\", \"31\", \"32\", \"33\", \"34\", \"35\", \"36\", \"37\", \"38\", \"39\"], \"mode\": \"lines\", \"name\": \"precision_score_weighted_max\", \"stepped\": true, \"type\": \"scatter\", \"data\": [0.8103076903348296, 0.8235687391092353, 0.8269122519812008, 0.8269122519812008, 0.8506564452736702, 0.8506564452736702, 0.8506564452736702, 0.8506564452736702, 0.8506564452736702, 0.8506564452736702, 0.8506564452736702, 0.8506564452736702, 0.8506564452736702, 0.8506564452736702, 0.8506564452736702, 0.8506564452736702, 0.8506564452736702, 0.8506564452736702, 0.8506564452736702, 0.8506564452736702, 0.8506564452736702, 0.8506564452736702, 0.8506564452736702, 0.8568451508391163, 0.8568451508391163, 0.8568451508391163, 0.8568451508391163, 0.8568451508391163, 0.8568451508391163, 0.8568451508391163, 0.8568451508391163, 0.8568451508391163, 0.8568451508391163, 0.8568451508391163, 0.8568451508391163, 0.8568451508391163, 0.8568451508391163, 0.8568451508391163, 0.8745604228503799, 0.8745604228503799]}], \"matthews_correlation\": [{\"categories\": [\"0\", \"1\", \"2\", \"3\", \"4\", \"5\", \"6\", \"7\", \"8\", \"9\", \"10\", \"11\", \"12\", \"13\", \"14\", \"15\", \"16\", \"17\", \"18\", \"19\", \"20\", \"21\", \"22\", \"23\", \"24\", \"25\", \"26\", \"27\", \"28\", \"29\", \"30\", \"31\", \"32\", \"33\", \"34\", \"35\", \"36\", \"37\", \"38\", \"39\"], \"mode\": \"markers\", \"name\": \"matthews_correlation\", \"stepped\": false, \"type\": \"scatter\", \"data\": [0.5489062305154261, 0.5873460381369527, 0.5869311260457536, 0.5675596227869636, 0.6420347896931008, 0.6045031740753489, 0.26372908846601617, 0.21669336289151464, 0.5925772895183977, 0.5385820024732558, 0.6005280962129412, 0.6020685695854141, 0.5206978867306472, 0.5576041304353357, 0.5715189733205759, 0.5783199780846392, 0.6381312505768244, 0.44763166387754416, 0.5917065518486136, 0.5472511172490715, 0.6211195794740156, 0.5923311776776115, 0.5668657342963263, 0.6618643376844294, 0.5184882010004953, 0.5697516463105119, 0.48002187259786516, 0.6386875765899998, 0.41754161080701707, 0.6412964407404492, 0.0, 0.3467828181388086, 0.6251407955365437, 0.5978967318483784, 0.5164634735695407, 0.340294796547087, 0.5831563531924604, 0.612448592947802, 0.7004934744211296, 0.6538839261140321]}, {\"categories\": [\"0\", \"1\", \"2\", \"3\", \"4\", \"5\", \"6\", \"7\", \"8\", \"9\", \"10\", \"11\", \"12\", \"13\", \"14\", \"15\", \"16\", \"17\", \"18\", \"19\", \"20\", \"21\", \"22\", \"23\", \"24\", \"25\", \"26\", \"27\", \"28\", \"29\", \"30\", \"31\", \"32\", \"33\", \"34\", \"35\", \"36\", \"37\", \"38\", \"39\"], \"mode\": \"lines\", \"name\": \"matthews_correlation_max\", \"stepped\": true, \"type\": \"scatter\", \"data\": [0.5489062305154261, 0.5873460381369527, 0.5873460381369527, 0.5873460381369527, 0.6420347896931008, 0.6420347896931008, 0.6420347896931008, 0.6420347896931008, 0.6420347896931008, 0.6420347896931008, 0.6420347896931008, 0.6420347896931008, 0.6420347896931008, 0.6420347896931008, 0.6420347896931008, 0.6420347896931008, 0.6420347896931008, 0.6420347896931008, 0.6420347896931008, 0.6420347896931008, 0.6420347896931008, 0.6420347896931008, 0.6420347896931008, 0.6618643376844294, 0.6618643376844294, 0.6618643376844294, 0.6618643376844294, 0.6618643376844294, 0.6618643376844294, 0.6618643376844294, 0.6618643376844294, 0.6618643376844294, 0.6618643376844294, 0.6618643376844294, 0.6618643376844294, 0.6618643376844294, 0.6618643376844294, 0.6618643376844294, 0.7004934744211296, 0.7004934744211296]}], \"f1_score_macro\": [{\"categories\": [\"0\", \"1\", \"2\", \"3\", \"4\", \"5\", \"6\", \"7\", \"8\", \"9\", \"10\", \"11\", \"12\", \"13\", \"14\", \"15\", \"16\", \"17\", \"18\", \"19\", \"20\", \"21\", \"22\", \"23\", \"24\", \"25\", \"26\", \"27\", \"28\", \"29\", \"30\", \"31\", \"32\", \"33\", \"34\", \"35\", \"36\", \"37\", \"38\", \"39\"], \"mode\": \"markers\", \"name\": \"f1_score_macro\", \"stepped\": false, \"type\": \"scatter\", \"data\": [0.7670520318568558, 0.7892216866138503, 0.7849439555221999, 0.7765390108433374, 0.8133395831697544, 0.796184817057411, 0.5978863072338495, 0.55746275212594, 0.7884692855636879, 0.7602425138914493, 0.794177639906812, 0.7918912653504034, 0.7439108266217896, 0.7572110333858785, 0.774250572527183, 0.7808411825285765, 0.8094120736363856, 0.7186396234827527, 0.7905945620407792, 0.7595386231160924, 0.8049689641065297, 0.7911016433649426, 0.7759203282623416, 0.8248994957308803, 0.7116718084447459, 0.7718223461788298, 0.7185767085767085, 0.8131939326379495, 0.6785146811442307, 0.8135142593592369, 0.40415631893298937, 0.6293200592425431, 0.8081311459302061, 0.792918213277234, 0.7413353366447799, 0.6424904469446598, 0.7844752355005292, 0.8001598792319697, 0.8428151252963195, 0.8188835946486251]}, {\"categories\": [\"0\", \"1\", \"2\", \"3\", \"4\", \"5\", \"6\", \"7\", \"8\", \"9\", \"10\", \"11\", \"12\", \"13\", \"14\", \"15\", \"16\", \"17\", \"18\", \"19\", \"20\", \"21\", \"22\", \"23\", \"24\", \"25\", \"26\", \"27\", \"28\", \"29\", \"30\", \"31\", \"32\", \"33\", \"34\", \"35\", \"36\", \"37\", \"38\", \"39\"], \"mode\": \"lines\", \"name\": \"f1_score_macro_max\", \"stepped\": true, \"type\": \"scatter\", \"data\": [0.7670520318568558, 0.7892216866138503, 0.7892216866138503, 0.7892216866138503, 0.8133395831697544, 0.8133395831697544, 0.8133395831697544, 0.8133395831697544, 0.8133395831697544, 0.8133395831697544, 0.8133395831697544, 0.8133395831697544, 0.8133395831697544, 0.8133395831697544, 0.8133395831697544, 0.8133395831697544, 0.8133395831697544, 0.8133395831697544, 0.8133395831697544, 0.8133395831697544, 0.8133395831697544, 0.8133395831697544, 0.8133395831697544, 0.8248994957308803, 0.8248994957308803, 0.8248994957308803, 0.8248994957308803, 0.8248994957308803, 0.8248994957308803, 0.8248994957308803, 0.8248994957308803, 0.8248994957308803, 0.8248994957308803, 0.8248994957308803, 0.8248994957308803, 0.8248994957308803, 0.8248994957308803, 0.8248994957308803, 0.8428151252963195, 0.8428151252963195]}], \"precision_score_micro\": [{\"categories\": [\"0\", \"1\", \"2\", \"3\", \"4\", \"5\", \"6\", \"7\", \"8\", \"9\", \"10\", \"11\", \"12\", \"13\", \"14\", \"15\", \"16\", \"17\", \"18\", \"19\", \"20\", \"21\", \"22\", \"23\", \"24\", \"25\", \"26\", \"27\", \"28\", \"29\", \"30\", \"31\", \"32\", \"33\", \"34\", \"35\", \"36\", \"37\", \"38\", \"39\"], \"mode\": \"markers\", \"name\": \"precision_score_micro\", \"stepped\": false, \"type\": \"scatter\", \"data\": [0.8025252525252524, 0.8192929292929293, 0.8159595959595961, 0.8124579124579125, 0.8393939393939394, 0.8293602693602694, 0.7123232323232322, 0.6990235690235691, 0.8193265993265993, 0.8026599326599326, 0.8293939393939395, 0.8226262626262626, 0.8025925925925925, 0.816026936026936, 0.8193265993265993, 0.8159595959595961, 0.8427946127946128, 0.7657575757575757, 0.8226599326599326, 0.8024915824915825, 0.8360606060606061, 0.825925925925926, 0.8128282828282828, 0.8527946127946128, 0.7959595959595959, 0.8193265993265992, 0.7792592592592592, 0.8427272727272728, 0.7591919191919191, 0.8427272727272728, 0.6790235690235691, 0.7391245791245792, 0.8360606060606061, 0.8259932659932661, 0.7959595959595959, 0.7022222222222222, 0.8192592592592592, 0.8258922558922559, 0.8695622895622895, 0.8494949494949496]}, {\"categories\": [\"0\", \"1\", \"2\", \"3\", \"4\", \"5\", \"6\", \"7\", \"8\", \"9\", \"10\", \"11\", \"12\", \"13\", \"14\", \"15\", \"16\", \"17\", \"18\", \"19\", \"20\", \"21\", \"22\", \"23\", \"24\", \"25\", \"26\", \"27\", \"28\", \"29\", \"30\", \"31\", \"32\", \"33\", \"34\", \"35\", \"36\", \"37\", \"38\", \"39\"], \"mode\": \"lines\", \"name\": \"precision_score_micro_max\", \"stepped\": true, \"type\": \"scatter\", \"data\": [0.8025252525252524, 0.8192929292929293, 0.8192929292929293, 0.8192929292929293, 0.8393939393939394, 0.8393939393939394, 0.8393939393939394, 0.8393939393939394, 0.8393939393939394, 0.8393939393939394, 0.8393939393939394, 0.8393939393939394, 0.8393939393939394, 0.8393939393939394, 0.8393939393939394, 0.8393939393939394, 0.8427946127946128, 0.8427946127946128, 0.8427946127946128, 0.8427946127946128, 0.8427946127946128, 0.8427946127946128, 0.8427946127946128, 0.8527946127946128, 0.8527946127946128, 0.8527946127946128, 0.8527946127946128, 0.8527946127946128, 0.8527946127946128, 0.8527946127946128, 0.8527946127946128, 0.8527946127946128, 0.8527946127946128, 0.8527946127946128, 0.8527946127946128, 0.8527946127946128, 0.8527946127946128, 0.8527946127946128, 0.8695622895622895, 0.8695622895622895]}], \"AUC_weighted\": [{\"categories\": [\"0\", \"1\", \"2\", \"3\", \"4\", \"5\", \"6\", \"7\", \"8\", \"9\", \"10\", \"11\", \"12\", \"13\", \"14\", \"15\", \"16\", \"17\", \"18\", \"19\", \"20\", \"21\", \"22\", \"23\", \"24\", \"25\", \"26\", \"27\", \"28\", \"29\", \"30\", \"31\", \"32\", \"33\", \"34\", \"35\", \"36\", \"37\", \"38\", \"39\"], \"mode\": \"markers\", \"name\": \"AUC_weighted\", \"stepped\": false, \"type\": \"scatter\", \"data\": [0.8550287233045855, 0.875938401455643, 0.9002115415908519, 0.8707789562961977, 0.8993028496476773, 0.8939539539539539, 0.7414457314457316, 0.7208138680552474, 0.8950150150150152, 0.8347640744192467, 0.8723482595896389, 0.8963354980596359, 0.8713443739305808, 0.8722483074207211, 0.8835903884179745, 0.8759334211058348, 0.8952146728008797, 0.8379635546876926, 0.8894087683742856, 0.8895252395252395, 0.8787673387673388, 0.8798115849839988, 0.8708056825298205, 0.9061392426909668, 0.8935643525298698, 0.8663449410001133, 0.8744849282780317, 0.9062822428339669, 0.8559773566670118, 0.8849198952647228, 0.8899340473478404, 0.8110429148360184, 0.884242690966829, 0.8817169879238844, 0.8508496920565886, 0.7285117136841275, 0.8901164711509538, 0.8820511644649575, 0.8996966917656574, 0.9022384946522878]}, {\"categories\": [\"0\", \"1\", \"2\", \"3\", \"4\", \"5\", \"6\", \"7\", \"8\", \"9\", \"10\", \"11\", \"12\", \"13\", \"14\", \"15\", \"16\", \"17\", \"18\", \"19\", \"20\", \"21\", \"22\", \"23\", \"24\", \"25\", \"26\", \"27\", \"28\", \"29\", \"30\", \"31\", \"32\", \"33\", \"34\", \"35\", \"36\", \"37\", \"38\", \"39\"], \"mode\": \"lines\", \"name\": \"AUC_weighted_max\", \"stepped\": true, \"type\": \"scatter\", \"data\": [0.8550287233045855, 0.875938401455643, 0.9002115415908519, 0.9002115415908519, 0.9002115415908519, 0.9002115415908519, 0.9002115415908519, 0.9002115415908519, 0.9002115415908519, 0.9002115415908519, 0.9002115415908519, 0.9002115415908519, 0.9002115415908519, 0.9002115415908519, 0.9002115415908519, 0.9002115415908519, 0.9002115415908519, 0.9002115415908519, 0.9002115415908519, 0.9002115415908519, 0.9002115415908519, 0.9002115415908519, 0.9002115415908519, 0.9061392426909668, 0.9061392426909668, 0.9061392426909668, 0.9061392426909668, 0.9062822428339669, 0.9062822428339669, 0.9062822428339669, 0.9062822428339669, 0.9062822428339669, 0.9062822428339669, 0.9062822428339669, 0.9062822428339669, 0.9062822428339669, 0.9062822428339669, 0.9062822428339669, 0.9062822428339669, 0.9062822428339669]}], \"average_precision_score_weighted\": [{\"categories\": [\"0\", \"1\", \"2\", \"3\", \"4\", \"5\", \"6\", \"7\", \"8\", \"9\", \"10\", \"11\", \"12\", \"13\", \"14\", \"15\", \"16\", \"17\", \"18\", \"19\", \"20\", \"21\", \"22\", \"23\", \"24\", \"25\", \"26\", \"27\", \"28\", \"29\", \"30\", \"31\", \"32\", \"33\", \"34\", \"35\", \"36\", \"37\", \"38\", \"39\"], \"mode\": \"markers\", \"name\": \"average_precision_score_weighted\", \"stepped\": false, \"type\": \"scatter\", \"data\": [0.8648843990393956, 0.8836277505100775, 0.9031624723946358, 0.8791157694045567, 0.9012553790898865, 0.8998189453296191, 0.76941805047861, 0.7540230090255354, 0.8998524426497791, 0.8440446723791495, 0.8814167072739009, 0.9041236876526729, 0.870580446723077, 0.8799745702179605, 0.8891830710189256, 0.8875193393209062, 0.8971860260291992, 0.8441599814935076, 0.8956484202143443, 0.9014409127030197, 0.8897755918488474, 0.8873406616359077, 0.8838383603438777, 0.9129239974349899, 0.9027431283148278, 0.8717096290462004, 0.8821802474893717, 0.910640490684456, 0.8712705545541043, 0.890522782553609, 0.8889673869699127, 0.8285128720281869, 0.8867019979340919, 0.8900699843001347, 0.856668690213383, 0.7521883640038655, 0.8959774300773775, 0.8875972217552964, 0.9058815611235884, 0.905462497622534]}, {\"categories\": [\"0\", \"1\", \"2\", \"3\", \"4\", \"5\", \"6\", \"7\", \"8\", \"9\", \"10\", \"11\", \"12\", \"13\", \"14\", \"15\", \"16\", \"17\", \"18\", \"19\", \"20\", \"21\", \"22\", \"23\", \"24\", \"25\", \"26\", \"27\", \"28\", \"29\", \"30\", \"31\", \"32\", \"33\", \"34\", \"35\", \"36\", \"37\", \"38\", \"39\"], \"mode\": \"lines\", \"name\": \"average_precision_score_weighted_max\", \"stepped\": true, \"type\": \"scatter\", \"data\": [0.8648843990393956, 0.8836277505100775, 0.9031624723946358, 0.9031624723946358, 0.9031624723946358, 0.9031624723946358, 0.9031624723946358, 0.9031624723946358, 0.9031624723946358, 0.9031624723946358, 0.9031624723946358, 0.9041236876526729, 0.9041236876526729, 0.9041236876526729, 0.9041236876526729, 0.9041236876526729, 0.9041236876526729, 0.9041236876526729, 0.9041236876526729, 0.9041236876526729, 0.9041236876526729, 0.9041236876526729, 0.9041236876526729, 0.9129239974349899, 0.9129239974349899, 0.9129239974349899, 0.9129239974349899, 0.9129239974349899, 0.9129239974349899, 0.9129239974349899, 0.9129239974349899, 0.9129239974349899, 0.9129239974349899, 0.9129239974349899, 0.9129239974349899, 0.9129239974349899, 0.9129239974349899, 0.9129239974349899, 0.9129239974349899, 0.9129239974349899]}], \"accuracy\": [{\"categories\": [\"0\", \"1\", \"2\", \"3\", \"4\", \"5\", \"6\", \"7\", \"8\", \"9\", \"10\", \"11\", \"12\", \"13\", \"14\", \"15\", \"16\", \"17\", \"18\", \"19\", \"20\", \"21\", \"22\", \"23\", \"24\", \"25\", \"26\", \"27\", \"28\", \"29\", \"30\", \"31\", \"32\", \"33\", \"34\", \"35\", \"36\", \"37\", \"38\", \"39\"], \"mode\": \"markers\", \"name\": \"accuracy\", \"stepped\": false, \"type\": \"scatter\", \"data\": [0.8025252525252524, 0.8192929292929293, 0.8159595959595961, 0.8124579124579125, 0.8393939393939394, 0.8293602693602694, 0.7123232323232322, 0.6990235690235691, 0.8193265993265993, 0.8026599326599326, 0.8293939393939395, 0.8226262626262626, 0.8025925925925925, 0.816026936026936, 0.8193265993265993, 0.8159595959595961, 0.8427946127946128, 0.7657575757575757, 0.8226599326599326, 0.8024915824915825, 0.8360606060606061, 0.825925925925926, 0.8128282828282828, 0.8527946127946128, 0.7959595959595959, 0.8193265993265992, 0.7792592592592592, 0.8427272727272728, 0.7591919191919191, 0.8427272727272728, 0.6790235690235691, 0.7391245791245792, 0.8360606060606061, 0.8259932659932661, 0.7959595959595959, 0.7022222222222222, 0.8192592592592592, 0.8258922558922559, 0.8695622895622895, 0.8494949494949496]}, {\"categories\": [\"0\", \"1\", \"2\", \"3\", \"4\", \"5\", \"6\", \"7\", \"8\", \"9\", \"10\", \"11\", \"12\", \"13\", \"14\", \"15\", \"16\", \"17\", \"18\", \"19\", \"20\", \"21\", \"22\", \"23\", \"24\", \"25\", \"26\", \"27\", \"28\", \"29\", \"30\", \"31\", \"32\", \"33\", \"34\", \"35\", \"36\", \"37\", \"38\", \"39\"], \"mode\": \"lines\", \"name\": \"accuracy_max\", \"stepped\": true, \"type\": \"scatter\", \"data\": [0.8025252525252524, 0.8192929292929293, 0.8192929292929293, 0.8192929292929293, 0.8393939393939394, 0.8393939393939394, 0.8393939393939394, 0.8393939393939394, 0.8393939393939394, 0.8393939393939394, 0.8393939393939394, 0.8393939393939394, 0.8393939393939394, 0.8393939393939394, 0.8393939393939394, 0.8393939393939394, 0.8427946127946128, 0.8427946127946128, 0.8427946127946128, 0.8427946127946128, 0.8427946127946128, 0.8427946127946128, 0.8427946127946128, 0.8527946127946128, 0.8527946127946128, 0.8527946127946128, 0.8527946127946128, 0.8527946127946128, 0.8527946127946128, 0.8527946127946128, 0.8527946127946128, 0.8527946127946128, 0.8527946127946128, 0.8527946127946128, 0.8527946127946128, 0.8527946127946128, 0.8527946127946128, 0.8527946127946128, 0.8695622895622895, 0.8695622895622895]}], \"average_precision_score_micro\": [{\"categories\": [\"0\", \"1\", \"2\", \"3\", \"4\", \"5\", \"6\", \"7\", \"8\", \"9\", \"10\", \"11\", \"12\", \"13\", \"14\", \"15\", \"16\", \"17\", \"18\", \"19\", \"20\", \"21\", \"22\", \"23\", \"24\", \"25\", \"26\", \"27\", \"28\", \"29\", \"30\", \"31\", \"32\", \"33\", \"34\", \"35\", \"36\", \"37\", \"38\", \"39\"], \"mode\": \"markers\", \"name\": \"average_precision_score_micro\", \"stepped\": false, \"type\": \"scatter\", \"data\": [0.8707751210307144, 0.8886385174313017, 0.9055393908923636, 0.8813646025463165, 0.9021745089306855, 0.9055918453042308, 0.786788667741989, 0.7758325254831653, 0.9027636391921164, 0.8539928366633033, 0.8840700802473521, 0.9042479094131265, 0.8709173320973704, 0.871788983229679, 0.8922175201764779, 0.8911549562101633, 0.9019377171511472, 0.8669139083068496, 0.9004365290902566, 0.901566683851816, 0.8967370647448621, 0.88961415919207, 0.8891996312355848, 0.912885905103774, 0.884771344456439, 0.871174137723158, 0.8828434464134309, 0.9139349244824028, 0.8695515574226125, 0.894940918663783, 0.8479412108889611, 0.8376188430745827, 0.8917163750706504, 0.8932781939347981, 0.8639593348671029, 0.7523393802387873, 0.9031330440268244, 0.8883428156410608, 0.9062746273313508, 0.9075929321186944]}, {\"categories\": [\"0\", \"1\", \"2\", \"3\", \"4\", \"5\", \"6\", \"7\", \"8\", \"9\", \"10\", \"11\", \"12\", \"13\", \"14\", \"15\", \"16\", \"17\", \"18\", \"19\", \"20\", \"21\", \"22\", \"23\", \"24\", \"25\", \"26\", \"27\", \"28\", \"29\", \"30\", \"31\", \"32\", \"33\", \"34\", \"35\", \"36\", \"37\", \"38\", \"39\"], \"mode\": \"lines\", \"name\": \"average_precision_score_micro_max\", \"stepped\": true, \"type\": \"scatter\", \"data\": [0.8707751210307144, 0.8886385174313017, 0.9055393908923636, 0.9055393908923636, 0.9055393908923636, 0.9055918453042308, 0.9055918453042308, 0.9055918453042308, 0.9055918453042308, 0.9055918453042308, 0.9055918453042308, 0.9055918453042308, 0.9055918453042308, 0.9055918453042308, 0.9055918453042308, 0.9055918453042308, 0.9055918453042308, 0.9055918453042308, 0.9055918453042308, 0.9055918453042308, 0.9055918453042308, 0.9055918453042308, 0.9055918453042308, 0.912885905103774, 0.912885905103774, 0.912885905103774, 0.912885905103774, 0.9139349244824028, 0.9139349244824028, 0.9139349244824028, 0.9139349244824028, 0.9139349244824028, 0.9139349244824028, 0.9139349244824028, 0.9139349244824028, 0.9139349244824028, 0.9139349244824028, 0.9139349244824028, 0.9139349244824028, 0.9139349244824028]}], \"balanced_accuracy\": [{\"categories\": [\"0\", \"1\", \"2\", \"3\", \"4\", \"5\", \"6\", \"7\", \"8\", \"9\", \"10\", \"11\", \"12\", \"13\", \"14\", \"15\", \"16\", \"17\", \"18\", \"19\", \"20\", \"21\", \"22\", \"23\", \"24\", \"25\", \"26\", \"27\", \"28\", \"29\", \"30\", \"31\", \"32\", \"33\", \"34\", \"35\", \"36\", \"37\", \"38\", \"39\"], \"mode\": \"markers\", \"name\": \"balanced_accuracy\", \"stepped\": false, \"type\": \"scatter\", \"data\": [0.7665542389680322, 0.7899604037535072, 0.7891596029527065, 0.7703309220550599, 0.817070272242686, 0.7910915841950326, 0.5987011642184056, 0.5724749379921793, 0.7925186270013856, 0.7537613968648452, 0.785528878632327, 0.7951641296468882, 0.7253775943431116, 0.734901403866921, 0.7603438413783241, 0.7775122413053448, 0.8031736169667204, 0.7163900353555525, 0.7892397323431807, 0.7541719058960439, 0.8011516442550924, 0.7848883366124745, 0.7748909007529697, 0.820839805322564, 0.7128507818162991, 0.756191166535994, 0.7115122511674236, 0.8103307741238776, 0.6714251197009817, 0.8115733960561546, 0.5, 0.6277072639141604, 0.8076194421022006, 0.7887106318140802, 0.7318167921616198, 0.6596806165771683, 0.7816336040473972, 0.802005207177621, 0.8332006883731022, 0.8142117486945072]}, {\"categories\": [\"0\", \"1\", \"2\", \"3\", \"4\", \"5\", \"6\", \"7\", \"8\", \"9\", \"10\", \"11\", \"12\", \"13\", \"14\", \"15\", \"16\", \"17\", \"18\", \"19\", \"20\", \"21\", \"22\", \"23\", \"24\", \"25\", \"26\", \"27\", \"28\", \"29\", \"30\", \"31\", \"32\", \"33\", \"34\", \"35\", \"36\", \"37\", \"38\", \"39\"], \"mode\": \"lines\", \"name\": \"balanced_accuracy_max\", \"stepped\": true, \"type\": \"scatter\", \"data\": [0.7665542389680322, 0.7899604037535072, 0.7899604037535072, 0.7899604037535072, 0.817070272242686, 0.817070272242686, 0.817070272242686, 0.817070272242686, 0.817070272242686, 0.817070272242686, 0.817070272242686, 0.817070272242686, 0.817070272242686, 0.817070272242686, 0.817070272242686, 0.817070272242686, 0.817070272242686, 0.817070272242686, 0.817070272242686, 0.817070272242686, 0.817070272242686, 0.817070272242686, 0.817070272242686, 0.820839805322564, 0.820839805322564, 0.820839805322564, 0.820839805322564, 0.820839805322564, 0.820839805322564, 0.820839805322564, 0.820839805322564, 0.820839805322564, 0.820839805322564, 0.820839805322564, 0.820839805322564, 0.820839805322564, 0.820839805322564, 0.820839805322564, 0.8332006883731022, 0.8332006883731022]}], \"f1_score_weighted\": [{\"categories\": [\"0\", \"1\", \"2\", \"3\", \"4\", \"5\", \"6\", \"7\", \"8\", \"9\", \"10\", \"11\", \"12\", \"13\", \"14\", \"15\", \"16\", \"17\", \"18\", \"19\", \"20\", \"21\", \"22\", \"23\", \"24\", \"25\", \"26\", \"27\", \"28\", \"29\", \"30\", \"31\", \"32\", \"33\", \"34\", \"35\", \"36\", \"37\", \"38\", \"39\"], \"mode\": \"markers\", \"name\": \"f1_score_weighted\", \"stepped\": false, \"type\": \"scatter\", \"data\": [0.7994850745596541, 0.8173118768300475, 0.8135561209692289, 0.8084981689929919, 0.8379335342705575, 0.825438269741952, 0.6758806208675349, 0.6464136803412578, 0.816281440272427, 0.7953411782056244, 0.8241448914253456, 0.8194193637567276, 0.7886152226273634, 0.8005382385748847, 0.8103672431826644, 0.8115356612466199, 0.836941110703108, 0.7605244875753024, 0.819664163958346, 0.7951838730598105, 0.8327646957383319, 0.8215717608335588, 0.8063878321671435, 0.8491455975805544, 0.7623680289003039, 0.8096997942165499, 0.7643582043582043, 0.8392363580578173, 0.7350031860776046, 0.8389917429109909, 0.5497345001811592, 0.7003338407336809, 0.8340003174826732, 0.8224055787659986, 0.7829113354787358, 0.6914966760698835, 0.8151701210326735, 0.826013882915703, 0.8650615728175429, 0.8441941058007628]}, {\"categories\": [\"0\", \"1\", \"2\", \"3\", \"4\", \"5\", \"6\", \"7\", \"8\", \"9\", \"10\", \"11\", \"12\", \"13\", \"14\", \"15\", \"16\", \"17\", \"18\", \"19\", \"20\", \"21\", \"22\", \"23\", \"24\", \"25\", \"26\", \"27\", \"28\", \"29\", \"30\", \"31\", \"32\", \"33\", \"34\", \"35\", \"36\", \"37\", \"38\", \"39\"], \"mode\": \"lines\", \"name\": \"f1_score_weighted_max\", \"stepped\": true, \"type\": \"scatter\", \"data\": [0.7994850745596541, 0.8173118768300475, 0.8173118768300475, 0.8173118768300475, 0.8379335342705575, 0.8379335342705575, 0.8379335342705575, 0.8379335342705575, 0.8379335342705575, 0.8379335342705575, 0.8379335342705575, 0.8379335342705575, 0.8379335342705575, 0.8379335342705575, 0.8379335342705575, 0.8379335342705575, 0.8379335342705575, 0.8379335342705575, 0.8379335342705575, 0.8379335342705575, 0.8379335342705575, 0.8379335342705575, 0.8379335342705575, 0.8491455975805544, 0.8491455975805544, 0.8491455975805544, 0.8491455975805544, 0.8491455975805544, 0.8491455975805544, 0.8491455975805544, 0.8491455975805544, 0.8491455975805544, 0.8491455975805544, 0.8491455975805544, 0.8491455975805544, 0.8491455975805544, 0.8491455975805544, 0.8491455975805544, 0.8650615728175429, 0.8650615728175429]}], \"recall_score_macro\": [{\"categories\": [\"0\", \"1\", \"2\", \"3\", \"4\", \"5\", \"6\", \"7\", \"8\", \"9\", \"10\", \"11\", \"12\", \"13\", \"14\", \"15\", \"16\", \"17\", \"18\", \"19\", \"20\", \"21\", \"22\", \"23\", \"24\", \"25\", \"26\", \"27\", \"28\", \"29\", \"30\", \"31\", \"32\", \"33\", \"34\", \"35\", \"36\", \"37\", \"38\", \"39\"], \"mode\": \"markers\", \"name\": \"recall_score_macro\", \"stepped\": false, \"type\": \"scatter\", \"data\": [0.7665542389680322, 0.7899604037535072, 0.7891596029527065, 0.7703309220550599, 0.817070272242686, 0.7910915841950326, 0.5987011642184056, 0.5724749379921793, 0.7925186270013856, 0.7537613968648452, 0.785528878632327, 0.7951641296468882, 0.7253775943431116, 0.734901403866921, 0.7603438413783241, 0.7775122413053448, 0.8031736169667204, 0.7163900353555525, 0.7892397323431807, 0.7541719058960439, 0.8011516442550924, 0.7848883366124745, 0.7748909007529697, 0.820839805322564, 0.7128507818162991, 0.756191166535994, 0.7115122511674236, 0.8103307741238776, 0.6714251197009817, 0.8115733960561546, 0.5, 0.6277072639141604, 0.8076194421022006, 0.7887106318140802, 0.7318167921616198, 0.6596806165771683, 0.7816336040473972, 0.802005207177621, 0.8332006883731022, 0.8142117486945072]}, {\"categories\": [\"0\", \"1\", \"2\", \"3\", \"4\", \"5\", \"6\", \"7\", \"8\", \"9\", \"10\", \"11\", \"12\", \"13\", \"14\", \"15\", \"16\", \"17\", \"18\", \"19\", \"20\", \"21\", \"22\", \"23\", \"24\", \"25\", \"26\", \"27\", \"28\", \"29\", \"30\", \"31\", \"32\", \"33\", \"34\", \"35\", \"36\", \"37\", \"38\", \"39\"], \"mode\": \"lines\", \"name\": \"recall_score_macro_max\", \"stepped\": true, \"type\": \"scatter\", \"data\": [0.7665542389680322, 0.7899604037535072, 0.7899604037535072, 0.7899604037535072, 0.817070272242686, 0.817070272242686, 0.817070272242686, 0.817070272242686, 0.817070272242686, 0.817070272242686, 0.817070272242686, 0.817070272242686, 0.817070272242686, 0.817070272242686, 0.817070272242686, 0.817070272242686, 0.817070272242686, 0.817070272242686, 0.817070272242686, 0.817070272242686, 0.817070272242686, 0.817070272242686, 0.817070272242686, 0.820839805322564, 0.820839805322564, 0.820839805322564, 0.820839805322564, 0.820839805322564, 0.820839805322564, 0.820839805322564, 0.820839805322564, 0.820839805322564, 0.820839805322564, 0.820839805322564, 0.820839805322564, 0.820839805322564, 0.820839805322564, 0.820839805322564, 0.8332006883731022, 0.8332006883731022]}], \"recall_score_micro\": [{\"categories\": [\"0\", \"1\", \"2\", \"3\", \"4\", \"5\", \"6\", \"7\", \"8\", \"9\", \"10\", \"11\", \"12\", \"13\", \"14\", \"15\", \"16\", \"17\", \"18\", \"19\", \"20\", \"21\", \"22\", \"23\", \"24\", \"25\", \"26\", \"27\", \"28\", \"29\", \"30\", \"31\", \"32\", \"33\", \"34\", \"35\", \"36\", \"37\", \"38\", \"39\"], \"mode\": \"markers\", \"name\": \"recall_score_micro\", \"stepped\": false, \"type\": \"scatter\", \"data\": [0.8025252525252524, 0.8192929292929293, 0.8159595959595961, 0.8124579124579125, 0.8393939393939394, 0.8293602693602694, 0.7123232323232322, 0.6990235690235691, 0.8193265993265993, 0.8026599326599326, 0.8293939393939395, 0.8226262626262626, 0.8025925925925925, 0.816026936026936, 0.8193265993265993, 0.8159595959595961, 0.8427946127946128, 0.7657575757575757, 0.8226599326599326, 0.8024915824915825, 0.8360606060606061, 0.825925925925926, 0.8128282828282828, 0.8527946127946128, 0.7959595959595959, 0.8193265993265992, 0.7792592592592592, 0.8427272727272728, 0.7591919191919191, 0.8427272727272728, 0.6790235690235691, 0.7391245791245792, 0.8360606060606061, 0.8259932659932661, 0.7959595959595959, 0.7022222222222222, 0.8192592592592592, 0.8258922558922559, 0.8695622895622895, 0.8494949494949496]}, {\"categories\": [\"0\", \"1\", \"2\", \"3\", \"4\", \"5\", \"6\", \"7\", \"8\", \"9\", \"10\", \"11\", \"12\", \"13\", \"14\", \"15\", \"16\", \"17\", \"18\", \"19\", \"20\", \"21\", \"22\", \"23\", \"24\", \"25\", \"26\", \"27\", \"28\", \"29\", \"30\", \"31\", \"32\", \"33\", \"34\", \"35\", \"36\", \"37\", \"38\", \"39\"], \"mode\": \"lines\", \"name\": \"recall_score_micro_max\", \"stepped\": true, \"type\": \"scatter\", \"data\": [0.8025252525252524, 0.8192929292929293, 0.8192929292929293, 0.8192929292929293, 0.8393939393939394, 0.8393939393939394, 0.8393939393939394, 0.8393939393939394, 0.8393939393939394, 0.8393939393939394, 0.8393939393939394, 0.8393939393939394, 0.8393939393939394, 0.8393939393939394, 0.8393939393939394, 0.8393939393939394, 0.8427946127946128, 0.8427946127946128, 0.8427946127946128, 0.8427946127946128, 0.8427946127946128, 0.8427946127946128, 0.8427946127946128, 0.8527946127946128, 0.8527946127946128, 0.8527946127946128, 0.8527946127946128, 0.8527946127946128, 0.8527946127946128, 0.8527946127946128, 0.8527946127946128, 0.8527946127946128, 0.8527946127946128, 0.8527946127946128, 0.8527946127946128, 0.8527946127946128, 0.8527946127946128, 0.8527946127946128, 0.8695622895622895, 0.8695622895622895]}]}, \"metricName\": null, \"primaryMetricName\": \"accuracy\", \"showLegend\": false}, \"run_metrics\": [{\"name\": \"experiment_status\", \"run_id\": \"AutoML_b428813d-4f10-47e5-8828-f7c82f118840\", \"categories\": [0, 1, 2, 3, 4, 5, 6, 7, 8, 9, 10, 11, 12, 13], \"series\": [{\"data\": [\"DatasetEvaluation\", \"FeaturesGeneration\", \"DatasetFeaturization\", \"DatasetFeaturizationCompleted\", \"DatasetCrossValidationSplit\", \"ModelSelection\", \"BestRunExplainModel\", \"ModelExplanationDataSetSetup\", \"PickSurrogateModel\", \"EngineeredFeatureExplanations\", \"EngineeredFeatureExplanations\", \"RawFeaturesExplanations\", \"RawFeaturesExplanations\", \"BestRunExplainModel\"]}]}, {\"name\": \"experiment_status_description\", \"run_id\": \"AutoML_b428813d-4f10-47e5-8828-f7c82f118840\", \"categories\": [0, 1, 2, 3, 4, 5, 6, 7, 8, 9, 10, 11, 12, 13], \"series\": [{\"data\": [\"Gathering dataset statistics.\", \"Generating features for the dataset.\", \"Beginning to fit featurizers and featurize the dataset.\", \"Completed fit featurizers and featurizing the dataset.\", \"Generating individually featurized CV splits.\", \"Beginning model selection.\", \"Best run model explanations started\", \"Model explanations data setup completed\", \"Choosing LightGBM as the surrogate model for explanations\", \"Computation of engineered features started\", \"Computation of engineered features completed\", \"Computation of raw features started\", \"Computation of raw features completed\", \"Best run model explanations completed\"]}]}, {\"name\": \"precision_score_macro\", \"run_id\": \"AutoML_b428813d-4f10-47e5-8828-f7c82f118840\", \"categories\": [0], \"series\": [{\"data\": [0.8692977842166453]}]}, {\"name\": \"weighted_accuracy\", \"run_id\": \"AutoML_b428813d-4f10-47e5-8828-f7c82f118840\", \"categories\": [0], \"series\": [{\"data\": [0.8983020161762952]}]}, {\"name\": \"norm_macro_recall\", \"run_id\": \"AutoML_b428813d-4f10-47e5-8828-f7c82f118840\", \"categories\": [0], \"series\": [{\"data\": [0.6664013767462044]}]}, {\"name\": \"recall_score_macro\", \"run_id\": \"AutoML_b428813d-4f10-47e5-8828-f7c82f118840\", \"categories\": [0], \"series\": [{\"data\": [0.8332006883731022]}]}, {\"name\": \"f1_score_macro\", \"run_id\": \"AutoML_b428813d-4f10-47e5-8828-f7c82f118840\", \"categories\": [0], \"series\": [{\"data\": [0.8428151252963195]}]}, {\"name\": \"average_precision_score_micro\", \"run_id\": \"AutoML_b428813d-4f10-47e5-8828-f7c82f118840\", \"categories\": [0], \"series\": [{\"data\": [0.9062746273313508]}]}, {\"name\": \"AUC_micro\", \"run_id\": \"AutoML_b428813d-4f10-47e5-8828-f7c82f118840\", \"categories\": [0], \"series\": [{\"data\": [0.9057287827772676]}]}, {\"name\": \"average_precision_score_weighted\", \"run_id\": \"AutoML_b428813d-4f10-47e5-8828-f7c82f118840\", \"categories\": [0], \"series\": [{\"data\": [0.9058815611235884]}]}, {\"name\": \"recall_score_micro\", \"run_id\": \"AutoML_b428813d-4f10-47e5-8828-f7c82f118840\", \"categories\": [0], \"series\": [{\"data\": [0.8695622895622895]}]}, {\"name\": \"average_precision_score_macro\", \"run_id\": \"AutoML_b428813d-4f10-47e5-8828-f7c82f118840\", \"categories\": [0], \"series\": [{\"data\": [0.8807063760708056]}]}, {\"name\": \"f1_score_micro\", \"run_id\": \"AutoML_b428813d-4f10-47e5-8828-f7c82f118840\", \"categories\": [0], \"series\": [{\"data\": [0.8695622895622895]}]}, {\"name\": \"log_loss\", \"run_id\": \"AutoML_b428813d-4f10-47e5-8828-f7c82f118840\", \"categories\": [0], \"series\": [{\"data\": [0.4108024938438826]}]}, {\"name\": \"precision_score_weighted\", \"run_id\": \"AutoML_b428813d-4f10-47e5-8828-f7c82f118840\", \"categories\": [0], \"series\": [{\"data\": [0.8745604228503799]}]}, {\"name\": \"recall_score_weighted\", \"run_id\": \"AutoML_b428813d-4f10-47e5-8828-f7c82f118840\", \"categories\": [0], \"series\": [{\"data\": [0.8695622895622895]}]}, {\"name\": \"AUC_weighted\", \"run_id\": \"AutoML_b428813d-4f10-47e5-8828-f7c82f118840\", \"categories\": [0], \"series\": [{\"data\": [0.8996966917656574]}]}, {\"name\": \"balanced_accuracy\", \"run_id\": \"AutoML_b428813d-4f10-47e5-8828-f7c82f118840\", \"categories\": [0], \"series\": [{\"data\": [0.8332006883731022]}]}, {\"name\": \"f1_score_weighted\", \"run_id\": \"AutoML_b428813d-4f10-47e5-8828-f7c82f118840\", \"categories\": [0], \"series\": [{\"data\": [0.8650615728175429]}]}, {\"name\": \"matthews_correlation\", \"run_id\": \"AutoML_b428813d-4f10-47e5-8828-f7c82f118840\", \"categories\": [0], \"series\": [{\"data\": [0.7004934744211296]}]}, {\"name\": \"AUC_macro\", \"run_id\": \"AutoML_b428813d-4f10-47e5-8828-f7c82f118840\", \"categories\": [0], \"series\": [{\"data\": [0.8996966917656573]}]}, {\"name\": \"accuracy\", \"run_id\": \"AutoML_b428813d-4f10-47e5-8828-f7c82f118840\", \"categories\": [0], \"series\": [{\"data\": [0.8695622895622895]}]}, {\"name\": \"precision_score_micro\", \"run_id\": \"AutoML_b428813d-4f10-47e5-8828-f7c82f118840\", \"categories\": [0], \"series\": [{\"data\": [0.8695622895622895]}]}], \"run_logs\": \"\\nRun is completed.\", \"graph\": {}, \"widget_settings\": {\"childWidgetDisplay\": \"popup\", \"send_telemetry\": false, \"log_level\": \"INFO\", \"sdk_version\": \"1.26.0\"}, \"loading\": false}"
     },
     "metadata": {},
     "output_type": "display_data"
    },
    {
     "data": {
      "text/html": [
       "<table style=\"width:100%\"><tr><th>Experiment</th><th>Id</th><th>Type</th><th>Status</th><th>Details Page</th><th>Docs Page</th></tr><tr><td>heart-failure-experiment</td><td>AutoML_b428813d-4f10-47e5-8828-f7c82f118840</td><td>automl</td><td>Completed</td><td><a href=\"https://ml.azure.com/runs/AutoML_b428813d-4f10-47e5-8828-f7c82f118840?wsid=/subscriptions/9b72f9e6-56c5-4c16-991b-19c652994860/resourcegroups/aml-quickstarts-143097/workspaces/quick-starts-ws-143097&amp;tid=660b3398-b80e-49d2-bc5b-ac1dc93b5254\" target=\"_blank\" rel=\"noopener\">Link to Azure Machine Learning studio</a></td><td><a href=\"https://docs.microsoft.com/en-us/python/api/overview/azure/ml/intro?view=azure-ml-py\" target=\"_blank\" rel=\"noopener\">Link to Documentation</a></td></tr></table>"
      ],
      "text/plain": [
       "<IPython.core.display.HTML object>"
      ]
     },
     "metadata": {},
     "output_type": "display_data"
    },
    {
     "name": "stdout",
     "output_type": "stream",
     "text": [
      "\n",
      "\n",
      "****************************************************************************************************\n",
      "DATA GUARDRAILS: \n",
      "\n",
      "TYPE:         Class balancing detection\n",
      "STATUS:       PASSED\n",
      "DESCRIPTION:  Your inputs were analyzed, and all classes are balanced in your training data.\n",
      "              Learn more about imbalanced data: https://aka.ms/AutomatedMLImbalancedData\n",
      "\n",
      "****************************************************************************************************\n",
      "\n",
      "TYPE:         Missing feature values imputation\n",
      "STATUS:       PASSED\n",
      "DESCRIPTION:  No feature missing values were detected in the training data.\n",
      "              Learn more about missing value imputation: https://aka.ms/AutomatedMLFeaturization\n",
      "\n",
      "****************************************************************************************************\n",
      "\n",
      "TYPE:         High cardinality feature detection\n",
      "STATUS:       PASSED\n",
      "DESCRIPTION:  Your inputs were analyzed, and no high cardinality features were detected.\n",
      "              Learn more about high cardinality feature handling: https://aka.ms/AutomatedMLFeaturization\n",
      "\n",
      "****************************************************************************************************\n",
      "\n",
      "****************************************************************************************************\n",
      "ITERATION: The iteration being evaluated.\n",
      "PIPELINE: A summary description of the pipeline being evaluated.\n",
      "DURATION: Time taken for the current iteration.\n",
      "METRIC: The result of computing score on the fitted pipeline.\n",
      "BEST: The best observed score thus far.\n",
      "****************************************************************************************************\n",
      "\n",
      " ITERATION   PIPELINE                                       DURATION      METRIC      BEST\n",
      "         0   MaxAbsScaler LightGBM                          0:00:47       0.8025    0.8025\n",
      "         1   MaxAbsScaler XGBoostClassifier                 0:00:44       0.8193    0.8193\n",
      "         2   MinMaxScaler RandomForest                      0:00:43       0.8160    0.8193\n",
      "         3   MinMaxScaler RandomForest                      0:00:50       0.8125    0.8193\n",
      "         4   MinMaxScaler RandomForest                      0:02:15       0.8394    0.8394\n",
      "         5   StandardScalerWrapper XGBoostClassifier        0:05:22       0.8294    0.8394\n",
      "         6   MinMaxScaler SVM                               0:00:42       0.7123    0.8394\n",
      "         7   MinMaxScaler SVM                               0:00:44       0.6990    0.8394\n",
      "        10   SparseNormalizer XGBoostClassifier             0:00:44       0.8294    0.8394\n",
      "        11   RobustScaler RandomForest                      0:00:51       0.8226    0.8394\n",
      "         8   MaxAbsScaler GradientBoosting                  0:00:39       0.8193    0.8394\n",
      "         9   SparseNormalizer XGBoostClassifier             0:00:46       0.8027    0.8394\n",
      "        12   MaxAbsScaler LightGBM                          0:00:46       0.8026    0.8394\n",
      "        13   StandardScalerWrapper LightGBM                 0:00:47       0.8160    0.8394\n",
      "        14   MaxAbsScaler LightGBM                          0:00:46       0.8193    0.8394\n",
      "        15   StandardScalerWrapper LightGBM                 0:00:49       0.8160    0.8394\n",
      "        16   StandardScalerWrapper RandomForest             0:00:45       0.8428    0.8428\n",
      "        17   TruncatedSVDWrapper XGBoostClassifier          0:00:46       0.7658    0.8428\n",
      "        18   MaxAbsScaler LightGBM                          0:00:44       0.8227    0.8428\n",
      "        19   StandardScalerWrapper XGBoostClassifier        0:00:46       0.8025    0.8428\n",
      "        20   RobustScaler LightGBM                          0:00:47       0.8361    0.8428\n",
      "        21   RobustScaler LightGBM                          0:00:53       0.8259    0.8428\n",
      "        22   SparseNormalizer XGBoostClassifier             0:00:41       0.8128    0.8428\n",
      "        23   StandardScalerWrapper RandomForest             0:00:44       0.8528    0.8528\n",
      "        24   StandardScalerWrapper RandomForest             0:00:49       0.7960    0.8528\n",
      "        25   StandardScalerWrapper XGBoostClassifier        0:00:51       0.8193    0.8528\n",
      "        26   MaxAbsScaler LightGBM                          0:00:50       0.7793    0.8528\n",
      "        27   StandardScalerWrapper RandomForest             0:00:52       0.8427    0.8528\n",
      "        28   MinMaxScaler LightGBM                          0:00:54       0.7592    0.8528\n",
      "        29   StandardScalerWrapper LightGBM                 0:00:49       0.8427    0.8528\n",
      "        30   MaxAbsScaler RandomForest                      0:00:50       0.6790    0.8528\n",
      "        31   MaxAbsScaler LightGBM                          0:00:50       0.7391    0.8528\n",
      "        32   MinMaxScaler LightGBM                          0:00:44       0.8361    0.8528\n",
      "        33   MinMaxScaler LightGBM                          0:00:50       0.8260    0.8528\n",
      "        34   StandardScalerWrapper XGBoostClassifier        0:00:44       0.7960    0.8528\n",
      "        35   SparseNormalizer RandomForest                  0:00:54       0.7022    0.8528\n",
      "        36   StandardScalerWrapper XGBoostClassifier        0:00:47       0.8193    0.8528\n",
      "        37   RobustScaler RandomForest                      0:00:41       0.8259    0.8528\n",
      "        38    VotingEnsemble                                0:01:01       0.8696    0.8696\n",
      "        39    StackEnsemble                                 0:01:07       0.8495    0.8696\n"
     ]
    },
    {
     "data": {
      "text/plain": [
       "{'runId': 'AutoML_b428813d-4f10-47e5-8828-f7c82f118840',\n",
       " 'target': 'project-compute',\n",
       " 'status': 'Completed',\n",
       " 'startTimeUtc': '2021-04-19T02:06:39.234909Z',\n",
       " 'endTimeUtc': '2021-04-19T02:23:16.539768Z',\n",
       " 'properties': {'num_iterations': '40',\n",
       "  'training_type': 'TrainFull',\n",
       "  'acquisition_function': 'EI',\n",
       "  'primary_metric': 'accuracy',\n",
       "  'train_split': '0',\n",
       "  'acquisition_parameter': '0',\n",
       "  'num_cross_validation': '3',\n",
       "  'target': 'project-compute',\n",
       "  'AMLSettingsJsonString': '{\"path\":null,\"name\":\"heart-failure-experiment\",\"subscription_id\":\"9b72f9e6-56c5-4c16-991b-19c652994860\",\"resource_group\":\"aml-quickstarts-143097\",\"workspace_name\":\"quick-starts-ws-143097\",\"region\":\"southcentralus\",\"compute_target\":\"project-compute\",\"spark_service\":null,\"azure_service\":\"remote\",\"many_models\":false,\"pipeline_fetch_max_batch_size\":1,\"enable_batch_run\":false,\"enable_run_restructure\":false,\"iterations\":40,\"primary_metric\":\"accuracy\",\"task_type\":\"classification\",\"data_script\":null,\"test_size\":0.0,\"validation_size\":0.0,\"n_cross_validations\":3,\"y_min\":null,\"y_max\":null,\"num_classes\":null,\"featurization\":\"auto\",\"_ignore_package_version_incompatibilities\":false,\"is_timeseries\":false,\"max_cores_per_iteration\":1,\"max_concurrent_iterations\":4,\"iteration_timeout_minutes\":null,\"mem_in_mb\":null,\"enforce_time_on_windows\":false,\"experiment_timeout_minutes\":30,\"experiment_exit_score\":null,\"whitelist_models\":null,\"blacklist_algos\":[\"TensorFlowLinearClassifier\",\"TensorFlowDNN\"],\"supported_models\":[\"BernoulliNaiveBayes\",\"SVM\",\"LinearSVM\",\"LightGBM\",\"TensorFlowDNN\",\"MultinomialNaiveBayes\",\"RandomForest\",\"LogisticRegression\",\"SGD\",\"KNN\",\"AveragedPerceptronClassifier\",\"ExtremeRandomTrees\",\"GradientBoosting\",\"TensorFlowLinearClassifier\",\"DecisionTree\",\"XGBoostClassifier\"],\"private_models\":[],\"auto_blacklist\":true,\"blacklist_samples_reached\":false,\"exclude_nan_labels\":true,\"verbosity\":20,\"_debug_log\":\"azureml_automl.log\",\"show_warnings\":false,\"model_explainability\":true,\"service_url\":null,\"sdk_url\":null,\"sdk_packages\":null,\"enable_onnx_compatible_models\":false,\"enable_split_onnx_featurizer_estimator_models\":false,\"vm_type\":\"STANDARD_D2_V2\",\"telemetry_verbosity\":20,\"send_telemetry\":true,\"enable_dnn\":false,\"scenario\":\"SDK-1.13.0\",\"environment_label\":null,\"save_mlflow\":false,\"force_text_dnn\":false,\"enable_feature_sweeping\":true,\"enable_early_stopping\":true,\"early_stopping_n_iters\":10,\"metrics\":null,\"enable_metric_confidence\":false,\"enable_ensembling\":true,\"enable_stack_ensembling\":true,\"ensemble_iterations\":15,\"enable_tf\":false,\"enable_subsampling\":false,\"subsample_seed\":null,\"enable_nimbusml\":false,\"enable_streaming\":false,\"force_streaming\":false,\"track_child_runs\":true,\"allowed_private_models\":[],\"label_column_name\":\"DEATH_EVENT\",\"weight_column_name\":null,\"cv_split_column_names\":null,\"enable_local_managed\":false,\"_local_managed_run_id\":null,\"cost_mode\":1,\"lag_length\":0,\"metric_operation\":\"maximize\",\"preprocess\":true}',\n",
       "  'DataPrepJsonString': '{\\\\\"training_data\\\\\": {\\\\\"datasetId\\\\\": \\\\\"05d3e010-e974-4ea7-ad24-6e58608622e8\\\\\"}, \\\\\"datasets\\\\\": 0}',\n",
       "  'EnableSubsampling': 'False',\n",
       "  'runTemplate': 'AutoML',\n",
       "  'azureml.runsource': 'automl',\n",
       "  'display_task_type': 'classification',\n",
       "  'dependencies_versions': '{\"azureml-widgets\": \"1.26.0\", \"azureml-train\": \"1.26.0\", \"azureml-train-restclients-hyperdrive\": \"1.26.0\", \"azureml-train-core\": \"1.26.0\", \"azureml-train-automl\": \"1.26.0\", \"azureml-train-automl-runtime\": \"1.26.0\", \"azureml-train-automl-client\": \"1.26.0\", \"azureml-tensorboard\": \"1.26.0\", \"azureml-telemetry\": \"1.26.0\", \"azureml-sdk\": \"1.26.0\", \"azureml-samples\": \"0+unknown\", \"azureml-pipeline\": \"1.26.0\", \"azureml-pipeline-steps\": \"1.26.0\", \"azureml-pipeline-core\": \"1.26.0\", \"azureml-opendatasets\": \"1.26.0\", \"azureml-model-management-sdk\": \"1.0.1b6.post1\", \"azureml-mlflow\": \"1.26.0\", \"azureml-interpret\": \"1.26.0\", \"azureml-explain-model\": \"1.26.0\", \"azureml-defaults\": \"1.26.0\", \"azureml-dataset-runtime\": \"1.26.0\", \"azureml-dataprep\": \"2.13.2\", \"azureml-dataprep-rslex\": \"1.11.2\", \"azureml-dataprep-native\": \"32.0.0\", \"azureml-datadrift\": \"1.26.0\", \"azureml-core\": \"1.26.0\", \"azureml-contrib-services\": \"1.26.0\", \"azureml-contrib-server\": \"1.26.0\", \"azureml-contrib-reinforcementlearning\": \"1.26.0\", \"azureml-contrib-pipeline-steps\": \"1.26.0\", \"azureml-contrib-notebook\": \"1.26.0\", \"azureml-contrib-gbdt\": \"1.26.0\", \"azureml-contrib-fairness\": \"1.26.0\", \"azureml-contrib-dataset\": \"1.26.0\", \"azureml-cli-common\": \"1.26.0\", \"azureml-automl-runtime\": \"1.26.0\", \"azureml-automl-dnn-nlp\": \"1.26.0\", \"azureml-automl-core\": \"1.26.0\", \"azureml-accel-models\": \"1.26.0\"}',\n",
       "  '_aml_system_scenario_identification': 'Remote.Parent',\n",
       "  'ClientType': 'SDK',\n",
       "  'environment_cpu_name': 'AzureML-AutoML',\n",
       "  'environment_cpu_label': 'prod',\n",
       "  'environment_gpu_name': 'AzureML-AutoML-GPU',\n",
       "  'environment_gpu_label': 'prod',\n",
       "  'root_attribution': 'automl',\n",
       "  'attribution': 'AutoML',\n",
       "  'Orchestrator': 'AutoML',\n",
       "  'CancelUri': 'https://southcentralus.experiments.azureml.net/jasmine/v1.0/subscriptions/9b72f9e6-56c5-4c16-991b-19c652994860/resourceGroups/aml-quickstarts-143097/providers/Microsoft.MachineLearningServices/workspaces/quick-starts-ws-143097/experimentids/1bf21f7d-d2d1-4352-a167-f1ab57fd101c/cancel/AutoML_b428813d-4f10-47e5-8828-f7c82f118840',\n",
       "  'ClientSdkVersion': '1.25.0',\n",
       "  'snapshotId': '00000000-0000-0000-0000-000000000000',\n",
       "  'SetupRunId': 'AutoML_b428813d-4f10-47e5-8828-f7c82f118840_setup',\n",
       "  'SetupRunContainerId': 'dcid.AutoML_b428813d-4f10-47e5-8828-f7c82f118840_setup',\n",
       "  'FeaturizationRunJsonPath': 'featurizer_container.json',\n",
       "  'FeaturizationRunId': 'AutoML_b428813d-4f10-47e5-8828-f7c82f118840_featurize',\n",
       "  'ProblemInfoJsonString': '{\"dataset_num_categorical\": 0, \"is_sparse\": false, \"subsampling\": false, \"dataset_classes\": 2, \"dataset_features\": 12, \"dataset_samples\": 299, \"single_frequency_class_detected\": false}',\n",
       "  'ModelExplainRunId': 'AutoML_b428813d-4f10-47e5-8828-f7c82f118840_ModelExplain'},\n",
       " 'inputDatasets': [{'dataset': {'id': '05d3e010-e974-4ea7-ad24-6e58608622e8'}, 'consumptionDetails': {'type': 'RunInput', 'inputName': 'training_data', 'mechanism': 'Direct'}}],\n",
       " 'outputDatasets': [],\n",
       " 'logFiles': {},\n",
       " 'submittedBy': 'ODL_User 143097'}"
      ]
     },
     "execution_count": 11,
     "metadata": {},
     "output_type": "execute_result"
    }
   ],
   "source": [
    "RunDetails(remote_run).show()\n",
    "remote_run.wait_for_completion(show_output=True)"
   ]
  },
  {
   "cell_type": "markdown",
   "metadata": {},
   "source": [
    "## Best Model\n",
    "\n",
    "TODO: In the cell below, get the best model from the automl experiments and display all the properties of the model.\n",
    "\n"
   ]
  },
  {
   "cell_type": "code",
   "execution_count": 15,
   "metadata": {
    "collapsed": false,
    "gather": {
     "logged": 1598431425670
    },
    "jupyter": {
     "outputs_hidden": false,
     "source_hidden": false
    },
    "nteract": {
     "transient": {
      "deleting": false
     }
    }
   },
   "outputs": [],
   "source": [
    "best_auto_run, fitted_model = remote_run.get_output()"
   ]
  },
  {
   "cell_type": "code",
   "execution_count": 17,
   "metadata": {},
   "outputs": [
    {
     "name": "stdout",
     "output_type": "stream",
     "text": [
      "Best Run Id : AutoML_b428813d-4f10-47e5-8828-f7c82f118840_38\n",
      "Accuracy : 0.8695622895622895\n",
      "Best metrics : {'precision_score_micro': 0.8695622895622895, 'accuracy': 0.8695622895622895, 'norm_macro_recall': 0.6664013767462044, 'recall_score_weighted': 0.8695622895622895, 'precision_score_weighted': 0.8745604228503799, 'log_loss': 0.4108024938438826, 'f1_score_macro': 0.8428151252963195, 'precision_score_macro': 0.8692977842166453, 'weighted_accuracy': 0.8983020161762952, 'recall_score_micro': 0.8695622895622895, 'f1_score_micro': 0.8695622895622895, 'average_precision_score_micro': 0.9062746273313508, 'average_precision_score_weighted': 0.9058815611235884, 'f1_score_weighted': 0.8650615728175429, 'AUC_micro': 0.9057287827772676, 'AUC_weighted': 0.8996966917656574, 'recall_score_macro': 0.8332006883731022, 'balanced_accuracy': 0.8332006883731022, 'average_precision_score_macro': 0.8807063760708056, 'matthews_correlation': 0.7004934744211296, 'AUC_macro': 0.8996966917656573, 'accuracy_table': 'aml://artifactId/ExperimentRun/dcid.AutoML_b428813d-4f10-47e5-8828-f7c82f118840_38/accuracy_table', 'confusion_matrix': 'aml://artifactId/ExperimentRun/dcid.AutoML_b428813d-4f10-47e5-8828-f7c82f118840_38/confusion_matrix'}\n",
      "Best model : Pipeline(memory=None,\n",
      "         steps=[('datatransformer',\n",
      "                 DataTransformer(enable_dnn=None, enable_feature_sweeping=None,\n",
      "                                 feature_sweeping_config=None,\n",
      "                                 feature_sweeping_timeout=None,\n",
      "                                 featurization_config=None, force_text_dnn=None,\n",
      "                                 is_cross_validation=None,\n",
      "                                 is_onnx_compatible=None, logger=None,\n",
      "                                 observer=None, task=None, working_dir=None)),\n",
      "                ('prefittedsoftvotingclassifier',...\n",
      "                                                                                               silent=None,\n",
      "                                                                                               subsample=1,\n",
      "                                                                                               tree_method='auto',\n",
      "                                                                                               verbose=-10,\n",
      "                                                                                               verbosity=0))],\n",
      "                                                                     verbose=False))],\n",
      "                                               flatten_transform=None,\n",
      "                                               weights=[0.07142857142857142,\n",
      "                                                        0.07142857142857142,\n",
      "                                                        0.07142857142857142,\n",
      "                                                        0.07142857142857142,\n",
      "                                                        0.07142857142857142,\n",
      "                                                        0.07142857142857142,\n",
      "                                                        0.07142857142857142,\n",
      "                                                        0.07142857142857142,\n",
      "                                                        0.07142857142857142,\n",
      "                                                        0.14285714285714285,\n",
      "                                                        0.21428571428571427]))],\n",
      "         verbose=False)\n"
     ]
    }
   ],
   "source": [
    "best_metrics = best_auto_run.get_metrics()\n",
    "\n",
    "print(\"Best Run Id : {}\".format(best_auto_run.id), \n",
    "      \"Accuracy : {}\".format(best_metrics['accuracy']), \n",
    "      \"Best metrics : {}\".format(best_metrics), \n",
    "      \"Best model : {}\".format(fitted_model), sep = '\\n')"
   ]
  },
  {
   "cell_type": "code",
   "execution_count": 18,
   "metadata": {},
   "outputs": [
    {
     "name": "stdout",
     "output_type": "stream",
     "text": [
      "PreFittedSoftVotingClassifier(classification_labels=None,\n",
      "                              estimators=[('23',\n",
      "                                           Pipeline(memory=None,\n",
      "                                                    steps=[('standardscalerwrapper',\n",
      "                                                            <azureml.automl.runtime.shared.model_wrappers.StandardScalerWrapper object at 0x7f3e00f733c8>),\n",
      "                                                           ('randomforestclassifier',\n",
      "                                                            RandomForestClassifier(bootstrap=True,\n",
      "                                                                                   ccp_alpha=0.0,\n",
      "                                                                                   class_weight=None,\n",
      "                                                                                   criterion='gini',\n",
      "                                                                                   max_depth=None,\n",
      "                                                                                   ma...\n",
      "                                                                              seed=None,\n",
      "                                                                              silent=None,\n",
      "                                                                              subsample=1,\n",
      "                                                                              tree_method='auto',\n",
      "                                                                              verbose=-10,\n",
      "                                                                              verbosity=0))],\n",
      "                                                    verbose=False))],\n",
      "                              flatten_transform=None,\n",
      "                              weights=[0.07142857142857142, 0.07142857142857142,\n",
      "                                       0.07142857142857142, 0.07142857142857142,\n",
      "                                       0.07142857142857142, 0.07142857142857142,\n",
      "                                       0.07142857142857142, 0.07142857142857142,\n",
      "                                       0.07142857142857142, 0.14285714285714285,\n",
      "                                       0.21428571428571427])\n"
     ]
    }
   ],
   "source": [
    "print(fitted_model._final_estimator)"
   ]
  },
  {
   "cell_type": "code",
   "execution_count": 19,
   "metadata": {},
   "outputs": [
    {
     "name": "stdout",
     "output_type": "stream",
     "text": [
      "Model(workspace=Workspace.create(name='quick-starts-ws-143097', subscription_id='9b72f9e6-56c5-4c16-991b-19c652994860', resource_group='aml-quickstarts-143097'), name=heart-failure-best-model-automl, id=heart-failure-best-model-automl:1, version=1, tags={}, properties={})\n"
     ]
    }
   ],
   "source": [
    "model = best_auto_run.register_model(model_name = \"heart-failure-best-model-automl\", model_path = './outputs/model.pkl')\n",
    "print(model)"
   ]
  },
  {
   "cell_type": "code",
   "execution_count": 20,
   "metadata": {},
   "outputs": [
    {
     "name": "stdout",
     "output_type": "stream",
     "text": [
      "heart-failure-best-model-automl version: 1\n"
     ]
    }
   ],
   "source": [
    "for model in Model.list(ws):\n",
    "    print(model.name, 'version:', model.version)"
   ]
  },
  {
   "cell_type": "markdown",
   "metadata": {},
   "source": [
    "## Model Deployment\n",
    "\n",
    "Remember you have to deploy only one of the two models you trained.. Perform the steps in the rest of this notebook only if you wish to deploy this model.\n",
    "\n",
    "TODO: In the cell below, register the model, create an inference config and deploy the model as a web service."
   ]
  },
  {
   "cell_type": "code",
   "execution_count": 34,
   "metadata": {
    "collapsed": false,
    "gather": {
     "logged": 1598431435189
    },
    "jupyter": {
     "outputs_hidden": false,
     "source_hidden": false
    },
    "nteract": {
     "transient": {
      "deleting": false
     }
    }
   },
   "outputs": [
    {
     "name": "stdout",
     "output_type": "stream",
     "text": [
      "Downloading from outputs/conda_env_v_1_0_0.yml to ./aml-model/conda_env_v_1_0_0.yml ...\n",
      "Downloading from outputs/env_dependencies.json to ./aml-model/env_dependencies.json ...\n",
      "Downloading from outputs/internal_cross_validated_models.pkl to ./aml-model/internal_cross_validated_models.pkl ...\n",
      "Downloading from outputs/model.pkl to ./aml-model/model.pkl ...\n",
      "Downloading from outputs/pipeline_graph.json to ./aml-model/pipeline_graph.json ...\n",
      "Downloading from outputs/scoring_file_v_1_0_0.py to ./aml-model/scoring_file_v_1_0_0.py ...\n"
     ]
    }
   ],
   "source": [
    "import os\n",
    "os.makedirs('./automl-model', exist_ok=True)\n",
    "\n",
    "best_auto_run.download_file('/outputs/model.pkl',os.path.join('./automl-model','heart-failure-best-model-automl.pkl'))\n",
    "\n",
    "for f in best_auto_run.get_file_names():\n",
    "    if f.startswith('outputs'):\n",
    "        output_file_path = os.path.join('./aml-model', f.split('/')[-1])\n",
    "        print(f'Downloading from {f} to {output_file_path} ...')\n",
    "        best_auto_run.download_file(name=f, output_file_path=output_file_path)"
   ]
  },
  {
   "cell_type": "markdown",
   "metadata": {
    "gather": {
     "logged": 1598431657736
    },
    "jupyter": {
     "outputs_hidden": false,
     "source_hidden": false
    },
    "nteract": {
     "transient": {
      "deleting": false
     }
    }
   },
   "source": [
    "TODO: In the cell below, send a request to the web service you deployed to test it."
   ]
  },
  {
   "cell_type": "code",
   "execution_count": 35,
   "metadata": {
    "collapsed": false,
    "gather": {
     "logged": 1598432707604
    },
    "jupyter": {
     "outputs_hidden": false,
     "source_hidden": false
    },
    "nteract": {
     "transient": {
      "deleting": false
     }
    }
   },
   "outputs": [],
   "source": [
    "model=best_auto_run.register_model(\n",
    "            model_name = 'heart-failure-best-model-automl', \n",
    "            model_path = './outputs/model.pkl'\n",
    ")"
   ]
  },
  {
   "cell_type": "code",
   "execution_count": 36,
   "metadata": {},
   "outputs": [],
   "source": [
    "best_auto_run.download_file('outputs/conda_env_v_1_0_0.yml', 'conda_env.yml')\n",
    "environment = Environment.from_conda_specification(name = 'heart-failure-env', file_path = 'conda_env.yml')"
   ]
  },
  {
   "cell_type": "code",
   "execution_count": 37,
   "metadata": {},
   "outputs": [],
   "source": [
    "best_auto_run.download_file('outputs/scoring_file_v_1_0_0.py', 'score.py')"
   ]
  },
  {
   "cell_type": "code",
   "execution_count": 38,
   "metadata": {
    "collapsed": false,
    "jupyter": {
     "outputs_hidden": false,
     "source_hidden": false
    },
    "nteract": {
     "transient": {
      "deleting": false
     }
    }
   },
   "outputs": [],
   "source": [
    "inference_config = InferenceConfig(entry_script= 'score.py', environment=environment)"
   ]
  },
  {
   "cell_type": "code",
   "execution_count": 39,
   "metadata": {},
   "outputs": [],
   "source": [
    "aci_config = AciWebservice.deploy_configuration(cpu_cores=1, memory_gb=1, auth_enabled=True, enable_app_insights=True)"
   ]
  },
  {
   "cell_type": "code",
   "execution_count": 40,
   "metadata": {},
   "outputs": [],
   "source": [
    "webservice = Model.deploy(workspace=ws, \n",
    "                        name='heart-failure-ws', \n",
    "                        models=[model], \n",
    "                        inference_config=inference_config,\n",
    "                        deployment_config=aci_config,\n",
    "                        overwrite=True)"
   ]
  },
  {
   "cell_type": "code",
   "execution_count": 41,
   "metadata": {},
   "outputs": [
    {
     "data": {
      "text/plain": [
       "AciWebservice(workspace=Workspace.create(name='quick-starts-ws-143097', subscription_id='9b72f9e6-56c5-4c16-991b-19c652994860', resource_group='aml-quickstarts-143097'), name=heart-failure-ws, image_id=None, compute_type=None, state=ACI, scoring_uri=Healthy, tags=http://8a191047-f0d5-45b6-b958-2c13f6a64159.southcentralus.azurecontainer.io/score, properties=None, created_by={})"
      ]
     },
     "execution_count": 41,
     "metadata": {},
     "output_type": "execute_result"
    }
   ],
   "source": [
    "webservice"
   ]
  },
  {
   "cell_type": "code",
   "execution_count": 42,
   "metadata": {},
   "outputs": [
    {
     "name": "stdout",
     "output_type": "stream",
     "text": [
      "Tips: You can try get_logs(): https://aka.ms/debugimage#dockerlog or local deployment: https://aka.ms/debugimage#debug-locally to debug if deployment takes longer than 10 minutes.\n",
      "Running\n",
      "2021-04-19 03:24:38+00:00 Creating Container Registry if not exists.\n",
      "2021-04-19 03:24:41+00:00 Use the existing image.\n",
      "2021-04-19 03:24:41+00:00 Generating deployment configuration.\n",
      "2021-04-19 03:24:42+00:00 Submitting deployment to compute.\n",
      "2021-04-19 03:24:45+00:00 Checking the status of deployment heart-failure-ws..\n",
      "2021-04-19 03:30:14+00:00 Checking the status of inference endpoint heart-failure-ws.\n",
      "Succeeded\n",
      "ACI service creation operation finished, operation \"Succeeded\"\n",
      "Status : Healthy\n",
      "scoring_uri : http://8a191047-f0d5-45b6-b958-2c13f6a64159.southcentralus.azurecontainer.io/score\n",
      "swagger_uri : http://8a191047-f0d5-45b6-b958-2c13f6a64159.southcentralus.azurecontainer.io/swagger.json\n"
     ]
    }
   ],
   "source": [
    "# wait for deployment to finish and display the scoring uri and swagger uri\n",
    "webservice.wait_for_deployment(show_output=True)\n",
    "\n",
    "print(\"Status : {}\".format(webservice.state), \n",
    "      \"scoring_uri : {}\".format(webservice.scoring_uri), \n",
    "      \"swagger_uri : {}\".format(webservice.swagger_uri), sep = '\\n')"
   ]
  },
  {
   "cell_type": "code",
   "execution_count": 43,
   "metadata": {},
   "outputs": [
    {
     "name": "stdout",
     "output_type": "stream",
     "text": [
      "('{\"data\": [{\"age\": 72.0, \"anaemia\": 1, \"creatinine_phosphokinase\": 110, '\n",
      " '\"diabetes\": 0, \"ejection_fraction\": 25, \"high_blood_pressure\": 0, '\n",
      " '\"platelets\": 274000.0, \"serum_creatinine\": 1.0, \"serum_sodium\": 140, \"sex\": '\n",
      " '1, \"smoking\": 1, \"time\": 65}, {\"age\": 55.0, \"anaemia\": 0, '\n",
      " '\"creatinine_phosphokinase\": 66, \"diabetes\": 0, \"ejection_fraction\": 40, '\n",
      " '\"high_blood_pressure\": 0, \"platelets\": 203000.0, \"serum_creatinine\": 1.0, '\n",
      " '\"serum_sodium\": 138, \"sex\": 1, \"smoking\": 0, \"time\": 233}, {\"age\": 60.0, '\n",
      " '\"anaemia\": 0, \"creatinine_phosphokinase\": 166, \"diabetes\": 0, '\n",
      " '\"ejection_fraction\": 30, \"high_blood_pressure\": 0, \"platelets\": 62000.0, '\n",
      " '\"serum_creatinine\": 1.7, \"serum_sodium\": 127, \"sex\": 0, \"smoking\": 0, '\n",
      " '\"time\": 207}, {\"age\": 75.0, \"anaemia\": 0, \"creatinine_phosphokinase\": 99, '\n",
      " '\"diabetes\": 0, \"ejection_fraction\": 38, \"high_blood_pressure\": 1, '\n",
      " '\"platelets\": 224000.0, \"serum_creatinine\": 2.5, \"serum_sodium\": 134, \"sex\": '\n",
      " '1, \"smoking\": 0, \"time\": 162}, {\"age\": 63.0, \"anaemia\": 1, '\n",
      " '\"creatinine_phosphokinase\": 122, \"diabetes\": 1, \"ejection_fraction\": 60, '\n",
      " '\"high_blood_pressure\": 0, \"platelets\": 267000.0, \"serum_creatinine\": 1.2, '\n",
      " '\"serum_sodium\": 145, \"sex\": 1, \"smoking\": 0, \"time\": 147}]}')\n"
     ]
    }
   ],
   "source": [
    "from pprint import pprint\n",
    "\n",
    "# select samples from the dataframe\n",
    "test_data = df.sample(5)\n",
    "test_label = test_data.pop('DEATH_EVENT')\n",
    "\n",
    "# convert the records to a json data file\n",
    "data_json = test_data.to_dict(orient='records')\n",
    "\n",
    "data = json.dumps({'data': data_json})\n",
    "pprint(data)"
   ]
  },
  {
   "cell_type": "code",
   "execution_count": 44,
   "metadata": {},
   "outputs": [
    {
     "name": "stdout",
     "output_type": "stream",
     "text": [
      "{\"result\": [1, 0, 1, 1, 0]}\n"
     ]
    }
   ],
   "source": [
    "# get inference\n",
    "output = webservice.run(data)\n",
    "print(output)"
   ]
  },
  {
   "cell_type": "code",
   "execution_count": 45,
   "metadata": {},
   "outputs": [
    {
     "data": {
      "text/plain": [
       "'2021-04-19T03:29:35,769729200+00:00 - gunicorn/run \\n2021-04-19T03:29:35,771207100+00:00 - iot-server/run \\n2021-04-19T03:29:35,789657000+00:00 - rsyslog/run \\n2021-04-19T03:29:35,791414100+00:00 - nginx/run \\n/usr/sbin/nginx: /azureml-envs/azureml_5a33d0b1846b3717ef969a5f35fc31b7/lib/libcrypto.so.1.0.0: no version information available (required by /usr/sbin/nginx)\\n/usr/sbin/nginx: /azureml-envs/azureml_5a33d0b1846b3717ef969a5f35fc31b7/lib/libcrypto.so.1.0.0: no version information available (required by /usr/sbin/nginx)\\n/usr/sbin/nginx: /azureml-envs/azureml_5a33d0b1846b3717ef969a5f35fc31b7/lib/libssl.so.1.0.0: no version information available (required by /usr/sbin/nginx)\\n/usr/sbin/nginx: /azureml-envs/azureml_5a33d0b1846b3717ef969a5f35fc31b7/lib/libssl.so.1.0.0: no version information available (required by /usr/sbin/nginx)\\n/usr/sbin/nginx: /azureml-envs/azureml_5a33d0b1846b3717ef969a5f35fc31b7/lib/libssl.so.1.0.0: no version information available (required by /usr/sbin/nginx)\\nrsyslogd: /azureml-envs/azureml_5a33d0b1846b3717ef969a5f35fc31b7/lib/libuuid.so.1: no version information available (required by rsyslogd)\\nEdgeHubConnectionString and IOTEDGE_IOTHUBHOSTNAME are not set. Exiting...\\n2021-04-19T03:29:36,152182300+00:00 - iot-server/finish 1 0\\n2021-04-19T03:29:36,158628000+00:00 - Exit code 1 is normal. Not restarting iot-server.\\nStarting gunicorn 19.9.0\\nListening at: http://127.0.0.1:31311 (70)\\nUsing worker: sync\\nworker timeout is set to 300\\nBooting worker with pid: 98\\nSPARK_HOME not set. Skipping PySpark Initialization.\\nGenerating new fontManager, this may take some time...\\nInitializing logger\\n2021-04-19 03:29:38,758 | root | INFO | Starting up app insights client\\n2021-04-19 03:29:38,759 | root | INFO | Starting up request id generator\\n2021-04-19 03:29:38,759 | root | INFO | Starting up app insight hooks\\n2021-04-19 03:29:38,759 | root | INFO | Invoking user\\'s init function\\n2021-04-19 03:29:43,469 | azureml.core | WARNING | Failure while loading azureml_run_type_providers. Failed to load entrypoint automl = azureml.train.automl.run:AutoMLRun._from_run_dto with exception cannot import name \\'RunType\\'.\\nFailure while loading azureml_run_type_providers. Failed to load entrypoint automl = azureml.train.automl.run:AutoMLRun._from_run_dto with exception cannot import name \\'RunType\\'.\\n2021-04-19 03:29:43,996 | root | INFO | Users\\'s init has completed successfully\\n2021-04-19 03:29:44,004 | root | INFO | Skipping middleware: dbg_model_info as it\\'s not enabled.\\n2021-04-19 03:29:44,025 | root | INFO | Skipping middleware: dbg_resource_usage as it\\'s not enabled.\\n2021-04-19 03:29:44,027 | root | INFO | Scoring timeout is found from os.environ: 60000 ms\\n2021-04-19 03:30:14,020 | root | INFO | 200\\n127.0.0.1 - - [19/Apr/2021:03:30:14 +0000] \"GET /swagger.json HTTP/1.0\" 200 3035 \"-\" \"Go-http-client/1.1\"\\n2021-04-19 03:30:21,186 | root | INFO | 200\\n127.0.0.1 - - [19/Apr/2021:03:30:21 +0000] \"GET /swagger.json HTTP/1.0\" 200 3035 \"-\" \"Go-http-client/1.1\"\\n2021-04-19 03:31:19,441 | root | INFO | 200\\n127.0.0.1 - - [19/Apr/2021:03:31:19 +0000] \"GET /swagger.json HTTP/1.0\" 200 3035 \"-\" \"Mozilla/5.0 (Windows NT 10.0; Win64; x64) AppleWebKit/537.36 (KHTML, like Gecko) Chrome/86.0.4240.75 Safari/537.36\"\\n2021-04-19 03:32:48,377 | root | INFO | 200\\n127.0.0.1 - - [19/Apr/2021:03:32:48 +0000] \"GET /swagger.json HTTP/1.0\" 200 3035 \"-\" \"Go-http-client/1.1\"\\n2021-04-19 03:33:30,374 | root | INFO | 200\\n127.0.0.1 - - [19/Apr/2021:03:33:30 +0000] \"GET /swagger.json HTTP/1.0\" 200 3035 \"-\" \"Go-http-client/1.1\"\\n2021-04-19 03:33:33,319 | root | INFO | 200\\n127.0.0.1 - - [19/Apr/2021:03:33:33 +0000] \"GET /swagger.json HTTP/1.0\" 200 3035 \"-\" \"Go-http-client/1.1\"\\n2021-04-19 03:34:22,668 | root | INFO | Validation Request Content-Type\\n2021-04-19 03:34:22,669 | root | INFO | Scoring Timer is set to 60.0 seconds\\n2021-04-19 03:34:23,055 | root | INFO | 200\\n127.0.0.1 - - [19/Apr/2021:03:34:23 +0000] \"POST /score HTTP/1.0\" 200 31 \"-\" \"python-requests/2.25.1\"\\n'"
      ]
     },
     "execution_count": 45,
     "metadata": {},
     "output_type": "execute_result"
    }
   ],
   "source": [
    "webservice.get_logs()"
   ]
  },
  {
   "cell_type": "code",
   "execution_count": 46,
   "metadata": {},
   "outputs": [
    {
     "name": "stdout",
     "output_type": "stream",
     "text": [
      "{\"result\": [0, 0, 1, 1, 0, 0, 1, 0, 0, 0]}\n"
     ]
    }
   ],
   "source": [
    "# select samples from the dataframe\n",
    "test_data = df.sample(10)\n",
    "test_label = test_data.pop('DEATH_EVENT')\n",
    "\n",
    "# convert the records to a json data file\n",
    "data_json = test_data.to_dict(orient='records')\n",
    "\n",
    "data = json.dumps({'data': data_json})\n",
    "\n",
    "# get inference\n",
    "output = webservice.run(data)\n",
    "print(output)"
   ]
  },
  {
   "cell_type": "code",
   "execution_count": 47,
   "metadata": {},
   "outputs": [
    {
     "data": {
      "text/plain": [
       "'2021-04-19T03:29:35,769729200+00:00 - gunicorn/run \\n2021-04-19T03:29:35,771207100+00:00 - iot-server/run \\n2021-04-19T03:29:35,789657000+00:00 - rsyslog/run \\n2021-04-19T03:29:35,791414100+00:00 - nginx/run \\n/usr/sbin/nginx: /azureml-envs/azureml_5a33d0b1846b3717ef969a5f35fc31b7/lib/libcrypto.so.1.0.0: no version information available (required by /usr/sbin/nginx)\\n/usr/sbin/nginx: /azureml-envs/azureml_5a33d0b1846b3717ef969a5f35fc31b7/lib/libcrypto.so.1.0.0: no version information available (required by /usr/sbin/nginx)\\n/usr/sbin/nginx: /azureml-envs/azureml_5a33d0b1846b3717ef969a5f35fc31b7/lib/libssl.so.1.0.0: no version information available (required by /usr/sbin/nginx)\\n/usr/sbin/nginx: /azureml-envs/azureml_5a33d0b1846b3717ef969a5f35fc31b7/lib/libssl.so.1.0.0: no version information available (required by /usr/sbin/nginx)\\n/usr/sbin/nginx: /azureml-envs/azureml_5a33d0b1846b3717ef969a5f35fc31b7/lib/libssl.so.1.0.0: no version information available (required by /usr/sbin/nginx)\\nrsyslogd: /azureml-envs/azureml_5a33d0b1846b3717ef969a5f35fc31b7/lib/libuuid.so.1: no version information available (required by rsyslogd)\\nEdgeHubConnectionString and IOTEDGE_IOTHUBHOSTNAME are not set. Exiting...\\n2021-04-19T03:29:36,152182300+00:00 - iot-server/finish 1 0\\n2021-04-19T03:29:36,158628000+00:00 - Exit code 1 is normal. Not restarting iot-server.\\nStarting gunicorn 19.9.0\\nListening at: http://127.0.0.1:31311 (70)\\nUsing worker: sync\\nworker timeout is set to 300\\nBooting worker with pid: 98\\nSPARK_HOME not set. Skipping PySpark Initialization.\\nGenerating new fontManager, this may take some time...\\nInitializing logger\\n2021-04-19 03:29:38,758 | root | INFO | Starting up app insights client\\n2021-04-19 03:29:38,759 | root | INFO | Starting up request id generator\\n2021-04-19 03:29:38,759 | root | INFO | Starting up app insight hooks\\n2021-04-19 03:29:38,759 | root | INFO | Invoking user\\'s init function\\n2021-04-19 03:29:43,469 | azureml.core | WARNING | Failure while loading azureml_run_type_providers. Failed to load entrypoint automl = azureml.train.automl.run:AutoMLRun._from_run_dto with exception cannot import name \\'RunType\\'.\\nFailure while loading azureml_run_type_providers. Failed to load entrypoint automl = azureml.train.automl.run:AutoMLRun._from_run_dto with exception cannot import name \\'RunType\\'.\\n2021-04-19 03:29:43,996 | root | INFO | Users\\'s init has completed successfully\\n2021-04-19 03:29:44,004 | root | INFO | Skipping middleware: dbg_model_info as it\\'s not enabled.\\n2021-04-19 03:29:44,025 | root | INFO | Skipping middleware: dbg_resource_usage as it\\'s not enabled.\\n2021-04-19 03:29:44,027 | root | INFO | Scoring timeout is found from os.environ: 60000 ms\\n2021-04-19 03:30:14,020 | root | INFO | 200\\n127.0.0.1 - - [19/Apr/2021:03:30:14 +0000] \"GET /swagger.json HTTP/1.0\" 200 3035 \"-\" \"Go-http-client/1.1\"\\n2021-04-19 03:30:21,186 | root | INFO | 200\\n127.0.0.1 - - [19/Apr/2021:03:30:21 +0000] \"GET /swagger.json HTTP/1.0\" 200 3035 \"-\" \"Go-http-client/1.1\"\\n2021-04-19 03:31:19,441 | root | INFO | 200\\n127.0.0.1 - - [19/Apr/2021:03:31:19 +0000] \"GET /swagger.json HTTP/1.0\" 200 3035 \"-\" \"Mozilla/5.0 (Windows NT 10.0; Win64; x64) AppleWebKit/537.36 (KHTML, like Gecko) Chrome/86.0.4240.75 Safari/537.36\"\\n2021-04-19 03:32:48,377 | root | INFO | 200\\n127.0.0.1 - - [19/Apr/2021:03:32:48 +0000] \"GET /swagger.json HTTP/1.0\" 200 3035 \"-\" \"Go-http-client/1.1\"\\n2021-04-19 03:33:30,374 | root | INFO | 200\\n127.0.0.1 - - [19/Apr/2021:03:33:30 +0000] \"GET /swagger.json HTTP/1.0\" 200 3035 \"-\" \"Go-http-client/1.1\"\\n2021-04-19 03:33:33,319 | root | INFO | 200\\n127.0.0.1 - - [19/Apr/2021:03:33:33 +0000] \"GET /swagger.json HTTP/1.0\" 200 3035 \"-\" \"Go-http-client/1.1\"\\n2021-04-19 03:34:22,668 | root | INFO | Validation Request Content-Type\\n2021-04-19 03:34:22,669 | root | INFO | Scoring Timer is set to 60.0 seconds\\n2021-04-19 03:34:23,055 | root | INFO | 200\\n127.0.0.1 - - [19/Apr/2021:03:34:23 +0000] \"POST /score HTTP/1.0\" 200 31 \"-\" \"python-requests/2.25.1\"\\n2021-04-19 03:34:48,588 | root | INFO | Validation Request Content-Type\\n2021-04-19 03:34:48,592 | root | INFO | Scoring Timer is set to 60.0 seconds\\n2021-04-19 03:34:49,189 | root | INFO | 200\\n127.0.0.1 - - [19/Apr/2021:03:34:49 +0000] \"POST /score HTTP/1.0\" 200 46 \"-\" \"python-requests/2.25.1\"\\n'"
      ]
     },
     "execution_count": 47,
     "metadata": {},
     "output_type": "execute_result"
    }
   ],
   "source": [
    "webservice.get_logs()"
   ]
  },
  {
   "cell_type": "code",
   "execution_count": 48,
   "metadata": {},
   "outputs": [],
   "source": [
    "webservice.delete()\n",
    "compute_target.delete()"
   ]
  },
  {
   "cell_type": "code",
   "execution_count": null,
   "metadata": {},
   "outputs": [],
   "source": []
  }
 ],
 "metadata": {
  "kernel_info": {
   "name": "python3"
  },
  "kernelspec": {
   "display_name": "Python 3",
   "language": "python",
   "name": "python3"
  },
  "language_info": {
   "codemirror_mode": {
    "name": "ipython",
    "version": 3
   },
   "file_extension": ".py",
   "mimetype": "text/x-python",
   "name": "python",
   "nbconvert_exporter": "python",
   "pygments_lexer": "ipython3",
   "version": "3.6.9"
  },
  "microsoft": {
   "host": {
    "AzureML": {
     "notebookHasBeenCompleted": true
    }
   }
  },
  "nteract": {
   "version": "nteract-front-end@1.0.0"
  }
 },
 "nbformat": 4,
 "nbformat_minor": 4
}
