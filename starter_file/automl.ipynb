{
 "cells": [
  {
   "cell_type": "markdown",
   "metadata": {},
   "source": [
    "# Automated ML\n",
    "\n",
    "TODO: Import Dependencies. In the cell below, import all the dependencies that you will need to complete the project."
   ]
  },
  {
   "cell_type": "code",
   "execution_count": 1,
   "metadata": {
    "collapsed": false,
    "gather": {
     "logged": 1598423888013
    },
    "jupyter": {
     "outputs_hidden": false,
     "source_hidden": false
    },
    "nteract": {
     "transient": {
      "deleting": false
     }
    }
   },
   "outputs": [
    {
     "name": "stdout",
     "output_type": "stream",
     "text": [
      "SDK version: 1.24.0\n"
     ]
    }
   ],
   "source": [
    "import azureml.core\n",
    "import json\n",
    "from azureml.core import Workspace, Experiment, Model\n",
    "from azureml.core.compute import ComputeTarget, AmlCompute\n",
    "from azureml.core.compute_target import ComputeTargetException\n",
    "from azureml.widgets import RunDetails\n",
    "import joblib \n",
    "from azureml.train.automl import AutoMLConfig\n",
    "from azureml.core.environment import Environment\n",
    "from azureml.core.model import InferenceConfig\n",
    "from azureml.core.webservice import AciWebservice, Webservice\n",
    "\n",
    "print(\"SDK version:\", azureml.core.VERSION)"
   ]
  },
  {
   "cell_type": "markdown",
   "metadata": {},
   "source": [
    "### Initialize workspace"
   ]
  },
  {
   "cell_type": "code",
   "execution_count": 2,
   "metadata": {
    "collapsed": false,
    "gather": {
     "logged": 1598423890461
    },
    "jupyter": {
     "outputs_hidden": false,
     "source_hidden": false
    },
    "nteract": {
     "transient": {
      "deleting": false
     }
    }
   },
   "outputs": [
    {
     "name": "stdout",
     "output_type": "stream",
     "text": [
      "quick-starts-ws-140966\n",
      "aml-quickstarts-140966\n",
      "southcentralus\n",
      "6b4af8be-9931-443e-90f6-c4c34a1f9737\n"
     ]
    }
   ],
   "source": [
    "ws = Workspace.from_config()\n",
    "\n",
    "print(ws.name, ws.resource_group, ws.location, ws.subscription_id, sep = '\\n')"
   ]
  },
  {
   "cell_type": "markdown",
   "metadata": {},
   "source": [
    "### Create an Azure ML experiment"
   ]
  },
  {
   "cell_type": "code",
   "execution_count": 3,
   "metadata": {},
   "outputs": [],
   "source": [
    "# choose a name for experiment\n",
    "experiment_name = 'heart-failure-experiment'\n",
    "\n",
    "experiment = Experiment(ws, experiment_name)\n",
    "\n",
    "run = experiment.start_logging()"
   ]
  },
  {
   "cell_type": "markdown",
   "metadata": {},
   "source": [
    "## Dataset\n",
    "\n",
    "### Overview\n",
    "This task is to predict mortality caused by heart disease. \n",
    "\n",
    "Attribute information:\n",
    "\n",
    "age - Age of the patient<br />\n",
    "anemia - Decrease of red blood cells or hemoglobin (boolean)<br />\n",
    "creatinine_phosphokinase - Level of the CPK enzyme in the blood (mcg/L)<br />\n",
    "diabetes - If the patient has diabetes (boolean)<br />\n",
    "ejection_fraction - Percentage of blood leaving the heart at each contraction (percentage)<br />\n",
    "high_blood_pressure - If the patient has hypertension (boolean)<br />\n",
    "platelets - Platelets in the blood (kiloplatelets/mL)<br />\n",
    "serum_creatinine - Level of serum creatinine in the blood (mg/dL)<br />\n",
    "serum_sodium - Level of serum sodium in the blood (mEq/L)<br />\n",
    "sex - Woman or man (binary)<br />\n",
    "smoking - If the patient smokes or not (boolean)<br />\n",
    "time - Follow-up period (days)<br />\n",
    "DEATH_EVENT - If the patient deceased during the follow-up period (boolean)<br />"
   ]
  },
  {
   "cell_type": "code",
   "execution_count": 7,
   "metadata": {},
   "outputs": [
    {
     "name": "stdout",
     "output_type": "stream",
     "text": [
      "Cluster exists.\n",
      "Succeeded\n",
      "AmlCompute wait for completion finished\n",
      "\n",
      "Minimum number of nodes requested have been provisioned\n"
     ]
    }
   ],
   "source": [
    "amlcompute_cluster_name = \"project-compute\"\n",
    "\n",
    "# Verify that cluster does not exist already\n",
    "try:\n",
    "    compute_target = ComputeTarget(workspace=ws, name=amlcompute_cluster_name)\n",
    "    print('Cluster exists.')\n",
    "except ComputeTargetException:\n",
    "    compute_config = AmlCompute.provisioning_configuration(vm_size='STANDARD_D2_V2', max_nodes=4)\n",
    "    compute_target = ComputeTarget.create(ws, amlcompute_cluster_name, compute_config)\n",
    "\n",
    "compute_target.wait_for_completion(show_output=True)"
   ]
  },
  {
   "cell_type": "code",
   "execution_count": 6,
   "metadata": {},
   "outputs": [
    {
     "data": {
      "text/html": [
       "<div>\n",
       "<style scoped>\n",
       "    .dataframe tbody tr th:only-of-type {\n",
       "        vertical-align: middle;\n",
       "    }\n",
       "\n",
       "    .dataframe tbody tr th {\n",
       "        vertical-align: top;\n",
       "    }\n",
       "\n",
       "    .dataframe thead th {\n",
       "        text-align: right;\n",
       "    }\n",
       "</style>\n",
       "<table border=\"1\" class=\"dataframe\">\n",
       "  <thead>\n",
       "    <tr style=\"text-align: right;\">\n",
       "      <th></th>\n",
       "      <th>age</th>\n",
       "      <th>anaemia</th>\n",
       "      <th>creatinine_phosphokinase</th>\n",
       "      <th>diabetes</th>\n",
       "      <th>ejection_fraction</th>\n",
       "      <th>high_blood_pressure</th>\n",
       "      <th>platelets</th>\n",
       "      <th>serum_creatinine</th>\n",
       "      <th>serum_sodium</th>\n",
       "      <th>sex</th>\n",
       "      <th>smoking</th>\n",
       "      <th>time</th>\n",
       "      <th>DEATH_EVENT</th>\n",
       "    </tr>\n",
       "  </thead>\n",
       "  <tbody>\n",
       "    <tr>\n",
       "      <th>count</th>\n",
       "      <td>299.000000</td>\n",
       "      <td>299.000000</td>\n",
       "      <td>299.000000</td>\n",
       "      <td>299.000000</td>\n",
       "      <td>299.000000</td>\n",
       "      <td>299.000000</td>\n",
       "      <td>299.000000</td>\n",
       "      <td>299.00000</td>\n",
       "      <td>299.000000</td>\n",
       "      <td>299.000000</td>\n",
       "      <td>299.00000</td>\n",
       "      <td>299.000000</td>\n",
       "      <td>299.00000</td>\n",
       "    </tr>\n",
       "    <tr>\n",
       "      <th>mean</th>\n",
       "      <td>60.833893</td>\n",
       "      <td>0.431438</td>\n",
       "      <td>581.839465</td>\n",
       "      <td>0.418060</td>\n",
       "      <td>38.083612</td>\n",
       "      <td>0.351171</td>\n",
       "      <td>263358.029264</td>\n",
       "      <td>1.39388</td>\n",
       "      <td>136.625418</td>\n",
       "      <td>0.648829</td>\n",
       "      <td>0.32107</td>\n",
       "      <td>130.260870</td>\n",
       "      <td>0.32107</td>\n",
       "    </tr>\n",
       "    <tr>\n",
       "      <th>std</th>\n",
       "      <td>11.894809</td>\n",
       "      <td>0.496107</td>\n",
       "      <td>970.287881</td>\n",
       "      <td>0.494067</td>\n",
       "      <td>11.834841</td>\n",
       "      <td>0.478136</td>\n",
       "      <td>97804.236869</td>\n",
       "      <td>1.03451</td>\n",
       "      <td>4.412477</td>\n",
       "      <td>0.478136</td>\n",
       "      <td>0.46767</td>\n",
       "      <td>77.614208</td>\n",
       "      <td>0.46767</td>\n",
       "    </tr>\n",
       "    <tr>\n",
       "      <th>min</th>\n",
       "      <td>40.000000</td>\n",
       "      <td>0.000000</td>\n",
       "      <td>23.000000</td>\n",
       "      <td>0.000000</td>\n",
       "      <td>14.000000</td>\n",
       "      <td>0.000000</td>\n",
       "      <td>25100.000000</td>\n",
       "      <td>0.50000</td>\n",
       "      <td>113.000000</td>\n",
       "      <td>0.000000</td>\n",
       "      <td>0.00000</td>\n",
       "      <td>4.000000</td>\n",
       "      <td>0.00000</td>\n",
       "    </tr>\n",
       "    <tr>\n",
       "      <th>25%</th>\n",
       "      <td>51.000000</td>\n",
       "      <td>0.000000</td>\n",
       "      <td>116.500000</td>\n",
       "      <td>0.000000</td>\n",
       "      <td>30.000000</td>\n",
       "      <td>0.000000</td>\n",
       "      <td>212500.000000</td>\n",
       "      <td>0.90000</td>\n",
       "      <td>134.000000</td>\n",
       "      <td>0.000000</td>\n",
       "      <td>0.00000</td>\n",
       "      <td>73.000000</td>\n",
       "      <td>0.00000</td>\n",
       "    </tr>\n",
       "    <tr>\n",
       "      <th>50%</th>\n",
       "      <td>60.000000</td>\n",
       "      <td>0.000000</td>\n",
       "      <td>250.000000</td>\n",
       "      <td>0.000000</td>\n",
       "      <td>38.000000</td>\n",
       "      <td>0.000000</td>\n",
       "      <td>262000.000000</td>\n",
       "      <td>1.10000</td>\n",
       "      <td>137.000000</td>\n",
       "      <td>1.000000</td>\n",
       "      <td>0.00000</td>\n",
       "      <td>115.000000</td>\n",
       "      <td>0.00000</td>\n",
       "    </tr>\n",
       "    <tr>\n",
       "      <th>75%</th>\n",
       "      <td>70.000000</td>\n",
       "      <td>1.000000</td>\n",
       "      <td>582.000000</td>\n",
       "      <td>1.000000</td>\n",
       "      <td>45.000000</td>\n",
       "      <td>1.000000</td>\n",
       "      <td>303500.000000</td>\n",
       "      <td>1.40000</td>\n",
       "      <td>140.000000</td>\n",
       "      <td>1.000000</td>\n",
       "      <td>1.00000</td>\n",
       "      <td>203.000000</td>\n",
       "      <td>1.00000</td>\n",
       "    </tr>\n",
       "    <tr>\n",
       "      <th>max</th>\n",
       "      <td>95.000000</td>\n",
       "      <td>1.000000</td>\n",
       "      <td>7861.000000</td>\n",
       "      <td>1.000000</td>\n",
       "      <td>80.000000</td>\n",
       "      <td>1.000000</td>\n",
       "      <td>850000.000000</td>\n",
       "      <td>9.40000</td>\n",
       "      <td>148.000000</td>\n",
       "      <td>1.000000</td>\n",
       "      <td>1.00000</td>\n",
       "      <td>285.000000</td>\n",
       "      <td>1.00000</td>\n",
       "    </tr>\n",
       "  </tbody>\n",
       "</table>\n",
       "</div>"
      ],
      "text/plain": [
       "              age     anaemia  creatinine_phosphokinase    diabetes  \\\n",
       "count  299.000000  299.000000                299.000000  299.000000   \n",
       "mean    60.833893    0.431438                581.839465    0.418060   \n",
       "std     11.894809    0.496107                970.287881    0.494067   \n",
       "min     40.000000    0.000000                 23.000000    0.000000   \n",
       "25%     51.000000    0.000000                116.500000    0.000000   \n",
       "50%     60.000000    0.000000                250.000000    0.000000   \n",
       "75%     70.000000    1.000000                582.000000    1.000000   \n",
       "max     95.000000    1.000000               7861.000000    1.000000   \n",
       "\n",
       "       ejection_fraction  high_blood_pressure      platelets  \\\n",
       "count         299.000000           299.000000     299.000000   \n",
       "mean           38.083612             0.351171  263358.029264   \n",
       "std            11.834841             0.478136   97804.236869   \n",
       "min            14.000000             0.000000   25100.000000   \n",
       "25%            30.000000             0.000000  212500.000000   \n",
       "50%            38.000000             0.000000  262000.000000   \n",
       "75%            45.000000             1.000000  303500.000000   \n",
       "max            80.000000             1.000000  850000.000000   \n",
       "\n",
       "       serum_creatinine  serum_sodium         sex    smoking        time  \\\n",
       "count         299.00000    299.000000  299.000000  299.00000  299.000000   \n",
       "mean            1.39388    136.625418    0.648829    0.32107  130.260870   \n",
       "std             1.03451      4.412477    0.478136    0.46767   77.614208   \n",
       "min             0.50000    113.000000    0.000000    0.00000    4.000000   \n",
       "25%             0.90000    134.000000    0.000000    0.00000   73.000000   \n",
       "50%             1.10000    137.000000    1.000000    0.00000  115.000000   \n",
       "75%             1.40000    140.000000    1.000000    1.00000  203.000000   \n",
       "max             9.40000    148.000000    1.000000    1.00000  285.000000   \n",
       "\n",
       "       DEATH_EVENT  \n",
       "count    299.00000  \n",
       "mean       0.32107  \n",
       "std        0.46767  \n",
       "min        0.00000  \n",
       "25%        0.00000  \n",
       "50%        0.00000  \n",
       "75%        1.00000  \n",
       "max        1.00000  "
      ]
     },
     "execution_count": 6,
     "metadata": {},
     "output_type": "execute_result"
    }
   ],
   "source": [
    "key = \"heart-failure\"\n",
    "\n",
    "dataset = ws.datasets[key]\n",
    "\n",
    "df = dataset.to_pandas_dataframe()\n",
    "df.describe()"
   ]
  },
  {
   "cell_type": "markdown",
   "metadata": {},
   "source": [
    "## AutoML Configuration\n",
    "\n",
    "TODO: Explain why you chose the automl settings and cofiguration you used below."
   ]
  },
  {
   "cell_type": "code",
   "execution_count": 15,
   "metadata": {
    "collapsed": false,
    "gather": {
     "logged": 1598429217746
    },
    "jupyter": {
     "outputs_hidden": false,
     "source_hidden": false
    },
    "nteract": {
     "transient": {
      "deleting": false
     }
    }
   },
   "outputs": [],
   "source": [
    "# TODO: Put your automl settings here\n",
    "automl_settings = {\n",
    "    \"n_cross_validations\": 5,\n",
    "    \"primary_metric\" : 'accuracy',\n",
    "    \"enable_early_stopping\": True,\n",
    "    \"experiment_timeout_minutes\": 30,\n",
    "    \"max_concurrent_iterations\": 10\n",
    "}\n",
    "automl_config = AutoMLConfig(\n",
    "    task = \"classification\",\n",
    "    compute_target = 'project-compute',\n",
    "    training_data=dataset,\n",
    "    label_column_name=\"DEATH_EVENT\",\n",
    "    debug_log = \"automl_errors.log\",\n",
    "    **automl_settings\n",
    "    )"
   ]
  },
  {
   "cell_type": "code",
   "execution_count": 16,
   "metadata": {
    "collapsed": false,
    "gather": {
     "logged": 1598431107951
    },
    "jupyter": {
     "outputs_hidden": false,
     "source_hidden": false
    },
    "nteract": {
     "transient": {
      "deleting": false
     }
    }
   },
   "outputs": [
    {
     "name": "stdout",
     "output_type": "stream",
     "text": [
      "Running on remote.\n",
      "No run_configuration provided, running on project-compute with default configuration\n",
      "Running on remote compute: project-compute\n",
      "Parent Run ID: AutoML_fffb52ea-e670-4e3b-9ff4-3b6764017b23\n",
      "\n",
      "Current status: FeaturesGeneration. Generating features for the dataset.\n",
      "Current status: ModelSelection. Beginning model selection.\n",
      "\n",
      "****************************************************************************************************\n",
      "DATA GUARDRAILS: \n",
      "\n",
      "TYPE:         Class balancing detection\n",
      "STATUS:       PASSED\n",
      "DESCRIPTION:  Your inputs were analyzed, and all classes are balanced in your training data.\n",
      "              Learn more about imbalanced data: https://aka.ms/AutomatedMLImbalancedData\n",
      "\n",
      "****************************************************************************************************\n",
      "\n",
      "TYPE:         Missing feature values imputation\n",
      "STATUS:       PASSED\n",
      "DESCRIPTION:  No feature missing values were detected in the training data.\n",
      "              Learn more about missing value imputation: https://aka.ms/AutomatedMLFeaturization\n",
      "\n",
      "****************************************************************************************************\n",
      "\n",
      "TYPE:         High cardinality feature detection\n",
      "STATUS:       PASSED\n",
      "DESCRIPTION:  Your inputs were analyzed, and no high cardinality features were detected.\n",
      "              Learn more about high cardinality feature handling: https://aka.ms/AutomatedMLFeaturization\n",
      "\n",
      "****************************************************************************************************\n",
      "\n",
      "****************************************************************************************************\n",
      "ITERATION: The iteration being evaluated.\n",
      "PIPELINE: A summary description of the pipeline being evaluated.\n",
      "DURATION: Time taken for the current iteration.\n",
      "METRIC: The result of computing score on the fitted pipeline.\n",
      "BEST: The best observed score thus far.\n",
      "****************************************************************************************************\n",
      "\n",
      " ITERATION   PIPELINE                                       DURATION      METRIC      BEST\n",
      "         0   MaxAbsScaler LightGBM                          0:00:54       0.8060    0.8060\n",
      "         1   MaxAbsScaler XGBoostClassifier                 0:00:58       0.8259    0.8259\n",
      "         7   MinMaxScaler RandomForest                      0:00:59       0.8158    0.8259\n",
      "         6   StandardScalerWrapper LightGBM                 0:00:47       0.8460    0.8460\n",
      "         3   MinMaxScaler RandomForest                      0:00:47       0.8127    0.8460\n",
      "         8   SparseNormalizer XGBoostClassifier             0:00:45       0.8630    0.8630\n",
      "         9   StandardScalerWrapper XGBoostClassifier        0:00:52       0.8293    0.8630\n",
      "         2   MinMaxScaler RandomForest                      0:00:46       0.8528    0.8630\n",
      "         4   MinMaxScaler RandomForest                      0:03:26       0.8427    0.8630\n",
      "         5   StandardScalerWrapper KNN                      0:03:25       0.7125    0.8630\n",
      "        10   MaxAbsScaler LightGBM                          0:00:46       0.8428    0.8630\n",
      "        11   StandardScalerWrapper KNN                      0:00:55       0.7158    0.8630\n",
      "        12   MaxAbsScaler GradientBoosting                  0:00:50       0.8394    0.8630\n",
      "        13   MinMaxScaler SVM                               0:00:47       0.7091    0.8630\n",
      "        14   MinMaxScaler LogisticRegression                0:01:00       0.8260    0.8630\n",
      "        15   SparseNormalizer XGBoostClassifier             0:00:51       0.8094    0.8630\n",
      "        16   SparseNormalizer XGBoostClassifier             0:00:45       0.8429    0.8630\n",
      "        17   SparseNormalizer XGBoostClassifier             0:00:49       0.8429    0.8630\n",
      "        19   StandardScalerWrapper LogisticRegression       0:00:49       0.8160    0.8630\n",
      "        18   SparseNormalizer XGBoostClassifier             0:00:54       0.8463    0.8630\n",
      "        20   SparseNormalizer LightGBM                      0:00:49       0.8330    0.8630\n",
      "        21   SparseNormalizer XGBoostClassifier             0:01:00       0.8496    0.8630\n",
      "        22   StandardScalerWrapper LightGBM                 0:00:45       0.8359    0.8630\n",
      "        23   StandardScalerWrapper LightGBM                 0:00:48       0.8160    0.8630\n",
      "        24   StandardScalerWrapper LightGBM                 0:00:52       0.8025    0.8630\n",
      "        25   PCA XGBoostClassifier                          0:00:49       0.6791    0.8630\n",
      "        27   MaxAbsScaler LightGBM                          0:00:50       0.8360    0.8630\n",
      "        26   StandardScalerWrapper GradientBoosting         0:00:55       0.8461    0.8630\n",
      "        28   MaxAbsScaler RandomForest                      0:00:52       0.8428    0.8630\n",
      "        29   MaxAbsScaler LightGBM                          0:00:45       0.8025    0.8630\n",
      "        30   SparseNormalizer XGBoostClassifier             0:00:53       0.8262    0.8630\n",
      "        31   RobustScaler RandomForest                      0:00:48       0.8428    0.8630\n",
      "        32   StandardScalerWrapper RandomForest             0:00:47       0.8259    0.8630\n",
      "        33   MaxAbsScaler ExtremeRandomTrees                0:00:54       0.8562    0.8630\n",
      "        34   SparseNormalizer XGBoostClassifier             0:00:46       0.8095    0.8630\n",
      "        35   SparseNormalizer XGBoostClassifier             0:00:47       0.8396    0.8630\n",
      "        36   SparseNormalizer RandomForest                  0:00:52       0.8363    0.8630\n",
      "        37   StandardScalerWrapper XGBoostClassifier        0:00:45       0.7992    0.8630\n",
      "        38   SparseNormalizer XGBoostClassifier             0:00:49       0.8463    0.8630\n",
      "        39                                                  0:00:18          nan    0.8630\n",
      "        40                                                  0:02:12          nan    0.8630\n",
      "        41                                                  0:01:28          nan    0.8630\n",
      "        42                                                  0:01:24          nan    0.8630\n",
      "        43                                                  0:01:16          nan    0.8630\n",
      "        44                                                  0:01:12          nan    0.8630\n",
      "        45                                                  0:00:27          nan    0.8630\n",
      "        46                                                  0:00:18          nan    0.8630\n",
      "        47                                                  0:00:16          nan    0.8630\n",
      "        48    VotingEnsemble                                0:01:10       0.8831    0.8831\n",
      "        49    StackEnsemble                                 0:01:11       0.8529    0.8831\n"
     ]
    }
   ],
   "source": [
    "# TODO: Submit your experiment\n",
    "remote_run = experiment.submit(automl_config, show_output=True)"
   ]
  },
  {
   "cell_type": "markdown",
   "metadata": {},
   "source": [
    "## Run Details\n",
    "\n",
    "OPTIONAL: Write about the different models trained and their performance. Why do you think some models did better than others?\n",
    "\n",
    "TODO: In the cell below, use the `RunDetails` widget to show the different experiments."
   ]
  },
  {
   "cell_type": "code",
   "execution_count": 17,
   "metadata": {
    "collapsed": false,
    "gather": {
     "logged": 1598431121770
    },
    "jupyter": {
     "outputs_hidden": false,
     "source_hidden": false
    },
    "nteract": {
     "transient": {
      "deleting": false
     }
    }
   },
   "outputs": [
    {
     "data": {
      "application/vnd.jupyter.widget-view+json": {
       "model_id": "bbf3907e991c41e2ace72a11b107e43e",
       "version_major": 2,
       "version_minor": 0
      },
      "text/plain": [
       "_AutoMLWidget(widget_settings={'childWidgetDisplay': 'popup', 'send_telemetry': False, 'log_level': 'INFO', 's…"
      ]
     },
     "metadata": {},
     "output_type": "display_data"
    },
    {
     "data": {
      "application/aml.mini.widget.v1": "{\"status\": \"Completed\", \"workbench_run_details_uri\": \"https://ml.azure.com/experiments/heart-failure-experiment/runs/AutoML_fffb52ea-e670-4e3b-9ff4-3b6764017b23?wsid=/subscriptions/6b4af8be-9931-443e-90f6-c4c34a1f9737/resourcegroups/aml-quickstarts-140966/workspaces/quick-starts-ws-140966\", \"run_id\": \"AutoML_fffb52ea-e670-4e3b-9ff4-3b6764017b23\", \"run_properties\": {\"run_id\": \"AutoML_fffb52ea-e670-4e3b-9ff4-3b6764017b23\", \"created_utc\": \"2021-03-20T16:59:51.612261Z\", \"properties\": {\"num_iterations\": \"1000\", \"training_type\": \"TrainFull\", \"acquisition_function\": \"EI\", \"primary_metric\": \"accuracy\", \"train_split\": \"0\", \"acquisition_parameter\": \"0\", \"num_cross_validation\": \"5\", \"target\": \"project-compute\", \"AMLSettingsJsonString\": \"{\\\"path\\\":null,\\\"name\\\":\\\"heart-failure-experiment\\\",\\\"subscription_id\\\":\\\"6b4af8be-9931-443e-90f6-c4c34a1f9737\\\",\\\"resource_group\\\":\\\"aml-quickstarts-140966\\\",\\\"workspace_name\\\":\\\"quick-starts-ws-140966\\\",\\\"region\\\":\\\"southcentralus\\\",\\\"compute_target\\\":\\\"project-compute\\\",\\\"spark_service\\\":null,\\\"azure_service\\\":\\\"remote\\\",\\\"many_models\\\":false,\\\"pipeline_fetch_max_batch_size\\\":1,\\\"enable_batch_run\\\":false,\\\"iterations\\\":1000,\\\"primary_metric\\\":\\\"accuracy\\\",\\\"task_type\\\":\\\"classification\\\",\\\"data_script\\\":null,\\\"validation_size\\\":0.0,\\\"n_cross_validations\\\":5,\\\"y_min\\\":null,\\\"y_max\\\":null,\\\"num_classes\\\":null,\\\"featurization\\\":\\\"auto\\\",\\\"_ignore_package_version_incompatibilities\\\":false,\\\"is_timeseries\\\":false,\\\"max_cores_per_iteration\\\":1,\\\"max_concurrent_iterations\\\":10,\\\"iteration_timeout_minutes\\\":null,\\\"mem_in_mb\\\":null,\\\"enforce_time_on_windows\\\":false,\\\"experiment_timeout_minutes\\\":30,\\\"experiment_exit_score\\\":null,\\\"whitelist_models\\\":null,\\\"blacklist_algos\\\":[\\\"TensorFlowLinearClassifier\\\",\\\"TensorFlowDNN\\\"],\\\"supported_models\\\":[\\\"GradientBoosting\\\",\\\"TensorFlowDNN\\\",\\\"BernoulliNaiveBayes\\\",\\\"DecisionTree\\\",\\\"AveragedPerceptronClassifier\\\",\\\"LogisticRegression\\\",\\\"XGBoostClassifier\\\",\\\"ExtremeRandomTrees\\\",\\\"RandomForest\\\",\\\"SGD\\\",\\\"MultinomialNaiveBayes\\\",\\\"KNN\\\",\\\"TensorFlowLinearClassifier\\\",\\\"SVM\\\",\\\"LinearSVM\\\",\\\"LightGBM\\\"],\\\"private_models\\\":[],\\\"auto_blacklist\\\":true,\\\"blacklist_samples_reached\\\":false,\\\"exclude_nan_labels\\\":true,\\\"verbosity\\\":20,\\\"_debug_log\\\":\\\"azureml_automl.log\\\",\\\"show_warnings\\\":false,\\\"model_explainability\\\":true,\\\"service_url\\\":null,\\\"sdk_url\\\":null,\\\"sdk_packages\\\":null,\\\"enable_onnx_compatible_models\\\":false,\\\"enable_split_onnx_featurizer_estimator_models\\\":false,\\\"vm_type\\\":\\\"STANDARD_D2_V2\\\",\\\"telemetry_verbosity\\\":20,\\\"send_telemetry\\\":true,\\\"enable_dnn\\\":false,\\\"scenario\\\":\\\"SDK-1.13.0\\\",\\\"environment_label\\\":null,\\\"save_mlflow\\\":false,\\\"force_text_dnn\\\":false,\\\"enable_feature_sweeping\\\":true,\\\"enable_early_stopping\\\":true,\\\"early_stopping_n_iters\\\":10,\\\"metrics\\\":null,\\\"enable_metric_confidence\\\":false,\\\"enable_ensembling\\\":true,\\\"enable_stack_ensembling\\\":true,\\\"ensemble_iterations\\\":15,\\\"enable_tf\\\":false,\\\"enable_subsampling\\\":null,\\\"subsample_seed\\\":null,\\\"enable_nimbusml\\\":false,\\\"enable_streaming\\\":false,\\\"force_streaming\\\":false,\\\"track_child_runs\\\":true,\\\"allowed_private_models\\\":[],\\\"label_column_name\\\":\\\"DEATH_EVENT\\\",\\\"weight_column_name\\\":null,\\\"cv_split_column_names\\\":null,\\\"enable_local_managed\\\":false,\\\"_local_managed_run_id\\\":null,\\\"cost_mode\\\":1,\\\"lag_length\\\":0,\\\"metric_operation\\\":\\\"maximize\\\",\\\"preprocess\\\":true}\", \"DataPrepJsonString\": \"{\\\\\\\"training_data\\\\\\\": \\\\\\\"{\\\\\\\\\\\\\\\"blocks\\\\\\\\\\\\\\\": [{\\\\\\\\\\\\\\\"id\\\\\\\\\\\\\\\": \\\\\\\\\\\\\\\"bde153a4-8722-4de5-a1a3-06c9172cbd37\\\\\\\\\\\\\\\", \\\\\\\\\\\\\\\"type\\\\\\\\\\\\\\\": \\\\\\\\\\\\\\\"Microsoft.DPrep.GetDatastoreFilesBlock\\\\\\\\\\\\\\\", \\\\\\\\\\\\\\\"arguments\\\\\\\\\\\\\\\": {\\\\\\\\\\\\\\\"datastores\\\\\\\\\\\\\\\": [{\\\\\\\\\\\\\\\"datastoreName\\\\\\\\\\\\\\\": \\\\\\\\\\\\\\\"workspaceblobstore\\\\\\\\\\\\\\\", \\\\\\\\\\\\\\\"path\\\\\\\\\\\\\\\": \\\\\\\\\\\\\\\"UI/03-20-2021_033711_UTC/heart.csv\\\\\\\\\\\\\\\", \\\\\\\\\\\\\\\"resourceGroup\\\\\\\\\\\\\\\": \\\\\\\\\\\\\\\"aml-quickstarts-140966\\\\\\\\\\\\\\\", \\\\\\\\\\\\\\\"subscription\\\\\\\\\\\\\\\": \\\\\\\\\\\\\\\"6b4af8be-9931-443e-90f6-c4c34a1f9737\\\\\\\\\\\\\\\", \\\\\\\\\\\\\\\"workspaceName\\\\\\\\\\\\\\\": \\\\\\\\\\\\\\\"quick-starts-ws-140966\\\\\\\\\\\\\\\"}]}, \\\\\\\\\\\\\\\"localData\\\\\\\\\\\\\\\": {}, \\\\\\\\\\\\\\\"isEnabled\\\\\\\\\\\\\\\": true, \\\\\\\\\\\\\\\"name\\\\\\\\\\\\\\\": null, \\\\\\\\\\\\\\\"annotation\\\\\\\\\\\\\\\": null}, {\\\\\\\\\\\\\\\"id\\\\\\\\\\\\\\\": \\\\\\\\\\\\\\\"9b96f9b1-5692-4b72-a849-dd2b8f51e0f5\\\\\\\\\\\\\\\", \\\\\\\\\\\\\\\"type\\\\\\\\\\\\\\\": \\\\\\\\\\\\\\\"Microsoft.DPrep.ParseDelimitedBlock\\\\\\\\\\\\\\\", \\\\\\\\\\\\\\\"arguments\\\\\\\\\\\\\\\": {\\\\\\\\\\\\\\\"columnHeadersMode\\\\\\\\\\\\\\\": 1, \\\\\\\\\\\\\\\"fileEncoding\\\\\\\\\\\\\\\": 0, \\\\\\\\\\\\\\\"handleQuotedLineBreaks\\\\\\\\\\\\\\\": false, \\\\\\\\\\\\\\\"preview\\\\\\\\\\\\\\\": false, \\\\\\\\\\\\\\\"separator\\\\\\\\\\\\\\\": \\\\\\\\\\\\\\\",\\\\\\\\\\\\\\\", \\\\\\\\\\\\\\\"skipRows\\\\\\\\\\\\\\\": 0, \\\\\\\\\\\\\\\"skipRowsMode\\\\\\\\\\\\\\\": 0}, \\\\\\\\\\\\\\\"localData\\\\\\\\\\\\\\\": {}, \\\\\\\\\\\\\\\"isEnabled\\\\\\\\\\\\\\\": true, \\\\\\\\\\\\\\\"name\\\\\\\\\\\\\\\": null, \\\\\\\\\\\\\\\"annotation\\\\\\\\\\\\\\\": null}, {\\\\\\\\\\\\\\\"id\\\\\\\\\\\\\\\": \\\\\\\\\\\\\\\"1ea7b0d9-edaf-4e55-b964-c9084d9d6659\\\\\\\\\\\\\\\", \\\\\\\\\\\\\\\"type\\\\\\\\\\\\\\\": \\\\\\\\\\\\\\\"Microsoft.DPrep.DropColumnsBlock\\\\\\\\\\\\\\\", \\\\\\\\\\\\\\\"arguments\\\\\\\\\\\\\\\": {\\\\\\\\\\\\\\\"columns\\\\\\\\\\\\\\\": {\\\\\\\\\\\\\\\"type\\\\\\\\\\\\\\\": 0, \\\\\\\\\\\\\\\"details\\\\\\\\\\\\\\\": {\\\\\\\\\\\\\\\"selectedColumns\\\\\\\\\\\\\\\": [\\\\\\\\\\\\\\\"Path\\\\\\\\\\\\\\\"]}}}, \\\\\\\\\\\\\\\"localData\\\\\\\\\\\\\\\": {}, \\\\\\\\\\\\\\\"isEnabled\\\\\\\\\\\\\\\": true, \\\\\\\\\\\\\\\"name\\\\\\\\\\\\\\\": null, \\\\\\\\\\\\\\\"annotation\\\\\\\\\\\\\\\": null}, {\\\\\\\\\\\\\\\"id\\\\\\\\\\\\\\\": \\\\\\\\\\\\\\\"cc123da3-d10f-4959-89bf-11639b53b683\\\\\\\\\\\\\\\", \\\\\\\\\\\\\\\"type\\\\\\\\\\\\\\\": \\\\\\\\\\\\\\\"Microsoft.DPrep.SetColumnTypesBlock\\\\\\\\\\\\\\\", \\\\\\\\\\\\\\\"arguments\\\\\\\\\\\\\\\": {\\\\\\\\\\\\\\\"columnConversion\\\\\\\\\\\\\\\": [{\\\\\\\\\\\\\\\"column\\\\\\\\\\\\\\\": {\\\\\\\\\\\\\\\"type\\\\\\\\\\\\\\\": 2, \\\\\\\\\\\\\\\"details\\\\\\\\\\\\\\\": {\\\\\\\\\\\\\\\"selectedColumn\\\\\\\\\\\\\\\": \\\\\\\\\\\\\\\"Path\\\\\\\\\\\\\\\"}}, \\\\\\\\\\\\\\\"typeProperty\\\\\\\\\\\\\\\": 0}, {\\\\\\\\\\\\\\\"column\\\\\\\\\\\\\\\": {\\\\\\\\\\\\\\\"type\\\\\\\\\\\\\\\": 2, \\\\\\\\\\\\\\\"details\\\\\\\\\\\\\\\": {\\\\\\\\\\\\\\\"selectedColumn\\\\\\\\\\\\\\\": \\\\\\\\\\\\\\\"age\\\\\\\\\\\\\\\"}}, \\\\\\\\\\\\\\\"typeProperty\\\\\\\\\\\\\\\": 3}, {\\\\\\\\\\\\\\\"column\\\\\\\\\\\\\\\": {\\\\\\\\\\\\\\\"type\\\\\\\\\\\\\\\": 2, \\\\\\\\\\\\\\\"details\\\\\\\\\\\\\\\": {\\\\\\\\\\\\\\\"selectedColumn\\\\\\\\\\\\\\\": \\\\\\\\\\\\\\\"anaemia\\\\\\\\\\\\\\\"}}, \\\\\\\\\\\\\\\"typeProperty\\\\\\\\\\\\\\\": 2}, {\\\\\\\\\\\\\\\"column\\\\\\\\\\\\\\\": {\\\\\\\\\\\\\\\"type\\\\\\\\\\\\\\\": 2, \\\\\\\\\\\\\\\"details\\\\\\\\\\\\\\\": {\\\\\\\\\\\\\\\"selectedColumn\\\\\\\\\\\\\\\": \\\\\\\\\\\\\\\"creatinine_phosphokinase\\\\\\\\\\\\\\\"}}, \\\\\\\\\\\\\\\"typeProperty\\\\\\\\\\\\\\\": 2}, {\\\\\\\\\\\\\\\"column\\\\\\\\\\\\\\\": {\\\\\\\\\\\\\\\"type\\\\\\\\\\\\\\\": 2, \\\\\\\\\\\\\\\"details\\\\\\\\\\\\\\\": {\\\\\\\\\\\\\\\"selectedColumn\\\\\\\\\\\\\\\": \\\\\\\\\\\\\\\"diabetes\\\\\\\\\\\\\\\"}}, \\\\\\\\\\\\\\\"typeProperty\\\\\\\\\\\\\\\": 2}, {\\\\\\\\\\\\\\\"column\\\\\\\\\\\\\\\": {\\\\\\\\\\\\\\\"type\\\\\\\\\\\\\\\": 2, \\\\\\\\\\\\\\\"details\\\\\\\\\\\\\\\": {\\\\\\\\\\\\\\\"selectedColumn\\\\\\\\\\\\\\\": \\\\\\\\\\\\\\\"ejection_fraction\\\\\\\\\\\\\\\"}}, \\\\\\\\\\\\\\\"typeProperty\\\\\\\\\\\\\\\": 2}, {\\\\\\\\\\\\\\\"column\\\\\\\\\\\\\\\": {\\\\\\\\\\\\\\\"type\\\\\\\\\\\\\\\": 2, \\\\\\\\\\\\\\\"details\\\\\\\\\\\\\\\": {\\\\\\\\\\\\\\\"selectedColumn\\\\\\\\\\\\\\\": \\\\\\\\\\\\\\\"high_blood_pressure\\\\\\\\\\\\\\\"}}, \\\\\\\\\\\\\\\"typeProperty\\\\\\\\\\\\\\\": 2}, {\\\\\\\\\\\\\\\"column\\\\\\\\\\\\\\\": {\\\\\\\\\\\\\\\"type\\\\\\\\\\\\\\\": 2, \\\\\\\\\\\\\\\"details\\\\\\\\\\\\\\\": {\\\\\\\\\\\\\\\"selectedColumn\\\\\\\\\\\\\\\": \\\\\\\\\\\\\\\"platelets\\\\\\\\\\\\\\\"}}, \\\\\\\\\\\\\\\"typeProperty\\\\\\\\\\\\\\\": 3}, {\\\\\\\\\\\\\\\"column\\\\\\\\\\\\\\\": {\\\\\\\\\\\\\\\"type\\\\\\\\\\\\\\\": 2, \\\\\\\\\\\\\\\"details\\\\\\\\\\\\\\\": {\\\\\\\\\\\\\\\"selectedColumn\\\\\\\\\\\\\\\": \\\\\\\\\\\\\\\"serum_creatinine\\\\\\\\\\\\\\\"}}, \\\\\\\\\\\\\\\"typeProperty\\\\\\\\\\\\\\\": 3}, {\\\\\\\\\\\\\\\"column\\\\\\\\\\\\\\\": {\\\\\\\\\\\\\\\"type\\\\\\\\\\\\\\\": 2, \\\\\\\\\\\\\\\"details\\\\\\\\\\\\\\\": {\\\\\\\\\\\\\\\"selectedColumn\\\\\\\\\\\\\\\": \\\\\\\\\\\\\\\"serum_sodium\\\\\\\\\\\\\\\"}}, \\\\\\\\\\\\\\\"typeProperty\\\\\\\\\\\\\\\": 2}, {\\\\\\\\\\\\\\\"column\\\\\\\\\\\\\\\": {\\\\\\\\\\\\\\\"type\\\\\\\\\\\\\\\": 2, \\\\\\\\\\\\\\\"details\\\\\\\\\\\\\\\": {\\\\\\\\\\\\\\\"selectedColumn\\\\\\\\\\\\\\\": \\\\\\\\\\\\\\\"sex\\\\\\\\\\\\\\\"}}, \\\\\\\\\\\\\\\"typeProperty\\\\\\\\\\\\\\\": 2}, {\\\\\\\\\\\\\\\"column\\\\\\\\\\\\\\\": {\\\\\\\\\\\\\\\"type\\\\\\\\\\\\\\\": 2, \\\\\\\\\\\\\\\"details\\\\\\\\\\\\\\\": {\\\\\\\\\\\\\\\"selectedColumn\\\\\\\\\\\\\\\": \\\\\\\\\\\\\\\"smoking\\\\\\\\\\\\\\\"}}, \\\\\\\\\\\\\\\"typeProperty\\\\\\\\\\\\\\\": 2}, {\\\\\\\\\\\\\\\"column\\\\\\\\\\\\\\\": {\\\\\\\\\\\\\\\"type\\\\\\\\\\\\\\\": 2, \\\\\\\\\\\\\\\"details\\\\\\\\\\\\\\\": {\\\\\\\\\\\\\\\"selectedColumn\\\\\\\\\\\\\\\": \\\\\\\\\\\\\\\"time\\\\\\\\\\\\\\\"}}, \\\\\\\\\\\\\\\"typeProperty\\\\\\\\\\\\\\\": 2}, {\\\\\\\\\\\\\\\"column\\\\\\\\\\\\\\\": {\\\\\\\\\\\\\\\"type\\\\\\\\\\\\\\\": 2, \\\\\\\\\\\\\\\"details\\\\\\\\\\\\\\\": {\\\\\\\\\\\\\\\"selectedColumn\\\\\\\\\\\\\\\": \\\\\\\\\\\\\\\"DEATH_EVENT\\\\\\\\\\\\\\\"}}, \\\\\\\\\\\\\\\"typeProperty\\\\\\\\\\\\\\\": 2}]}, \\\\\\\\\\\\\\\"localData\\\\\\\\\\\\\\\": {}, \\\\\\\\\\\\\\\"isEnabled\\\\\\\\\\\\\\\": true, \\\\\\\\\\\\\\\"name\\\\\\\\\\\\\\\": null, \\\\\\\\\\\\\\\"annotation\\\\\\\\\\\\\\\": null}], \\\\\\\\\\\\\\\"inspectors\\\\\\\\\\\\\\\": [], \\\\\\\\\\\\\\\"meta\\\\\\\\\\\\\\\": {\\\\\\\\\\\\\\\"savedDatasetId\\\\\\\\\\\\\\\": \\\\\\\\\\\\\\\"6fa59bba-14e1-499d-b6f2-007290fe9e70\\\\\\\\\\\\\\\", \\\\\\\\\\\\\\\"datasetType\\\\\\\\\\\\\\\": \\\\\\\\\\\\\\\"tabular\\\\\\\\\\\\\\\", \\\\\\\\\\\\\\\"subscriptionId\\\\\\\\\\\\\\\": \\\\\\\\\\\\\\\"6b4af8be-9931-443e-90f6-c4c34a1f9737\\\\\\\\\\\\\\\", \\\\\\\\\\\\\\\"workspaceId\\\\\\\\\\\\\\\": \\\\\\\\\\\\\\\"a5261e02-0dd7-4564-a6df-95e26a44c8c7\\\\\\\\\\\\\\\", \\\\\\\\\\\\\\\"workspaceLocation\\\\\\\\\\\\\\\": \\\\\\\\\\\\\\\"southcentralus\\\\\\\\\\\\\\\"}}\\\\\\\", \\\\\\\"activities\\\\\\\": 0}\", \"EnableSubsampling\": null, \"runTemplate\": \"AutoML\", \"azureml.runsource\": \"automl\", \"display_task_type\": \"classification\", \"dependencies_versions\": \"{\\\"azureml-widgets\\\": \\\"1.24.0\\\", \\\"azureml-train\\\": \\\"1.24.0\\\", \\\"azureml-train-restclients-hyperdrive\\\": \\\"1.24.0\\\", \\\"azureml-train-core\\\": \\\"1.24.0\\\", \\\"azureml-train-automl\\\": \\\"1.24.0\\\", \\\"azureml-train-automl-runtime\\\": \\\"1.24.0\\\", \\\"azureml-train-automl-client\\\": \\\"1.24.0\\\", \\\"azureml-tensorboard\\\": \\\"1.24.0\\\", \\\"azureml-telemetry\\\": \\\"1.24.0\\\", \\\"azureml-sdk\\\": \\\"1.24.0\\\", \\\"azureml-samples\\\": \\\"0+unknown\\\", \\\"azureml-pipeline\\\": \\\"1.24.0\\\", \\\"azureml-pipeline-steps\\\": \\\"1.24.0\\\", \\\"azureml-pipeline-core\\\": \\\"1.24.0\\\", \\\"azureml-opendatasets\\\": \\\"1.24.0\\\", \\\"azureml-model-management-sdk\\\": \\\"1.0.1b6.post1\\\", \\\"azureml-mlflow\\\": \\\"1.24.0\\\", \\\"azureml-interpret\\\": \\\"1.24.0\\\", \\\"azureml-explain-model\\\": \\\"1.24.0\\\", \\\"azureml-defaults\\\": \\\"1.24.0\\\", \\\"azureml-dataset-runtime\\\": \\\"1.24.0\\\", \\\"azureml-dataprep\\\": \\\"2.11.1\\\", \\\"azureml-dataprep-rslex\\\": \\\"1.9.0\\\", \\\"azureml-dataprep-native\\\": \\\"30.0.0\\\", \\\"azureml-datadrift\\\": \\\"1.24.0\\\", \\\"azureml-core\\\": \\\"1.24.0\\\", \\\"azureml-contrib-services\\\": \\\"1.24.0\\\", \\\"azureml-contrib-server\\\": \\\"1.24.0\\\", \\\"azureml-contrib-reinforcementlearning\\\": \\\"1.24.0\\\", \\\"azureml-contrib-pipeline-steps\\\": \\\"1.24.0\\\", \\\"azureml-contrib-notebook\\\": \\\"1.24.0\\\", \\\"azureml-contrib-gbdt\\\": \\\"1.24.0\\\", \\\"azureml-contrib-fairness\\\": \\\"1.24.0\\\", \\\"azureml-contrib-dataset\\\": \\\"1.24.0\\\", \\\"azureml-cli-common\\\": \\\"1.24.0\\\", \\\"azureml-automl-runtime\\\": \\\"1.24.0\\\", \\\"azureml-automl-dnn-nlp\\\": \\\"1.24.0\\\", \\\"azureml-automl-core\\\": \\\"1.24.0\\\", \\\"azureml-accel-models\\\": \\\"1.24.0\\\"}\", \"_aml_system_scenario_identification\": \"Remote.Parent\", \"ClientType\": \"SDK\", \"environment_cpu_name\": \"AzureML-AutoML\", \"environment_cpu_label\": \"prod\", \"environment_gpu_name\": \"AzureML-AutoML-GPU\", \"environment_gpu_label\": \"prod\", \"root_attribution\": \"automl\", \"attribution\": \"AutoML\", \"Orchestrator\": \"AutoML\", \"CancelUri\": \"https://southcentralus.experiments.azureml.net/jasmine/v1.0/subscriptions/6b4af8be-9931-443e-90f6-c4c34a1f9737/resourceGroups/aml-quickstarts-140966/providers/Microsoft.MachineLearningServices/workspaces/quick-starts-ws-140966/experimentids/7e056108-cd1b-495f-b0b4-27051b4605a2/cancel/AutoML_fffb52ea-e670-4e3b-9ff4-3b6764017b23\", \"ClientSdkVersion\": \"1.23.0\", \"snapshotId\": \"00000000-0000-0000-0000-000000000000\", \"SetupRunId\": \"AutoML_fffb52ea-e670-4e3b-9ff4-3b6764017b23_setup\", \"SetupRunContainerId\": \"dcid.AutoML_fffb52ea-e670-4e3b-9ff4-3b6764017b23_setup\", \"FeaturizationRunJsonPath\": \"featurizer_container.json\", \"FeaturizationRunId\": \"AutoML_fffb52ea-e670-4e3b-9ff4-3b6764017b23_featurize\", \"ProblemInfoJsonString\": \"{\\\"dataset_num_categorical\\\": 0, \\\"is_sparse\\\": false, \\\"subsampling\\\": false, \\\"dataset_classes\\\": 2, \\\"dataset_features\\\": 12, \\\"dataset_samples\\\": 299, \\\"single_frequency_class_detected\\\": false}\", \"ModelExplainRunId\": \"AutoML_fffb52ea-e670-4e3b-9ff4-3b6764017b23_ModelExplain\"}, \"tags\": {\"model_explain_run\": \"best_run\", \"_aml_system_azureml.automlComponent\": \"AutoML\", \"pipeline_id\": \"\", \"score\": \"\", \"predicted_cost\": \"\", \"fit_time\": \"\", \"training_percent\": \"\", \"iteration\": \"\", \"run_preprocessor\": \"\", \"run_algorithm\": \"\", \"dynamic_whitelisting_iterations\": \"<25>;<30>;<35>;<40>;<45>;\", \"automl_best_child_run_id\": \"AutoML_fffb52ea-e670-4e3b-9ff4-3b6764017b23_48\", \"model_explain_best_run_child_id\": \"AutoML_fffb52ea-e670-4e3b-9ff4-3b6764017b23_48\"}, \"end_time_utc\": \"2021-03-20T17:17:38.769692Z\", \"status\": \"Completed\", \"log_files\": {}, \"log_groups\": [], \"run_duration\": \"0:17:47\", \"run_number\": \"59\", \"run_queued_details\": {\"status\": \"Completed\", \"details\": null}}, \"child_runs\": [{\"run_id\": \"AutoML_fffb52ea-e670-4e3b-9ff4-3b6764017b23_1\", \"run_number\": 63, \"metric\": null, \"status\": \"Completed\", \"run_type\": \"azureml.scriptrun\", \"training_percent\": \"100\", \"start_time\": \"2021-03-20T17:03:56.557897Z\", \"end_time\": \"2021-03-20T17:04:54.973477Z\", \"created_time\": \"2021-03-20T17:02:39.595277Z\", \"created_time_dt\": \"2021-03-20T17:02:39.595277Z\", \"duration\": \"0:02:15\", \"iteration\": \"1\", \"goal\": \"accuracy_max\", \"run_name\": \"MaxAbsScaler, XGBoostClassifier\", \"run_properties\": \"copy=True\", \"primary_metric\": 0.8259322, \"best_metric\": 0.8259322}, {\"run_id\": \"AutoML_fffb52ea-e670-4e3b-9ff4-3b6764017b23_9\", \"run_number\": 64, \"metric\": null, \"status\": \"Completed\", \"run_type\": \"azureml.scriptrun\", \"training_percent\": \"100\", \"start_time\": \"2021-03-20T17:06:20.946508Z\", \"end_time\": \"2021-03-20T17:07:13.010872Z\", \"created_time\": \"2021-03-20T17:02:39.607595Z\", \"created_time_dt\": \"2021-03-20T17:02:39.607595Z\", \"duration\": \"0:04:33\", \"iteration\": \"9\", \"goal\": \"accuracy_max\", \"run_name\": \"StandardScalerWrapper, XGBoostClassifier\", \"run_properties\": \"<azureml.automl.runtime.shared.model_wrappers.StandardScalerWrapper object at 0x7ff026f73b70\", \"primary_metric\": 0.82926554, \"best_metric\": 0.86299435}, {\"run_id\": \"AutoML_fffb52ea-e670-4e3b-9ff4-3b6764017b23_4\", \"run_number\": 65, \"metric\": null, \"status\": \"Completed\", \"run_type\": \"azureml.scriptrun\", \"training_percent\": \"100\", \"start_time\": \"2021-03-20T17:04:46.794688Z\", \"end_time\": \"2021-03-20T17:08:12.466418Z\", \"created_time\": \"2021-03-20T17:02:39.62017Z\", \"created_time_dt\": \"2021-03-20T17:02:39.62017Z\", \"duration\": \"0:05:32\", \"iteration\": \"4\", \"goal\": \"accuracy_max\", \"run_name\": \"MinMaxScaler, RandomForest\", \"run_properties\": \"copy=True, feature_range=(0, 1\", \"primary_metric\": 0.84271186, \"best_metric\": 0.85282486}, {\"run_id\": \"AutoML_fffb52ea-e670-4e3b-9ff4-3b6764017b23_7\", \"run_number\": 66, \"metric\": null, \"status\": \"Completed\", \"run_type\": \"azureml.scriptrun\", \"training_percent\": \"100\", \"start_time\": \"2021-03-20T17:03:58.446106Z\", \"end_time\": \"2021-03-20T17:04:57.608359Z\", \"created_time\": \"2021-03-20T17:02:39.773072Z\", \"created_time_dt\": \"2021-03-20T17:02:39.773072Z\", \"duration\": \"0:02:17\", \"iteration\": \"7\", \"goal\": \"accuracy_max\", \"run_name\": \"MinMaxScaler, RandomForest\", \"run_properties\": \"copy=True, feature_range=(0, 1\", \"primary_metric\": 0.81576271, \"best_metric\": 0.85282486}, {\"run_id\": \"AutoML_fffb52ea-e670-4e3b-9ff4-3b6764017b23_5\", \"run_number\": 67, \"metric\": null, \"status\": \"Completed\", \"run_type\": \"azureml.scriptrun\", \"training_percent\": \"100\", \"start_time\": \"2021-03-20T17:04:47.313582Z\", \"end_time\": \"2021-03-20T17:08:12.402198Z\", \"created_time\": \"2021-03-20T17:02:39.948569Z\", \"created_time_dt\": \"2021-03-20T17:02:39.948569Z\", \"duration\": \"0:05:32\", \"iteration\": \"5\", \"goal\": \"accuracy_max\", \"run_name\": \"StandardScalerWrapper, KNN\", \"run_properties\": \"<azureml.automl.runtime.shared.model_wrappers.StandardScalerWrapper object at 0x7f89e4fbe978\", \"primary_metric\": 0.71254237, \"best_metric\": 0.85282486}, {\"run_id\": \"AutoML_fffb52ea-e670-4e3b-9ff4-3b6764017b23_0\", \"run_number\": 68, \"metric\": null, \"status\": \"Completed\", \"run_type\": \"azureml.scriptrun\", \"training_percent\": \"100\", \"start_time\": \"2021-03-20T17:02:50.798151Z\", \"end_time\": \"2021-03-20T17:03:44.749377Z\", \"created_time\": \"2021-03-20T17:02:39.946164Z\", \"created_time_dt\": \"2021-03-20T17:02:39.946164Z\", \"duration\": \"0:01:04\", \"iteration\": \"0\", \"goal\": \"accuracy_max\", \"run_name\": \"MaxAbsScaler, LightGBM\", \"run_properties\": \"copy=True\", \"primary_metric\": 0.8059887, \"best_metric\": 0.8059887}, {\"run_id\": \"AutoML_fffb52ea-e670-4e3b-9ff4-3b6764017b23_2\", \"run_number\": 69, \"metric\": null, \"status\": \"Completed\", \"run_type\": \"azureml.scriptrun\", \"training_percent\": \"100\", \"start_time\": \"2021-03-20T17:07:12.89962Z\", \"end_time\": \"2021-03-20T17:07:58.638552Z\", \"created_time\": \"2021-03-20T17:02:40.093037Z\", \"created_time_dt\": \"2021-03-20T17:02:40.093037Z\", \"duration\": \"0:05:18\", \"iteration\": \"2\", \"goal\": \"accuracy_max\", \"run_name\": \"MinMaxScaler, RandomForest\", \"run_properties\": \"copy=True, feature_range=(0, 1\", \"primary_metric\": 0.85282486, \"best_metric\": 0.85282486}, {\"run_id\": \"AutoML_fffb52ea-e670-4e3b-9ff4-3b6764017b23_6\", \"run_number\": 70, \"metric\": null, \"status\": \"Completed\", \"run_type\": \"azureml.scriptrun\", \"training_percent\": \"100\", \"start_time\": \"2021-03-20T17:05:07.317485Z\", \"end_time\": \"2021-03-20T17:05:53.866712Z\", \"created_time\": \"2021-03-20T17:02:39.61131Z\", \"created_time_dt\": \"2021-03-20T17:02:39.61131Z\", \"duration\": \"0:03:14\", \"iteration\": \"6\", \"goal\": \"accuracy_max\", \"run_name\": \"StandardScalerWrapper, LightGBM\", \"run_properties\": \"<azureml.automl.runtime.shared.model_wrappers.StandardScalerWrapper object at 0x7f7754e66fd0\", \"primary_metric\": 0.8459887, \"best_metric\": 0.85282486}, {\"run_id\": \"AutoML_fffb52ea-e670-4e3b-9ff4-3b6764017b23_3\", \"run_number\": 71, \"metric\": null, \"status\": \"Completed\", \"run_type\": \"azureml.scriptrun\", \"training_percent\": \"100\", \"start_time\": \"2021-03-20T17:05:16.424218Z\", \"end_time\": \"2021-03-20T17:06:03.730075Z\", \"created_time\": \"2021-03-20T17:02:39.638421Z\", \"created_time_dt\": \"2021-03-20T17:02:39.638421Z\", \"duration\": \"0:03:24\", \"iteration\": \"3\", \"goal\": \"accuracy_max\", \"run_name\": \"MinMaxScaler, RandomForest\", \"run_properties\": \"copy=True, feature_range=(0, 1\", \"primary_metric\": 0.81265537, \"best_metric\": 0.85282486}, {\"run_id\": \"AutoML_fffb52ea-e670-4e3b-9ff4-3b6764017b23_8\", \"run_number\": 72, \"metric\": null, \"status\": \"Completed\", \"run_type\": \"azureml.scriptrun\", \"training_percent\": \"100\", \"start_time\": \"2021-03-20T17:06:10.209784Z\", \"end_time\": \"2021-03-20T17:06:54.77015Z\", \"created_time\": \"2021-03-20T17:02:39.947979Z\", \"created_time_dt\": \"2021-03-20T17:02:39.947979Z\", \"duration\": \"0:04:14\", \"iteration\": \"8\", \"goal\": \"accuracy_max\", \"run_name\": \"SparseNormalizer, XGBoostClassifier\", \"run_properties\": \"<azureml.automl.runtime.shared.model_wrappers.SparseNormalizer object at 0x7fc2f217cd30\", \"primary_metric\": 0.86299435, \"best_metric\": 0.86299435}, {\"run_id\": \"AutoML_fffb52ea-e670-4e3b-9ff4-3b6764017b23_10\", \"run_number\": 73, \"metric\": null, \"status\": \"Completed\", \"run_type\": \"azureml.scriptrun\", \"training_percent\": \"100\", \"start_time\": \"2021-03-20T17:07:29.319085Z\", \"end_time\": \"2021-03-20T17:08:14.968055Z\", \"created_time\": \"2021-03-20T17:03:46.988875Z\", \"created_time_dt\": \"2021-03-20T17:03:46.988875Z\", \"duration\": \"0:04:27\", \"iteration\": \"10\", \"goal\": \"accuracy_max\", \"run_name\": \"MaxAbsScaler, LightGBM\", \"run_properties\": \"copy=True\", \"primary_metric\": 0.84282486, \"best_metric\": 0.86299435}, {\"run_id\": \"AutoML_fffb52ea-e670-4e3b-9ff4-3b6764017b23_11\", \"run_number\": 74, \"metric\": null, \"status\": \"Completed\", \"run_type\": \"azureml.scriptrun\", \"training_percent\": \"100\", \"start_time\": \"2021-03-20T17:08:16.508307Z\", \"end_time\": \"2021-03-20T17:09:11.409787Z\", \"created_time\": \"2021-03-20T17:04:56.576457Z\", \"created_time_dt\": \"2021-03-20T17:04:56.576457Z\", \"duration\": \"0:04:14\", \"iteration\": \"11\", \"goal\": \"accuracy_max\", \"run_name\": \"StandardScalerWrapper, KNN\", \"run_properties\": \"<azureml.automl.runtime.shared.model_wrappers.StandardScalerWrapper object at 0x7f4555ef4c50\", \"primary_metric\": 0.71581921, \"best_metric\": 0.86299435}, {\"run_id\": \"AutoML_fffb52ea-e670-4e3b-9ff4-3b6764017b23_12\", \"run_number\": 75, \"metric\": null, \"status\": \"Completed\", \"run_type\": \"azureml.scriptrun\", \"training_percent\": \"100\", \"start_time\": \"2021-03-20T17:08:27.371712Z\", \"end_time\": \"2021-03-20T17:09:17.080153Z\", \"created_time\": \"2021-03-20T17:05:04.664963Z\", \"created_time_dt\": \"2021-03-20T17:05:04.664963Z\", \"duration\": \"0:04:12\", \"iteration\": \"12\", \"goal\": \"accuracy_max\", \"run_name\": \"MaxAbsScaler, GradientBoosting\", \"run_properties\": \"copy=True\", \"primary_metric\": 0.83943503, \"best_metric\": 0.86299435}, {\"run_id\": \"AutoML_fffb52ea-e670-4e3b-9ff4-3b6764017b23_13\", \"run_number\": 76, \"metric\": null, \"status\": \"Completed\", \"run_type\": \"azureml.scriptrun\", \"training_percent\": \"100\", \"start_time\": \"2021-03-20T17:08:29.372363Z\", \"end_time\": \"2021-03-20T17:09:16.494881Z\", \"created_time\": \"2021-03-20T17:05:57.433333Z\", \"created_time_dt\": \"2021-03-20T17:05:57.433333Z\", \"duration\": \"0:03:19\", \"iteration\": \"13\", \"goal\": \"accuracy_max\", \"run_name\": \"MinMaxScaler, SVM\", \"run_properties\": \"copy=True, feature_range=(0, 1\", \"primary_metric\": 0.70909605, \"best_metric\": 0.86299435}, {\"run_id\": \"AutoML_fffb52ea-e670-4e3b-9ff4-3b6764017b23_14\", \"run_number\": 77, \"metric\": null, \"status\": \"Completed\", \"run_type\": \"azureml.scriptrun\", \"training_percent\": \"100\", \"start_time\": \"2021-03-20T17:08:30.720679Z\", \"end_time\": \"2021-03-20T17:09:30.982872Z\", \"created_time\": \"2021-03-20T17:06:06.542095Z\", \"created_time_dt\": \"2021-03-20T17:06:06.542095Z\", \"duration\": \"0:03:24\", \"iteration\": \"14\", \"goal\": \"accuracy_max\", \"run_name\": \"MinMaxScaler, LogisticRegression\", \"run_properties\": \"copy=True, feature_range=(0, 1\", \"primary_metric\": 0.8260452, \"best_metric\": 0.86299435}, {\"run_id\": \"AutoML_fffb52ea-e670-4e3b-9ff4-3b6764017b23_15\", \"run_number\": 78, \"metric\": null, \"status\": \"Completed\", \"run_type\": \"azureml.scriptrun\", \"training_percent\": \"100\", \"start_time\": \"2021-03-20T17:09:24.336182Z\", \"end_time\": \"2021-03-20T17:10:15.439219Z\", \"created_time\": \"2021-03-20T17:06:57.038216Z\", \"created_time_dt\": \"2021-03-20T17:06:57.038216Z\", \"duration\": \"0:03:18\", \"iteration\": \"15\", \"goal\": \"accuracy_max\", \"run_name\": \"SparseNormalizer, XGBoostClassifier\", \"run_properties\": \"<azureml.automl.runtime.shared.model_wrappers.SparseNormalizer object at 0x7ff74a499b00\", \"primary_metric\": 0.80937853, \"best_metric\": 0.86299435}, {\"run_id\": \"AutoML_fffb52ea-e670-4e3b-9ff4-3b6764017b23_16\", \"run_number\": 79, \"metric\": null, \"status\": \"Completed\", \"run_type\": \"azureml.scriptrun\", \"training_percent\": \"100\", \"start_time\": \"2021-03-20T17:09:34.161857Z\", \"end_time\": \"2021-03-20T17:10:19.427726Z\", \"created_time\": \"2021-03-20T17:07:15.290037Z\", \"created_time_dt\": \"2021-03-20T17:07:15.290037Z\", \"duration\": \"0:03:04\", \"iteration\": \"16\", \"goal\": \"accuracy_max\", \"run_name\": \"SparseNormalizer, XGBoostClassifier\", \"run_properties\": \"<azureml.automl.runtime.shared.model_wrappers.SparseNormalizer object at 0x7f0f7dbf61d0\", \"primary_metric\": 0.84293785, \"best_metric\": 0.86299435}, {\"run_id\": \"AutoML_fffb52ea-e670-4e3b-9ff4-3b6764017b23_17\", \"run_number\": 80, \"metric\": null, \"status\": \"Completed\", \"run_type\": \"azureml.scriptrun\", \"training_percent\": \"100\", \"start_time\": \"2021-03-20T17:09:31.195771Z\", \"end_time\": \"2021-03-20T17:10:20.417609Z\", \"created_time\": \"2021-03-20T17:08:00.686335Z\", \"created_time_dt\": \"2021-03-20T17:08:00.686335Z\", \"duration\": \"0:02:19\", \"iteration\": \"17\", \"goal\": \"accuracy_max\", \"run_name\": \"SparseNormalizer, XGBoostClassifier\", \"run_properties\": \"<azureml.automl.runtime.shared.model_wrappers.SparseNormalizer object at 0x7fc1051d1160\", \"primary_metric\": 0.84293785, \"best_metric\": 0.86299435}, {\"run_id\": \"AutoML_fffb52ea-e670-4e3b-9ff4-3b6764017b23_18\", \"run_number\": 81, \"metric\": null, \"status\": \"Completed\", \"run_type\": \"azureml.scriptrun\", \"training_percent\": \"100\", \"start_time\": \"2021-03-20T17:10:29.06491Z\", \"end_time\": \"2021-03-20T17:11:23.391852Z\", \"created_time\": \"2021-03-20T17:08:14.306838Z\", \"created_time_dt\": \"2021-03-20T17:08:14.306838Z\", \"duration\": \"0:03:09\", \"iteration\": \"18\", \"goal\": \"accuracy_max\", \"run_name\": \"SparseNormalizer, XGBoostClassifier\", \"run_properties\": \"<azureml.automl.runtime.shared.model_wrappers.SparseNormalizer object at 0x7fa8e63c5ac8\", \"primary_metric\": 0.84627119, \"best_metric\": 0.86299435}, {\"run_id\": \"AutoML_fffb52ea-e670-4e3b-9ff4-3b6764017b23_19\", \"run_number\": 82, \"metric\": null, \"status\": \"Completed\", \"run_type\": \"azureml.scriptrun\", \"training_percent\": \"100\", \"start_time\": \"2021-03-20T17:09:47.248526Z\", \"end_time\": \"2021-03-20T17:10:36.209274Z\", \"created_time\": \"2021-03-20T17:08:14.334804Z\", \"created_time_dt\": \"2021-03-20T17:08:14.334804Z\", \"duration\": \"0:02:21\", \"iteration\": \"19\", \"goal\": \"accuracy_max\", \"run_name\": \"StandardScalerWrapper, LogisticRegression\", \"run_properties\": \"<azureml.automl.runtime.shared.model_wrappers.StandardScalerWrapper object at 0x7fa458779a58\", \"primary_metric\": 0.8160452, \"best_metric\": 0.86299435}, {\"run_id\": \"AutoML_fffb52ea-e670-4e3b-9ff4-3b6764017b23_20\", \"run_number\": 83, \"metric\": null, \"status\": \"Completed\", \"run_type\": \"azureml.scriptrun\", \"training_percent\": \"100\", \"start_time\": \"2021-03-20T17:10:32.190469Z\", \"end_time\": \"2021-03-20T17:11:20.907882Z\", \"created_time\": \"2021-03-20T17:08:18.526078Z\", \"created_time_dt\": \"2021-03-20T17:08:18.526078Z\", \"duration\": \"0:03:02\", \"iteration\": \"20\", \"goal\": \"accuracy_max\", \"run_name\": \"SparseNormalizer, LightGBM\", \"run_properties\": \"<azureml.automl.runtime.shared.model_wrappers.SparseNormalizer object at 0x7f316190b7f0\", \"primary_metric\": 0.83299435, \"best_metric\": 0.86299435}, {\"run_id\": \"AutoML_fffb52ea-e670-4e3b-9ff4-3b6764017b23_21\", \"run_number\": 84, \"metric\": null, \"status\": \"Completed\", \"run_type\": \"azureml.scriptrun\", \"training_percent\": \"100\", \"start_time\": \"2021-03-20T17:10:35.171531Z\", \"end_time\": \"2021-03-20T17:11:35.067405Z\", \"created_time\": \"2021-03-20T17:09:13.43796Z\", \"created_time_dt\": \"2021-03-20T17:09:13.43796Z\", \"duration\": \"0:02:21\", \"iteration\": \"21\", \"goal\": \"accuracy_max\", \"run_name\": \"SparseNormalizer, XGBoostClassifier\", \"run_properties\": \"<azureml.automl.runtime.shared.model_wrappers.SparseNormalizer object at 0x7f107d4aee48\", \"primary_metric\": 0.84960452, \"best_metric\": 0.86299435}, {\"run_id\": \"AutoML_fffb52ea-e670-4e3b-9ff4-3b6764017b23_22\", \"run_number\": 85, \"metric\": null, \"status\": \"Completed\", \"run_type\": \"azureml.scriptrun\", \"training_percent\": \"100\", \"start_time\": \"2021-03-20T17:10:52.617031Z\", \"end_time\": \"2021-03-20T17:11:38.078398Z\", \"created_time\": \"2021-03-20T17:09:18.612104Z\", \"created_time_dt\": \"2021-03-20T17:09:18.612104Z\", \"duration\": \"0:02:19\", \"iteration\": \"22\", \"goal\": \"accuracy_max\", \"run_name\": \"StandardScalerWrapper, LightGBM\", \"run_properties\": \"<azureml.automl.runtime.shared.model_wrappers.StandardScalerWrapper object at 0x7f5e7593c198\", \"primary_metric\": 0.8359322, \"best_metric\": 0.86299435}, {\"run_id\": \"AutoML_fffb52ea-e670-4e3b-9ff4-3b6764017b23_23\", \"run_number\": 86, \"metric\": null, \"status\": \"Completed\", \"run_type\": \"azureml.scriptrun\", \"training_percent\": \"100\", \"start_time\": \"2021-03-20T17:11:37.145124Z\", \"end_time\": \"2021-03-20T17:12:25.319726Z\", \"created_time\": \"2021-03-20T17:09:23.827334Z\", \"created_time_dt\": \"2021-03-20T17:09:23.827334Z\", \"duration\": \"0:03:01\", \"iteration\": \"23\", \"goal\": \"accuracy_max\", \"run_name\": \"StandardScalerWrapper, LightGBM\", \"run_properties\": \"<azureml.automl.runtime.shared.model_wrappers.StandardScalerWrapper object at 0x7fb4f3c47710\", \"primary_metric\": 0.8160452, \"best_metric\": 0.86299435}, {\"run_id\": \"AutoML_fffb52ea-e670-4e3b-9ff4-3b6764017b23_24\", \"run_number\": 87, \"metric\": null, \"status\": \"Completed\", \"run_type\": \"azureml.scriptrun\", \"training_percent\": \"100\", \"start_time\": \"2021-03-20T17:11:38.956234Z\", \"end_time\": \"2021-03-20T17:12:30.620539Z\", \"created_time\": \"2021-03-20T17:09:33.94111Z\", \"created_time_dt\": \"2021-03-20T17:09:33.94111Z\", \"duration\": \"0:02:56\", \"iteration\": \"24\", \"goal\": \"accuracy_max\", \"run_name\": \"StandardScalerWrapper, LightGBM\", \"run_properties\": \"<azureml.automl.runtime.shared.model_wrappers.StandardScalerWrapper object at 0x7f7d7d6d4dd8\", \"primary_metric\": 0.80254237, \"best_metric\": 0.86299435}, {\"run_id\": \"AutoML_fffb52ea-e670-4e3b-9ff4-3b6764017b23_25\", \"run_number\": 88, \"metric\": null, \"status\": \"Completed\", \"run_type\": \"azureml.scriptrun\", \"training_percent\": \"100\", \"start_time\": \"2021-03-20T17:11:51.926313Z\", \"end_time\": \"2021-03-20T17:12:41.222765Z\", \"created_time\": \"2021-03-20T17:10:19.067365Z\", \"created_time_dt\": \"2021-03-20T17:10:19.067365Z\", \"duration\": \"0:02:22\", \"iteration\": \"25\", \"goal\": \"accuracy_max\", \"run_name\": \"PCA, XGBoostClassifier\", \"run_properties\": \"copy=True, iterated_power='auto', n_components=0.3563157894736842,\\n    random_state=None, svd_solver='auto', tol=0.0, whiten=False\", \"primary_metric\": 0.67909605, \"best_metric\": 0.86299435}, {\"run_id\": \"AutoML_fffb52ea-e670-4e3b-9ff4-3b6764017b23_26\", \"run_number\": 89, \"metric\": null, \"status\": \"Completed\", \"run_type\": \"azureml.scriptrun\", \"training_percent\": \"100\", \"start_time\": \"2021-03-20T17:12:41.996379Z\", \"end_time\": \"2021-03-20T17:13:36.956183Z\", \"created_time\": \"2021-03-20T17:10:22.819237Z\", \"created_time_dt\": \"2021-03-20T17:10:22.819237Z\", \"duration\": \"0:03:14\", \"iteration\": \"26\", \"goal\": \"accuracy_max\", \"run_name\": \"StandardScalerWrapper, GradientBoosting\", \"run_properties\": \"<azureml.automl.runtime.shared.model_wrappers.StandardScalerWrapper object at 0x7fe088bd59b0\", \"primary_metric\": 0.84610169, \"best_metric\": 0.86299435}, {\"run_id\": \"AutoML_fffb52ea-e670-4e3b-9ff4-3b6764017b23_27\", \"run_number\": 90, \"metric\": null, \"status\": \"Completed\", \"run_type\": \"azureml.scriptrun\", \"training_percent\": \"100\", \"start_time\": \"2021-03-20T17:11:55.322493Z\", \"end_time\": \"2021-03-20T17:12:45.336426Z\", \"created_time\": \"2021-03-20T17:10:22.901934Z\", \"created_time_dt\": \"2021-03-20T17:10:22.901934Z\", \"duration\": \"0:02:22\", \"iteration\": \"27\", \"goal\": \"accuracy_max\", \"run_name\": \"MaxAbsScaler, LightGBM\", \"run_properties\": \"copy=True\", \"primary_metric\": 0.8360452, \"best_metric\": 0.86299435}, {\"run_id\": \"AutoML_fffb52ea-e670-4e3b-9ff4-3b6764017b23_28\", \"run_number\": 91, \"metric\": null, \"status\": \"Completed\", \"run_type\": \"azureml.scriptrun\", \"training_percent\": \"100\", \"start_time\": \"2021-03-20T17:12:43.421174Z\", \"end_time\": \"2021-03-20T17:13:35.136562Z\", \"created_time\": \"2021-03-20T17:10:37.923657Z\", \"created_time_dt\": \"2021-03-20T17:10:37.923657Z\", \"duration\": \"0:02:57\", \"iteration\": \"28\", \"goal\": \"accuracy_max\", \"run_name\": \"MaxAbsScaler, RandomForest\", \"run_properties\": \"copy=True\", \"primary_metric\": 0.84276836, \"best_metric\": 0.86299435}, {\"run_id\": \"AutoML_fffb52ea-e670-4e3b-9ff4-3b6764017b23_29\", \"run_number\": 92, \"metric\": null, \"status\": \"Completed\", \"run_type\": \"azureml.scriptrun\", \"training_percent\": \"100\", \"start_time\": \"2021-03-20T17:12:59.041138Z\", \"end_time\": \"2021-03-20T17:13:44.366375Z\", \"created_time\": \"2021-03-20T17:11:23.655452Z\", \"created_time_dt\": \"2021-03-20T17:11:23.655452Z\", \"duration\": \"0:02:20\", \"iteration\": \"29\", \"goal\": \"accuracy_max\", \"run_name\": \"MaxAbsScaler, LightGBM\", \"run_properties\": \"copy=True\", \"primary_metric\": 0.80254237, \"best_metric\": 0.86299435}, {\"run_id\": \"AutoML_fffb52ea-e670-4e3b-9ff4-3b6764017b23_30\", \"run_number\": 93, \"metric\": null, \"status\": \"Completed\", \"run_type\": \"azureml.scriptrun\", \"training_percent\": \"100\", \"start_time\": \"2021-03-20T17:12:59.804205Z\", \"end_time\": \"2021-03-20T17:13:52.549103Z\", \"created_time\": \"2021-03-20T17:11:31.860376Z\", \"created_time_dt\": \"2021-03-20T17:11:31.860376Z\", \"duration\": \"0:02:20\", \"iteration\": \"30\", \"goal\": \"accuracy_max\", \"run_name\": \"SparseNormalizer, XGBoostClassifier\", \"run_properties\": \"<azureml.automl.runtime.shared.model_wrappers.SparseNormalizer object at 0x7f0597416ac8\", \"primary_metric\": 0.82615819, \"best_metric\": 0.86299435}, {\"run_id\": \"AutoML_fffb52ea-e670-4e3b-9ff4-3b6764017b23_31\", \"run_number\": 94, \"metric\": null, \"status\": \"Completed\", \"run_type\": \"azureml.scriptrun\", \"training_percent\": \"100\", \"start_time\": \"2021-03-20T17:13:49.598515Z\", \"end_time\": \"2021-03-20T17:14:37.857291Z\", \"created_time\": \"2021-03-20T17:11:37.854521Z\", \"created_time_dt\": \"2021-03-20T17:11:37.854521Z\", \"duration\": \"0:03:00\", \"iteration\": \"31\", \"goal\": \"accuracy_max\", \"run_name\": \"RobustScaler, RandomForest\", \"run_properties\": \"copy=True, quantile_range=[25, 75], with_centering=True,\\n             with_scaling=False\", \"primary_metric\": 0.84282486, \"best_metric\": 0.86299435}, {\"run_id\": \"AutoML_fffb52ea-e670-4e3b-9ff4-3b6764017b23_32\", \"run_number\": 95, \"metric\": null, \"status\": \"Completed\", \"run_type\": \"azureml.scriptrun\", \"training_percent\": \"100\", \"start_time\": \"2021-03-20T17:13:51.556927Z\", \"end_time\": \"2021-03-20T17:14:38.885402Z\", \"created_time\": \"2021-03-20T17:11:43.456206Z\", \"created_time_dt\": \"2021-03-20T17:11:43.456206Z\", \"duration\": \"0:02:55\", \"iteration\": \"32\", \"goal\": \"accuracy_max\", \"run_name\": \"StandardScalerWrapper, RandomForest\", \"run_properties\": \"<azureml.automl.runtime.shared.model_wrappers.StandardScalerWrapper object at 0x7f3c7e1a5a90\", \"primary_metric\": 0.8259322, \"best_metric\": 0.86299435}, {\"run_id\": \"AutoML_fffb52ea-e670-4e3b-9ff4-3b6764017b23_33\", \"run_number\": 96, \"metric\": null, \"status\": \"Completed\", \"run_type\": \"azureml.scriptrun\", \"training_percent\": \"100\", \"start_time\": \"2021-03-20T17:14:01.921258Z\", \"end_time\": \"2021-03-20T17:14:55.604569Z\", \"created_time\": \"2021-03-20T17:12:28.640084Z\", \"created_time_dt\": \"2021-03-20T17:12:28.640084Z\", \"duration\": \"0:02:26\", \"iteration\": \"33\", \"goal\": \"accuracy_max\", \"run_name\": \"MaxAbsScaler, ExtremeRandomTrees\", \"run_properties\": \"copy=True\", \"primary_metric\": 0.85621469, \"best_metric\": 0.86299435}, {\"run_id\": \"AutoML_fffb52ea-e670-4e3b-9ff4-3b6764017b23_34\", \"run_number\": 97, \"metric\": null, \"status\": \"Completed\", \"run_type\": \"azureml.scriptrun\", \"training_percent\": \"100\", \"start_time\": \"2021-03-20T17:14:05.791757Z\", \"end_time\": \"2021-03-20T17:14:51.313805Z\", \"created_time\": \"2021-03-20T17:12:34.171452Z\", \"created_time_dt\": \"2021-03-20T17:12:34.171452Z\", \"duration\": \"0:02:17\", \"iteration\": \"34\", \"goal\": \"accuracy_max\", \"run_name\": \"SparseNormalizer, XGBoostClassifier\", \"run_properties\": \"<azureml.automl.runtime.shared.model_wrappers.SparseNormalizer object at 0x7ff28408a198\", \"primary_metric\": 0.80949153, \"best_metric\": 0.86299435}, {\"run_id\": \"AutoML_fffb52ea-e670-4e3b-9ff4-3b6764017b23_35\", \"run_number\": 98, \"metric\": null, \"status\": \"Completed\", \"run_type\": \"azureml.scriptrun\", \"training_percent\": \"100\", \"start_time\": \"2021-03-20T17:14:50.049166Z\", \"end_time\": \"2021-03-20T17:15:37.373171Z\", \"created_time\": \"2021-03-20T17:12:43.991734Z\", \"created_time_dt\": \"2021-03-20T17:12:43.991734Z\", \"duration\": \"0:02:53\", \"iteration\": \"35\", \"goal\": \"accuracy_max\", \"run_name\": \"SparseNormalizer, XGBoostClassifier\", \"run_properties\": \"<azureml.automl.runtime.shared.model_wrappers.SparseNormalizer object at 0x7f37246d7438\", \"primary_metric\": 0.83960452, \"best_metric\": 0.86299435}, {\"run_id\": \"AutoML_fffb52ea-e670-4e3b-9ff4-3b6764017b23_36\", \"run_number\": 99, \"metric\": null, \"status\": \"Completed\", \"run_type\": \"azureml.scriptrun\", \"training_percent\": \"100\", \"start_time\": \"2021-03-20T17:14:55.206714Z\", \"end_time\": \"2021-03-20T17:15:47.142289Z\", \"created_time\": \"2021-03-20T17:12:47.91178Z\", \"created_time_dt\": \"2021-03-20T17:12:47.91178Z\", \"duration\": \"0:02:59\", \"iteration\": \"36\", \"goal\": \"accuracy_max\", \"run_name\": \"SparseNormalizer, RandomForest\", \"run_properties\": \"<azureml.automl.runtime.shared.model_wrappers.SparseNormalizer object at 0x7fcdd4354e10\", \"primary_metric\": 0.83627119, \"best_metric\": 0.86299435}, {\"run_id\": \"AutoML_fffb52ea-e670-4e3b-9ff4-3b6764017b23_37\", \"run_number\": 100, \"metric\": null, \"status\": \"Completed\", \"run_type\": \"azureml.scriptrun\", \"training_percent\": \"100\", \"start_time\": \"2021-03-20T17:15:06.111801Z\", \"end_time\": \"2021-03-20T17:15:51.071995Z\", \"created_time\": \"2021-03-20T17:13:37.425157Z\", \"created_time_dt\": \"2021-03-20T17:13:37.425157Z\", \"duration\": \"0:02:13\", \"iteration\": \"37\", \"goal\": \"accuracy_max\", \"run_name\": \"StandardScalerWrapper, XGBoostClassifier\", \"run_properties\": \"<azureml.automl.runtime.shared.model_wrappers.StandardScalerWrapper object at 0x7fe75fb576a0\", \"primary_metric\": 0.79915254, \"best_metric\": 0.86299435}, {\"run_id\": \"AutoML_fffb52ea-e670-4e3b-9ff4-3b6764017b23_38\", \"run_number\": 101, \"metric\": null, \"status\": \"Completed\", \"run_type\": \"azureml.scriptrun\", \"training_percent\": \"100\", \"start_time\": \"2021-03-20T17:15:11.0024Z\", \"end_time\": \"2021-03-20T17:16:00.329577Z\", \"created_time\": \"2021-03-20T17:13:41.208771Z\", \"created_time_dt\": \"2021-03-20T17:13:41.208771Z\", \"duration\": \"0:02:19\", \"iteration\": \"38\", \"goal\": \"accuracy_max\", \"run_name\": \"SparseNormalizer, XGBoostClassifier\", \"run_properties\": \"<azureml.automl.runtime.shared.model_wrappers.SparseNormalizer object at 0x7fe466dea6d8\", \"primary_metric\": 0.84627119, \"best_metric\": 0.86299435}, {\"run_id\": \"AutoML_fffb52ea-e670-4e3b-9ff4-3b6764017b23_39\", \"run_number\": 102, \"metric\": null, \"status\": \"Canceled\", \"run_type\": \"azureml.scriptrun\", \"training_percent\": \"100\", \"start_time\": \"2021-03-20T17:15:52.888091Z\", \"end_time\": \"2021-03-20T17:16:10.778267Z\", \"created_time\": \"2021-03-20T17:13:46.333693Z\", \"created_time_dt\": \"2021-03-20T17:13:46.333693Z\", \"duration\": \"0:02:24\", \"iteration\": \"39\", \"goal\": null, \"run_name\": \"Canceled\", \"run_properties\": null}, {\"run_id\": \"AutoML_fffb52ea-e670-4e3b-9ff4-3b6764017b23_40\", \"run_number\": 103, \"metric\": null, \"status\": \"Canceled\", \"run_type\": \"azureml.scriptrun\", \"training_percent\": \"100\", \"start_time\": \"2021-03-20T17:13:55.723686Z\", \"end_time\": \"2021-03-20T17:16:07.923106Z\", \"created_time\": \"2021-03-20T17:13:55.723686Z\", \"created_time_dt\": \"2021-03-20T17:13:55.723686Z\", \"duration\": \"0:02:12\", \"iteration\": \"40\", \"goal\": null, \"run_name\": \"Canceled\", \"run_properties\": null}, {\"run_id\": \"AutoML_fffb52ea-e670-4e3b-9ff4-3b6764017b23_41\", \"run_number\": 104, \"metric\": null, \"status\": \"Canceled\", \"run_type\": \"azureml.scriptrun\", \"training_percent\": \"100\", \"start_time\": \"2021-03-20T17:14:40.072362Z\", \"end_time\": \"2021-03-20T17:16:08.098694Z\", \"created_time\": \"2021-03-20T17:14:40.072362Z\", \"created_time_dt\": \"2021-03-20T17:14:40.072362Z\", \"duration\": \"0:01:28\", \"iteration\": \"41\", \"goal\": null, \"run_name\": \"Canceled\", \"run_properties\": null}, {\"run_id\": \"AutoML_fffb52ea-e670-4e3b-9ff4-3b6764017b23_42\", \"run_number\": 105, \"metric\": null, \"status\": \"Canceled\", \"run_type\": \"azureml.scriptrun\", \"training_percent\": \"100\", \"start_time\": \"2021-03-20T17:14:44.807396Z\", \"end_time\": \"2021-03-20T17:16:08.806008Z\", \"created_time\": \"2021-03-20T17:14:44.807396Z\", \"created_time_dt\": \"2021-03-20T17:14:44.807396Z\", \"duration\": \"0:01:23\", \"iteration\": \"42\", \"goal\": null, \"run_name\": \"Canceled\", \"run_properties\": null}, {\"run_id\": \"AutoML_fffb52ea-e670-4e3b-9ff4-3b6764017b23_43\", \"run_number\": 106, \"metric\": null, \"status\": \"Canceled\", \"run_type\": \"azureml.scriptrun\", \"training_percent\": \"100\", \"start_time\": \"2021-03-20T17:14:54.129179Z\", \"end_time\": \"2021-03-20T17:16:09.697647Z\", \"created_time\": \"2021-03-20T17:14:54.129179Z\", \"created_time_dt\": \"2021-03-20T17:14:54.129179Z\", \"duration\": \"0:01:15\", \"iteration\": \"43\", \"goal\": null, \"run_name\": \"Canceled\", \"run_properties\": null}, {\"run_id\": \"AutoML_fffb52ea-e670-4e3b-9ff4-3b6764017b23_44\", \"run_number\": 107, \"metric\": null, \"status\": \"Canceled\", \"run_type\": \"azureml.scriptrun\", \"training_percent\": \"100\", \"start_time\": \"2021-03-20T17:14:57.314227Z\", \"end_time\": \"2021-03-20T17:16:09.536761Z\", \"created_time\": \"2021-03-20T17:14:57.314227Z\", \"created_time_dt\": \"2021-03-20T17:14:57.314227Z\", \"duration\": \"0:01:12\", \"iteration\": \"44\", \"goal\": null, \"run_name\": \"Canceled\", \"run_properties\": null}, {\"run_id\": \"AutoML_fffb52ea-e670-4e3b-9ff4-3b6764017b23_45\", \"run_number\": 108, \"metric\": null, \"status\": \"Canceled\", \"run_type\": \"azureml.scriptrun\", \"training_percent\": \"100\", \"start_time\": \"2021-03-20T17:15:41.867746Z\", \"end_time\": \"2021-03-20T17:16:08.657694Z\", \"created_time\": \"2021-03-20T17:15:41.867746Z\", \"created_time_dt\": \"2021-03-20T17:15:41.867746Z\", \"duration\": \"0:00:26\", \"iteration\": \"45\", \"goal\": null, \"run_name\": \"Canceled\", \"run_properties\": null}, {\"run_id\": \"AutoML_fffb52ea-e670-4e3b-9ff4-3b6764017b23_46\", \"run_number\": 109, \"metric\": null, \"status\": \"Canceled\", \"run_type\": \"azureml.scriptrun\", \"training_percent\": \"100\", \"start_time\": \"2021-03-20T17:15:49.419618Z\", \"end_time\": \"2021-03-20T17:16:07.399164Z\", \"created_time\": \"2021-03-20T17:15:49.419618Z\", \"created_time_dt\": \"2021-03-20T17:15:49.419618Z\", \"duration\": \"0:00:17\", \"iteration\": \"46\", \"goal\": null, \"run_name\": \"Canceled\", \"run_properties\": null}, {\"run_id\": \"AutoML_fffb52ea-e670-4e3b-9ff4-3b6764017b23_47\", \"run_number\": 110, \"metric\": null, \"status\": \"Canceled\", \"run_type\": \"azureml.scriptrun\", \"training_percent\": \"100\", \"start_time\": \"2021-03-20T17:15:53.329876Z\", \"end_time\": \"2021-03-20T17:16:09.257136Z\", \"created_time\": \"2021-03-20T17:15:53.329876Z\", \"created_time_dt\": \"2021-03-20T17:15:53.329876Z\", \"duration\": \"0:00:15\", \"iteration\": \"47\", \"goal\": null, \"run_name\": \"Canceled\", \"run_properties\": null}, {\"run_id\": \"AutoML_fffb52ea-e670-4e3b-9ff4-3b6764017b23_49\", \"run_number\": 111, \"metric\": null, \"status\": \"Completed\", \"run_type\": \"azureml.scriptrun\", \"training_percent\": \"100\", \"start_time\": \"2021-03-20T17:16:21.057083Z\", \"end_time\": \"2021-03-20T17:17:32.199151Z\", \"created_time\": \"2021-03-20T17:16:12.125553Z\", \"created_time_dt\": \"2021-03-20T17:16:12.125553Z\", \"duration\": \"0:01:20\", \"iteration\": \"49\", \"goal\": \"accuracy_max\", \"run_name\": \"StackEnsemble\", \"run_properties\": \"base_learners=[('8',\\n                                        Pipeline(memory=None,\\n                                                 steps=[('sparsenormalizer',\\n                                                         <azureml.automl.runtime.shared.model_wrappers.SparseNormalizer object at 0x7f53cc12ef28>\", \"primary_metric\": 0.85288136, \"best_metric\": 0.88305085}, {\"run_id\": \"AutoML_fffb52ea-e670-4e3b-9ff4-3b6764017b23_48\", \"run_number\": 112, \"metric\": null, \"status\": \"Completed\", \"run_type\": \"azureml.scriptrun\", \"training_percent\": \"100\", \"start_time\": \"2021-03-20T17:16:22.729025Z\", \"end_time\": \"2021-03-20T17:17:32.496231Z\", \"created_time\": \"2021-03-20T17:16:12.121273Z\", \"created_time_dt\": \"2021-03-20T17:16:12.121273Z\", \"duration\": \"0:01:20\", \"iteration\": \"48\", \"goal\": \"accuracy_max\", \"run_name\": \"VotingEnsemble\", \"run_properties\": \"classification_labels=None,\\n                              estimators=[('8',\\n                                           Pipeline(memory=None,\\n                                                    steps=[('sparsenormalizer',\\n                                                            <azureml.automl.runtime.shared.model_wrappers.SparseNormalizer object at 0x7fa7987348d0>\", \"primary_metric\": 0.88305085, \"best_metric\": 0.88305085}], \"children_metrics\": {\"categories\": [0], \"series\": {\"weighted_accuracy\": [{\"categories\": [\"0\", \"1\", \"2\", \"3\", \"4\", \"5\", \"6\", \"7\", \"8\", \"9\", \"10\", \"11\", \"12\", \"13\", \"14\", \"15\", \"16\", \"17\", \"18\", \"19\", \"20\", \"21\", \"22\", \"23\", \"24\", \"25\", \"26\", \"27\", \"28\", \"29\", \"30\", \"31\", \"32\", \"33\", \"34\", \"35\", \"36\", \"37\", \"38\", \"48\", \"49\"], \"mode\": \"markers\", \"name\": \"weighted_accuracy\", \"stepped\": false, \"type\": \"scatter\", \"data\": [0.8252063202764133, 0.8406325321291572, 0.8771300494637139, 0.8414787478315061, 0.8582975571495284, 0.8002078926792798, 0.860991858538972, 0.8165665258304781, 0.8857905378029967, 0.8499585578077531, 0.8668184062223465, 0.7976021668247314, 0.8602793024383992, 0.7695242910482673, 0.8461635991415463, 0.8396048623725025, 0.8632247217176658, 0.8652188319045694, 0.8614527378563306, 0.8360473402486086, 0.8533820798830117, 0.8737057211971034, 0.8526332262121, 0.8499213641944703, 0.8365299867324645, 0.7971865900207855, 0.8648113269060593, 0.8593695682548554, 0.8639086720388027, 0.8424900769632471, 0.862183647587217, 0.8649752689674445, 0.840711657584649, 0.8899561268687999, 0.8395360879853172, 0.8692632433209975, 0.8662828511641345, 0.8216268661207152, 0.863690124114725, 0.9024080729594932, 0.8755365537298097]}, {\"categories\": [\"0\", \"1\", \"2\", \"3\", \"4\", \"5\", \"6\", \"7\", \"8\", \"9\", \"10\", \"11\", \"12\", \"13\", \"14\", \"15\", \"16\", \"17\", \"18\", \"19\", \"20\", \"21\", \"22\", \"23\", \"24\", \"25\", \"26\", \"27\", \"28\", \"29\", \"30\", \"31\", \"32\", \"33\", \"34\", \"35\", \"36\", \"37\", \"38\", \"48\", \"49\"], \"mode\": \"lines\", \"name\": \"weighted_accuracy_max\", \"stepped\": true, \"type\": \"scatter\", \"data\": [0.8252063202764133, 0.8406325321291572, 0.8771300494637139, 0.8771300494637139, 0.8771300494637139, 0.8771300494637139, 0.8771300494637139, 0.8771300494637139, 0.8857905378029967, 0.8857905378029967, 0.8857905378029967, 0.8857905378029967, 0.8857905378029967, 0.8857905378029967, 0.8857905378029967, 0.8857905378029967, 0.8857905378029967, 0.8857905378029967, 0.8857905378029967, 0.8857905378029967, 0.8857905378029967, 0.8857905378029967, 0.8857905378029967, 0.8857905378029967, 0.8857905378029967, 0.8857905378029967, 0.8857905378029967, 0.8857905378029967, 0.8857905378029967, 0.8857905378029967, 0.8857905378029967, 0.8857905378029967, 0.8857905378029967, 0.8899561268687999, 0.8899561268687999, 0.8899561268687999, 0.8899561268687999, 0.8899561268687999, 0.8899561268687999, 0.9024080729594932, 0.9024080729594932]}], \"f1_score_micro\": [{\"categories\": [\"0\", \"1\", \"2\", \"3\", \"4\", \"5\", \"6\", \"7\", \"8\", \"9\", \"10\", \"11\", \"12\", \"13\", \"14\", \"15\", \"16\", \"17\", \"18\", \"19\", \"20\", \"21\", \"22\", \"23\", \"24\", \"25\", \"26\", \"27\", \"28\", \"29\", \"30\", \"31\", \"32\", \"33\", \"34\", \"35\", \"36\", \"37\", \"38\", \"48\", \"49\"], \"mode\": \"markers\", \"name\": \"f1_score_micro\", \"stepped\": false, \"type\": \"scatter\", \"data\": [0.8059887005649718, 0.8259322033898304, 0.8528248587570622, 0.8126553672316386, 0.8427118644067797, 0.7125423728813558, 0.8459887005649718, 0.8157627118644069, 0.8629943502824858, 0.8292655367231637, 0.8428248587570621, 0.7158192090395481, 0.8394350282485876, 0.70909604519774, 0.8260451977401131, 0.8093785310734465, 0.8429378531073446, 0.8429378531073446, 0.846271186440678, 0.8160451977401131, 0.8329943502824859, 0.8496045197740113, 0.8359322033898305, 0.8160451977401131, 0.8025423728813559, 0.67909604519774, 0.8461016949152542, 0.836045197740113, 0.8427683615819209, 0.8025423728813559, 0.8261581920903955, 0.8428248587570621, 0.8259322033898305, 0.8562146892655367, 0.8094915254237289, 0.8396045197740113, 0.836271186440678, 0.7991525423728815, 0.846271186440678, 0.8830508474576272, 0.8528813559322034]}, {\"categories\": [\"0\", \"1\", \"2\", \"3\", \"4\", \"5\", \"6\", \"7\", \"8\", \"9\", \"10\", \"11\", \"12\", \"13\", \"14\", \"15\", \"16\", \"17\", \"18\", \"19\", \"20\", \"21\", \"22\", \"23\", \"24\", \"25\", \"26\", \"27\", \"28\", \"29\", \"30\", \"31\", \"32\", \"33\", \"34\", \"35\", \"36\", \"37\", \"38\", \"48\", \"49\"], \"mode\": \"lines\", \"name\": \"f1_score_micro_max\", \"stepped\": true, \"type\": \"scatter\", \"data\": [0.8059887005649718, 0.8259322033898304, 0.8528248587570622, 0.8528248587570622, 0.8528248587570622, 0.8528248587570622, 0.8528248587570622, 0.8528248587570622, 0.8629943502824858, 0.8629943502824858, 0.8629943502824858, 0.8629943502824858, 0.8629943502824858, 0.8629943502824858, 0.8629943502824858, 0.8629943502824858, 0.8629943502824858, 0.8629943502824858, 0.8629943502824858, 0.8629943502824858, 0.8629943502824858, 0.8629943502824858, 0.8629943502824858, 0.8629943502824858, 0.8629943502824858, 0.8629943502824858, 0.8629943502824858, 0.8629943502824858, 0.8629943502824858, 0.8629943502824858, 0.8629943502824858, 0.8629943502824858, 0.8629943502824858, 0.8629943502824858, 0.8629943502824858, 0.8629943502824858, 0.8629943502824858, 0.8629943502824858, 0.8629943502824858, 0.8830508474576272, 0.8830508474576272]}], \"matthews_correlation\": [{\"categories\": [\"0\", \"1\", \"2\", \"3\", \"4\", \"5\", \"6\", \"7\", \"8\", \"9\", \"10\", \"11\", \"12\", \"13\", \"14\", \"15\", \"16\", \"17\", \"18\", \"19\", \"20\", \"21\", \"22\", \"23\", \"24\", \"25\", \"26\", \"27\", \"28\", \"29\", \"30\", \"31\", \"32\", \"33\", \"34\", \"35\", \"36\", \"37\", \"38\", \"48\", \"49\"], \"mode\": \"markers\", \"name\": \"matthews_correlation\", \"stepped\": false, \"type\": \"scatter\", \"data\": [0.5628617041183437, 0.6132552509330647, 0.6574650186305102, 0.563873148690053, 0.6362412148779615, 0.27014512259254253, 0.6488804430675318, 0.5985850382999305, 0.6961232897246376, 0.6061372596711319, 0.643042314318613, 0.26692803879040883, 0.6364314396861929, 0.2841334366020759, 0.6074796463603056, 0.5428697166604373, 0.6476747744796524, 0.6440524358046413, 0.6604081807336983, 0.5903431657959342, 0.6311991764150848, 0.6592839835245242, 0.6299505179818075, 0.577377585520883, 0.5413735838838376, 0.0, 0.651277152740491, 0.6234116153494524, 0.6406240158069012, 0.5366089874596112, 0.5865859241834291, 0.6418081997046212, 0.6102959706953033, 0.677222601230903, 0.5576963702680647, 0.6290582354256522, 0.6178240790726077, 0.549028436510153, 0.6465665415509575, 0.7404775256390159, 0.6794998010364328]}, {\"categories\": [\"0\", \"1\", \"2\", \"3\", \"4\", \"5\", \"6\", \"7\", \"8\", \"9\", \"10\", \"11\", \"12\", \"13\", \"14\", \"15\", \"16\", \"17\", \"18\", \"19\", \"20\", \"21\", \"22\", \"23\", \"24\", \"25\", \"26\", \"27\", \"28\", \"29\", \"30\", \"31\", \"32\", \"33\", \"34\", \"35\", \"36\", \"37\", \"38\", \"48\", \"49\"], \"mode\": \"lines\", \"name\": \"matthews_correlation_max\", \"stepped\": true, \"type\": \"scatter\", \"data\": [0.5628617041183437, 0.6132552509330647, 0.6574650186305102, 0.6574650186305102, 0.6574650186305102, 0.6574650186305102, 0.6574650186305102, 0.6574650186305102, 0.6961232897246376, 0.6961232897246376, 0.6961232897246376, 0.6961232897246376, 0.6961232897246376, 0.6961232897246376, 0.6961232897246376, 0.6961232897246376, 0.6961232897246376, 0.6961232897246376, 0.6961232897246376, 0.6961232897246376, 0.6961232897246376, 0.6961232897246376, 0.6961232897246376, 0.6961232897246376, 0.6961232897246376, 0.6961232897246376, 0.6961232897246376, 0.6961232897246376, 0.6961232897246376, 0.6961232897246376, 0.6961232897246376, 0.6961232897246376, 0.6961232897246376, 0.6961232897246376, 0.6961232897246376, 0.6961232897246376, 0.6961232897246376, 0.6961232897246376, 0.6961232897246376, 0.7404775256390159, 0.7404775256390159]}], \"f1_score_weighted\": [{\"categories\": [\"0\", \"1\", \"2\", \"3\", \"4\", \"5\", \"6\", \"7\", \"8\", \"9\", \"10\", \"11\", \"12\", \"13\", \"14\", \"15\", \"16\", \"17\", \"18\", \"19\", \"20\", \"21\", \"22\", \"23\", \"24\", \"25\", \"26\", \"27\", \"28\", \"29\", \"30\", \"31\", \"32\", \"33\", \"34\", \"35\", \"36\", \"37\", \"38\", \"48\", \"49\"], \"mode\": \"markers\", \"name\": \"f1_score_weighted\", \"stepped\": false, \"type\": \"scatter\", \"data\": [0.8014398448329555, 0.8237396450256732, 0.8491655243844765, 0.8053708450325068, 0.8414528379425457, 0.6489627547776654, 0.8443661004585599, 0.8210720848599274, 0.857987510562854, 0.8260155942564726, 0.8371877689637914, 0.6661218655098471, 0.8333393773845273, 0.6799671441401424, 0.8224441719562481, 0.8039757220257486, 0.8383859995716654, 0.8382977591905634, 0.8440887176790568, 0.8111375615251999, 0.8295428462047711, 0.8440036515185525, 0.8327763367973816, 0.8041176153746544, 0.7927356471104344, 0.5526564268547016, 0.8416368828779136, 0.8308443109274345, 0.8387324496129758, 0.7919837016386702, 0.8183812502311285, 0.837860380116226, 0.8234650467187299, 0.8473821843525513, 0.8021209360138604, 0.8339210607658917, 0.8307145567008511, 0.7947917382480346, 0.8441002315785479, 0.87932643160193, 0.84406767856474]}, {\"categories\": [\"0\", \"1\", \"2\", \"3\", \"4\", \"5\", \"6\", \"7\", \"8\", \"9\", \"10\", \"11\", \"12\", \"13\", \"14\", \"15\", \"16\", \"17\", \"18\", \"19\", \"20\", \"21\", \"22\", \"23\", \"24\", \"25\", \"26\", \"27\", \"28\", \"29\", \"30\", \"31\", \"32\", \"33\", \"34\", \"35\", \"36\", \"37\", \"38\", \"48\", \"49\"], \"mode\": \"lines\", \"name\": \"f1_score_weighted_max\", \"stepped\": true, \"type\": \"scatter\", \"data\": [0.8014398448329555, 0.8237396450256732, 0.8491655243844765, 0.8491655243844765, 0.8491655243844765, 0.8491655243844765, 0.8491655243844765, 0.8491655243844765, 0.857987510562854, 0.857987510562854, 0.857987510562854, 0.857987510562854, 0.857987510562854, 0.857987510562854, 0.857987510562854, 0.857987510562854, 0.857987510562854, 0.857987510562854, 0.857987510562854, 0.857987510562854, 0.857987510562854, 0.857987510562854, 0.857987510562854, 0.857987510562854, 0.857987510562854, 0.857987510562854, 0.857987510562854, 0.857987510562854, 0.857987510562854, 0.857987510562854, 0.857987510562854, 0.857987510562854, 0.857987510562854, 0.857987510562854, 0.857987510562854, 0.857987510562854, 0.857987510562854, 0.857987510562854, 0.857987510562854, 0.87932643160193, 0.87932643160193]}], \"recall_score_micro\": [{\"categories\": [\"0\", \"1\", \"2\", \"3\", \"4\", \"5\", \"6\", \"7\", \"8\", \"9\", \"10\", \"11\", \"12\", \"13\", \"14\", \"15\", \"16\", \"17\", \"18\", \"19\", \"20\", \"21\", \"22\", \"23\", \"24\", \"25\", \"26\", \"27\", \"28\", \"29\", \"30\", \"31\", \"32\", \"33\", \"34\", \"35\", \"36\", \"37\", \"38\", \"48\", \"49\"], \"mode\": \"markers\", \"name\": \"recall_score_micro\", \"stepped\": false, \"type\": \"scatter\", \"data\": [0.8059887005649717, 0.8259322033898304, 0.8528248587570622, 0.8126553672316386, 0.8427118644067797, 0.7125423728813558, 0.8459887005649718, 0.8157627118644069, 0.8629943502824858, 0.8292655367231637, 0.8428248587570621, 0.7158192090395481, 0.8394350282485876, 0.70909604519774, 0.8260451977401131, 0.8093785310734465, 0.8429378531073446, 0.8429378531073446, 0.846271186440678, 0.8160451977401131, 0.8329943502824859, 0.8496045197740113, 0.8359322033898305, 0.8160451977401131, 0.8025423728813559, 0.67909604519774, 0.8461016949152542, 0.836045197740113, 0.8427683615819209, 0.8025423728813559, 0.8261581920903953, 0.8428248587570621, 0.8259322033898305, 0.8562146892655367, 0.8094915254237289, 0.8396045197740113, 0.836271186440678, 0.7991525423728815, 0.846271186440678, 0.8830508474576272, 0.8528813559322034]}, {\"categories\": [\"0\", \"1\", \"2\", \"3\", \"4\", \"5\", \"6\", \"7\", \"8\", \"9\", \"10\", \"11\", \"12\", \"13\", \"14\", \"15\", \"16\", \"17\", \"18\", \"19\", \"20\", \"21\", \"22\", \"23\", \"24\", \"25\", \"26\", \"27\", \"28\", \"29\", \"30\", \"31\", \"32\", \"33\", \"34\", \"35\", \"36\", \"37\", \"38\", \"48\", \"49\"], \"mode\": \"lines\", \"name\": \"recall_score_micro_max\", \"stepped\": true, \"type\": \"scatter\", \"data\": [0.8059887005649717, 0.8259322033898304, 0.8528248587570622, 0.8528248587570622, 0.8528248587570622, 0.8528248587570622, 0.8528248587570622, 0.8528248587570622, 0.8629943502824858, 0.8629943502824858, 0.8629943502824858, 0.8629943502824858, 0.8629943502824858, 0.8629943502824858, 0.8629943502824858, 0.8629943502824858, 0.8629943502824858, 0.8629943502824858, 0.8629943502824858, 0.8629943502824858, 0.8629943502824858, 0.8629943502824858, 0.8629943502824858, 0.8629943502824858, 0.8629943502824858, 0.8629943502824858, 0.8629943502824858, 0.8629943502824858, 0.8629943502824858, 0.8629943502824858, 0.8629943502824858, 0.8629943502824858, 0.8629943502824858, 0.8629943502824858, 0.8629943502824858, 0.8629943502824858, 0.8629943502824858, 0.8629943502824858, 0.8629943502824858, 0.8830508474576272, 0.8830508474576272]}], \"average_precision_score_macro\": [{\"categories\": [\"0\", \"1\", \"2\", \"3\", \"4\", \"5\", \"6\", \"7\", \"8\", \"9\", \"10\", \"11\", \"12\", \"13\", \"14\", \"15\", \"16\", \"17\", \"18\", \"19\", \"20\", \"21\", \"22\", \"23\", \"24\", \"25\", \"26\", \"27\", \"28\", \"29\", \"30\", \"31\", \"32\", \"33\", \"34\", \"35\", \"36\", \"37\", \"38\", \"48\", \"49\"], \"mode\": \"markers\", \"name\": \"average_precision_score_macro\", \"stepped\": false, \"type\": \"scatter\", \"data\": [0.8655792376041671, 0.8826936933050062, 0.8850586204218619, 0.8635984206632052, 0.8891090867291302, 0.7910582717800839, 0.8921402967064285, 0.8973922240382806, 0.8787882002534271, 0.8853516879124317, 0.9018001505055473, 0.7426571623037022, 0.903371207714083, 0.7184794519077, 0.8640380321940277, 0.8329476717741734, 0.8703823470225807, 0.8851876004273572, 0.8817569707809666, 0.8521674387438276, 0.8756968477195303, 0.8741471805576697, 0.8900063129165934, 0.8821896413678351, 0.8773379269334891, 0.5067957835186856, 0.9103451478608345, 0.8927065503562506, 0.8935766072756003, 0.8853348537159504, 0.8629655548620407, 0.8981844132722824, 0.8756541497007031, 0.8824758665351993, 0.8633472749637905, 0.8757378392804872, 0.881490052959449, 0.8734815295678218, 0.8779967458470015, 0.8928971741502736, 0.8949477033239273]}, {\"categories\": [\"0\", \"1\", \"2\", \"3\", \"4\", \"5\", \"6\", \"7\", \"8\", \"9\", \"10\", \"11\", \"12\", \"13\", \"14\", \"15\", \"16\", \"17\", \"18\", \"19\", \"20\", \"21\", \"22\", \"23\", \"24\", \"25\", \"26\", \"27\", \"28\", \"29\", \"30\", \"31\", \"32\", \"33\", \"34\", \"35\", \"36\", \"37\", \"38\", \"48\", \"49\"], \"mode\": \"lines\", \"name\": \"average_precision_score_macro_max\", \"stepped\": true, \"type\": \"scatter\", \"data\": [0.8655792376041671, 0.8826936933050062, 0.8850586204218619, 0.8850586204218619, 0.8891090867291302, 0.8891090867291302, 0.8921402967064285, 0.8973922240382806, 0.8973922240382806, 0.8973922240382806, 0.9018001505055473, 0.9018001505055473, 0.903371207714083, 0.903371207714083, 0.903371207714083, 0.903371207714083, 0.903371207714083, 0.903371207714083, 0.903371207714083, 0.903371207714083, 0.903371207714083, 0.903371207714083, 0.903371207714083, 0.903371207714083, 0.903371207714083, 0.903371207714083, 0.9103451478608345, 0.9103451478608345, 0.9103451478608345, 0.9103451478608345, 0.9103451478608345, 0.9103451478608345, 0.9103451478608345, 0.9103451478608345, 0.9103451478608345, 0.9103451478608345, 0.9103451478608345, 0.9103451478608345, 0.9103451478608345, 0.9103451478608345, 0.9103451478608345]}], \"precision_score_macro\": [{\"categories\": [\"0\", \"1\", \"2\", \"3\", \"4\", \"5\", \"6\", \"7\", \"8\", \"9\", \"10\", \"11\", \"12\", \"13\", \"14\", \"15\", \"16\", \"17\", \"18\", \"19\", \"20\", \"21\", \"22\", \"23\", \"24\", \"25\", \"26\", \"27\", \"28\", \"29\", \"30\", \"31\", \"32\", \"33\", \"34\", \"35\", \"36\", \"37\", \"38\", \"48\", \"49\"], \"mode\": \"markers\", \"name\": \"precision_score_macro\", \"stepped\": false, \"type\": \"scatter\", \"data\": [0.7889041743265773, 0.8086642059265495, 0.8431486391780721, 0.7940578617053773, 0.817945024696713, 0.7503516211962007, 0.825733352564748, 0.7862672810900311, 0.8703765718951411, 0.808641283322103, 0.8367867760259065, 0.6982842025699169, 0.8302334190632064, 0.6729987217431723, 0.8124325935766489, 0.7842618251313904, 0.8368138262703478, 0.8365493296910653, 0.836190434874329, 0.8057518640185325, 0.8298263723233414, 0.8493419877994347, 0.8195815096875213, 0.8145149307214524, 0.7924821022648049, 0.33954802259887, 0.8342715163344211, 0.8225492456976522, 0.8297374645614342, 0.7986843335012921, 0.8215396825396825, 0.8324154664334381, 0.8072678486782081, 0.8763964708964751, 0.7981958877396859, 0.8353706199351191, 0.8298640992690242, 0.783587240392986, 0.827693683328634, 0.888778886518453, 0.8683016487650297]}, {\"categories\": [\"0\", \"1\", \"2\", \"3\", \"4\", \"5\", \"6\", \"7\", \"8\", \"9\", \"10\", \"11\", \"12\", \"13\", \"14\", \"15\", \"16\", \"17\", \"18\", \"19\", \"20\", \"21\", \"22\", \"23\", \"24\", \"25\", \"26\", \"27\", \"28\", \"29\", \"30\", \"31\", \"32\", \"33\", \"34\", \"35\", \"36\", \"37\", \"38\", \"48\", \"49\"], \"mode\": \"lines\", \"name\": \"precision_score_macro_max\", \"stepped\": true, \"type\": \"scatter\", \"data\": [0.7889041743265773, 0.8086642059265495, 0.8431486391780721, 0.8431486391780721, 0.8431486391780721, 0.8431486391780721, 0.8431486391780721, 0.8431486391780721, 0.8703765718951411, 0.8703765718951411, 0.8703765718951411, 0.8703765718951411, 0.8703765718951411, 0.8703765718951411, 0.8703765718951411, 0.8703765718951411, 0.8703765718951411, 0.8703765718951411, 0.8703765718951411, 0.8703765718951411, 0.8703765718951411, 0.8703765718951411, 0.8703765718951411, 0.8703765718951411, 0.8703765718951411, 0.8703765718951411, 0.8703765718951411, 0.8703765718951411, 0.8703765718951411, 0.8703765718951411, 0.8703765718951411, 0.8703765718951411, 0.8703765718951411, 0.8763964708964751, 0.8763964708964751, 0.8763964708964751, 0.8763964708964751, 0.8763964708964751, 0.8763964708964751, 0.888778886518453, 0.888778886518453]}], \"average_precision_score_micro\": [{\"categories\": [\"0\", \"1\", \"2\", \"3\", \"4\", \"5\", \"6\", \"7\", \"8\", \"9\", \"10\", \"11\", \"12\", \"13\", \"14\", \"15\", \"16\", \"17\", \"18\", \"19\", \"20\", \"21\", \"22\", \"23\", \"24\", \"25\", \"26\", \"27\", \"28\", \"29\", \"30\", \"31\", \"32\", \"33\", \"34\", \"35\", \"36\", \"37\", \"38\", \"48\", \"49\"], \"mode\": \"markers\", \"name\": \"average_precision_score_micro\", \"stepped\": false, \"type\": \"scatter\", \"data\": [0.887958292631032, 0.9018582931163117, 0.9132195527068818, 0.8884830904561613, 0.9154002302701134, 0.8274089317534352, 0.908248783527503, 0.9003742201556152, 0.9006743397648147, 0.9102937262573569, 0.9156537696462816, 0.8073990581075078, 0.9170042672330394, 0.7607089392486793, 0.8831949364447629, 0.8723071880091318, 0.9026007491297514, 0.904946850633934, 0.9020916181204706, 0.8802270031234766, 0.893386848713541, 0.8969413625736677, 0.9077829381471568, 0.8877787967043064, 0.8973084466373693, 0.6490702808293733, 0.9212188385229932, 0.9050682649126307, 0.9100538417776844, 0.9035617646088395, 0.8894479833890104, 0.9127471471166771, 0.9080836016439703, 0.8967670361087485, 0.892076634468482, 0.9027889097180957, 0.9065136047602763, 0.8919016345135216, 0.9006060426145954, 0.9167668288640412, 0.9048027074843514]}, {\"categories\": [\"0\", \"1\", \"2\", \"3\", \"4\", \"5\", \"6\", \"7\", \"8\", \"9\", \"10\", \"11\", \"12\", \"13\", \"14\", \"15\", \"16\", \"17\", \"18\", \"19\", \"20\", \"21\", \"22\", \"23\", \"24\", \"25\", \"26\", \"27\", \"28\", \"29\", \"30\", \"31\", \"32\", \"33\", \"34\", \"35\", \"36\", \"37\", \"38\", \"48\", \"49\"], \"mode\": \"lines\", \"name\": \"average_precision_score_micro_max\", \"stepped\": true, \"type\": \"scatter\", \"data\": [0.887958292631032, 0.9018582931163117, 0.9132195527068818, 0.9132195527068818, 0.9154002302701134, 0.9154002302701134, 0.9154002302701134, 0.9154002302701134, 0.9154002302701134, 0.9154002302701134, 0.9156537696462816, 0.9156537696462816, 0.9170042672330394, 0.9170042672330394, 0.9170042672330394, 0.9170042672330394, 0.9170042672330394, 0.9170042672330394, 0.9170042672330394, 0.9170042672330394, 0.9170042672330394, 0.9170042672330394, 0.9170042672330394, 0.9170042672330394, 0.9170042672330394, 0.9170042672330394, 0.9212188385229932, 0.9212188385229932, 0.9212188385229932, 0.9212188385229932, 0.9212188385229932, 0.9212188385229932, 0.9212188385229932, 0.9212188385229932, 0.9212188385229932, 0.9212188385229932, 0.9212188385229932, 0.9212188385229932, 0.9212188385229932, 0.9212188385229932, 0.9212188385229932]}], \"precision_score_micro\": [{\"categories\": [\"0\", \"1\", \"2\", \"3\", \"4\", \"5\", \"6\", \"7\", \"8\", \"9\", \"10\", \"11\", \"12\", \"13\", \"14\", \"15\", \"16\", \"17\", \"18\", \"19\", \"20\", \"21\", \"22\", \"23\", \"24\", \"25\", \"26\", \"27\", \"28\", \"29\", \"30\", \"31\", \"32\", \"33\", \"34\", \"35\", \"36\", \"37\", \"38\", \"48\", \"49\"], \"mode\": \"markers\", \"name\": \"precision_score_micro\", \"stepped\": false, \"type\": \"scatter\", \"data\": [0.8059887005649717, 0.8259322033898304, 0.8528248587570622, 0.8126553672316386, 0.8427118644067797, 0.7125423728813558, 0.8459887005649718, 0.8157627118644069, 0.8629943502824858, 0.8292655367231637, 0.8428248587570621, 0.7158192090395481, 0.8394350282485876, 0.70909604519774, 0.8260451977401131, 0.8093785310734465, 0.8429378531073446, 0.8429378531073446, 0.846271186440678, 0.8160451977401131, 0.8329943502824859, 0.8496045197740113, 0.8359322033898305, 0.8160451977401131, 0.8025423728813559, 0.67909604519774, 0.8461016949152542, 0.836045197740113, 0.8427683615819209, 0.8025423728813559, 0.8261581920903953, 0.8428248587570621, 0.8259322033898305, 0.8562146892655367, 0.8094915254237289, 0.8396045197740113, 0.836271186440678, 0.7991525423728815, 0.846271186440678, 0.8830508474576272, 0.8528813559322034]}, {\"categories\": [\"0\", \"1\", \"2\", \"3\", \"4\", \"5\", \"6\", \"7\", \"8\", \"9\", \"10\", \"11\", \"12\", \"13\", \"14\", \"15\", \"16\", \"17\", \"18\", \"19\", \"20\", \"21\", \"22\", \"23\", \"24\", \"25\", \"26\", \"27\", \"28\", \"29\", \"30\", \"31\", \"32\", \"33\", \"34\", \"35\", \"36\", \"37\", \"38\", \"48\", \"49\"], \"mode\": \"lines\", \"name\": \"precision_score_micro_max\", \"stepped\": true, \"type\": \"scatter\", \"data\": [0.8059887005649717, 0.8259322033898304, 0.8528248587570622, 0.8528248587570622, 0.8528248587570622, 0.8528248587570622, 0.8528248587570622, 0.8528248587570622, 0.8629943502824858, 0.8629943502824858, 0.8629943502824858, 0.8629943502824858, 0.8629943502824858, 0.8629943502824858, 0.8629943502824858, 0.8629943502824858, 0.8629943502824858, 0.8629943502824858, 0.8629943502824858, 0.8629943502824858, 0.8629943502824858, 0.8629943502824858, 0.8629943502824858, 0.8629943502824858, 0.8629943502824858, 0.8629943502824858, 0.8629943502824858, 0.8629943502824858, 0.8629943502824858, 0.8629943502824858, 0.8629943502824858, 0.8629943502824858, 0.8629943502824858, 0.8629943502824858, 0.8629943502824858, 0.8629943502824858, 0.8629943502824858, 0.8629943502824858, 0.8629943502824858, 0.8830508474576272, 0.8830508474576272]}], \"norm_macro_recall\": [{\"categories\": [\"0\", \"1\", \"2\", \"3\", \"4\", \"5\", \"6\", \"7\", \"8\", \"9\", \"10\", \"11\", \"12\", \"13\", \"14\", \"15\", \"16\", \"17\", \"18\", \"19\", \"20\", \"21\", \"22\", \"23\", \"24\", \"25\", \"26\", \"27\", \"28\", \"29\", \"30\", \"31\", \"32\", \"33\", \"34\", \"35\", \"36\", \"37\", \"38\", \"48\", \"49\"], \"mode\": \"markers\", \"name\": \"norm_macro_recall\", \"stepped\": false, \"type\": \"scatter\", \"data\": [0.5520418050941306, 0.6120251937984496, 0.6307488925802879, 0.5451370431893687, 0.6386572535991141, 0.16558693244739753, 0.6488192137320044, 0.6277145625692138, 0.6591666666666667, 0.5976370431893688, 0.6159869878183832, 0.1830191029900332, 0.6171774640088594, 0.2415227021040974, 0.5955620155038759, 0.5205024916943521, 0.6277893133997786, 0.6202214839424143, 0.6536738648947951, 0.577109634551495, 0.6086821705426356, 0.6265393133997785, 0.6240490033222592, 0.5344310631229235, 0.5053156146179403, 0.0, 0.6371691583610188, 0.6055024916943521, 0.6243120155038759, 0.484125138427464, 0.538265503875969, 0.6226536544850498, 0.6098823366555925, 0.614107142857143, 0.5262846068660021, 0.5924321705426356, 0.5807655038759689, 0.5376716500553711, 0.6390227021040975, 0.7088095238095238, 0.6385714285714286]}, {\"categories\": [\"0\", \"1\", \"2\", \"3\", \"4\", \"5\", \"6\", \"7\", \"8\", \"9\", \"10\", \"11\", \"12\", \"13\", \"14\", \"15\", \"16\", \"17\", \"18\", \"19\", \"20\", \"21\", \"22\", \"23\", \"24\", \"25\", \"26\", \"27\", \"28\", \"29\", \"30\", \"31\", \"32\", \"33\", \"34\", \"35\", \"36\", \"37\", \"38\", \"48\", \"49\"], \"mode\": \"lines\", \"name\": \"norm_macro_recall_max\", \"stepped\": true, \"type\": \"scatter\", \"data\": [0.5520418050941306, 0.6120251937984496, 0.6307488925802879, 0.6307488925802879, 0.6386572535991141, 0.6386572535991141, 0.6488192137320044, 0.6488192137320044, 0.6591666666666667, 0.6591666666666667, 0.6591666666666667, 0.6591666666666667, 0.6591666666666667, 0.6591666666666667, 0.6591666666666667, 0.6591666666666667, 0.6591666666666667, 0.6591666666666667, 0.6591666666666667, 0.6591666666666667, 0.6591666666666667, 0.6591666666666667, 0.6591666666666667, 0.6591666666666667, 0.6591666666666667, 0.6591666666666667, 0.6591666666666667, 0.6591666666666667, 0.6591666666666667, 0.6591666666666667, 0.6591666666666667, 0.6591666666666667, 0.6591666666666667, 0.6591666666666667, 0.6591666666666667, 0.6591666666666667, 0.6591666666666667, 0.6591666666666667, 0.6591666666666667, 0.7088095238095238, 0.7088095238095238]}], \"AUC_micro\": [{\"categories\": [\"0\", \"1\", \"2\", \"3\", \"4\", \"5\", \"6\", \"7\", \"8\", \"9\", \"10\", \"11\", \"12\", \"13\", \"14\", \"15\", \"16\", \"17\", \"18\", \"19\", \"20\", \"21\", \"22\", \"23\", \"24\", \"25\", \"26\", \"27\", \"28\", \"29\", \"30\", \"31\", \"32\", \"33\", \"34\", \"35\", \"36\", \"37\", \"38\", \"48\", \"49\"], \"mode\": \"markers\", \"name\": \"AUC_micro\", \"stepped\": false, \"type\": \"scatter\", \"data\": [0.8880105014523284, 0.8999905678444892, 0.9136638737272176, 0.8930807877685212, 0.9134126847329951, 0.8199568770149062, 0.9073538095694087, 0.8989929617925883, 0.9019074499664846, 0.9061448817389639, 0.9131562769319161, 0.803846723483035, 0.9158186664113123, 0.7812864279102429, 0.8817607488269654, 0.8762564716396948, 0.9041391681828339, 0.9025190398672157, 0.9035812346388331, 0.8786786044878546, 0.8939478119314372, 0.8967222701011842, 0.907773564429123, 0.8864027259089022, 0.8944535254875674, 0.6724179833381212, 0.9203780203645184, 0.9043063295987743, 0.908472517475821, 0.9004193399087107, 0.8880997637971209, 0.9131828657154714, 0.9078091863768394, 0.8944953078617255, 0.8896387053528679, 0.8994093491653101, 0.9044800983114685, 0.8903471703533468, 0.9024330971304539, 0.9148941555747072, 0.9058794407737241]}, {\"categories\": [\"0\", \"1\", \"2\", \"3\", \"4\", \"5\", \"6\", \"7\", \"8\", \"9\", \"10\", \"11\", \"12\", \"13\", \"14\", \"15\", \"16\", \"17\", \"18\", \"19\", \"20\", \"21\", \"22\", \"23\", \"24\", \"25\", \"26\", \"27\", \"28\", \"29\", \"30\", \"31\", \"32\", \"33\", \"34\", \"35\", \"36\", \"37\", \"38\", \"48\", \"49\"], \"mode\": \"lines\", \"name\": \"AUC_micro_max\", \"stepped\": true, \"type\": \"scatter\", \"data\": [0.8880105014523284, 0.8999905678444892, 0.9136638737272176, 0.9136638737272176, 0.9136638737272176, 0.9136638737272176, 0.9136638737272176, 0.9136638737272176, 0.9136638737272176, 0.9136638737272176, 0.9136638737272176, 0.9136638737272176, 0.9158186664113123, 0.9158186664113123, 0.9158186664113123, 0.9158186664113123, 0.9158186664113123, 0.9158186664113123, 0.9158186664113123, 0.9158186664113123, 0.9158186664113123, 0.9158186664113123, 0.9158186664113123, 0.9158186664113123, 0.9158186664113123, 0.9158186664113123, 0.9203780203645184, 0.9203780203645184, 0.9203780203645184, 0.9203780203645184, 0.9203780203645184, 0.9203780203645184, 0.9203780203645184, 0.9203780203645184, 0.9203780203645184, 0.9203780203645184, 0.9203780203645184, 0.9203780203645184, 0.9203780203645184, 0.9203780203645184, 0.9203780203645184]}], \"recall_score_weighted\": [{\"categories\": [\"0\", \"1\", \"2\", \"3\", \"4\", \"5\", \"6\", \"7\", \"8\", \"9\", \"10\", \"11\", \"12\", \"13\", \"14\", \"15\", \"16\", \"17\", \"18\", \"19\", \"20\", \"21\", \"22\", \"23\", \"24\", \"25\", \"26\", \"27\", \"28\", \"29\", \"30\", \"31\", \"32\", \"33\", \"34\", \"35\", \"36\", \"37\", \"38\", \"48\", \"49\"], \"mode\": \"markers\", \"name\": \"recall_score_weighted\", \"stepped\": false, \"type\": \"scatter\", \"data\": [0.8059887005649717, 0.8259322033898304, 0.8528248587570622, 0.8126553672316386, 0.8427118644067797, 0.7125423728813558, 0.8459887005649718, 0.8157627118644069, 0.8629943502824858, 0.8292655367231637, 0.8428248587570621, 0.7158192090395481, 0.8394350282485876, 0.70909604519774, 0.8260451977401131, 0.8093785310734465, 0.8429378531073446, 0.8429378531073446, 0.846271186440678, 0.8160451977401131, 0.8329943502824859, 0.8496045197740113, 0.8359322033898305, 0.8160451977401131, 0.8025423728813559, 0.67909604519774, 0.8461016949152542, 0.836045197740113, 0.8427683615819209, 0.8025423728813559, 0.8261581920903953, 0.8428248587570621, 0.8259322033898305, 0.8562146892655367, 0.8094915254237289, 0.8396045197740113, 0.836271186440678, 0.7991525423728815, 0.846271186440678, 0.8830508474576272, 0.8528813559322034]}, {\"categories\": [\"0\", \"1\", \"2\", \"3\", \"4\", \"5\", \"6\", \"7\", \"8\", \"9\", \"10\", \"11\", \"12\", \"13\", \"14\", \"15\", \"16\", \"17\", \"18\", \"19\", \"20\", \"21\", \"22\", \"23\", \"24\", \"25\", \"26\", \"27\", \"28\", \"29\", \"30\", \"31\", \"32\", \"33\", \"34\", \"35\", \"36\", \"37\", \"38\", \"48\", \"49\"], \"mode\": \"lines\", \"name\": \"recall_score_weighted_max\", \"stepped\": true, \"type\": \"scatter\", \"data\": [0.8059887005649717, 0.8259322033898304, 0.8528248587570622, 0.8528248587570622, 0.8528248587570622, 0.8528248587570622, 0.8528248587570622, 0.8528248587570622, 0.8629943502824858, 0.8629943502824858, 0.8629943502824858, 0.8629943502824858, 0.8629943502824858, 0.8629943502824858, 0.8629943502824858, 0.8629943502824858, 0.8629943502824858, 0.8629943502824858, 0.8629943502824858, 0.8629943502824858, 0.8629943502824858, 0.8629943502824858, 0.8629943502824858, 0.8629943502824858, 0.8629943502824858, 0.8629943502824858, 0.8629943502824858, 0.8629943502824858, 0.8629943502824858, 0.8629943502824858, 0.8629943502824858, 0.8629943502824858, 0.8629943502824858, 0.8629943502824858, 0.8629943502824858, 0.8629943502824858, 0.8629943502824858, 0.8629943502824858, 0.8629943502824858, 0.8830508474576272, 0.8830508474576272]}], \"f1_score_macro\": [{\"categories\": [\"0\", \"1\", \"2\", \"3\", \"4\", \"5\", \"6\", \"7\", \"8\", \"9\", \"10\", \"11\", \"12\", \"13\", \"14\", \"15\", \"16\", \"17\", \"18\", \"19\", \"20\", \"21\", \"22\", \"23\", \"24\", \"25\", \"26\", \"27\", \"28\", \"29\", \"30\", \"31\", \"32\", \"33\", \"34\", \"35\", \"36\", \"37\", \"38\", \"48\", \"49\"], \"mode\": \"markers\", \"name\": \"f1_score_macro\", \"stepped\": false, \"type\": \"scatter\", \"data\": [0.7682096405971308, 0.7972526241921125, 0.8215848121431456, 0.7688049265086339, 0.812236339191091, 0.5549876228224326, 0.8164205393064121, 0.7902694826105708, 0.8339218107830078, 0.7944087330780703, 0.8109008543245219, 0.5776833591480207, 0.8056514885030834, 0.6086669317272765, 0.7901074176456355, 0.7611013563473851, 0.8109772755518655, 0.8090536304759179, 0.8182329158586782, 0.777731957024298, 0.8017629707082936, 0.8154406377033243, 0.8047193590678777, 0.7695891912830867, 0.7538489296370823, 0.40276783177038933, 0.8154978835748568, 0.8008627271016635, 0.8114875978095073, 0.7515179486039563, 0.7796227094247274, 0.8100064698370375, 0.7940418392007761, 0.8208913563177334, 0.7627234031049226, 0.8029704956751786, 0.7976831614860475, 0.759148573198661, 0.8173279988657643, 0.8586808605175236, 0.8164172423597582]}, {\"categories\": [\"0\", \"1\", \"2\", \"3\", \"4\", \"5\", \"6\", \"7\", \"8\", \"9\", \"10\", \"11\", \"12\", \"13\", \"14\", \"15\", \"16\", \"17\", \"18\", \"19\", \"20\", \"21\", \"22\", \"23\", \"24\", \"25\", \"26\", \"27\", \"28\", \"29\", \"30\", \"31\", \"32\", \"33\", \"34\", \"35\", \"36\", \"37\", \"38\", \"48\", \"49\"], \"mode\": \"lines\", \"name\": \"f1_score_macro_max\", \"stepped\": true, \"type\": \"scatter\", \"data\": [0.7682096405971308, 0.7972526241921125, 0.8215848121431456, 0.8215848121431456, 0.8215848121431456, 0.8215848121431456, 0.8215848121431456, 0.8215848121431456, 0.8339218107830078, 0.8339218107830078, 0.8339218107830078, 0.8339218107830078, 0.8339218107830078, 0.8339218107830078, 0.8339218107830078, 0.8339218107830078, 0.8339218107830078, 0.8339218107830078, 0.8339218107830078, 0.8339218107830078, 0.8339218107830078, 0.8339218107830078, 0.8339218107830078, 0.8339218107830078, 0.8339218107830078, 0.8339218107830078, 0.8339218107830078, 0.8339218107830078, 0.8339218107830078, 0.8339218107830078, 0.8339218107830078, 0.8339218107830078, 0.8339218107830078, 0.8339218107830078, 0.8339218107830078, 0.8339218107830078, 0.8339218107830078, 0.8339218107830078, 0.8339218107830078, 0.8586808605175236, 0.8586808605175236]}], \"AUC_weighted\": [{\"categories\": [\"0\", \"1\", \"2\", \"3\", \"4\", \"5\", \"6\", \"7\", \"8\", \"9\", \"10\", \"11\", \"12\", \"13\", \"14\", \"15\", \"16\", \"17\", \"18\", \"19\", \"20\", \"21\", \"22\", \"23\", \"24\", \"25\", \"26\", \"27\", \"28\", \"29\", \"30\", \"31\", \"32\", \"33\", \"34\", \"35\", \"36\", \"37\", \"38\", \"48\", \"49\"], \"mode\": \"markers\", \"name\": \"AUC_weighted\", \"stepped\": false, \"type\": \"scatter\", \"data\": [0.8811331210778885, 0.8929591177556293, 0.9055516795865632, 0.8784855804724991, 0.9072712716869693, 0.8142469084533038, 0.9021489940937617, 0.9072668420081211, 0.8950868401624217, 0.9059417451088961, 0.911157784237726, 0.7747577288667405, 0.9113492294204504, 0.7394446982281285, 0.8716374123292727, 0.8592381875230715, 0.8979113602805462, 0.8972286360280546, 0.894921534699151, 0.8683248661867848, 0.8876433877814691, 0.8926243770764121, 0.903203442229605, 0.8939186277224067, 0.8927271594684386, 0.49074249031007755, 0.9176945828719084, 0.9007161314138058, 0.9031080426356588, 0.8956950212255445, 0.8774090762273902, 0.9076796096345514, 0.9027135474344776, 0.8917420173495756, 0.8808919112218531, 0.8882437707641195, 0.8937943198597269, 0.8892910898855666, 0.8942186000369141, 0.9134242109634553, 0.9154310861941675]}, {\"categories\": [\"0\", \"1\", \"2\", \"3\", \"4\", \"5\", \"6\", \"7\", \"8\", \"9\", \"10\", \"11\", \"12\", \"13\", \"14\", \"15\", \"16\", \"17\", \"18\", \"19\", \"20\", \"21\", \"22\", \"23\", \"24\", \"25\", \"26\", \"27\", \"28\", \"29\", \"30\", \"31\", \"32\", \"33\", \"34\", \"35\", \"36\", \"37\", \"38\", \"48\", \"49\"], \"mode\": \"lines\", \"name\": \"AUC_weighted_max\", \"stepped\": true, \"type\": \"scatter\", \"data\": [0.8811331210778885, 0.8929591177556293, 0.9055516795865632, 0.9055516795865632, 0.9072712716869693, 0.9072712716869693, 0.9072712716869693, 0.9072712716869693, 0.9072712716869693, 0.9072712716869693, 0.911157784237726, 0.911157784237726, 0.9113492294204504, 0.9113492294204504, 0.9113492294204504, 0.9113492294204504, 0.9113492294204504, 0.9113492294204504, 0.9113492294204504, 0.9113492294204504, 0.9113492294204504, 0.9113492294204504, 0.9113492294204504, 0.9113492294204504, 0.9113492294204504, 0.9113492294204504, 0.9176945828719084, 0.9176945828719084, 0.9176945828719084, 0.9176945828719084, 0.9176945828719084, 0.9176945828719084, 0.9176945828719084, 0.9176945828719084, 0.9176945828719084, 0.9176945828719084, 0.9176945828719084, 0.9176945828719084, 0.9176945828719084, 0.9176945828719084, 0.9176945828719084]}], \"accuracy\": [{\"categories\": [\"0\", \"1\", \"2\", \"3\", \"4\", \"5\", \"6\", \"7\", \"8\", \"9\", \"10\", \"11\", \"12\", \"13\", \"14\", \"15\", \"16\", \"17\", \"18\", \"19\", \"20\", \"21\", \"22\", \"23\", \"24\", \"25\", \"26\", \"27\", \"28\", \"29\", \"30\", \"31\", \"32\", \"33\", \"34\", \"35\", \"36\", \"37\", \"38\", \"48\", \"49\"], \"mode\": \"markers\", \"name\": \"accuracy\", \"stepped\": false, \"type\": \"scatter\", \"data\": [0.8059887005649717, 0.8259322033898304, 0.8528248587570622, 0.8126553672316386, 0.8427118644067797, 0.7125423728813558, 0.8459887005649718, 0.8157627118644069, 0.8629943502824858, 0.8292655367231637, 0.8428248587570621, 0.7158192090395481, 0.8394350282485876, 0.70909604519774, 0.8260451977401131, 0.8093785310734465, 0.8429378531073446, 0.8429378531073446, 0.846271186440678, 0.8160451977401131, 0.8329943502824859, 0.8496045197740113, 0.8359322033898305, 0.8160451977401131, 0.8025423728813559, 0.67909604519774, 0.8461016949152542, 0.836045197740113, 0.8427683615819209, 0.8025423728813559, 0.8261581920903953, 0.8428248587570621, 0.8259322033898305, 0.8562146892655367, 0.8094915254237289, 0.8396045197740113, 0.836271186440678, 0.7991525423728815, 0.846271186440678, 0.8830508474576272, 0.8528813559322034]}, {\"categories\": [\"0\", \"1\", \"2\", \"3\", \"4\", \"5\", \"6\", \"7\", \"8\", \"9\", \"10\", \"11\", \"12\", \"13\", \"14\", \"15\", \"16\", \"17\", \"18\", \"19\", \"20\", \"21\", \"22\", \"23\", \"24\", \"25\", \"26\", \"27\", \"28\", \"29\", \"30\", \"31\", \"32\", \"33\", \"34\", \"35\", \"36\", \"37\", \"38\", \"48\", \"49\"], \"mode\": \"lines\", \"name\": \"accuracy_max\", \"stepped\": true, \"type\": \"scatter\", \"data\": [0.8059887005649717, 0.8259322033898304, 0.8528248587570622, 0.8528248587570622, 0.8528248587570622, 0.8528248587570622, 0.8528248587570622, 0.8528248587570622, 0.8629943502824858, 0.8629943502824858, 0.8629943502824858, 0.8629943502824858, 0.8629943502824858, 0.8629943502824858, 0.8629943502824858, 0.8629943502824858, 0.8629943502824858, 0.8629943502824858, 0.8629943502824858, 0.8629943502824858, 0.8629943502824858, 0.8629943502824858, 0.8629943502824858, 0.8629943502824858, 0.8629943502824858, 0.8629943502824858, 0.8629943502824858, 0.8629943502824858, 0.8629943502824858, 0.8629943502824858, 0.8629943502824858, 0.8629943502824858, 0.8629943502824858, 0.8629943502824858, 0.8629943502824858, 0.8629943502824858, 0.8629943502824858, 0.8629943502824858, 0.8629943502824858, 0.8830508474576272, 0.8830508474576272]}], \"precision_score_weighted\": [{\"categories\": [\"0\", \"1\", \"2\", \"3\", \"4\", \"5\", \"6\", \"7\", \"8\", \"9\", \"10\", \"11\", \"12\", \"13\", \"14\", \"15\", \"16\", \"17\", \"18\", \"19\", \"20\", \"21\", \"22\", \"23\", \"24\", \"25\", \"26\", \"27\", \"28\", \"29\", \"30\", \"31\", \"32\", \"33\", \"34\", \"35\", \"36\", \"37\", \"38\", \"48\", \"49\"], \"mode\": \"markers\", \"name\": \"precision_score_weighted\", \"stepped\": false, \"type\": \"scatter\", \"data\": [0.8237683758533973, 0.8403871377947292, 0.859612534992125, 0.82318476774709, 0.851086491270076, 0.7580417339828915, 0.8585742816505528, 0.8416126076109535, 0.8805657812656513, 0.8398171743434103, 0.8531594658786995, 0.723570551589922, 0.8526974616119946, 0.717235494505571, 0.8454689134209824, 0.8196810460480322, 0.8587403824375084, 0.8601811995065465, 0.8646464804683163, 0.8407374045536857, 0.8531774663897151, 0.866952653669206, 0.8505201170953148, 0.8315673124386462, 0.8180345629300609, 0.4689005075169971, 0.857958558859796, 0.8474662566886314, 0.852659999448606, 0.8149716072122788, 0.8362600663617613, 0.8548071103817328, 0.8432134736147583, 0.8718026393713962, 0.8286302522330823, 0.8506893418790439, 0.8470722340066169, 0.8216294679503889, 0.8539375780964423, 0.8982338251214614, 0.8808956495005257]}, {\"categories\": [\"0\", \"1\", \"2\", \"3\", \"4\", \"5\", \"6\", \"7\", \"8\", \"9\", \"10\", \"11\", \"12\", \"13\", \"14\", \"15\", \"16\", \"17\", \"18\", \"19\", \"20\", \"21\", \"22\", \"23\", \"24\", \"25\", \"26\", \"27\", \"28\", \"29\", \"30\", \"31\", \"32\", \"33\", \"34\", \"35\", \"36\", \"37\", \"38\", \"48\", \"49\"], \"mode\": \"lines\", \"name\": \"precision_score_weighted_max\", \"stepped\": true, \"type\": \"scatter\", \"data\": [0.8237683758533973, 0.8403871377947292, 0.859612534992125, 0.859612534992125, 0.859612534992125, 0.859612534992125, 0.859612534992125, 0.859612534992125, 0.8805657812656513, 0.8805657812656513, 0.8805657812656513, 0.8805657812656513, 0.8805657812656513, 0.8805657812656513, 0.8805657812656513, 0.8805657812656513, 0.8805657812656513, 0.8805657812656513, 0.8805657812656513, 0.8805657812656513, 0.8805657812656513, 0.8805657812656513, 0.8805657812656513, 0.8805657812656513, 0.8805657812656513, 0.8805657812656513, 0.8805657812656513, 0.8805657812656513, 0.8805657812656513, 0.8805657812656513, 0.8805657812656513, 0.8805657812656513, 0.8805657812656513, 0.8805657812656513, 0.8805657812656513, 0.8805657812656513, 0.8805657812656513, 0.8805657812656513, 0.8805657812656513, 0.8982338251214614, 0.8982338251214614]}], \"balanced_accuracy\": [{\"categories\": [\"0\", \"1\", \"2\", \"3\", \"4\", \"5\", \"6\", \"7\", \"8\", \"9\", \"10\", \"11\", \"12\", \"13\", \"14\", \"15\", \"16\", \"17\", \"18\", \"19\", \"20\", \"21\", \"22\", \"23\", \"24\", \"25\", \"26\", \"27\", \"28\", \"29\", \"30\", \"31\", \"32\", \"33\", \"34\", \"35\", \"36\", \"37\", \"38\", \"48\", \"49\"], \"mode\": \"markers\", \"name\": \"balanced_accuracy\", \"stepped\": false, \"type\": \"scatter\", \"data\": [0.7760209025470652, 0.8060125968992248, 0.815374446290144, 0.7725685215946844, 0.8193286267995571, 0.5827934662236988, 0.8244096068660023, 0.813857281284607, 0.8295833333333335, 0.7988185215946844, 0.8079934939091917, 0.5915095514950166, 0.8085887320044296, 0.6207613510520488, 0.797781007751938, 0.7602512458471761, 0.8138946566998893, 0.8101107419712072, 0.8268369324473974, 0.7885548172757475, 0.8043410852713178, 0.8132696566998892, 0.8120245016611296, 0.7672155315614617, 0.75265780730897, 0.5, 0.8185845791805093, 0.8027512458471762, 0.812156007751938, 0.7420625692137319, 0.7691327519379845, 0.811326827242525, 0.8049411683277963, 0.8070535714285715, 0.7631423034330012, 0.7962160852713177, 0.7903827519379845, 0.7688358250276854, 0.8195113510520485, 0.8544047619047619, 0.8192857142857143]}, {\"categories\": [\"0\", \"1\", \"2\", \"3\", \"4\", \"5\", \"6\", \"7\", \"8\", \"9\", \"10\", \"11\", \"12\", \"13\", \"14\", \"15\", \"16\", \"17\", \"18\", \"19\", \"20\", \"21\", \"22\", \"23\", \"24\", \"25\", \"26\", \"27\", \"28\", \"29\", \"30\", \"31\", \"32\", \"33\", \"34\", \"35\", \"36\", \"37\", \"38\", \"48\", \"49\"], \"mode\": \"lines\", \"name\": \"balanced_accuracy_max\", \"stepped\": true, \"type\": \"scatter\", \"data\": [0.7760209025470652, 0.8060125968992248, 0.815374446290144, 0.815374446290144, 0.8193286267995571, 0.8193286267995571, 0.8244096068660023, 0.8244096068660023, 0.8295833333333335, 0.8295833333333335, 0.8295833333333335, 0.8295833333333335, 0.8295833333333335, 0.8295833333333335, 0.8295833333333335, 0.8295833333333335, 0.8295833333333335, 0.8295833333333335, 0.8295833333333335, 0.8295833333333335, 0.8295833333333335, 0.8295833333333335, 0.8295833333333335, 0.8295833333333335, 0.8295833333333335, 0.8295833333333335, 0.8295833333333335, 0.8295833333333335, 0.8295833333333335, 0.8295833333333335, 0.8295833333333335, 0.8295833333333335, 0.8295833333333335, 0.8295833333333335, 0.8295833333333335, 0.8295833333333335, 0.8295833333333335, 0.8295833333333335, 0.8295833333333335, 0.8544047619047619, 0.8544047619047619]}], \"log_loss\": [{\"categories\": [\"0\", \"1\", \"2\", \"3\", \"4\", \"5\", \"6\", \"7\", \"8\", \"9\", \"10\", \"11\", \"12\", \"13\", \"14\", \"15\", \"16\", \"17\", \"18\", \"19\", \"20\", \"21\", \"22\", \"23\", \"24\", \"25\", \"26\", \"27\", \"28\", \"29\", \"30\", \"31\", \"32\", \"33\", \"34\", \"35\", \"36\", \"37\", \"38\", \"48\", \"49\"], \"mode\": \"markers\", \"name\": \"log_loss\", \"stepped\": false, \"type\": \"scatter\", \"data\": [0.5282491261622873, 0.43217688137359717, 0.38093426367580696, 0.4203753648081337, 0.37784081571177874, 0.6309219991428396, 0.39592169319141923, 0.40508745394487844, 0.41306835639383904, 0.4071024148328865, 0.40815157988102807, 0.7562062232126567, 0.37655664044101683, 0.5884970341902729, 0.4316132306170273, 0.4899611430866921, 0.4005910240067803, 0.4071431621840741, 0.39668155380939407, 0.44407555249450353, 0.41472333246893617, 0.42080320366750945, 0.38626091602586216, 0.4727004574854833, 0.43546851362189176, 0.6632875723288885, 0.3681921340382043, 0.4270372037872674, 0.40071258295741785, 0.41822263984135405, 0.4352064980788676, 0.3984211256777107, 0.3892183013440091, 0.4347730958692576, 0.41386258387924924, 0.40554826216683126, 0.39441189316379943, 0.49604298399075, 0.391190728215817, 0.38293376457427925, 0.39973653593039543]}, {\"categories\": [\"0\", \"1\", \"2\", \"3\", \"4\", \"5\", \"6\", \"7\", \"8\", \"9\", \"10\", \"11\", \"12\", \"13\", \"14\", \"15\", \"16\", \"17\", \"18\", \"19\", \"20\", \"21\", \"22\", \"23\", \"24\", \"25\", \"26\", \"27\", \"28\", \"29\", \"30\", \"31\", \"32\", \"33\", \"34\", \"35\", \"36\", \"37\", \"38\", \"48\", \"49\"], \"mode\": \"lines\", \"name\": \"log_loss_min\", \"stepped\": true, \"type\": \"scatter\", \"data\": [0.5282491261622873, 0.43217688137359717, 0.38093426367580696, 0.38093426367580696, 0.37784081571177874, 0.37784081571177874, 0.37784081571177874, 0.37784081571177874, 0.37784081571177874, 0.37784081571177874, 0.37784081571177874, 0.37784081571177874, 0.37655664044101683, 0.37655664044101683, 0.37655664044101683, 0.37655664044101683, 0.37655664044101683, 0.37655664044101683, 0.37655664044101683, 0.37655664044101683, 0.37655664044101683, 0.37655664044101683, 0.37655664044101683, 0.37655664044101683, 0.37655664044101683, 0.37655664044101683, 0.3681921340382043, 0.3681921340382043, 0.3681921340382043, 0.3681921340382043, 0.3681921340382043, 0.3681921340382043, 0.3681921340382043, 0.3681921340382043, 0.3681921340382043, 0.3681921340382043, 0.3681921340382043, 0.3681921340382043, 0.3681921340382043, 0.3681921340382043, 0.3681921340382043]}], \"recall_score_macro\": [{\"categories\": [\"0\", \"1\", \"2\", \"3\", \"4\", \"5\", \"6\", \"7\", \"8\", \"9\", \"10\", \"11\", \"12\", \"13\", \"14\", \"15\", \"16\", \"17\", \"18\", \"19\", \"20\", \"21\", \"22\", \"23\", \"24\", \"25\", \"26\", \"27\", \"28\", \"29\", \"30\", \"31\", \"32\", \"33\", \"34\", \"35\", \"36\", \"37\", \"38\", \"48\", \"49\"], \"mode\": \"markers\", \"name\": \"recall_score_macro\", \"stepped\": false, \"type\": \"scatter\", \"data\": [0.7760209025470652, 0.8060125968992248, 0.815374446290144, 0.7725685215946844, 0.8193286267995571, 0.5827934662236988, 0.8244096068660023, 0.813857281284607, 0.8295833333333335, 0.7988185215946844, 0.8079934939091917, 0.5915095514950166, 0.8085887320044296, 0.6207613510520488, 0.797781007751938, 0.7602512458471761, 0.8138946566998893, 0.8101107419712072, 0.8268369324473974, 0.7885548172757475, 0.8043410852713178, 0.8132696566998892, 0.8120245016611296, 0.7672155315614617, 0.75265780730897, 0.5, 0.8185845791805093, 0.8027512458471762, 0.812156007751938, 0.7420625692137319, 0.7691327519379845, 0.811326827242525, 0.8049411683277963, 0.8070535714285715, 0.7631423034330012, 0.7962160852713177, 0.7903827519379845, 0.7688358250276854, 0.8195113510520485, 0.8544047619047619, 0.8192857142857143]}, {\"categories\": [\"0\", \"1\", \"2\", \"3\", \"4\", \"5\", \"6\", \"7\", \"8\", \"9\", \"10\", \"11\", \"12\", \"13\", \"14\", \"15\", \"16\", \"17\", \"18\", \"19\", \"20\", \"21\", \"22\", \"23\", \"24\", \"25\", \"26\", \"27\", \"28\", \"29\", \"30\", \"31\", \"32\", \"33\", \"34\", \"35\", \"36\", \"37\", \"38\", \"48\", \"49\"], \"mode\": \"lines\", \"name\": \"recall_score_macro_max\", \"stepped\": true, \"type\": \"scatter\", \"data\": [0.7760209025470652, 0.8060125968992248, 0.815374446290144, 0.815374446290144, 0.8193286267995571, 0.8193286267995571, 0.8244096068660023, 0.8244096068660023, 0.8295833333333335, 0.8295833333333335, 0.8295833333333335, 0.8295833333333335, 0.8295833333333335, 0.8295833333333335, 0.8295833333333335, 0.8295833333333335, 0.8295833333333335, 0.8295833333333335, 0.8295833333333335, 0.8295833333333335, 0.8295833333333335, 0.8295833333333335, 0.8295833333333335, 0.8295833333333335, 0.8295833333333335, 0.8295833333333335, 0.8295833333333335, 0.8295833333333335, 0.8295833333333335, 0.8295833333333335, 0.8295833333333335, 0.8295833333333335, 0.8295833333333335, 0.8295833333333335, 0.8295833333333335, 0.8295833333333335, 0.8295833333333335, 0.8295833333333335, 0.8295833333333335, 0.8544047619047619, 0.8544047619047619]}], \"average_precision_score_weighted\": [{\"categories\": [\"0\", \"1\", \"2\", \"3\", \"4\", \"5\", \"6\", \"7\", \"8\", \"9\", \"10\", \"11\", \"12\", \"13\", \"14\", \"15\", \"16\", \"17\", \"18\", \"19\", \"20\", \"21\", \"22\", \"23\", \"24\", \"25\", \"26\", \"27\", \"28\", \"29\", \"30\", \"31\", \"32\", \"33\", \"34\", \"35\", \"36\", \"37\", \"38\", \"48\", \"49\"], \"mode\": \"markers\", \"name\": \"average_precision_score_weighted\", \"stepped\": false, \"type\": \"scatter\", \"data\": [0.8955370396295249, 0.9103506263314479, 0.9149313961033861, 0.8916995306907116, 0.9176938463703704, 0.8408830538417789, 0.9145985006459645, 0.9197019612078572, 0.9058588181546267, 0.9153874218213979, 0.9237728626895366, 0.8043126761427167, 0.9257844645383504, 0.7675970413800848, 0.8936086622860687, 0.8720059756545379, 0.9042876098201482, 0.9128586650400429, 0.907549263035289, 0.8873575800392011, 0.9027199794815131, 0.9049553302075843, 0.9139653737579273, 0.9058607560878091, 0.9052300829814242, 0.5844663018297043, 0.9299340958651838, 0.9150735346975256, 0.9169115301999533, 0.910192270395133, 0.8934226427728971, 0.9201580982439046, 0.908326058818453, 0.906188888417991, 0.8969319107321873, 0.904046471678396, 0.9075564358538228, 0.9027827245208762, 0.9054545565188372, 0.9205583846056362, 0.9217968476235668]}, {\"categories\": [\"0\", \"1\", \"2\", \"3\", \"4\", \"5\", \"6\", \"7\", \"8\", \"9\", \"10\", \"11\", \"12\", \"13\", \"14\", \"15\", \"16\", \"17\", \"18\", \"19\", \"20\", \"21\", \"22\", \"23\", \"24\", \"25\", \"26\", \"27\", \"28\", \"29\", \"30\", \"31\", \"32\", \"33\", \"34\", \"35\", \"36\", \"37\", \"38\", \"48\", \"49\"], \"mode\": \"lines\", \"name\": \"average_precision_score_weighted_max\", \"stepped\": true, \"type\": \"scatter\", \"data\": [0.8955370396295249, 0.9103506263314479, 0.9149313961033861, 0.9149313961033861, 0.9176938463703704, 0.9176938463703704, 0.9176938463703704, 0.9197019612078572, 0.9197019612078572, 0.9197019612078572, 0.9237728626895366, 0.9237728626895366, 0.9257844645383504, 0.9257844645383504, 0.9257844645383504, 0.9257844645383504, 0.9257844645383504, 0.9257844645383504, 0.9257844645383504, 0.9257844645383504, 0.9257844645383504, 0.9257844645383504, 0.9257844645383504, 0.9257844645383504, 0.9257844645383504, 0.9257844645383504, 0.9299340958651838, 0.9299340958651838, 0.9299340958651838, 0.9299340958651838, 0.9299340958651838, 0.9299340958651838, 0.9299340958651838, 0.9299340958651838, 0.9299340958651838, 0.9299340958651838, 0.9299340958651838, 0.9299340958651838, 0.9299340958651838, 0.9299340958651838, 0.9299340958651838]}], \"AUC_macro\": [{\"categories\": [\"0\", \"1\", \"2\", \"3\", \"4\", \"5\", \"6\", \"7\", \"8\", \"9\", \"10\", \"11\", \"12\", \"13\", \"14\", \"15\", \"16\", \"17\", \"18\", \"19\", \"20\", \"21\", \"22\", \"23\", \"24\", \"25\", \"26\", \"27\", \"28\", \"29\", \"30\", \"31\", \"32\", \"33\", \"34\", \"35\", \"36\", \"37\", \"38\", \"48\", \"49\"], \"mode\": \"markers\", \"name\": \"AUC_macro\", \"stepped\": false, \"type\": \"scatter\", \"data\": [0.8811331210778885, 0.8929591177556295, 0.9055516795865632, 0.8784855804724991, 0.9072712716869693, 0.8142469084533038, 0.9021489940937617, 0.9072668420081211, 0.8950868401624217, 0.9059417451088961, 0.911157784237726, 0.7747577288667405, 0.9113492294204504, 0.7394446982281285, 0.8716374123292727, 0.8592381875230715, 0.8979113602805462, 0.8972286360280546, 0.894921534699151, 0.8683248661867848, 0.8876433877814691, 0.8926243770764121, 0.903203442229605, 0.8939186277224069, 0.8927271594684386, 0.49074249031007755, 0.9176945828719084, 0.9007161314138058, 0.9031080426356588, 0.8956950212255445, 0.8774090762273901, 0.9076796096345516, 0.9027135474344778, 0.8917420173495756, 0.8808919112218531, 0.8882437707641195, 0.8937943198597269, 0.8892910898855666, 0.8942186000369141, 0.9134242109634553, 0.9154310861941675]}, {\"categories\": [\"0\", \"1\", \"2\", \"3\", \"4\", \"5\", \"6\", \"7\", \"8\", \"9\", \"10\", \"11\", \"12\", \"13\", \"14\", \"15\", \"16\", \"17\", \"18\", \"19\", \"20\", \"21\", \"22\", \"23\", \"24\", \"25\", \"26\", \"27\", \"28\", \"29\", \"30\", \"31\", \"32\", \"33\", \"34\", \"35\", \"36\", \"37\", \"38\", \"48\", \"49\"], \"mode\": \"lines\", \"name\": \"AUC_macro_max\", \"stepped\": true, \"type\": \"scatter\", \"data\": [0.8811331210778885, 0.8929591177556295, 0.9055516795865632, 0.9055516795865632, 0.9072712716869693, 0.9072712716869693, 0.9072712716869693, 0.9072712716869693, 0.9072712716869693, 0.9072712716869693, 0.911157784237726, 0.911157784237726, 0.9113492294204504, 0.9113492294204504, 0.9113492294204504, 0.9113492294204504, 0.9113492294204504, 0.9113492294204504, 0.9113492294204504, 0.9113492294204504, 0.9113492294204504, 0.9113492294204504, 0.9113492294204504, 0.9113492294204504, 0.9113492294204504, 0.9113492294204504, 0.9176945828719084, 0.9176945828719084, 0.9176945828719084, 0.9176945828719084, 0.9176945828719084, 0.9176945828719084, 0.9176945828719084, 0.9176945828719084, 0.9176945828719084, 0.9176945828719084, 0.9176945828719084, 0.9176945828719084, 0.9176945828719084, 0.9176945828719084, 0.9176945828719084]}]}, \"metricName\": null, \"primaryMetricName\": \"accuracy\", \"showLegend\": false}, \"run_metrics\": [{\"name\": \"experiment_status\", \"run_id\": \"AutoML_fffb52ea-e670-4e3b-9ff4-3b6764017b23\", \"categories\": [0, 1, 2, 3, 4, 5, 6, 7, 8, 9, 10, 11, 12, 13], \"series\": [{\"data\": [\"DatasetEvaluation\", \"FeaturesGeneration\", \"DatasetFeaturization\", \"DatasetFeaturizationCompleted\", \"DatasetCrossValidationSplit\", \"ModelSelection\", \"BestRunExplainModel\", \"ModelExplanationDataSetSetup\", \"PickSurrogateModel\", \"EngineeredFeatureExplanations\", \"EngineeredFeatureExplanations\", \"RawFeaturesExplanations\", \"RawFeaturesExplanations\", \"BestRunExplainModel\"]}]}, {\"name\": \"experiment_status_description\", \"run_id\": \"AutoML_fffb52ea-e670-4e3b-9ff4-3b6764017b23\", \"categories\": [0, 1, 2, 3, 4, 5, 6, 7, 8, 9, 10, 11, 12, 13], \"series\": [{\"data\": [\"Gathering dataset statistics.\", \"Generating features for the dataset.\", \"Beginning to fit featurizers and featurize the dataset.\", \"Completed fit featurizers and featurizing the dataset.\", \"Generating individually featurized CV splits.\", \"Beginning model selection.\", \"Best run model explanations started\", \"Model explanations data setup completed\", \"Choosing LightGBM as the surrogate model for explanations\", \"Computation of engineered features started\", \"Computation of engineered features completed\", \"Computation of raw features started\", \"Computation of raw features completed\", \"Best run model explanations completed\"]}]}, {\"name\": \"norm_macro_recall\", \"run_id\": \"AutoML_fffb52ea-e670-4e3b-9ff4-3b6764017b23\", \"categories\": [0], \"series\": [{\"data\": [0.7088095238095238]}]}, {\"name\": \"f1_score_micro\", \"run_id\": \"AutoML_fffb52ea-e670-4e3b-9ff4-3b6764017b23\", \"categories\": [0], \"series\": [{\"data\": [0.8830508474576272]}]}, {\"name\": \"AUC_micro\", \"run_id\": \"AutoML_fffb52ea-e670-4e3b-9ff4-3b6764017b23\", \"categories\": [0], \"series\": [{\"data\": [0.9148941555747072]}]}, {\"name\": \"AUC_weighted\", \"run_id\": \"AutoML_fffb52ea-e670-4e3b-9ff4-3b6764017b23\", \"categories\": [0], \"series\": [{\"data\": [0.9134242109634553]}]}, {\"name\": \"weighted_accuracy\", \"run_id\": \"AutoML_fffb52ea-e670-4e3b-9ff4-3b6764017b23\", \"categories\": [0], \"series\": [{\"data\": [0.9024080729594932]}]}, {\"name\": \"matthews_correlation\", \"run_id\": \"AutoML_fffb52ea-e670-4e3b-9ff4-3b6764017b23\", \"categories\": [0], \"series\": [{\"data\": [0.7404775256390159]}]}, {\"name\": \"balanced_accuracy\", \"run_id\": \"AutoML_fffb52ea-e670-4e3b-9ff4-3b6764017b23\", \"categories\": [0], \"series\": [{\"data\": [0.8544047619047619]}]}, {\"name\": \"precision_score_micro\", \"run_id\": \"AutoML_fffb52ea-e670-4e3b-9ff4-3b6764017b23\", \"categories\": [0], \"series\": [{\"data\": [0.8830508474576272]}]}, {\"name\": \"recall_score_macro\", \"run_id\": \"AutoML_fffb52ea-e670-4e3b-9ff4-3b6764017b23\", \"categories\": [0], \"series\": [{\"data\": [0.8544047619047619]}]}, {\"name\": \"average_precision_score_weighted\", \"run_id\": \"AutoML_fffb52ea-e670-4e3b-9ff4-3b6764017b23\", \"categories\": [0], \"series\": [{\"data\": [0.9205583846056362]}]}, {\"name\": \"recall_score_micro\", \"run_id\": \"AutoML_fffb52ea-e670-4e3b-9ff4-3b6764017b23\", \"categories\": [0], \"series\": [{\"data\": [0.8830508474576272]}]}, {\"name\": \"AUC_macro\", \"run_id\": \"AutoML_fffb52ea-e670-4e3b-9ff4-3b6764017b23\", \"categories\": [0], \"series\": [{\"data\": [0.9134242109634553]}]}, {\"name\": \"accuracy\", \"run_id\": \"AutoML_fffb52ea-e670-4e3b-9ff4-3b6764017b23\", \"categories\": [0], \"series\": [{\"data\": [0.8830508474576272]}]}, {\"name\": \"precision_score_macro\", \"run_id\": \"AutoML_fffb52ea-e670-4e3b-9ff4-3b6764017b23\", \"categories\": [0], \"series\": [{\"data\": [0.888778886518453]}]}, {\"name\": \"f1_score_macro\", \"run_id\": \"AutoML_fffb52ea-e670-4e3b-9ff4-3b6764017b23\", \"categories\": [0], \"series\": [{\"data\": [0.8586808605175236]}]}, {\"name\": \"f1_score_weighted\", \"run_id\": \"AutoML_fffb52ea-e670-4e3b-9ff4-3b6764017b23\", \"categories\": [0], \"series\": [{\"data\": [0.87932643160193]}]}, {\"name\": \"average_precision_score_macro\", \"run_id\": \"AutoML_fffb52ea-e670-4e3b-9ff4-3b6764017b23\", \"categories\": [0], \"series\": [{\"data\": [0.8928971741502736]}]}, {\"name\": \"average_precision_score_micro\", \"run_id\": \"AutoML_fffb52ea-e670-4e3b-9ff4-3b6764017b23\", \"categories\": [0], \"series\": [{\"data\": [0.9167668288640412]}]}, {\"name\": \"log_loss\", \"run_id\": \"AutoML_fffb52ea-e670-4e3b-9ff4-3b6764017b23\", \"categories\": [0], \"series\": [{\"data\": [0.38293376457427925]}]}, {\"name\": \"recall_score_weighted\", \"run_id\": \"AutoML_fffb52ea-e670-4e3b-9ff4-3b6764017b23\", \"categories\": [0], \"series\": [{\"data\": [0.8830508474576272]}]}, {\"name\": \"precision_score_weighted\", \"run_id\": \"AutoML_fffb52ea-e670-4e3b-9ff4-3b6764017b23\", \"categories\": [0], \"series\": [{\"data\": [0.8982338251214614]}]}], \"run_logs\": \"\\nRun is completed.\", \"graph\": {}, \"widget_settings\": {\"childWidgetDisplay\": \"popup\", \"send_telemetry\": false, \"log_level\": \"INFO\", \"sdk_version\": \"1.24.0\"}, \"loading\": false}"
     },
     "metadata": {},
     "output_type": "display_data"
    },
    {
     "name": "stdout",
     "output_type": "stream",
     "text": [
      "\n",
      "\n",
      "****************************************************************************************************\n",
      "DATA GUARDRAILS: \n",
      "\n",
      "TYPE:         Class balancing detection\n",
      "STATUS:       PASSED\n",
      "DESCRIPTION:  Your inputs were analyzed, and all classes are balanced in your training data.\n",
      "              Learn more about imbalanced data: https://aka.ms/AutomatedMLImbalancedData\n",
      "\n",
      "****************************************************************************************************\n",
      "\n",
      "TYPE:         Missing feature values imputation\n",
      "STATUS:       PASSED\n",
      "DESCRIPTION:  No feature missing values were detected in the training data.\n",
      "              Learn more about missing value imputation: https://aka.ms/AutomatedMLFeaturization\n",
      "\n",
      "****************************************************************************************************\n",
      "\n",
      "TYPE:         High cardinality feature detection\n",
      "STATUS:       PASSED\n",
      "DESCRIPTION:  Your inputs were analyzed, and no high cardinality features were detected.\n",
      "              Learn more about high cardinality feature handling: https://aka.ms/AutomatedMLFeaturization\n",
      "\n",
      "****************************************************************************************************\n",
      "\n",
      "****************************************************************************************************\n",
      "ITERATION: The iteration being evaluated.\n",
      "PIPELINE: A summary description of the pipeline being evaluated.\n",
      "DURATION: Time taken for the current iteration.\n",
      "METRIC: The result of computing score on the fitted pipeline.\n",
      "BEST: The best observed score thus far.\n",
      "****************************************************************************************************\n",
      "\n",
      " ITERATION   PIPELINE                                       DURATION      METRIC      BEST\n",
      "         0   MaxAbsScaler LightGBM                          0:00:54       0.8060    0.8060\n",
      "         1   MaxAbsScaler XGBoostClassifier                 0:00:58       0.8259    0.8259\n",
      "         2   MinMaxScaler RandomForest                      0:00:46       0.8528    0.8528\n",
      "         3   MinMaxScaler RandomForest                      0:00:47       0.8127    0.8528\n",
      "         4   MinMaxScaler RandomForest                      0:03:26       0.8427    0.8528\n",
      "         5   StandardScalerWrapper KNN                      0:03:25       0.7125    0.8528\n",
      "         6   StandardScalerWrapper LightGBM                 0:00:47       0.8460    0.8528\n",
      "         7   MinMaxScaler RandomForest                      0:00:59       0.8158    0.8528\n",
      "         8   SparseNormalizer XGBoostClassifier             0:00:45       0.8630    0.8630\n",
      "         9   StandardScalerWrapper XGBoostClassifier        0:00:52       0.8293    0.8630\n",
      "        10   MaxAbsScaler LightGBM                          0:00:46       0.8428    0.8630\n",
      "        11   StandardScalerWrapper KNN                      0:00:55       0.7158    0.8630\n",
      "        12   MaxAbsScaler GradientBoosting                  0:00:50       0.8394    0.8630\n",
      "        13   MinMaxScaler SVM                               0:00:47       0.7091    0.8630\n",
      "        14   MinMaxScaler LogisticRegression                0:01:00       0.8260    0.8630\n",
      "        15   SparseNormalizer XGBoostClassifier             0:00:51       0.8094    0.8630\n",
      "        16   SparseNormalizer XGBoostClassifier             0:00:45       0.8429    0.8630\n",
      "        17   SparseNormalizer XGBoostClassifier             0:00:49       0.8429    0.8630\n",
      "        18   SparseNormalizer XGBoostClassifier             0:00:54       0.8463    0.8630\n",
      "        19   StandardScalerWrapper LogisticRegression       0:00:49       0.8160    0.8630\n",
      "        20   SparseNormalizer LightGBM                      0:00:49       0.8330    0.8630\n",
      "        21   SparseNormalizer XGBoostClassifier             0:01:00       0.8496    0.8630\n",
      "        22   StandardScalerWrapper LightGBM                 0:00:45       0.8359    0.8630\n",
      "        23   StandardScalerWrapper LightGBM                 0:00:48       0.8160    0.8630\n",
      "        24   StandardScalerWrapper LightGBM                 0:00:52       0.8025    0.8630\n",
      "        25   PCA XGBoostClassifier                          0:00:49       0.6791    0.8630\n",
      "        26   StandardScalerWrapper GradientBoosting         0:00:55       0.8461    0.8630\n",
      "        27   MaxAbsScaler LightGBM                          0:00:50       0.8360    0.8630\n",
      "        28   MaxAbsScaler RandomForest                      0:00:52       0.8428    0.8630\n",
      "        29   MaxAbsScaler LightGBM                          0:00:45       0.8025    0.8630\n",
      "        30   SparseNormalizer XGBoostClassifier             0:00:53       0.8262    0.8630\n",
      "        31   RobustScaler RandomForest                      0:00:48       0.8428    0.8630\n",
      "        32   StandardScalerWrapper RandomForest             0:00:47       0.8259    0.8630\n",
      "        33   MaxAbsScaler ExtremeRandomTrees                0:00:54       0.8562    0.8630\n",
      "        34   SparseNormalizer XGBoostClassifier             0:00:46       0.8095    0.8630\n",
      "        35   SparseNormalizer XGBoostClassifier             0:00:47       0.8396    0.8630\n",
      "        36   SparseNormalizer RandomForest                  0:00:52       0.8363    0.8630\n",
      "        37   StandardScalerWrapper XGBoostClassifier        0:00:45       0.7992    0.8630\n",
      "        38   SparseNormalizer XGBoostClassifier             0:00:49       0.8463    0.8630\n",
      "        39                                                  0:00:18          nan    0.8630\n",
      "        40                                                  0:02:12          nan    0.8630\n",
      "        41                                                  0:01:28          nan    0.8630\n",
      "        42                                                  0:01:24          nan    0.8630\n",
      "        43                                                  0:01:16          nan    0.8630\n",
      "        44                                                  0:01:12          nan    0.8630\n",
      "        45                                                  0:00:27          nan    0.8630\n",
      "        46                                                  0:00:18          nan    0.8630\n",
      "        47                                                  0:00:16          nan    0.8630\n",
      "        48    VotingEnsemble                                0:01:10       0.8831    0.8831\n",
      "        49    StackEnsemble                                 0:01:11       0.8529    0.8831\n"
     ]
    },
    {
     "data": {
      "text/plain": [
       "{'runId': 'AutoML_fffb52ea-e670-4e3b-9ff4-3b6764017b23',\n",
       " 'target': 'project-compute',\n",
       " 'status': 'Completed',\n",
       " 'startTimeUtc': '2021-03-20T17:00:06.021917Z',\n",
       " 'endTimeUtc': '2021-03-20T17:17:38.769692Z',\n",
       " 'properties': {'num_iterations': '1000',\n",
       "  'training_type': 'TrainFull',\n",
       "  'acquisition_function': 'EI',\n",
       "  'primary_metric': 'accuracy',\n",
       "  'train_split': '0',\n",
       "  'acquisition_parameter': '0',\n",
       "  'num_cross_validation': '5',\n",
       "  'target': 'project-compute',\n",
       "  'AMLSettingsJsonString': '{\"path\":null,\"name\":\"heart-failure-experiment\",\"subscription_id\":\"6b4af8be-9931-443e-90f6-c4c34a1f9737\",\"resource_group\":\"aml-quickstarts-140966\",\"workspace_name\":\"quick-starts-ws-140966\",\"region\":\"southcentralus\",\"compute_target\":\"project-compute\",\"spark_service\":null,\"azure_service\":\"remote\",\"many_models\":false,\"pipeline_fetch_max_batch_size\":1,\"enable_batch_run\":false,\"iterations\":1000,\"primary_metric\":\"accuracy\",\"task_type\":\"classification\",\"data_script\":null,\"validation_size\":0.0,\"n_cross_validations\":5,\"y_min\":null,\"y_max\":null,\"num_classes\":null,\"featurization\":\"auto\",\"_ignore_package_version_incompatibilities\":false,\"is_timeseries\":false,\"max_cores_per_iteration\":1,\"max_concurrent_iterations\":10,\"iteration_timeout_minutes\":null,\"mem_in_mb\":null,\"enforce_time_on_windows\":false,\"experiment_timeout_minutes\":30,\"experiment_exit_score\":null,\"whitelist_models\":null,\"blacklist_algos\":[\"TensorFlowLinearClassifier\",\"TensorFlowDNN\"],\"supported_models\":[\"GradientBoosting\",\"TensorFlowDNN\",\"BernoulliNaiveBayes\",\"DecisionTree\",\"AveragedPerceptronClassifier\",\"LogisticRegression\",\"XGBoostClassifier\",\"ExtremeRandomTrees\",\"RandomForest\",\"SGD\",\"MultinomialNaiveBayes\",\"KNN\",\"TensorFlowLinearClassifier\",\"SVM\",\"LinearSVM\",\"LightGBM\"],\"private_models\":[],\"auto_blacklist\":true,\"blacklist_samples_reached\":false,\"exclude_nan_labels\":true,\"verbosity\":20,\"_debug_log\":\"azureml_automl.log\",\"show_warnings\":false,\"model_explainability\":true,\"service_url\":null,\"sdk_url\":null,\"sdk_packages\":null,\"enable_onnx_compatible_models\":false,\"enable_split_onnx_featurizer_estimator_models\":false,\"vm_type\":\"STANDARD_D2_V2\",\"telemetry_verbosity\":20,\"send_telemetry\":true,\"enable_dnn\":false,\"scenario\":\"SDK-1.13.0\",\"environment_label\":null,\"save_mlflow\":false,\"force_text_dnn\":false,\"enable_feature_sweeping\":true,\"enable_early_stopping\":true,\"early_stopping_n_iters\":10,\"metrics\":null,\"enable_metric_confidence\":false,\"enable_ensembling\":true,\"enable_stack_ensembling\":true,\"ensemble_iterations\":15,\"enable_tf\":false,\"enable_subsampling\":null,\"subsample_seed\":null,\"enable_nimbusml\":false,\"enable_streaming\":false,\"force_streaming\":false,\"track_child_runs\":true,\"allowed_private_models\":[],\"label_column_name\":\"DEATH_EVENT\",\"weight_column_name\":null,\"cv_split_column_names\":null,\"enable_local_managed\":false,\"_local_managed_run_id\":null,\"cost_mode\":1,\"lag_length\":0,\"metric_operation\":\"maximize\",\"preprocess\":true}',\n",
       "  'DataPrepJsonString': '{\\\\\"training_data\\\\\": \\\\\"{\\\\\\\\\\\\\"blocks\\\\\\\\\\\\\": [{\\\\\\\\\\\\\"id\\\\\\\\\\\\\": \\\\\\\\\\\\\"bde153a4-8722-4de5-a1a3-06c9172cbd37\\\\\\\\\\\\\", \\\\\\\\\\\\\"type\\\\\\\\\\\\\": \\\\\\\\\\\\\"Microsoft.DPrep.GetDatastoreFilesBlock\\\\\\\\\\\\\", \\\\\\\\\\\\\"arguments\\\\\\\\\\\\\": {\\\\\\\\\\\\\"datastores\\\\\\\\\\\\\": [{\\\\\\\\\\\\\"datastoreName\\\\\\\\\\\\\": \\\\\\\\\\\\\"workspaceblobstore\\\\\\\\\\\\\", \\\\\\\\\\\\\"path\\\\\\\\\\\\\": \\\\\\\\\\\\\"UI/03-20-2021_033711_UTC/heart.csv\\\\\\\\\\\\\", \\\\\\\\\\\\\"resourceGroup\\\\\\\\\\\\\": \\\\\\\\\\\\\"aml-quickstarts-140966\\\\\\\\\\\\\", \\\\\\\\\\\\\"subscription\\\\\\\\\\\\\": \\\\\\\\\\\\\"6b4af8be-9931-443e-90f6-c4c34a1f9737\\\\\\\\\\\\\", \\\\\\\\\\\\\"workspaceName\\\\\\\\\\\\\": \\\\\\\\\\\\\"quick-starts-ws-140966\\\\\\\\\\\\\"}]}, \\\\\\\\\\\\\"localData\\\\\\\\\\\\\": {}, \\\\\\\\\\\\\"isEnabled\\\\\\\\\\\\\": true, \\\\\\\\\\\\\"name\\\\\\\\\\\\\": null, \\\\\\\\\\\\\"annotation\\\\\\\\\\\\\": null}, {\\\\\\\\\\\\\"id\\\\\\\\\\\\\": \\\\\\\\\\\\\"9b96f9b1-5692-4b72-a849-dd2b8f51e0f5\\\\\\\\\\\\\", \\\\\\\\\\\\\"type\\\\\\\\\\\\\": \\\\\\\\\\\\\"Microsoft.DPrep.ParseDelimitedBlock\\\\\\\\\\\\\", \\\\\\\\\\\\\"arguments\\\\\\\\\\\\\": {\\\\\\\\\\\\\"columnHeadersMode\\\\\\\\\\\\\": 1, \\\\\\\\\\\\\"fileEncoding\\\\\\\\\\\\\": 0, \\\\\\\\\\\\\"handleQuotedLineBreaks\\\\\\\\\\\\\": false, \\\\\\\\\\\\\"preview\\\\\\\\\\\\\": false, \\\\\\\\\\\\\"separator\\\\\\\\\\\\\": \\\\\\\\\\\\\",\\\\\\\\\\\\\", \\\\\\\\\\\\\"skipRows\\\\\\\\\\\\\": 0, \\\\\\\\\\\\\"skipRowsMode\\\\\\\\\\\\\": 0}, \\\\\\\\\\\\\"localData\\\\\\\\\\\\\": {}, \\\\\\\\\\\\\"isEnabled\\\\\\\\\\\\\": true, \\\\\\\\\\\\\"name\\\\\\\\\\\\\": null, \\\\\\\\\\\\\"annotation\\\\\\\\\\\\\": null}, {\\\\\\\\\\\\\"id\\\\\\\\\\\\\": \\\\\\\\\\\\\"1ea7b0d9-edaf-4e55-b964-c9084d9d6659\\\\\\\\\\\\\", \\\\\\\\\\\\\"type\\\\\\\\\\\\\": \\\\\\\\\\\\\"Microsoft.DPrep.DropColumnsBlock\\\\\\\\\\\\\", \\\\\\\\\\\\\"arguments\\\\\\\\\\\\\": {\\\\\\\\\\\\\"columns\\\\\\\\\\\\\": {\\\\\\\\\\\\\"type\\\\\\\\\\\\\": 0, \\\\\\\\\\\\\"details\\\\\\\\\\\\\": {\\\\\\\\\\\\\"selectedColumns\\\\\\\\\\\\\": [\\\\\\\\\\\\\"Path\\\\\\\\\\\\\"]}}}, \\\\\\\\\\\\\"localData\\\\\\\\\\\\\": {}, \\\\\\\\\\\\\"isEnabled\\\\\\\\\\\\\": true, \\\\\\\\\\\\\"name\\\\\\\\\\\\\": null, \\\\\\\\\\\\\"annotation\\\\\\\\\\\\\": null}, {\\\\\\\\\\\\\"id\\\\\\\\\\\\\": \\\\\\\\\\\\\"cc123da3-d10f-4959-89bf-11639b53b683\\\\\\\\\\\\\", \\\\\\\\\\\\\"type\\\\\\\\\\\\\": \\\\\\\\\\\\\"Microsoft.DPrep.SetColumnTypesBlock\\\\\\\\\\\\\", \\\\\\\\\\\\\"arguments\\\\\\\\\\\\\": {\\\\\\\\\\\\\"columnConversion\\\\\\\\\\\\\": [{\\\\\\\\\\\\\"column\\\\\\\\\\\\\": {\\\\\\\\\\\\\"type\\\\\\\\\\\\\": 2, \\\\\\\\\\\\\"details\\\\\\\\\\\\\": {\\\\\\\\\\\\\"selectedColumn\\\\\\\\\\\\\": \\\\\\\\\\\\\"Path\\\\\\\\\\\\\"}}, \\\\\\\\\\\\\"typeProperty\\\\\\\\\\\\\": 0}, {\\\\\\\\\\\\\"column\\\\\\\\\\\\\": {\\\\\\\\\\\\\"type\\\\\\\\\\\\\": 2, \\\\\\\\\\\\\"details\\\\\\\\\\\\\": {\\\\\\\\\\\\\"selectedColumn\\\\\\\\\\\\\": \\\\\\\\\\\\\"age\\\\\\\\\\\\\"}}, \\\\\\\\\\\\\"typeProperty\\\\\\\\\\\\\": 3}, {\\\\\\\\\\\\\"column\\\\\\\\\\\\\": {\\\\\\\\\\\\\"type\\\\\\\\\\\\\": 2, \\\\\\\\\\\\\"details\\\\\\\\\\\\\": {\\\\\\\\\\\\\"selectedColumn\\\\\\\\\\\\\": \\\\\\\\\\\\\"anaemia\\\\\\\\\\\\\"}}, \\\\\\\\\\\\\"typeProperty\\\\\\\\\\\\\": 2}, {\\\\\\\\\\\\\"column\\\\\\\\\\\\\": {\\\\\\\\\\\\\"type\\\\\\\\\\\\\": 2, \\\\\\\\\\\\\"details\\\\\\\\\\\\\": {\\\\\\\\\\\\\"selectedColumn\\\\\\\\\\\\\": \\\\\\\\\\\\\"creatinine_phosphokinase\\\\\\\\\\\\\"}}, \\\\\\\\\\\\\"typeProperty\\\\\\\\\\\\\": 2}, {\\\\\\\\\\\\\"column\\\\\\\\\\\\\": {\\\\\\\\\\\\\"type\\\\\\\\\\\\\": 2, \\\\\\\\\\\\\"details\\\\\\\\\\\\\": {\\\\\\\\\\\\\"selectedColumn\\\\\\\\\\\\\": \\\\\\\\\\\\\"diabetes\\\\\\\\\\\\\"}}, \\\\\\\\\\\\\"typeProperty\\\\\\\\\\\\\": 2}, {\\\\\\\\\\\\\"column\\\\\\\\\\\\\": {\\\\\\\\\\\\\"type\\\\\\\\\\\\\": 2, \\\\\\\\\\\\\"details\\\\\\\\\\\\\": {\\\\\\\\\\\\\"selectedColumn\\\\\\\\\\\\\": \\\\\\\\\\\\\"ejection_fraction\\\\\\\\\\\\\"}}, \\\\\\\\\\\\\"typeProperty\\\\\\\\\\\\\": 2}, {\\\\\\\\\\\\\"column\\\\\\\\\\\\\": {\\\\\\\\\\\\\"type\\\\\\\\\\\\\": 2, \\\\\\\\\\\\\"details\\\\\\\\\\\\\": {\\\\\\\\\\\\\"selectedColumn\\\\\\\\\\\\\": \\\\\\\\\\\\\"high_blood_pressure\\\\\\\\\\\\\"}}, \\\\\\\\\\\\\"typeProperty\\\\\\\\\\\\\": 2}, {\\\\\\\\\\\\\"column\\\\\\\\\\\\\": {\\\\\\\\\\\\\"type\\\\\\\\\\\\\": 2, \\\\\\\\\\\\\"details\\\\\\\\\\\\\": {\\\\\\\\\\\\\"selectedColumn\\\\\\\\\\\\\": \\\\\\\\\\\\\"platelets\\\\\\\\\\\\\"}}, \\\\\\\\\\\\\"typeProperty\\\\\\\\\\\\\": 3}, {\\\\\\\\\\\\\"column\\\\\\\\\\\\\": {\\\\\\\\\\\\\"type\\\\\\\\\\\\\": 2, \\\\\\\\\\\\\"details\\\\\\\\\\\\\": {\\\\\\\\\\\\\"selectedColumn\\\\\\\\\\\\\": \\\\\\\\\\\\\"serum_creatinine\\\\\\\\\\\\\"}}, \\\\\\\\\\\\\"typeProperty\\\\\\\\\\\\\": 3}, {\\\\\\\\\\\\\"column\\\\\\\\\\\\\": {\\\\\\\\\\\\\"type\\\\\\\\\\\\\": 2, \\\\\\\\\\\\\"details\\\\\\\\\\\\\": {\\\\\\\\\\\\\"selectedColumn\\\\\\\\\\\\\": \\\\\\\\\\\\\"serum_sodium\\\\\\\\\\\\\"}}, \\\\\\\\\\\\\"typeProperty\\\\\\\\\\\\\": 2}, {\\\\\\\\\\\\\"column\\\\\\\\\\\\\": {\\\\\\\\\\\\\"type\\\\\\\\\\\\\": 2, \\\\\\\\\\\\\"details\\\\\\\\\\\\\": {\\\\\\\\\\\\\"selectedColumn\\\\\\\\\\\\\": \\\\\\\\\\\\\"sex\\\\\\\\\\\\\"}}, \\\\\\\\\\\\\"typeProperty\\\\\\\\\\\\\": 2}, {\\\\\\\\\\\\\"column\\\\\\\\\\\\\": {\\\\\\\\\\\\\"type\\\\\\\\\\\\\": 2, \\\\\\\\\\\\\"details\\\\\\\\\\\\\": {\\\\\\\\\\\\\"selectedColumn\\\\\\\\\\\\\": \\\\\\\\\\\\\"smoking\\\\\\\\\\\\\"}}, \\\\\\\\\\\\\"typeProperty\\\\\\\\\\\\\": 2}, {\\\\\\\\\\\\\"column\\\\\\\\\\\\\": {\\\\\\\\\\\\\"type\\\\\\\\\\\\\": 2, \\\\\\\\\\\\\"details\\\\\\\\\\\\\": {\\\\\\\\\\\\\"selectedColumn\\\\\\\\\\\\\": \\\\\\\\\\\\\"time\\\\\\\\\\\\\"}}, \\\\\\\\\\\\\"typeProperty\\\\\\\\\\\\\": 2}, {\\\\\\\\\\\\\"column\\\\\\\\\\\\\": {\\\\\\\\\\\\\"type\\\\\\\\\\\\\": 2, \\\\\\\\\\\\\"details\\\\\\\\\\\\\": {\\\\\\\\\\\\\"selectedColumn\\\\\\\\\\\\\": \\\\\\\\\\\\\"DEATH_EVENT\\\\\\\\\\\\\"}}, \\\\\\\\\\\\\"typeProperty\\\\\\\\\\\\\": 2}]}, \\\\\\\\\\\\\"localData\\\\\\\\\\\\\": {}, \\\\\\\\\\\\\"isEnabled\\\\\\\\\\\\\": true, \\\\\\\\\\\\\"name\\\\\\\\\\\\\": null, \\\\\\\\\\\\\"annotation\\\\\\\\\\\\\": null}], \\\\\\\\\\\\\"inspectors\\\\\\\\\\\\\": [], \\\\\\\\\\\\\"meta\\\\\\\\\\\\\": {\\\\\\\\\\\\\"savedDatasetId\\\\\\\\\\\\\": \\\\\\\\\\\\\"6fa59bba-14e1-499d-b6f2-007290fe9e70\\\\\\\\\\\\\", \\\\\\\\\\\\\"datasetType\\\\\\\\\\\\\": \\\\\\\\\\\\\"tabular\\\\\\\\\\\\\", \\\\\\\\\\\\\"subscriptionId\\\\\\\\\\\\\": \\\\\\\\\\\\\"6b4af8be-9931-443e-90f6-c4c34a1f9737\\\\\\\\\\\\\", \\\\\\\\\\\\\"workspaceId\\\\\\\\\\\\\": \\\\\\\\\\\\\"a5261e02-0dd7-4564-a6df-95e26a44c8c7\\\\\\\\\\\\\", \\\\\\\\\\\\\"workspaceLocation\\\\\\\\\\\\\": \\\\\\\\\\\\\"southcentralus\\\\\\\\\\\\\"}}\\\\\", \\\\\"activities\\\\\": 0}',\n",
       "  'EnableSubsampling': None,\n",
       "  'runTemplate': 'AutoML',\n",
       "  'azureml.runsource': 'automl',\n",
       "  'display_task_type': 'classification',\n",
       "  'dependencies_versions': '{\"azureml-widgets\": \"1.24.0\", \"azureml-train\": \"1.24.0\", \"azureml-train-restclients-hyperdrive\": \"1.24.0\", \"azureml-train-core\": \"1.24.0\", \"azureml-train-automl\": \"1.24.0\", \"azureml-train-automl-runtime\": \"1.24.0\", \"azureml-train-automl-client\": \"1.24.0\", \"azureml-tensorboard\": \"1.24.0\", \"azureml-telemetry\": \"1.24.0\", \"azureml-sdk\": \"1.24.0\", \"azureml-samples\": \"0+unknown\", \"azureml-pipeline\": \"1.24.0\", \"azureml-pipeline-steps\": \"1.24.0\", \"azureml-pipeline-core\": \"1.24.0\", \"azureml-opendatasets\": \"1.24.0\", \"azureml-model-management-sdk\": \"1.0.1b6.post1\", \"azureml-mlflow\": \"1.24.0\", \"azureml-interpret\": \"1.24.0\", \"azureml-explain-model\": \"1.24.0\", \"azureml-defaults\": \"1.24.0\", \"azureml-dataset-runtime\": \"1.24.0\", \"azureml-dataprep\": \"2.11.1\", \"azureml-dataprep-rslex\": \"1.9.0\", \"azureml-dataprep-native\": \"30.0.0\", \"azureml-datadrift\": \"1.24.0\", \"azureml-core\": \"1.24.0\", \"azureml-contrib-services\": \"1.24.0\", \"azureml-contrib-server\": \"1.24.0\", \"azureml-contrib-reinforcementlearning\": \"1.24.0\", \"azureml-contrib-pipeline-steps\": \"1.24.0\", \"azureml-contrib-notebook\": \"1.24.0\", \"azureml-contrib-gbdt\": \"1.24.0\", \"azureml-contrib-fairness\": \"1.24.0\", \"azureml-contrib-dataset\": \"1.24.0\", \"azureml-cli-common\": \"1.24.0\", \"azureml-automl-runtime\": \"1.24.0\", \"azureml-automl-dnn-nlp\": \"1.24.0\", \"azureml-automl-core\": \"1.24.0\", \"azureml-accel-models\": \"1.24.0\"}',\n",
       "  '_aml_system_scenario_identification': 'Remote.Parent',\n",
       "  'ClientType': 'SDK',\n",
       "  'environment_cpu_name': 'AzureML-AutoML',\n",
       "  'environment_cpu_label': 'prod',\n",
       "  'environment_gpu_name': 'AzureML-AutoML-GPU',\n",
       "  'environment_gpu_label': 'prod',\n",
       "  'root_attribution': 'automl',\n",
       "  'attribution': 'AutoML',\n",
       "  'Orchestrator': 'AutoML',\n",
       "  'CancelUri': 'https://southcentralus.experiments.azureml.net/jasmine/v1.0/subscriptions/6b4af8be-9931-443e-90f6-c4c34a1f9737/resourceGroups/aml-quickstarts-140966/providers/Microsoft.MachineLearningServices/workspaces/quick-starts-ws-140966/experimentids/7e056108-cd1b-495f-b0b4-27051b4605a2/cancel/AutoML_fffb52ea-e670-4e3b-9ff4-3b6764017b23',\n",
       "  'ClientSdkVersion': '1.23.0',\n",
       "  'snapshotId': '00000000-0000-0000-0000-000000000000',\n",
       "  'SetupRunId': 'AutoML_fffb52ea-e670-4e3b-9ff4-3b6764017b23_setup',\n",
       "  'SetupRunContainerId': 'dcid.AutoML_fffb52ea-e670-4e3b-9ff4-3b6764017b23_setup',\n",
       "  'FeaturizationRunJsonPath': 'featurizer_container.json',\n",
       "  'FeaturizationRunId': 'AutoML_fffb52ea-e670-4e3b-9ff4-3b6764017b23_featurize',\n",
       "  'ProblemInfoJsonString': '{\"dataset_num_categorical\": 0, \"is_sparse\": false, \"subsampling\": false, \"dataset_classes\": 2, \"dataset_features\": 12, \"dataset_samples\": 299, \"single_frequency_class_detected\": false}',\n",
       "  'ModelExplainRunId': 'AutoML_fffb52ea-e670-4e3b-9ff4-3b6764017b23_ModelExplain'},\n",
       " 'inputDatasets': [{'dataset': {'id': '6fa59bba-14e1-499d-b6f2-007290fe9e70'}, 'consumptionDetails': {'type': 'RunInput', 'inputName': 'training_data', 'mechanism': 'Direct'}}],\n",
       " 'outputDatasets': [],\n",
       " 'logFiles': {},\n",
       " 'submittedBy': 'ODL_User 140966'}"
      ]
     },
     "execution_count": 17,
     "metadata": {},
     "output_type": "execute_result"
    }
   ],
   "source": [
    "from azureml.widgets import RunDetails\n",
    "RunDetails(remote_run).show()\n",
    "remote_run.wait_for_completion(show_output=True)"
   ]
  },
  {
   "cell_type": "markdown",
   "metadata": {},
   "source": [
    "## Best Model\n",
    "\n",
    "TODO: In the cell below, get the best model from the automl experiments and display all the properties of the model.\n",
    "\n"
   ]
  },
  {
   "cell_type": "code",
   "execution_count": 25,
   "metadata": {
    "collapsed": false,
    "gather": {
     "logged": 1598431425670
    },
    "jupyter": {
     "outputs_hidden": false,
     "source_hidden": false
    },
    "nteract": {
     "transient": {
      "deleting": false
     }
    }
   },
   "outputs": [
    {
     "ename": "ConfigException",
     "evalue": "ConfigException:\n\tMessage: The model you attempted to retrieve requires 'xgboost' to be installed at '==0.90'. You have 'xgboost==1.3.3', please reinstall 'xgboost==0.90' (e.g. `pip install xgboost==0.90`) and rerun the previous command.\n\tInnerException: XGBoostError: [17:38:27] /mnt/xgboost/src/learner.cc:922: Check failed: header == serialisation_header_: \n\n  If you are loading a serialized model (like pickle in Python) generated by older\n  XGBoost, please export the model by calling `Booster.save_model` from that version\n  first, then load it back in current version.  There's a simple script for helping\n  the process. See:\n\n    https://xgboost.readthedocs.io/en/latest/tutorials/saving_model.html\n\n  for reference to the script, and more details about differences between saving model and\n  serializing.\n\n\nStack trace:\n  [bt] (0) /anaconda/envs/azureml_py36/lib/libxgboost.so(dmlc::LogMessageFatal::~LogMessageFatal()+0x7c) [0x7f6922d5d64c]\n  [bt] (1) /anaconda/envs/azureml_py36/lib/libxgboost.so(xgboost::LearnerIO::Load(dmlc::Stream*)+0x66b) [0x7f6922e67f0b]\n  [bt] (2) /anaconda/envs/azureml_py36/lib/libxgboost.so(XGBoosterUnserializeFromBuffer+0x5e) [0x7f6922d517fe]\n  [bt] (3) /anaconda/envs/azureml_py36/lib/python3.6/lib-dynload/../../libffi.so.6(+0x69dd) [0x7f6a171d39dd]\n  [bt] (4) /anaconda/envs/azureml_py36/lib/python3.6/lib-dynload/../../libffi.so.6(+0x6067) [0x7f6a171d3067]\n  [bt] (5) /anaconda/envs/azureml_py36/lib/python3.6/lib-dynload/_ctypes.cpython-36m-x86_64-linux-gnu.so(_ctypes_callproc+0x2ce) [0x7f6a171ebede]\n  [bt] (6) /anaconda/envs/azureml_py36/lib/python3.6/lib-dynload/_ctypes.cpython-36m-x86_64-linux-gnu.so(+0x13915) [0x7f6a171ec915]\n  [bt] (7) /anaconda/envs/azureml_py36/bin/python(_PyObject_FastCallDict+0x8b) [0x55f1b85cbe3b]\n  [bt] (8) /anaconda/envs/azureml_py36/bin/python(+0x199c0e) [0x55f1b8653c0e]\n\n\n\tErrorResponse \n{\n    \"error\": {\n        \"code\": \"UserError\",\n        \"message\": \"The model you attempted to retrieve requires 'xgboost' to be installed at '==0.90'. You have 'xgboost==1.3.3', please reinstall 'xgboost==0.90' (e.g. `pip install xgboost==0.90`) and rerun the previous command.\",\n        \"target\": \"get_output\",\n        \"inner_error\": {\n            \"code\": \"NotSupported\",\n            \"inner_error\": {\n                \"code\": \"IncompatibleOrMissingDependency\"\n            }\n        },\n        \"reference_code\": \"910310e6-2433-40cd-b597-9ec2950bc1d8\"\n    }\n}",
     "output_type": "error",
     "traceback": [
      "\u001b[0;31m---------------------------------------------------------------------------\u001b[0m",
      "\u001b[0;31mXGBoostError\u001b[0m                              Traceback (most recent call last)",
      "\u001b[0;32m/anaconda/envs/azureml_py36/lib/python3.6/site-packages/azureml/train/automl/_model_download_utilities.py\u001b[0m in \u001b[0;36m_load_automl_model\u001b[0;34m(model_path, suffix)\u001b[0m\n\u001b[1;32m    176\u001b[0m             \u001b[0;32mwith\u001b[0m \u001b[0mopen\u001b[0m\u001b[0;34m(\u001b[0m\u001b[0mmodel_path\u001b[0m\u001b[0;34m,\u001b[0m \u001b[0;34m\"rb\"\u001b[0m\u001b[0;34m)\u001b[0m \u001b[0;32mas\u001b[0m \u001b[0mmodel_file\u001b[0m\u001b[0;34m:\u001b[0m\u001b[0;34m\u001b[0m\u001b[0;34m\u001b[0m\u001b[0m\n\u001b[0;32m--> 177\u001b[0;31m                 \u001b[0mfitted_model\u001b[0m \u001b[0;34m=\u001b[0m \u001b[0mpickle\u001b[0m\u001b[0;34m.\u001b[0m\u001b[0mload\u001b[0m\u001b[0;34m(\u001b[0m\u001b[0mmodel_file\u001b[0m\u001b[0;34m)\u001b[0m  \u001b[0;31m# type: Optional[Any]\u001b[0m\u001b[0;34m\u001b[0m\u001b[0;34m\u001b[0m\u001b[0m\n\u001b[0m\u001b[1;32m    178\u001b[0m                 \u001b[0;32mreturn\u001b[0m \u001b[0mfitted_model\u001b[0m\u001b[0;34m\u001b[0m\u001b[0;34m\u001b[0m\u001b[0m\n",
      "\u001b[0;32m/anaconda/envs/azureml_py36/lib/python3.6/site-packages/xgboost/core.py\u001b[0m in \u001b[0;36m__setstate__\u001b[0;34m(self, state)\u001b[0m\n\u001b[1;32m   1087\u001b[0m             _check_call(\n\u001b[0;32m-> 1088\u001b[0;31m                 _LIB.XGBoosterUnserializeFromBuffer(handle, ptr, length))\n\u001b[0m\u001b[1;32m   1089\u001b[0m             \u001b[0mstate\u001b[0m\u001b[0;34m[\u001b[0m\u001b[0;34m'handle'\u001b[0m\u001b[0;34m]\u001b[0m \u001b[0;34m=\u001b[0m \u001b[0mhandle\u001b[0m\u001b[0;34m\u001b[0m\u001b[0;34m\u001b[0m\u001b[0m\n",
      "\u001b[0;32m/anaconda/envs/azureml_py36/lib/python3.6/site-packages/xgboost/core.py\u001b[0m in \u001b[0;36m_check_call\u001b[0;34m(ret)\u001b[0m\n\u001b[1;32m    188\u001b[0m     \u001b[0;32mif\u001b[0m \u001b[0mret\u001b[0m \u001b[0;34m!=\u001b[0m \u001b[0;36m0\u001b[0m\u001b[0;34m:\u001b[0m\u001b[0;34m\u001b[0m\u001b[0;34m\u001b[0m\u001b[0m\n\u001b[0;32m--> 189\u001b[0;31m         \u001b[0;32mraise\u001b[0m \u001b[0mXGBoostError\u001b[0m\u001b[0;34m(\u001b[0m\u001b[0mpy_str\u001b[0m\u001b[0;34m(\u001b[0m\u001b[0m_LIB\u001b[0m\u001b[0;34m.\u001b[0m\u001b[0mXGBGetLastError\u001b[0m\u001b[0;34m(\u001b[0m\u001b[0;34m)\u001b[0m\u001b[0;34m)\u001b[0m\u001b[0;34m)\u001b[0m\u001b[0;34m\u001b[0m\u001b[0;34m\u001b[0m\u001b[0m\n\u001b[0m\u001b[1;32m    190\u001b[0m \u001b[0;34m\u001b[0m\u001b[0m\n",
      "\u001b[0;31mXGBoostError\u001b[0m: [17:38:27] /mnt/xgboost/src/learner.cc:922: Check failed: header == serialisation_header_: \n\n  If you are loading a serialized model (like pickle in Python) generated by older\n  XGBoost, please export the model by calling `Booster.save_model` from that version\n  first, then load it back in current version.  There's a simple script for helping\n  the process. See:\n\n    https://xgboost.readthedocs.io/en/latest/tutorials/saving_model.html\n\n  for reference to the script, and more details about differences between saving model and\n  serializing.\n\n\nStack trace:\n  [bt] (0) /anaconda/envs/azureml_py36/lib/libxgboost.so(dmlc::LogMessageFatal::~LogMessageFatal()+0x7c) [0x7f6922d5d64c]\n  [bt] (1) /anaconda/envs/azureml_py36/lib/libxgboost.so(xgboost::LearnerIO::Load(dmlc::Stream*)+0x66b) [0x7f6922e67f0b]\n  [bt] (2) /anaconda/envs/azureml_py36/lib/libxgboost.so(XGBoosterUnserializeFromBuffer+0x5e) [0x7f6922d517fe]\n  [bt] (3) /anaconda/envs/azureml_py36/lib/python3.6/lib-dynload/../../libffi.so.6(+0x69dd) [0x7f6a171d39dd]\n  [bt] (4) /anaconda/envs/azureml_py36/lib/python3.6/lib-dynload/../../libffi.so.6(+0x6067) [0x7f6a171d3067]\n  [bt] (5) /anaconda/envs/azureml_py36/lib/python3.6/lib-dynload/_ctypes.cpython-36m-x86_64-linux-gnu.so(_ctypes_callproc+0x2ce) [0x7f6a171ebede]\n  [bt] (6) /anaconda/envs/azureml_py36/lib/python3.6/lib-dynload/_ctypes.cpython-36m-x86_64-linux-gnu.so(+0x13915) [0x7f6a171ec915]\n  [bt] (7) /anaconda/envs/azureml_py36/bin/python(_PyObject_FastCallDict+0x8b) [0x55f1b85cbe3b]\n  [bt] (8) /anaconda/envs/azureml_py36/bin/python(+0x199c0e) [0x55f1b8653c0e]\n\n",
      "\nThe above exception was the direct cause of the following exception:\n",
      "\u001b[0;31mConfigException\u001b[0m                           Traceback (most recent call last)",
      "\u001b[0;32m<ipython-input-25-e05e8037e58f>\u001b[0m in \u001b[0;36m<module>\u001b[0;34m\u001b[0m\n\u001b[0;32m----> 1\u001b[0;31m \u001b[0mbest_auto_run\u001b[0m\u001b[0;34m,\u001b[0m \u001b[0mbest_auto_model\u001b[0m \u001b[0;34m=\u001b[0m \u001b[0mremote_run\u001b[0m\u001b[0;34m.\u001b[0m\u001b[0mget_output\u001b[0m\u001b[0;34m(\u001b[0m\u001b[0;34m)\u001b[0m\u001b[0;34m\u001b[0m\u001b[0;34m\u001b[0m\u001b[0m\n\u001b[0m\u001b[1;32m      2\u001b[0m \u001b[0mprint\u001b[0m\u001b[0;34m(\u001b[0m\u001b[0mbest_auto_run\u001b[0m\u001b[0;34m)\u001b[0m\u001b[0;34m\u001b[0m\u001b[0;34m\u001b[0m\u001b[0m\n",
      "\u001b[0;32m/anaconda/envs/azureml_py36/lib/python3.6/site-packages/azureml/train/automl/run.py\u001b[0m in \u001b[0;36mget_output\u001b[0;34m(self, iteration, metric, return_onnx_model, return_split_onnx_model, **kwargs)\u001b[0m\n\u001b[1;32m    702\u001b[0m                     \u001b[0mfitted_model\u001b[0m \u001b[0;34m=\u001b[0m \u001b[0m_download_automl_onnx_model\u001b[0m\u001b[0;34m(\u001b[0m\u001b[0mcurr_run\u001b[0m\u001b[0;34m,\u001b[0m \u001b[0mmodel_name\u001b[0m\u001b[0;34m)\u001b[0m\u001b[0;34m\u001b[0m\u001b[0;34m\u001b[0m\u001b[0m\n\u001b[1;32m    703\u001b[0m                 \u001b[0;32melse\u001b[0m\u001b[0;34m:\u001b[0m\u001b[0;34m\u001b[0m\u001b[0;34m\u001b[0m\u001b[0m\n\u001b[0;32m--> 704\u001b[0;31m                     \u001b[0mfitted_model\u001b[0m \u001b[0;34m=\u001b[0m \u001b[0m_download_automl_model\u001b[0m\u001b[0;34m(\u001b[0m\u001b[0mcurr_run\u001b[0m\u001b[0;34m,\u001b[0m \u001b[0mmodel_name\u001b[0m\u001b[0;34m)\u001b[0m\u001b[0;34m\u001b[0m\u001b[0;34m\u001b[0m\u001b[0m\n\u001b[0m\u001b[1;32m    705\u001b[0m \u001b[0;34m\u001b[0m\u001b[0m\n\u001b[1;32m    706\u001b[0m             \u001b[0;32mreturn\u001b[0m \u001b[0mcurr_run\u001b[0m\u001b[0;34m,\u001b[0m \u001b[0mfitted_model\u001b[0m\u001b[0;34m\u001b[0m\u001b[0;34m\u001b[0m\u001b[0m\n",
      "\u001b[0;32m/anaconda/envs/azureml_py36/lib/python3.6/site-packages/azureml/train/automl/_model_download_utilities.py\u001b[0m in \u001b[0;36m_download_automl_model\u001b[0;34m(run, model_name)\u001b[0m\n\u001b[1;32m     89\u001b[0m             \u001b[0;31m# Pass through any exceptions from loading the model.\u001b[0m\u001b[0;34m\u001b[0m\u001b[0;34m\u001b[0m\u001b[0;34m\u001b[0m\u001b[0m\n\u001b[1;32m     90\u001b[0m             \u001b[0;31m# Try is used here to ensure we can cleanup the side effect of model downlad.\u001b[0m\u001b[0;34m\u001b[0m\u001b[0;34m\u001b[0m\u001b[0;34m\u001b[0m\u001b[0m\n\u001b[0;32m---> 91\u001b[0;31m             \u001b[0mmodel\u001b[0m \u001b[0;34m=\u001b[0m \u001b[0m_load_automl_model\u001b[0m\u001b[0;34m(\u001b[0m\u001b[0mmodel_path\u001b[0m\u001b[0;34m,\u001b[0m \u001b[0msuffix\u001b[0m\u001b[0;34m)\u001b[0m\u001b[0;34m\u001b[0m\u001b[0;34m\u001b[0m\u001b[0m\n\u001b[0m\u001b[1;32m     92\u001b[0m             \u001b[0;32mif\u001b[0m \u001b[0mmodel\u001b[0m \u001b[0;32mis\u001b[0m \u001b[0;32mNone\u001b[0m\u001b[0;34m:\u001b[0m\u001b[0;34m\u001b[0m\u001b[0;34m\u001b[0m\u001b[0m\n\u001b[1;32m     93\u001b[0m                 \u001b[0;31m# If we can retrieve the automl runtime version, we do so we can inform the user what to install.\u001b[0m\u001b[0;34m\u001b[0m\u001b[0;34m\u001b[0m\u001b[0;34m\u001b[0m\u001b[0m\n",
      "\u001b[0;32m/anaconda/envs/azureml_py36/lib/python3.6/site-packages/azureml/train/automl/_model_download_utilities.py\u001b[0m in \u001b[0;36m_load_automl_model\u001b[0;34m(model_path, suffix)\u001b[0m\n\u001b[1;32m    279\u001b[0m                 ),\n\u001b[1;32m    280\u001b[0m                 \u001b[0minner_exception\u001b[0m\u001b[0;34m=\u001b[0m\u001b[0me\u001b[0m\u001b[0;34m\u001b[0m\u001b[0;34m\u001b[0m\u001b[0m\n\u001b[0;32m--> 281\u001b[0;31m             ) from e\n\u001b[0m\u001b[1;32m    282\u001b[0m         \u001b[0;31m# If we hit here, we are in new territory - we didn't run into an ImportError\u001b[0m\u001b[0;34m\u001b[0m\u001b[0;34m\u001b[0m\u001b[0;34m\u001b[0m\u001b[0m\n\u001b[1;32m    283\u001b[0m         \u001b[0;31m# and we didn't have a known exception type (XGBoostError).\u001b[0m\u001b[0;34m\u001b[0m\u001b[0;34m\u001b[0m\u001b[0;34m\u001b[0m\u001b[0m\n",
      "\u001b[0;31mConfigException\u001b[0m: ConfigException:\n\tMessage: The model you attempted to retrieve requires 'xgboost' to be installed at '==0.90'. You have 'xgboost==1.3.3', please reinstall 'xgboost==0.90' (e.g. `pip install xgboost==0.90`) and rerun the previous command.\n\tInnerException: XGBoostError: [17:38:27] /mnt/xgboost/src/learner.cc:922: Check failed: header == serialisation_header_: \n\n  If you are loading a serialized model (like pickle in Python) generated by older\n  XGBoost, please export the model by calling `Booster.save_model` from that version\n  first, then load it back in current version.  There's a simple script for helping\n  the process. See:\n\n    https://xgboost.readthedocs.io/en/latest/tutorials/saving_model.html\n\n  for reference to the script, and more details about differences between saving model and\n  serializing.\n\n\nStack trace:\n  [bt] (0) /anaconda/envs/azureml_py36/lib/libxgboost.so(dmlc::LogMessageFatal::~LogMessageFatal()+0x7c) [0x7f6922d5d64c]\n  [bt] (1) /anaconda/envs/azureml_py36/lib/libxgboost.so(xgboost::LearnerIO::Load(dmlc::Stream*)+0x66b) [0x7f6922e67f0b]\n  [bt] (2) /anaconda/envs/azureml_py36/lib/libxgboost.so(XGBoosterUnserializeFromBuffer+0x5e) [0x7f6922d517fe]\n  [bt] (3) /anaconda/envs/azureml_py36/lib/python3.6/lib-dynload/../../libffi.so.6(+0x69dd) [0x7f6a171d39dd]\n  [bt] (4) /anaconda/envs/azureml_py36/lib/python3.6/lib-dynload/../../libffi.so.6(+0x6067) [0x7f6a171d3067]\n  [bt] (5) /anaconda/envs/azureml_py36/lib/python3.6/lib-dynload/_ctypes.cpython-36m-x86_64-linux-gnu.so(_ctypes_callproc+0x2ce) [0x7f6a171ebede]\n  [bt] (6) /anaconda/envs/azureml_py36/lib/python3.6/lib-dynload/_ctypes.cpython-36m-x86_64-linux-gnu.so(+0x13915) [0x7f6a171ec915]\n  [bt] (7) /anaconda/envs/azureml_py36/bin/python(_PyObject_FastCallDict+0x8b) [0x55f1b85cbe3b]\n  [bt] (8) /anaconda/envs/azureml_py36/bin/python(+0x199c0e) [0x55f1b8653c0e]\n\n\n\tErrorResponse \n{\n    \"error\": {\n        \"code\": \"UserError\",\n        \"message\": \"The model you attempted to retrieve requires 'xgboost' to be installed at '==0.90'. You have 'xgboost==1.3.3', please reinstall 'xgboost==0.90' (e.g. `pip install xgboost==0.90`) and rerun the previous command.\",\n        \"target\": \"get_output\",\n        \"inner_error\": {\n            \"code\": \"NotSupported\",\n            \"inner_error\": {\n                \"code\": \"IncompatibleOrMissingDependency\"\n            }\n        },\n        \"reference_code\": \"910310e6-2433-40cd-b597-9ec2950bc1d8\"\n    }\n}"
     ]
    }
   ],
   "source": [
    "best_auto_run, best_auto_model = remote_run.get_output()\n",
    "print(best_auto_run)"
   ]
  },
  {
   "cell_type": "code",
   "execution_count": null,
   "metadata": {
    "collapsed": false,
    "gather": {
     "logged": 1598431426111
    },
    "jupyter": {
     "outputs_hidden": false,
     "source_hidden": false
    },
    "nteract": {
     "transient": {
      "deleting": false
     }
    }
   },
   "outputs": [],
   "source": [
    "#TODO: Save the best model\n",
    "best_auto_model._final_estimator"
   ]
  },
  {
   "cell_type": "code",
   "execution_count": null,
   "metadata": {},
   "outputs": [],
   "source": [
    "joblib.dump(best_auto_model, filename=\"./automl_best.joblib\")"
   ]
  },
  {
   "cell_type": "markdown",
   "metadata": {},
   "source": [
    "## Model Deployment\n",
    "\n",
    "Remember you have to deploy only one of the two models you trained.. Perform the steps in the rest of this notebook only if you wish to deploy this model.\n",
    "\n",
    "TODO: In the cell below, register the model, create an inference config and deploy the model as a web service."
   ]
  },
  {
   "cell_type": "code",
   "execution_count": null,
   "metadata": {
    "collapsed": false,
    "gather": {
     "logged": 1598431435189
    },
    "jupyter": {
     "outputs_hidden": false,
     "source_hidden": false
    },
    "nteract": {
     "transient": {
      "deleting": false
     }
    }
   },
   "outputs": [],
   "source": []
  },
  {
   "cell_type": "markdown",
   "metadata": {
    "gather": {
     "logged": 1598431657736
    },
    "jupyter": {
     "outputs_hidden": false,
     "source_hidden": false
    },
    "nteract": {
     "transient": {
      "deleting": false
     }
    }
   },
   "source": [
    "TODO: In the cell below, send a request to the web service you deployed to test it."
   ]
  },
  {
   "cell_type": "code",
   "execution_count": null,
   "metadata": {
    "collapsed": false,
    "gather": {
     "logged": 1598432707604
    },
    "jupyter": {
     "outputs_hidden": false,
     "source_hidden": false
    },
    "nteract": {
     "transient": {
      "deleting": false
     }
    }
   },
   "outputs": [],
   "source": []
  },
  {
   "cell_type": "markdown",
   "metadata": {
    "gather": {
     "logged": 1598432765711
    },
    "jupyter": {
     "outputs_hidden": false,
     "source_hidden": false
    },
    "nteract": {
     "transient": {
      "deleting": false
     }
    }
   },
   "source": [
    "TODO: In the cell below, print the logs of the web service and delete the service"
   ]
  },
  {
   "cell_type": "code",
   "execution_count": null,
   "metadata": {
    "collapsed": false,
    "jupyter": {
     "outputs_hidden": false,
     "source_hidden": false
    },
    "nteract": {
     "transient": {
      "deleting": false
     }
    }
   },
   "outputs": [],
   "source": []
  }
 ],
 "metadata": {
  "kernel_info": {
   "name": "python3"
  },
  "kernelspec": {
   "display_name": "Python 3",
   "language": "python",
   "name": "python3"
  },
  "language_info": {
   "codemirror_mode": {
    "name": "ipython",
    "version": 3
   },
   "file_extension": ".py",
   "mimetype": "text/x-python",
   "name": "python",
   "nbconvert_exporter": "python",
   "pygments_lexer": "ipython3",
   "version": "3.6.9"
  },
  "microsoft": {
   "host": {
    "AzureML": {
     "notebookHasBeenCompleted": true
    }
   }
  },
  "nteract": {
   "version": "nteract-front-end@1.0.0"
  }
 },
 "nbformat": 4,
 "nbformat_minor": 4
}
